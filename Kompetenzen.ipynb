{
 "cells": [
  {
   "cell_type": "markdown",
   "metadata": {},
   "source": [
    "# Visualisierung der Kompetenzen-Excel-Tabelle"
   ]
  },
  {
   "cell_type": "code",
   "execution_count": null,
   "metadata": {},
   "outputs": [],
   "source": [
    "from dotenv import load_dotenv\n",
    "import os\n",
    "import matplotlib.pyplot as plt\n",
    "import pandas as pd\n",
    "import re\n",
    "\n",
    "load_dotenv()\n",
    "data = os.getenv('data')\n",
    "sciebo = data[:-4]\n",
    "file = sciebo + r\"\\DH-Ruhr\\Recherche\\Kompetenzen\\DH_Kompetenzen_Übersicht_V2.2.xlsx\"\n"
   ]
  },
  {
   "cell_type": "code",
   "execution_count": null,
   "metadata": {},
   "outputs": [],
   "source": [
    "df = pd.read_excel(file, index_col=\"id\")\n",
    "\n",
    "df.head()"
   ]
  },
  {
   "cell_type": "code",
   "execution_count": null,
   "metadata": {},
   "outputs": [],
   "source": [
    "def brrrrrr(string, cutoff=20):\n",
    "    brstring = \"\"\n",
    "    while len(string) > cutoff:\n",
    "        space_index = string[cutoff:].find(\" \")\n",
    "        if space_index == -1:\n",
    "            break\n",
    "        brstring += string[:cutoff + space_index].strip() + \"<br>\"\n",
    "        string = string[cutoff + space_index:].strip()\n",
    "    \n",
    "    brstring += string\n",
    "    return brstring\n",
    "    \n",
    "        \n",
    "\n",
    "teststr = df['Atomic Skills'].iloc[92]\n",
    "brrrrrr(teststr,20)"
   ]
  },
  {
   "cell_type": "code",
   "execution_count": null,
   "metadata": {},
   "outputs": [],
   "source": [
    "\n",
    "df[\"AS\"] = df[\"Atomic Skills\"].apply(lambda x: brrrrrr(x,15))\n",
    "df[\"Prio_\"] = df[\"Prio\"].apply(lambda x: 4-x)"
   ]
  },
  {
   "cell_type": "code",
   "execution_count": null,
   "metadata": {},
   "outputs": [],
   "source": [
    "df.keys()"
   ]
  },
  {
   "cell_type": "code",
   "execution_count": null,
   "metadata": {},
   "outputs": [],
   "source": [
    "# df[['Atomic Skills', 'Bereich', 'Unterbereich', 'Prio', 'Zeitaufwand','Lernzieltyp', 'Modul']].to_csv(\"dh_cert_skills_RUB.csv\")"
   ]
  },
  {
   "cell_type": "code",
   "execution_count": null,
   "metadata": {},
   "outputs": [],
   "source": [
    "RUB_palette = {'Blau': '#17365c',\n",
    "               'Grün': '#8dae10',\n",
    "               'Grau': '#e7e7e7',\n",
    "               'Gelb': '#ffcc00',\n",
    "               'Orange': '#ed7102',\n",
    "               'Rot': '#e6332a',\n",
    "               'Dunkelrot': '#b61e3e',\n",
    "               'Beige': '#c1baa3',\n",
    "               'Dunkelgrün': '#8c8751',\n",
    "               'Braun': '#9c5516',\n",
    "               'Dunkelbraun': '#59201b'}\n",
    "\n",
    "\n",
    "bereich_colors = {'DH Grundlagen': 'Grün',\n",
    "                  'DH Methoden & Tools': 'Dunkelgrün',\n",
    "                  'DH Projekt': 'Beige',\n",
    "                  'Programmieren für DH': 'Dunkelrot',\n",
    "                  'Statistik für DH': 'Blau',\n",
    "                  'Umgang mit dem PC': 'Orange',\n",
    "                  'Schlüsselkompetenzen Zertifikat \"Digital Humanities\"': 'Grau',}\n",
    "\n",
    "\n",
    "df['color'] = df['Bereich'].apply(lambda x: RUB_palette[bereich_colors[x]])\n",
    "\n",
    "RUB_colors = list(RUB_palette.values())"
   ]
  },
  {
   "cell_type": "code",
   "execution_count": null,
   "metadata": {},
   "outputs": [],
   "source": [
    "import plotly.io as pio\n",
    "pio.templates"
   ]
  },
  {
   "cell_type": "code",
   "execution_count": null,
   "metadata": {},
   "outputs": [],
   "source": [
    "df['Modul'] = df.apply(lambda x: x.Modul if x.Bereich != 'Umgang mit dem PC' else 'Methodenmodul', axis=1)\n"
   ]
  },
  {
   "cell_type": "code",
   "execution_count": null,
   "metadata": {},
   "outputs": [],
   "source": [
    "head = '''\n",
    "<head>\n",
    "<meta charset=\"utf-8\" />\n",
    "<a href=\"https://forms.gle/GMZLgXxU9dNHsnPS9\" target=\"_blank\"><b>Feedback</b> zu eventuell <b>fehlenden Skills</b></a>\n",
    "  <center>\n",
    "    <h1 style=\"font-size: 25;\"> Digital-Humanities-Kompetenzen </h1>\n",
    "  </center>\n",
    "</head>\n",
    "'''\n",
    "\n",
    "def add_header(html):\n",
    "  with open(html, 'r') as f:\n",
    "    content = f.read()\n",
    "    content = re.sub(r'<head>.*?</head>',head,content)\n",
    "  with open(html, 'w') as o:\n",
    "    o.write(content)"
   ]
  },
  {
   "cell_type": "markdown",
   "metadata": {},
   "source": [
    "# Ohne Module"
   ]
  },
  {
   "cell_type": "code",
   "execution_count": null,
   "metadata": {},
   "outputs": [],
   "source": [
    "import plotly.express as px\n",
    "\n",
    "fig = px.treemap(df, path=[\n",
    "    # px.Constant('Schlüsselkompetenzen Zertifikat \"Digital Humanities\"'),\n",
    "    # 'Modul',\n",
    "    'Bereich',\n",
    "    'Unterbereich',\n",
    "    'AS'\n",
    "],\n",
    "    values='Prio_',\n",
    "    # hover_data=['Zeitaufwand'],\n",
    "    # color=df['color'],\n",
    "    # color_discrete_map={key: RUB_palette[bereich_colors[key]] for key in bereich_colors.keys()}\n",
    "    # color_discrete_map={key: RUB_palette[bereich_colors[key]] for key in bereich_colors.keys()}\n",
    "    color='Bereich',\n",
    "    color_discrete_sequence=df['color'],\n",
    "    color_discrete_map=dict(zip(df['Bereich'], df['color']))\n",
    ")\n",
    "fig.update_traces(marker=dict(cornerradius=5))\n",
    "fig.update_layout(margin=dict(t=25, l=25, r=25, b=25))\n",
    "fig.update_traces(hovertemplate='%{label}')\n",
    "fig.update_layout(\n",
    "    # title={\n",
    "    # 'text': 'Schlüsselkompetenzen Zertifikat \"Digital Humanities\"',  # Set your headline text here\n",
    "    # 'y':0.98,  # Position the title slightly below the top edge\n",
    "    # 'x':0.5,   # Center-align the title\n",
    "    # 'xanchor': 'center',\n",
    "    # 'yanchor': 'top'\n",
    "    # },\n",
    "    # template='seaborn',\n",
    "    font=dict(\n",
    "        # family=\"Courier New, monospace\",\n",
    "        size=15,  # Set the font size here\n",
    "        color=\"Black\"\n",
    "    )\n",
    ")\n",
    "fig.show()\n",
    "fig.write_html(\"AS_Bereiche.html\",  include_plotlyjs='cdn')\n",
    "add_header(\"AS_Bereiche.html\")\n",
    "fig.write_image(f\"img/AS_Bereiche.svg\")"
   ]
  },
  {
   "cell_type": "markdown",
   "metadata": {},
   "source": [
    "## Nach Workshop-Priorisierung"
   ]
  },
  {
   "cell_type": "code",
   "execution_count": null,
   "metadata": {},
   "outputs": [],
   "source": [
    "df.keys()"
   ]
  },
  {
   "cell_type": "code",
   "execution_count": null,
   "metadata": {},
   "outputs": [],
   "source": [
    "import plotly.express as px\n",
    "\n",
    "df['weight_hover'] = df.apply(lambda df: f\"Abstimmungsergebnisse<br>B.A.: {df['Punkteanzahl BA']}<br>M.A.: {df['Punkteanzahl MA']}\", axis=1)\n",
    "\n",
    "fig = px.treemap(df, path=[\n",
    "    # px.Constant('Schlüsselkompetenzen Zertifikat \"Digital Humanities\"'),\n",
    "    # 'Modul',\n",
    "    'Bereich',\n",
    "    'Unterbereich',\n",
    "    'AS'\n",
    "],\n",
    "    values='Punkte gewichtet',\n",
    "    custom_data=['weight_hover'],\n",
    "    # color=df['color'],\n",
    "    # color_discrete_map={key: RUB_palette[bereich_colors[key]] for key in bereich_colors.keys()}\n",
    "    # color_discrete_map={key: RUB_palette[bereich_colors[key]] for key in bereich_colors.keys()}\n",
    "    color='Bereich',\n",
    "    color_discrete_sequence=df['color'],\n",
    "    color_discrete_map=dict(zip(df['Bereich'], df['color']))\n",
    ")\n",
    "fig.update_traces(marker=dict(cornerradius=5))\n",
    "fig.update_layout(margin=dict(t=25, l=25, r=25, b=25))\n",
    "fig.update_traces(hovertemplate='%{customdata[0]}<br><br>%{label}')\n",
    "fig.update_layout(\n",
    "    # title={\n",
    "    # 'text': 'Schlüsselkompetenzen Zertifikat \"Digital Humanities\"',  # Set your headline text here\n",
    "    # 'y':0.98,  # Position the title slightly below the top edge\n",
    "    # 'x':0.5,   # Center-align the title\n",
    "    # 'xanchor': 'center',\n",
    "    # 'yanchor': 'top'\n",
    "    # },\n",
    "    # template='seaborn',\n",
    "    font=dict(\n",
    "        # family=\"Courier New, monospace\",\n",
    "        size=15,  # Set the font size here\n",
    "        color=\"Black\"\n",
    "    )\n",
    ")\n",
    "fig.show()\n",
    "fig.write_html(\"AS_Bereiche_gewichtet.html\",  include_plotlyjs='cdn')\n",
    "add_header(\"AS_Bereiche_gewichtet.html\")\n",
    "fig.write_image(f\"img/AS_Bereiche_gewichtet.svg\")"
   ]
  },
  {
   "cell_type": "markdown",
   "metadata": {},
   "source": [
    "# Mit Modulen & AS"
   ]
  },
  {
   "cell_type": "code",
   "execution_count": null,
   "metadata": {},
   "outputs": [],
   "source": [
    "import plotly.express as px\n",
    "\n",
    "fig = px.treemap(df, path=[\n",
    "    px.Constant('Schlüsselkompetenzen Zertifikat \"Digital Humanities\"'),\n",
    "    'Modul',\n",
    "    'Bereich',\n",
    "    'Unterbereich',\n",
    "    'AS'\n",
    "    ],\n",
    "    values='Prio_',\n",
    "    # hover_data=['Zeitaufwand'],\n",
    "    # marker_colors = RUB_colors\n",
    "    # color='Zertifikatsbereich'\n",
    ")\n",
    "fig.update_traces(marker=dict(cornerradius=5))\n",
    "fig.update_layout(margin=dict(t=25, l=25, r=25, b=25))\n",
    "fig.update_traces(hovertemplate='%{label}')\n",
    "fig.update_layout(\n",
    "    template='seaborn',\n",
    "    font=dict(\n",
    "        # family=\"Courier New, monospace\",\n",
    "        size=15,  # Set the font size here\n",
    "        # color=\"RebeccaPurple\"\n",
    "    )\n",
    ")\n",
    "fig.show()\n",
    "fig.write_html(\"AS_3Module.html\",  include_plotlyjs='cdn')"
   ]
  },
  {
   "cell_type": "markdown",
   "metadata": {},
   "source": [
    "# Mit Modulen ohne AS"
   ]
  },
  {
   "cell_type": "code",
   "execution_count": null,
   "metadata": {},
   "outputs": [],
   "source": [
    "import plotly.express as px\n",
    "\n",
    "fig = px.treemap(df, path=[\n",
    "    px.Constant('Schlüsselkompetenzen Zertifikat \"Digital Humanities\"'),\n",
    "    'Modul',\n",
    "    'Bereich',\n",
    "    'Unterbereich',\n",
    "    # 'AS'\n",
    "    ],\n",
    "    values='Prio_',\n",
    "    # hover_data=['Zeitaufwand'],\n",
    "    # marker_colors = RUB_colors\n",
    "    # color='Zertifikatsbereich'\n",
    ")\n",
    "fig.update_traces(marker=dict(cornerradius=5))\n",
    "fig.update_layout(margin=dict(t=25, l=25, r=25, b=25))\n",
    "fig.update_traces(hovertemplate='%{label}')\n",
    "fig.update_layout(\n",
    "    template='seaborn',\n",
    "    font=dict(\n",
    "        # family=\"Courier New, monospace\",\n",
    "        size=15,  # Set the font size here\n",
    "        # color=\"RebeccaPurple\"\n",
    "    )\n",
    ")\n",
    "fig.show()\n",
    "fig.write_html(\"UB_3Module.html\",  include_plotlyjs='cdn')"
   ]
  },
  {
   "cell_type": "markdown",
   "metadata": {},
   "source": [
    "# 20-CP Variante"
   ]
  },
  {
   "cell_type": "markdown",
   "metadata": {},
   "source": [
    "## Mit AS"
   ]
  },
  {
   "cell_type": "code",
   "execution_count": null,
   "metadata": {},
   "outputs": [],
   "source": [
    "import plotly.express as px\n",
    "\n",
    "fig = px.treemap(df, path=[\n",
    "    px.Constant('Schlüsselkompetenzen Zertifikat \"Digital Humanities\"'),\n",
    "    'Modul_Option2',\n",
    "    'Bereich',\n",
    "    'Unterbereich',\n",
    "    'AS'\n",
    "    ],\n",
    "    values='Prio_',\n",
    "    # hover_data=['Zeitaufwand'],\n",
    "    # marker_colors = RUB_colors\n",
    "    # color='Zertifikatsbereich'\n",
    ")\n",
    "fig.update_traces(marker=dict(cornerradius=5))\n",
    "fig.update_layout(margin=dict(t=25, l=25, r=25, b=25))\n",
    "fig.update_traces(hovertemplate='%{label}')\n",
    "fig.update_layout(\n",
    "    template='seaborn',\n",
    "    font=dict(\n",
    "        # family=\"Courier New, monospace\",\n",
    "        size=15,  # Set the font size here\n",
    "        # color=\"RebeccaPurple\"\n",
    "    )\n",
    ")\n",
    "fig.show()\n",
    "fig.write_html(\"AS_4Module.html\",  include_plotlyjs='cdn')"
   ]
  },
  {
   "cell_type": "markdown",
   "metadata": {},
   "source": [
    "## Ohne AS"
   ]
  },
  {
   "cell_type": "code",
   "execution_count": null,
   "metadata": {},
   "outputs": [],
   "source": [
    "import plotly.express as px\n",
    "\n",
    "fig = px.treemap(df, path=[\n",
    "    px.Constant('Schlüsselkompetenzen Zertifikat \"Digital Humanities\"'),\n",
    "    'Modul_Option2',\n",
    "    'Bereich',\n",
    "    'Unterbereich',\n",
    "    # 'AS'\n",
    "    ],\n",
    "    values='Prio_',\n",
    "    # hover_data=['Zeitaufwand'],\n",
    "    # marker_colors = RUB_colors\n",
    "    # color='Zertifikatsbereich'\n",
    ")\n",
    "fig.update_traces(marker=dict(cornerradius=5))\n",
    "fig.update_layout(margin=dict(t=25, l=25, r=25, b=25))\n",
    "fig.update_traces(hovertemplate='%{label}')\n",
    "fig.show()\n",
    "fig.write_html(\"UB_4Module.html\",  include_plotlyjs='cdn')"
   ]
  },
  {
   "cell_type": "code",
   "execution_count": null,
   "metadata": {},
   "outputs": [],
   "source": [
    "import plotly.graph_objects as go\n",
    "import plotly.io as pio\n",
    "\n",
    "pio.templates[\"draft\"] = go.layout.Template(\n",
    "    layout_annotations=[\n",
    "        dict(\n",
    "            name=\"draft watermark\",\n",
    "            text=\"DRAFT\",\n",
    "            textangle=-30,\n",
    "            opacity=0.1,\n",
    "            font=dict(color=\"black\", size=100),\n",
    "            xref=\"paper\",\n",
    "            yref=\"paper\",\n",
    "            x=0.5,\n",
    "            y=0.5,\n",
    "            showarrow=False,\n",
    "        )\n",
    "    ]\n",
    ")"
   ]
  },
  {
   "cell_type": "code",
   "execution_count": null,
   "metadata": {},
   "outputs": [],
   "source": [
    "import plotly.graph_objects as go\n",
    "import plotly.io as pio\n",
    "\n",
    "pio.templates[\"rub\"] = go.layout.Template(\n",
    "    layout_annotations=[\n",
    "        dict(\n",
    "            name=\"draft watermark\",\n",
    "            text=\"DRAFT\",\n",
    "            textangle=-30,\n",
    "            opacity=0.1,\n",
    "            font=dict(color=\"black\", size=100),\n",
    "            xref=\"paper\",\n",
    "            yref=\"paper\",\n",
    "            x=0.5,\n",
    "            y=0.5,\n",
    "            showarrow=False,\n",
    "        )\n",
    "    ]\n",
    ")"
   ]
  },
  {
   "cell_type": "markdown",
   "metadata": {},
   "source": [
    "# Poster Plots"
   ]
  },
  {
   "cell_type": "code",
   "execution_count": null,
   "metadata": {},
   "outputs": [],
   "source": [
    "import plotly.express as px\n",
    "\n",
    "def plot_bereich(df, bereich):\n",
    "    df = df[df['Bereich'] == bereich]\n",
    "    fig = px.treemap(df, path=[\n",
    "        px.Constant(bereich),\n",
    "        'Unterbereich',\n",
    "        'AS'\n",
    "        ],\n",
    "        # values='Prio_', # Skalierung nicht nötig für Plakate\n",
    "        color_discrete_sequence =list(df['color'])\n",
    "    )\n",
    "    fig.update_traces(marker=dict(cornerradius=5))\n",
    "    fig.update_layout(margin=dict(t=25, l=25, r=25, b=25))\n",
    "    fig.update_traces(hovertemplate='%{label}')\n",
    "    fig.update_layout(\n",
    "        # template='seaborn',\n",
    "        font=dict(\n",
    "            # family=\"Courier New, monospace\",\n",
    "            size=15,  # Set the font size here\n",
    "            color='black'\n",
    "        )\n",
    "    )\n",
    "    fig.show()\n",
    "    fig.write_image(f\"img/{bereich.replace(' ', \"_\")}.svg\")\n",
    "    \n",
    "print(RUB_palette)\n",
    "\n",
    "for b in df.Bereich.value_counts().keys():\n",
    "    # print(b)\n",
    "    plot_bereich(df,b)"
   ]
  }
 ],
 "metadata": {
  "language_info": {
   "name": "python"
  }
 },
 "nbformat": 4,
 "nbformat_minor": 2
}
