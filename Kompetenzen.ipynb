{
 "cells": [
  {
   "cell_type": "markdown",
   "metadata": {},
   "source": [
    "# Visualisierung der Kompetenzen-Excel-Tabelle"
   ]
  },
  {
   "cell_type": "code",
   "execution_count": 107,
   "metadata": {},
   "outputs": [],
   "source": [
    "from dotenv import load_dotenv\n",
    "import os\n",
    "import matplotlib.pyplot as plt\n",
    "import pandas as pd\n",
    "\n",
    "load_dotenv()\n",
    "data = os.getenv('data')\n",
    "sciebo = data[:-4]\n",
    "file = sciebo + r\"\\DH-Ruhr\\Recherche\\Kompetenzen\\DH_Kompetenzen_Übersicht_V2.2.xlsx\"\n"
   ]
  },
  {
   "cell_type": "code",
   "execution_count": 108,
   "metadata": {},
   "outputs": [
    {
     "name": "stderr",
     "output_type": "stream",
     "text": [
      "c:\\Users\\Oliver\\anaconda3\\envs\\py311\\lib\\site-packages\\openpyxl\\worksheet\\_read_only.py:79: UserWarning:\n",
      "\n",
      "Data Validation extension is not supported and will be removed\n",
      "\n"
     ]
    },
    {
     "data": {
      "text/html": [
       "<div>\n",
       "<style scoped>\n",
       "    .dataframe tbody tr th:only-of-type {\n",
       "        vertical-align: middle;\n",
       "    }\n",
       "\n",
       "    .dataframe tbody tr th {\n",
       "        vertical-align: top;\n",
       "    }\n",
       "\n",
       "    .dataframe thead th {\n",
       "        text-align: right;\n",
       "    }\n",
       "</style>\n",
       "<table border=\"1\" class=\"dataframe\">\n",
       "  <thead>\n",
       "    <tr style=\"text-align: right;\">\n",
       "      <th></th>\n",
       "      <th>Status</th>\n",
       "      <th>Atomic Skills</th>\n",
       "      <th>tmp</th>\n",
       "      <th>Unterbereich</th>\n",
       "      <th>Bereich</th>\n",
       "      <th>Prio</th>\n",
       "      <th>Punkteanzahl BA</th>\n",
       "      <th>Punkteanzahl MA</th>\n",
       "      <th>Punkte gesamt</th>\n",
       "      <th>Punkte gewichtet</th>\n",
       "      <th>...</th>\n",
       "      <th>Zertifikat</th>\n",
       "      <th>Modul</th>\n",
       "      <th>Modul_Option2</th>\n",
       "      <th>Lernzieltyp</th>\n",
       "      <th>Lernziel_konkret</th>\n",
       "      <th>Ridsdale DL Framework Key Ability</th>\n",
       "      <th>Ridsdale DL Framework Competency</th>\n",
       "      <th>RUB_Angebot</th>\n",
       "      <th>UA_Ruhr_Angebot</th>\n",
       "      <th>Kommentare</th>\n",
       "    </tr>\n",
       "    <tr>\n",
       "      <th>id</th>\n",
       "      <th></th>\n",
       "      <th></th>\n",
       "      <th></th>\n",
       "      <th></th>\n",
       "      <th></th>\n",
       "      <th></th>\n",
       "      <th></th>\n",
       "      <th></th>\n",
       "      <th></th>\n",
       "      <th></th>\n",
       "      <th></th>\n",
       "      <th></th>\n",
       "      <th></th>\n",
       "      <th></th>\n",
       "      <th></th>\n",
       "      <th></th>\n",
       "      <th></th>\n",
       "      <th></th>\n",
       "      <th></th>\n",
       "      <th></th>\n",
       "      <th></th>\n",
       "    </tr>\n",
       "  </thead>\n",
       "  <tbody>\n",
       "    <tr>\n",
       "      <th>1</th>\n",
       "      <td>NaN</td>\n",
       "      <td>Computer-Probleme selber lösen (richtig google...</td>\n",
       "      <td>1</td>\n",
       "      <td>PC Grundlagen</td>\n",
       "      <td>Umgang mit dem PC</td>\n",
       "      <td>1</td>\n",
       "      <td>8</td>\n",
       "      <td>0</td>\n",
       "      <td>8</td>\n",
       "      <td>25</td>\n",
       "      <td>...</td>\n",
       "      <td>DH-Basic</td>\n",
       "      <td>Basismodul</td>\n",
       "      <td>Basismodul</td>\n",
       "      <td>Verstehen</td>\n",
       "      <td>NaN</td>\n",
       "      <td>NaN</td>\n",
       "      <td>NaN</td>\n",
       "      <td>NaN</td>\n",
       "      <td>NaN</td>\n",
       "      <td>NaN</td>\n",
       "    </tr>\n",
       "    <tr>\n",
       "      <th>2</th>\n",
       "      <td>NaN</td>\n",
       "      <td>Dateien - Ordnerstruktur/-hierarchie, Pfade, B...</td>\n",
       "      <td>1</td>\n",
       "      <td>PC Grundlagen</td>\n",
       "      <td>Umgang mit dem PC</td>\n",
       "      <td>1</td>\n",
       "      <td>7</td>\n",
       "      <td>0</td>\n",
       "      <td>7</td>\n",
       "      <td>22</td>\n",
       "      <td>...</td>\n",
       "      <td>DH-Basic</td>\n",
       "      <td>Basismodul</td>\n",
       "      <td>Basismodul</td>\n",
       "      <td>Verstehen</td>\n",
       "      <td>NaN</td>\n",
       "      <td>Data Management</td>\n",
       "      <td>Data Organization</td>\n",
       "      <td>NaN</td>\n",
       "      <td>NaN</td>\n",
       "      <td>NaN</td>\n",
       "    </tr>\n",
       "    <tr>\n",
       "      <th>3</th>\n",
       "      <td>NaN</td>\n",
       "      <td>Shell Grundlagen: Was ist die Shell?, Unix vs....</td>\n",
       "      <td>1</td>\n",
       "      <td>PC Grundlagen</td>\n",
       "      <td>Umgang mit dem PC</td>\n",
       "      <td>1</td>\n",
       "      <td>1</td>\n",
       "      <td>1</td>\n",
       "      <td>2</td>\n",
       "      <td>5</td>\n",
       "      <td>...</td>\n",
       "      <td>DH-Basic</td>\n",
       "      <td>Basismodul</td>\n",
       "      <td>Basismodul</td>\n",
       "      <td>Verstehen</td>\n",
       "      <td>NaN</td>\n",
       "      <td>NaN</td>\n",
       "      <td>NaN</td>\n",
       "      <td>NaN</td>\n",
       "      <td>NaN</td>\n",
       "      <td>NaN</td>\n",
       "    </tr>\n",
       "    <tr>\n",
       "      <th>4</th>\n",
       "      <td>NaN</td>\n",
       "      <td>Tabellenkalkulation - Excel/Google Sheets</td>\n",
       "      <td>1</td>\n",
       "      <td>PC Grundlagen</td>\n",
       "      <td>Umgang mit dem PC</td>\n",
       "      <td>1</td>\n",
       "      <td>2</td>\n",
       "      <td>0</td>\n",
       "      <td>2</td>\n",
       "      <td>7</td>\n",
       "      <td>...</td>\n",
       "      <td>DH-Basic</td>\n",
       "      <td>Basismodul</td>\n",
       "      <td>Basismodul</td>\n",
       "      <td>Verstehen</td>\n",
       "      <td>NaN</td>\n",
       "      <td>Data Evaluation</td>\n",
       "      <td>Data Tools</td>\n",
       "      <td>NaN</td>\n",
       "      <td>NaN</td>\n",
       "      <td>NaN</td>\n",
       "    </tr>\n",
       "    <tr>\n",
       "      <th>5</th>\n",
       "      <td>NaN</td>\n",
       "      <td>Tastaturkürzel &amp; Sonderzeichen</td>\n",
       "      <td>1</td>\n",
       "      <td>PC Grundlagen</td>\n",
       "      <td>Umgang mit dem PC</td>\n",
       "      <td>1</td>\n",
       "      <td>1</td>\n",
       "      <td>0</td>\n",
       "      <td>1</td>\n",
       "      <td>4</td>\n",
       "      <td>...</td>\n",
       "      <td>DH-Basic</td>\n",
       "      <td>Basismodul</td>\n",
       "      <td>Basismodul</td>\n",
       "      <td>Wissen</td>\n",
       "      <td>NaN</td>\n",
       "      <td>NaN</td>\n",
       "      <td>NaN</td>\n",
       "      <td>NaN</td>\n",
       "      <td>NaN</td>\n",
       "      <td>NaN</td>\n",
       "    </tr>\n",
       "  </tbody>\n",
       "</table>\n",
       "<p>5 rows × 22 columns</p>\n",
       "</div>"
      ],
      "text/plain": [
       "   Status                                      Atomic Skills  tmp  \\\n",
       "id                                                                  \n",
       "1     NaN  Computer-Probleme selber lösen (richtig google...    1   \n",
       "2     NaN  Dateien - Ordnerstruktur/-hierarchie, Pfade, B...    1   \n",
       "3     NaN  Shell Grundlagen: Was ist die Shell?, Unix vs....    1   \n",
       "4     NaN          Tabellenkalkulation - Excel/Google Sheets    1   \n",
       "5     NaN                     Tastaturkürzel & Sonderzeichen    1   \n",
       "\n",
       "     Unterbereich            Bereich  Prio  Punkteanzahl BA  Punkteanzahl MA  \\\n",
       "id                                                                             \n",
       "1   PC Grundlagen  Umgang mit dem PC     1                8                0   \n",
       "2   PC Grundlagen  Umgang mit dem PC     1                7                0   \n",
       "3   PC Grundlagen  Umgang mit dem PC     1                1                1   \n",
       "4   PC Grundlagen  Umgang mit dem PC     1                2                0   \n",
       "5   PC Grundlagen  Umgang mit dem PC     1                1                0   \n",
       "\n",
       "    Punkte gesamt  Punkte gewichtet  ...  Zertifikat       Modul  \\\n",
       "id                                   ...                           \n",
       "1               8                25  ...    DH-Basic  Basismodul   \n",
       "2               7                22  ...    DH-Basic  Basismodul   \n",
       "3               2                 5  ...    DH-Basic  Basismodul   \n",
       "4               2                 7  ...    DH-Basic  Basismodul   \n",
       "5               1                 4  ...    DH-Basic  Basismodul   \n",
       "\n",
       "   Modul_Option2 Lernzieltyp Lernziel_konkret  \\\n",
       "id                                              \n",
       "1     Basismodul   Verstehen              NaN   \n",
       "2     Basismodul   Verstehen              NaN   \n",
       "3     Basismodul   Verstehen              NaN   \n",
       "4     Basismodul   Verstehen              NaN   \n",
       "5     Basismodul      Wissen              NaN   \n",
       "\n",
       "   Ridsdale DL Framework Key Ability Ridsdale DL Framework Competency  \\\n",
       "id                                                                      \n",
       "1                                NaN                              NaN   \n",
       "2                    Data Management                Data Organization   \n",
       "3                                NaN                              NaN   \n",
       "4                    Data Evaluation                       Data Tools   \n",
       "5                                NaN                              NaN   \n",
       "\n",
       "   RUB_Angebot UA_Ruhr_Angebot Kommentare  \n",
       "id                                         \n",
       "1          NaN             NaN        NaN  \n",
       "2          NaN             NaN        NaN  \n",
       "3          NaN             NaN        NaN  \n",
       "4          NaN             NaN        NaN  \n",
       "5          NaN             NaN        NaN  \n",
       "\n",
       "[5 rows x 22 columns]"
      ]
     },
     "execution_count": 108,
     "metadata": {},
     "output_type": "execute_result"
    }
   ],
   "source": [
    "df = pd.read_excel(file, index_col=\"id\")\n",
    "\n",
    "df.head()"
   ]
  },
  {
   "cell_type": "code",
   "execution_count": 109,
   "metadata": {},
   "outputs": [
    {
     "data": {
      "text/plain": [
       "'Sonstige DH-Tools'"
      ]
     },
     "execution_count": 109,
     "metadata": {},
     "output_type": "execute_result"
    }
   ],
   "source": [
    "def brrrrrr(string, cutoff=20):\n",
    "    brstring = \"\"\n",
    "    while len(string) > cutoff:\n",
    "        space_index = string[cutoff:].find(\" \")\n",
    "        if space_index == -1:\n",
    "            break\n",
    "        brstring += string[:cutoff + space_index].strip() + \"<br>\"\n",
    "        string = string[cutoff + space_index:].strip()\n",
    "    \n",
    "    brstring += string\n",
    "    return brstring\n",
    "    \n",
    "        \n",
    "\n",
    "teststr = df['Atomic Skills'].iloc[92]\n",
    "brrrrrr(teststr,20)"
   ]
  },
  {
   "cell_type": "code",
   "execution_count": 110,
   "metadata": {},
   "outputs": [],
   "source": [
    "\n",
    "df[\"AS\"] = df[\"Atomic Skills\"].apply(lambda x: brrrrrr(x,15))\n",
    "df[\"Prio_\"] = df[\"Prio\"].apply(lambda x: 4-x)"
   ]
  },
  {
   "cell_type": "code",
   "execution_count": 111,
   "metadata": {},
   "outputs": [
    {
     "data": {
      "text/plain": [
       "Index(['Status', 'Atomic Skills', 'tmp', 'Unterbereich', 'Bereich', 'Prio',\n",
       "       'Punkteanzahl BA', 'Punkteanzahl MA', 'Punkte gesamt',\n",
       "       'Punkte gewichtet', 'Zeitaufwand', 'Framework', 'Zertifikat', 'Modul',\n",
       "       'Modul_Option2', 'Lernzieltyp', 'Lernziel_konkret',\n",
       "       'Ridsdale DL Framework Key Ability', 'Ridsdale DL Framework Competency',\n",
       "       'RUB_Angebot', 'UA_Ruhr_Angebot', 'Kommentare', 'AS', 'Prio_'],\n",
       "      dtype='object')"
      ]
     },
     "execution_count": 111,
     "metadata": {},
     "output_type": "execute_result"
    }
   ],
   "source": [
    "df.keys()"
   ]
  },
  {
   "cell_type": "code",
   "execution_count": 112,
   "metadata": {},
   "outputs": [],
   "source": [
    "# df[['Atomic Skills', 'Bereich', 'Unterbereich', 'Prio', 'Zeitaufwand','Lernzieltyp', 'Modul']].to_csv(\"dh_cert_skills_RUB.csv\")"
   ]
  },
  {
   "cell_type": "code",
   "execution_count": 113,
   "metadata": {},
   "outputs": [],
   "source": [
    "RUB_palette = {'Blau': '#17365c',\n",
    "               'Grün': '#8dae10',\n",
    "               'Grau': '#e7e7e7',\n",
    "               'Gelb': '#ffcc00',\n",
    "               'Orange': '#ed7102',\n",
    "               'Rot': '#e6332a',\n",
    "               'Dunkelrot': '#b61e3e',\n",
    "               'Beige': '#c1baa3',\n",
    "               'Dunkelgrün': '#8c8751',\n",
    "               'Braun': '#9c5516',\n",
    "               'Dunkelbraun': '#59201b'}\n",
    "\n",
    "\n",
    "bereich_colors = {'DH Grundlagen': 'Grün',\n",
    "                  'DH Methoden & Tools': 'Dunkelgrün',\n",
    "                  'DH Projekt': 'Beige',\n",
    "                  'Programmieren für DH': 'Dunkelrot',\n",
    "                  'Statistik für DH': 'Blau',\n",
    "                  'Umgang mit dem PC': 'Orange',\n",
    "                  'Schlüsselkompetenzen Zertifikat \"Digital Humanities\"': 'Grau',}\n",
    "\n",
    "\n",
    "df['color'] = df['Bereich'].apply(lambda x: RUB_palette[bereich_colors[x]])\n",
    "\n",
    "RUB_colors = list(RUB_palette.values())"
   ]
  },
  {
   "cell_type": "code",
   "execution_count": 114,
   "metadata": {},
   "outputs": [
    {
     "data": {
      "text/plain": [
       "Templates configuration\n",
       "-----------------------\n",
       "    Default template: 'plotly'\n",
       "    Available templates:\n",
       "        ['ggplot2', 'seaborn', 'simple_white', 'plotly',\n",
       "         'plotly_white', 'plotly_dark', 'presentation', 'xgridoff',\n",
       "         'ygridoff', 'gridon', 'none', 'draft', 'rub']"
      ]
     },
     "execution_count": 114,
     "metadata": {},
     "output_type": "execute_result"
    }
   ],
   "source": [
    "import plotly.io as pio\n",
    "pio.templates"
   ]
  },
  {
   "cell_type": "code",
   "execution_count": 115,
   "metadata": {},
   "outputs": [],
   "source": [
    "df['Modul'] = df.apply(lambda x: x.Modul if x.Bereich != 'Umgang mit dem PC' else 'Methodenmodul', axis=1)\n"
   ]
  },
  {
   "cell_type": "markdown",
   "metadata": {},
   "source": [
    "# Ohne Module"
   ]
  },
  {
   "cell_type": "code",
   "execution_count": 116,
   "metadata": {},
   "outputs": [
    {
     "data": {
      "application/vnd.plotly.v1+json": {
       "config": {
        "plotlyServerURL": "https://plot.ly"
       },
       "data": [
        {
         "branchvalues": "total",
         "customdata": [
          [
           "DH Grundlagen"
          ],
          [
           "DH Grundlagen"
          ],
          [
           "DH Grundlagen"
          ],
          [
           "DH Methoden & Tools"
          ],
          [
           "DH Methoden & Tools"
          ],
          [
           "DH Methoden & Tools"
          ],
          [
           "Statistik für DH"
          ],
          [
           "Programmieren für DH"
          ],
          [
           "Programmieren für DH"
          ],
          [
           "DH Grundlagen"
          ],
          [
           "DH Grundlagen"
          ],
          [
           "DH Grundlagen"
          ],
          [
           "Programmieren für DH"
          ],
          [
           "DH Projekt"
          ],
          [
           "Programmieren für DH"
          ],
          [
           "Statistik für DH"
          ],
          [
           "Umgang mit dem PC"
          ],
          [
           "Umgang mit dem PC"
          ],
          [
           "Programmieren für DH"
          ],
          [
           "Umgang mit dem PC"
          ],
          [
           "DH Methoden & Tools"
          ],
          [
           "Programmieren für DH"
          ],
          [
           "DH Methoden & Tools"
          ],
          [
           "DH Projekt"
          ],
          [
           "Umgang mit dem PC"
          ],
          [
           "Statistik für DH"
          ],
          [
           "Umgang mit dem PC"
          ],
          [
           "Umgang mit dem PC"
          ],
          [
           "Statistik für DH"
          ],
          [
           "Programmieren für DH"
          ],
          [
           "DH Methoden & Tools"
          ],
          [
           "Programmieren für DH"
          ],
          [
           "DH Grundlagen"
          ],
          [
           "DH Projekt"
          ],
          [
           "DH Grundlagen"
          ],
          [
           "DH Methoden & Tools"
          ],
          [
           "DH Methoden & Tools"
          ],
          [
           "Programmieren für DH"
          ],
          [
           "Programmieren für DH"
          ],
          [
           "Programmieren für DH"
          ],
          [
           "DH Methoden & Tools"
          ],
          [
           "Programmieren für DH"
          ],
          [
           "Umgang mit dem PC"
          ],
          [
           "DH Methoden & Tools"
          ],
          [
           "Umgang mit dem PC"
          ],
          [
           "Umgang mit dem PC"
          ],
          [
           "Programmieren für DH"
          ],
          [
           "DH Grundlagen"
          ],
          [
           "Umgang mit dem PC"
          ],
          [
           "DH Methoden & Tools"
          ],
          [
           "DH Methoden & Tools"
          ],
          [
           "DH Methoden & Tools"
          ],
          [
           "DH Methoden & Tools"
          ],
          [
           "DH Projekt"
          ],
          [
           "DH Methoden & Tools"
          ],
          [
           "DH Methoden & Tools"
          ],
          [
           "DH Grundlagen"
          ],
          [
           "Statistik für DH"
          ],
          [
           "Statistik für DH"
          ],
          [
           "DH Methoden & Tools"
          ],
          [
           "DH Methoden & Tools"
          ],
          [
           "DH Methoden & Tools"
          ],
          [
           "Programmieren für DH"
          ],
          [
           "DH Grundlagen"
          ],
          [
           "Programmieren für DH"
          ],
          [
           "DH Methoden & Tools"
          ],
          [
           "Statistik für DH"
          ],
          [
           "Statistik für DH"
          ],
          [
           "DH Methoden & Tools"
          ],
          [
           "DH Methoden & Tools"
          ],
          [
           "DH Grundlagen"
          ],
          [
           "DH Methoden & Tools"
          ],
          [
           "DH Methoden & Tools"
          ],
          [
           "DH Grundlagen"
          ],
          [
           "DH Methoden & Tools"
          ],
          [
           "Programmieren für DH"
          ],
          [
           "Programmieren für DH"
          ],
          [
           "Programmieren für DH"
          ],
          [
           "DH Methoden & Tools"
          ],
          [
           "Statistik für DH"
          ],
          [
           "Umgang mit dem PC"
          ],
          [
           "DH Methoden & Tools"
          ],
          [
           "DH Methoden & Tools"
          ],
          [
           "DH Methoden & Tools"
          ],
          [
           "DH Methoden & Tools"
          ],
          [
           "Programmieren für DH"
          ],
          [
           "DH Methoden & Tools"
          ],
          [
           "DH Projekt"
          ],
          [
           "DH Methoden & Tools"
          ],
          [
           "DH Methoden & Tools"
          ],
          [
           "Umgang mit dem PC"
          ],
          [
           "DH Grundlagen"
          ],
          [
           "DH Methoden & Tools"
          ],
          [
           "DH Grundlagen"
          ],
          [
           "DH Methoden & Tools"
          ],
          [
           "Umgang mit dem PC"
          ],
          [
           "Umgang mit dem PC"
          ],
          [
           "DH Grundlagen"
          ],
          [
           "DH Grundlagen"
          ],
          [
           "Programmieren für DH"
          ],
          [
           "DH Methoden & Tools"
          ],
          [
           "DH Methoden & Tools"
          ],
          [
           "DH Grundlagen"
          ],
          [
           "DH Methoden & Tools"
          ],
          [
           "DH Methoden & Tools"
          ],
          [
           "DH Grundlagen"
          ],
          [
           "Programmieren für DH"
          ],
          [
           "DH Methoden & Tools"
          ],
          [
           "Umgang mit dem PC"
          ],
          [
           "Umgang mit dem PC"
          ],
          [
           "DH Projekt"
          ],
          [
           "Programmieren für DH"
          ],
          [
           "Programmieren für DH"
          ],
          [
           "Programmieren für DH"
          ],
          [
           "DH Grundlagen"
          ],
          [
           "Statistik für DH"
          ],
          [
           "Statistik für DH"
          ],
          [
           "DH Methoden & Tools"
          ],
          [
           "Programmieren für DH"
          ],
          [
           "DH Grundlagen"
          ],
          [
           "DH Methoden & Tools"
          ],
          [
           "DH Projekt"
          ],
          [
           "Programmieren für DH"
          ],
          [
           "Statistik für DH"
          ],
          [
           "Umgang mit dem PC"
          ]
         ],
         "domain": {
          "x": [
           0,
           1
          ],
          "y": [
           0,
           1
          ]
         },
         "hovertemplate": "%{label}",
         "ids": [
          "DH Grundlagen/Einführung DH/Digitalisierung<br>- 3D Digitalisierung,<br>AR, VR (Plastiken,<br>Gebäudemodelle)",
          "DH Grundlagen/Einführung DH/Digitalisierungsverfahren<br>Bild & Text",
          "DH Grundlagen/Einführung DH/Digitalisierung<br>- Bilder als digitale<br>Daten (Raster &<br>Vektorgrafiken)",
          "DH Methoden & Tools/Methoden/Digitalisierung:<br>Frameworks (bspw.<br>IIIF)",
          "DH Methoden & Tools/Digitale Editionen/Digitale Editionen<br>erstellen",
          "DH Methoden & Tools/Digitale Editionen/Digitale Editionen<br>bearbeiten/ Maintenance",
          "Statistik für DH/Statistik Fortgeschritten/Design und Implementierung<br>statistischer Modelle",
          "Programmieren für DH/Python Grundlagen/Datenvisualisierung<br>(matplotlib, seaborn,<br>etc.)",
          "Programmieren für DH/R/Datenvisualisierung<br>(ggplot)",
          "DH Grundlagen/Einführung DH/Datenverarbeitung<br>& -organisation:<br>Metadaten (Typen<br>& Standards)",
          "DH Grundlagen/Einführung DH/Datenverarbeitung<br>& -organisation:<br>Datenbanken",
          "DH Grundlagen/Rechtliches/Datenschutz, Copyright,<br>DSGVO (in Bezug<br>auf Webscraping)",
          "Programmieren für DH/R/Datenaufbereitung<br>& Umgang mit Fehlermeldungen",
          "DH Projekt/Projekt/Datenanalyse oder<br>Visualisierung",
          "Programmieren für DH/R/Datenanalyse & Textmining",
          "Statistik für DH/Statistik Fortgeschritten/Datenanalyse und<br>Machine Learning",
          "Umgang mit dem PC/PC Grundlagen/Dateien - Ordnerstruktur/-hierarchie,<br>Pfade, Benennung,<br>Arten, Umwandeln",
          "Umgang mit dem PC/PC Grundlagen/Tabellenkalkulation<br>- Excel/Google Sheets",
          "Programmieren für DH/Python Grundlagen/Text (String-Methoden/-Funktionen)",
          "Umgang mit dem PC/PC Grundlagen/Tastaturkürzel &<br>Sonderzeichen",
          "DH Methoden & Tools/Tools/Open Refine",
          "Programmieren für DH/Python Grundlagen/Pandas",
          "DH Methoden & Tools/Tools/Tableau",
          "DH Projekt/Projekt/Projektorientiertes<br>Lernen: Modellierung,<br>Projektentwurf,<br>Umsetzung und Evaluation",
          "Umgang mit dem PC/PC Fortgeschritten/Quellenverwaltung<br>(mit Zotero, etc.)",
          "Statistik für DH/Statistik Grundlagen/Schätzer, Konfidenzintervalle<br>& Hypothesentests",
          "Umgang mit dem PC/PC Fortgeschritten/Shell Fortgeschritten:<br>shell scripts, variablen,<br>editor in der shell,<br>remote access/ssh",
          "Umgang mit dem PC/PC Grundlagen/Shell Grundlagen:<br>Was ist die Shell?,<br>Unix vs. Windows,<br>simple Befehle",
          "Statistik für DH/Statistik Grundlagen/Skalenniveaus",
          "Programmieren für DH/Python Fortgeschritten/Sonstige DH-Bibliotheken",
          "DH Methoden & Tools/Tools/Sonstige DH-Tools",
          "Programmieren für DH/Python Fortgeschritten/Spacy",
          "DH Grundlagen/Einführung DH/Textdaten - Zeichenkodierung",
          "DH Projekt/Projekt/Selbständiges Arbeiten<br>mit Datensätzen",
          "DH Grundlagen/Einführung DH/Textdaten Grundlagen<br>-  txt, md, csv,<br>tsv, XML, HTML,<br>KML, TEI",
          "DH Methoden & Tools/Tools/OCR: Tools, Python-Bibliotheken,<br>APIs",
          "DH Methoden & Tools/Methoden/Topic Modelling",
          "Programmieren für DH/Web/Webseiten (HTML,<br>CSS, PHP, JavaScript)",
          "Programmieren für DH/Web/Web-Programmierung/<br>-Frameworks (Django,<br>Flask, etc.)",
          "Programmieren für DH/Web/Web-Frontend zur<br>Suche und Anzeige<br>von Datenbankinhalten<br>(z.B. Dashbord)",
          "DH Methoden & Tools/Nicht-Text-Daten/Video & 3D (Bearbeiten,<br>Konvertieren, etc.)",
          "Programmieren für DH/R/Tidyverse",
          "Umgang mit dem PC/PC Grundlagen/Versionskontrolle/Datensicherung",
          "DH Methoden & Tools/Tools/Umgang mit lokalen<br>Korpustools (Antconc,<br>etc.)",
          "Umgang mit dem PC/PC Fortgeschritten/Versionskontrolle<br>mit git",
          "Umgang mit dem PC/PC Fortgeschritten/UNIX/Linux: Serveradministration",
          "Programmieren für DH/Misc/UNIX/Linux: Script-Sprachen",
          "DH Grundlagen/Rechtliches/Open Access / Open<br>Research",
          "Umgang mit dem PC/PC Fortgeschritten/UNIX/Linux: Grundlagen,<br>Betriebssystem",
          "DH Methoden & Tools/Tools/Trifacta/Alteryx<br>Designer Cloud",
          "DH Methoden & Tools/KI/Transformer-Architektur",
          "DH Methoden & Tools/Methoden/Umgang mit Online-Korpora",
          "DH Methoden & Tools/KI/Überblick (High<br>Level: wie funktioniert<br>KI/ML/Klassifikation/Generation/Bias)",
          "DH Projekt/Projekt/Wissenskommunikation<br>(Vorgehen & Ergebnisse<br>nachvollziehbar<br>darstellen)",
          "DH Methoden & Tools/Tools/Wordsmith",
          "DH Methoden & Tools/Methoden/XML-Technologien<br>Fortgeschritten<br>(TEI-XML, Xquery,<br>XSLT, XPATH)",
          "DH Grundlagen/Einführung DH/Überblick Textdatenbanken/Korpora<br>(\"Welche gibt es?\",<br>\"Wie finde ich passende<br>Korpora/Datenbanken?\")",
          "Statistik für DH/Statistik Fortgeschritten/Klassifikation:<br>Naive Bayes",
          "Statistik für DH/Statistik Grundlagen/Graphische Darstellung<br>(welche Daten, welche<br>Darstellung, Fehler)",
          "DH Methoden & Tools/Datenbanken/Grundlagen: Excel/CSV,<br>SQL, Zugriff auf<br>existierende DBs/API",
          "DH Methoden & Tools/Datenbanken/Grundlagen: Verwalten,<br>Zusammenfügen, Analysieren<br>großer Datensätze",
          "DH Methoden & Tools/Methoden/Information Retrieval",
          "Programmieren für DH/Python Grundlagen/Infrastruktur (IDE,<br>Jupyter Notebooks,<br>Colab/Pages/JupyterHub)",
          "DH Grundlagen/Misc/Internationale Standards<br>in der Auszeichnung<br>von (Meta)daten<br>z.B. METS, MODS,<br>TEI",
          "Programmieren für DH/Misc/Java ",
          "DH Methoden & Tools/Tools/Kartenerstellung<br>(GIS, ArcGis, etc.)",
          "Statistik für DH/Statistik Fortgeschritten/Klassifikation:<br>Beispielcode (z.B.<br>in Python oder R)",
          "Statistik für DH/Statistik Fortgeschritten/Klassifikation:<br>KNN, SVM, etc",
          "DH Methoden & Tools/Methoden/Kollation (Editionsphilologie)",
          "DH Methoden & Tools/Methoden/Graphanalyse",
          "DH Grundlagen/Einführung DH/Geschichte der DH",
          "DH Methoden & Tools/Datenbanken/Fortgeschritten:<br>selbst aufsetzen,<br>bearbeiten, maintainen",
          "DH Methoden & Tools/Datenbanken/Fortgeschritten:<br>SQL/NoSQL, eXist-db,<br>MongoDB, etc.",
          "DH Grundlagen/Rechtliches/Forschungsethik",
          "DH Methoden & Tools/Methoden/Erstellung von TEI-Customisations",
          "Programmieren für DH/R/Grundlagen R Programmieren",
          "Programmieren für DH/Python Grundlagen/Grundlagen Programmieren<br>(Kontrollfluss,<br>Schleifen, Grundlagen<br>i/o, Boolsche Logik,<br>etc.)",
          "Programmieren für DH/Python Fortgeschritten/NLTK",
          "DH Methoden & Tools/Methoden/Named Entity Recognition",
          "Statistik für DH/Statistik Grundlagen/Korrelation & Kausalität",
          "Umgang mit dem PC/PC Fortgeschritten/LaTeχ (Overleaf)",
          "DH Methoden & Tools/KI/Maschinelles Lernen:<br>Algorithmen",
          "DH Methoden & Tools/KI/Mathematische Grundlagen",
          "DH Methoden & Tools/Tools/MaxQDA",
          "DH Methoden & Tools/Methoden/Network Analysis",
          "Programmieren für DH/Python Grundlagen/Korpusanalytische<br>Verfahren (Webscraping,<br>Tokenisierung, Annotation,<br>Kookkurrenz-, Frequenzanalyse,<br>etc.)",
          "DH Methoden & Tools/KI/(Python-)Beispielprojekt<br>zum Ausprobieren<br>und Anpassen",
          "DH Projekt/Projekt/Anwendung der Kenntnisse<br>in einem selbstständigen<br>(Datenanalyse-)projekt",
          "DH Methoden & Tools/Nicht-Text-Daten/Audio (Bearbeiten,<br>Konvertieren, etc.)",
          "DH Methoden & Tools/Nicht-Text-Daten/Audio Signal Processing",
          "Umgang mit dem PC/PC Fortgeschritten/Aufbau/Administration<br>von Client-Server-Architektur",
          "DH Grundlagen/Einführung DH/Begriffsdefinition<br>DH",
          "DH Methoden & Tools/Nicht-Text-Daten/Bild (Bearbeiten,<br>Konvertieren, etc.)",
          "DH Grundlagen/Einführung DH/Beispiele Tools<br>& Methoden: Digitale<br>Editionen, Digitale<br>Archive, Korpusanalyse,<br>Oral History, GIS,<br>VR, 3D-Design, digitale<br>Filmanalyse",
          "DH Methoden & Tools/Nicht-Text-Daten/Computer Vision",
          "Umgang mit dem PC/PC Grundlagen/Computer-Probleme<br>selber lösen (richtig<br>googlen, Tutorials<br>befolgen)",
          "Umgang mit dem PC/PC Fortgeschritten/Containerisierung<br>(z.B. Docker)",
          "DH Grundlagen/Einführung DH/DH & Ich (\"Wofür<br>brauche ich persönlich<br>DH-Methoden in meinem<br>Studium?\")",
          "DH Grundlagen/Einführung DH/Beispiele Fragestellungen<br>- Fächer: Literaturwissenschaft,<br>Editionsphilologie,<br>Linguistik, Geschichte,<br>Kunstgeschichte,<br>Archäologie, Musik,<br>Medienwissenschaft",
          "Programmieren für DH/Python Grundlagen/(DH) Code verstehen<br>und anpassen",
          "DH Methoden & Tools/Datenbanken",
          "DH Methoden & Tools/Digitale Editionen",
          "DH Grundlagen/Einführung DH",
          "DH Methoden & Tools/KI",
          "DH Methoden & Tools/Methoden",
          "DH Grundlagen/Misc",
          "Programmieren für DH/Misc",
          "DH Methoden & Tools/Nicht-Text-Daten",
          "Umgang mit dem PC/PC Fortgeschritten",
          "Umgang mit dem PC/PC Grundlagen",
          "DH Projekt/Projekt",
          "Programmieren für DH/Python Fortgeschritten",
          "Programmieren für DH/Python Grundlagen",
          "Programmieren für DH/R",
          "DH Grundlagen/Rechtliches",
          "Statistik für DH/Statistik Fortgeschritten",
          "Statistik für DH/Statistik Grundlagen",
          "DH Methoden & Tools/Tools",
          "Programmieren für DH/Web",
          "DH Grundlagen",
          "DH Methoden & Tools",
          "DH Projekt",
          "Programmieren für DH",
          "Statistik für DH",
          "Umgang mit dem PC"
         ],
         "labels": [
          "Digitalisierung<br>- 3D Digitalisierung,<br>AR, VR (Plastiken,<br>Gebäudemodelle)",
          "Digitalisierungsverfahren<br>Bild & Text",
          "Digitalisierung<br>- Bilder als digitale<br>Daten (Raster &<br>Vektorgrafiken)",
          "Digitalisierung:<br>Frameworks (bspw.<br>IIIF)",
          "Digitale Editionen<br>erstellen",
          "Digitale Editionen<br>bearbeiten/ Maintenance",
          "Design und Implementierung<br>statistischer Modelle",
          "Datenvisualisierung<br>(matplotlib, seaborn,<br>etc.)",
          "Datenvisualisierung<br>(ggplot)",
          "Datenverarbeitung<br>& -organisation:<br>Metadaten (Typen<br>& Standards)",
          "Datenverarbeitung<br>& -organisation:<br>Datenbanken",
          "Datenschutz, Copyright,<br>DSGVO (in Bezug<br>auf Webscraping)",
          "Datenaufbereitung<br>& Umgang mit Fehlermeldungen",
          "Datenanalyse oder<br>Visualisierung",
          "Datenanalyse & Textmining",
          "Datenanalyse und<br>Machine Learning",
          "Dateien - Ordnerstruktur/-hierarchie,<br>Pfade, Benennung,<br>Arten, Umwandeln",
          "Tabellenkalkulation<br>- Excel/Google Sheets",
          "Text (String-Methoden/-Funktionen)",
          "Tastaturkürzel &<br>Sonderzeichen",
          "Open Refine",
          "Pandas",
          "Tableau",
          "Projektorientiertes<br>Lernen: Modellierung,<br>Projektentwurf,<br>Umsetzung und Evaluation",
          "Quellenverwaltung<br>(mit Zotero, etc.)",
          "Schätzer, Konfidenzintervalle<br>& Hypothesentests",
          "Shell Fortgeschritten:<br>shell scripts, variablen,<br>editor in der shell,<br>remote access/ssh",
          "Shell Grundlagen:<br>Was ist die Shell?,<br>Unix vs. Windows,<br>simple Befehle",
          "Skalenniveaus",
          "Sonstige DH-Bibliotheken",
          "Sonstige DH-Tools",
          "Spacy",
          "Textdaten - Zeichenkodierung",
          "Selbständiges Arbeiten<br>mit Datensätzen",
          "Textdaten Grundlagen<br>-  txt, md, csv,<br>tsv, XML, HTML,<br>KML, TEI",
          "OCR: Tools, Python-Bibliotheken,<br>APIs",
          "Topic Modelling",
          "Webseiten (HTML,<br>CSS, PHP, JavaScript)",
          "Web-Programmierung/<br>-Frameworks (Django,<br>Flask, etc.)",
          "Web-Frontend zur<br>Suche und Anzeige<br>von Datenbankinhalten<br>(z.B. Dashbord)",
          "Video & 3D (Bearbeiten,<br>Konvertieren, etc.)",
          "Tidyverse",
          "Versionskontrolle/Datensicherung",
          "Umgang mit lokalen<br>Korpustools (Antconc,<br>etc.)",
          "Versionskontrolle<br>mit git",
          "UNIX/Linux: Serveradministration",
          "UNIX/Linux: Script-Sprachen",
          "Open Access / Open<br>Research",
          "UNIX/Linux: Grundlagen,<br>Betriebssystem",
          "Trifacta/Alteryx<br>Designer Cloud",
          "Transformer-Architektur",
          "Umgang mit Online-Korpora",
          "Überblick (High<br>Level: wie funktioniert<br>KI/ML/Klassifikation/Generation/Bias)",
          "Wissenskommunikation<br>(Vorgehen & Ergebnisse<br>nachvollziehbar<br>darstellen)",
          "Wordsmith",
          "XML-Technologien<br>Fortgeschritten<br>(TEI-XML, Xquery,<br>XSLT, XPATH)",
          "Überblick Textdatenbanken/Korpora<br>(\"Welche gibt es?\",<br>\"Wie finde ich passende<br>Korpora/Datenbanken?\")",
          "Klassifikation:<br>Naive Bayes",
          "Graphische Darstellung<br>(welche Daten, welche<br>Darstellung, Fehler)",
          "Grundlagen: Excel/CSV,<br>SQL, Zugriff auf<br>existierende DBs/API",
          "Grundlagen: Verwalten,<br>Zusammenfügen, Analysieren<br>großer Datensätze",
          "Information Retrieval",
          "Infrastruktur (IDE,<br>Jupyter Notebooks,<br>Colab/Pages/JupyterHub)",
          "Internationale Standards<br>in der Auszeichnung<br>von (Meta)daten<br>z.B. METS, MODS,<br>TEI",
          "Java ",
          "Kartenerstellung<br>(GIS, ArcGis, etc.)",
          "Klassifikation:<br>Beispielcode (z.B.<br>in Python oder R)",
          "Klassifikation:<br>KNN, SVM, etc",
          "Kollation (Editionsphilologie)",
          "Graphanalyse",
          "Geschichte der DH",
          "Fortgeschritten:<br>selbst aufsetzen,<br>bearbeiten, maintainen",
          "Fortgeschritten:<br>SQL/NoSQL, eXist-db,<br>MongoDB, etc.",
          "Forschungsethik",
          "Erstellung von TEI-Customisations",
          "Grundlagen R Programmieren",
          "Grundlagen Programmieren<br>(Kontrollfluss,<br>Schleifen, Grundlagen<br>i/o, Boolsche Logik,<br>etc.)",
          "NLTK",
          "Named Entity Recognition",
          "Korrelation & Kausalität",
          "LaTeχ (Overleaf)",
          "Maschinelles Lernen:<br>Algorithmen",
          "Mathematische Grundlagen",
          "MaxQDA",
          "Network Analysis",
          "Korpusanalytische<br>Verfahren (Webscraping,<br>Tokenisierung, Annotation,<br>Kookkurrenz-, Frequenzanalyse,<br>etc.)",
          "(Python-)Beispielprojekt<br>zum Ausprobieren<br>und Anpassen",
          "Anwendung der Kenntnisse<br>in einem selbstständigen<br>(Datenanalyse-)projekt",
          "Audio (Bearbeiten,<br>Konvertieren, etc.)",
          "Audio Signal Processing",
          "Aufbau/Administration<br>von Client-Server-Architektur",
          "Begriffsdefinition<br>DH",
          "Bild (Bearbeiten,<br>Konvertieren, etc.)",
          "Beispiele Tools<br>& Methoden: Digitale<br>Editionen, Digitale<br>Archive, Korpusanalyse,<br>Oral History, GIS,<br>VR, 3D-Design, digitale<br>Filmanalyse",
          "Computer Vision",
          "Computer-Probleme<br>selber lösen (richtig<br>googlen, Tutorials<br>befolgen)",
          "Containerisierung<br>(z.B. Docker)",
          "DH & Ich (\"Wofür<br>brauche ich persönlich<br>DH-Methoden in meinem<br>Studium?\")",
          "Beispiele Fragestellungen<br>- Fächer: Literaturwissenschaft,<br>Editionsphilologie,<br>Linguistik, Geschichte,<br>Kunstgeschichte,<br>Archäologie, Musik,<br>Medienwissenschaft",
          "(DH) Code verstehen<br>und anpassen",
          "Datenbanken",
          "Digitale Editionen",
          "Einführung DH",
          "KI",
          "Methoden",
          "Misc",
          "Misc",
          "Nicht-Text-Daten",
          "PC Fortgeschritten",
          "PC Grundlagen",
          "Projekt",
          "Python Fortgeschritten",
          "Python Grundlagen",
          "R",
          "Rechtliches",
          "Statistik Fortgeschritten",
          "Statistik Grundlagen",
          "Tools",
          "Web",
          "DH Grundlagen",
          "DH Methoden & Tools",
          "DH Projekt",
          "Programmieren für DH",
          "Statistik für DH",
          "Umgang mit dem PC"
         ],
         "marker": {
          "colors": [
           "#8dae10",
           "#8dae10",
           "#8dae10",
           "#8c8751",
           "#8c8751",
           "#8c8751",
           "#17365c",
           "#b61e3e",
           "#b61e3e",
           "#8dae10",
           "#8dae10",
           "#8dae10",
           "#b61e3e",
           "#c1baa3",
           "#b61e3e",
           "#17365c",
           "#ed7102",
           "#ed7102",
           "#b61e3e",
           "#ed7102",
           "#8c8751",
           "#b61e3e",
           "#8c8751",
           "#c1baa3",
           "#ed7102",
           "#17365c",
           "#ed7102",
           "#ed7102",
           "#17365c",
           "#b61e3e",
           "#8c8751",
           "#b61e3e",
           "#8dae10",
           "#c1baa3",
           "#8dae10",
           "#8c8751",
           "#8c8751",
           "#b61e3e",
           "#b61e3e",
           "#b61e3e",
           "#8c8751",
           "#b61e3e",
           "#ed7102",
           "#8c8751",
           "#ed7102",
           "#ed7102",
           "#b61e3e",
           "#8dae10",
           "#ed7102",
           "#8c8751",
           "#8c8751",
           "#8c8751",
           "#8c8751",
           "#c1baa3",
           "#8c8751",
           "#8c8751",
           "#8dae10",
           "#17365c",
           "#17365c",
           "#8c8751",
           "#8c8751",
           "#8c8751",
           "#b61e3e",
           "#8dae10",
           "#b61e3e",
           "#8c8751",
           "#17365c",
           "#17365c",
           "#8c8751",
           "#8c8751",
           "#8dae10",
           "#8c8751",
           "#8c8751",
           "#8dae10",
           "#8c8751",
           "#b61e3e",
           "#b61e3e",
           "#b61e3e",
           "#8c8751",
           "#17365c",
           "#ed7102",
           "#8c8751",
           "#8c8751",
           "#8c8751",
           "#8c8751",
           "#b61e3e",
           "#8c8751",
           "#c1baa3",
           "#8c8751",
           "#8c8751",
           "#ed7102",
           "#8dae10",
           "#8c8751",
           "#8dae10",
           "#8c8751",
           "#ed7102",
           "#ed7102",
           "#8dae10",
           "#8dae10",
           "#b61e3e",
           "#8c8751",
           "#8c8751",
           "#8dae10",
           "#8c8751",
           "#8c8751",
           "#8dae10",
           "#b61e3e",
           "#8c8751",
           "#ed7102",
           "#ed7102",
           "#c1baa3",
           "#b61e3e",
           "#b61e3e",
           "#b61e3e",
           "#8dae10",
           "#17365c",
           "#17365c",
           "#8c8751",
           "#b61e3e",
           "#8dae10",
           "#8c8751",
           "#c1baa3",
           "#b61e3e",
           "#17365c",
           "#ed7102"
          ],
          "cornerradius": 5
         },
         "name": "",
         "parents": [
          "DH Grundlagen/Einführung DH",
          "DH Grundlagen/Einführung DH",
          "DH Grundlagen/Einführung DH",
          "DH Methoden & Tools/Methoden",
          "DH Methoden & Tools/Digitale Editionen",
          "DH Methoden & Tools/Digitale Editionen",
          "Statistik für DH/Statistik Fortgeschritten",
          "Programmieren für DH/Python Grundlagen",
          "Programmieren für DH/R",
          "DH Grundlagen/Einführung DH",
          "DH Grundlagen/Einführung DH",
          "DH Grundlagen/Rechtliches",
          "Programmieren für DH/R",
          "DH Projekt/Projekt",
          "Programmieren für DH/R",
          "Statistik für DH/Statistik Fortgeschritten",
          "Umgang mit dem PC/PC Grundlagen",
          "Umgang mit dem PC/PC Grundlagen",
          "Programmieren für DH/Python Grundlagen",
          "Umgang mit dem PC/PC Grundlagen",
          "DH Methoden & Tools/Tools",
          "Programmieren für DH/Python Grundlagen",
          "DH Methoden & Tools/Tools",
          "DH Projekt/Projekt",
          "Umgang mit dem PC/PC Fortgeschritten",
          "Statistik für DH/Statistik Grundlagen",
          "Umgang mit dem PC/PC Fortgeschritten",
          "Umgang mit dem PC/PC Grundlagen",
          "Statistik für DH/Statistik Grundlagen",
          "Programmieren für DH/Python Fortgeschritten",
          "DH Methoden & Tools/Tools",
          "Programmieren für DH/Python Fortgeschritten",
          "DH Grundlagen/Einführung DH",
          "DH Projekt/Projekt",
          "DH Grundlagen/Einführung DH",
          "DH Methoden & Tools/Tools",
          "DH Methoden & Tools/Methoden",
          "Programmieren für DH/Web",
          "Programmieren für DH/Web",
          "Programmieren für DH/Web",
          "DH Methoden & Tools/Nicht-Text-Daten",
          "Programmieren für DH/R",
          "Umgang mit dem PC/PC Grundlagen",
          "DH Methoden & Tools/Tools",
          "Umgang mit dem PC/PC Fortgeschritten",
          "Umgang mit dem PC/PC Fortgeschritten",
          "Programmieren für DH/Misc",
          "DH Grundlagen/Rechtliches",
          "Umgang mit dem PC/PC Fortgeschritten",
          "DH Methoden & Tools/Tools",
          "DH Methoden & Tools/KI",
          "DH Methoden & Tools/Methoden",
          "DH Methoden & Tools/KI",
          "DH Projekt/Projekt",
          "DH Methoden & Tools/Tools",
          "DH Methoden & Tools/Methoden",
          "DH Grundlagen/Einführung DH",
          "Statistik für DH/Statistik Fortgeschritten",
          "Statistik für DH/Statistik Grundlagen",
          "DH Methoden & Tools/Datenbanken",
          "DH Methoden & Tools/Datenbanken",
          "DH Methoden & Tools/Methoden",
          "Programmieren für DH/Python Grundlagen",
          "DH Grundlagen/Misc",
          "Programmieren für DH/Misc",
          "DH Methoden & Tools/Tools",
          "Statistik für DH/Statistik Fortgeschritten",
          "Statistik für DH/Statistik Fortgeschritten",
          "DH Methoden & Tools/Methoden",
          "DH Methoden & Tools/Methoden",
          "DH Grundlagen/Einführung DH",
          "DH Methoden & Tools/Datenbanken",
          "DH Methoden & Tools/Datenbanken",
          "DH Grundlagen/Rechtliches",
          "DH Methoden & Tools/Methoden",
          "Programmieren für DH/R",
          "Programmieren für DH/Python Grundlagen",
          "Programmieren für DH/Python Fortgeschritten",
          "DH Methoden & Tools/Methoden",
          "Statistik für DH/Statistik Grundlagen",
          "Umgang mit dem PC/PC Fortgeschritten",
          "DH Methoden & Tools/KI",
          "DH Methoden & Tools/KI",
          "DH Methoden & Tools/Tools",
          "DH Methoden & Tools/Methoden",
          "Programmieren für DH/Python Grundlagen",
          "DH Methoden & Tools/KI",
          "DH Projekt/Projekt",
          "DH Methoden & Tools/Nicht-Text-Daten",
          "DH Methoden & Tools/Nicht-Text-Daten",
          "Umgang mit dem PC/PC Fortgeschritten",
          "DH Grundlagen/Einführung DH",
          "DH Methoden & Tools/Nicht-Text-Daten",
          "DH Grundlagen/Einführung DH",
          "DH Methoden & Tools/Nicht-Text-Daten",
          "Umgang mit dem PC/PC Grundlagen",
          "Umgang mit dem PC/PC Fortgeschritten",
          "DH Grundlagen/Einführung DH",
          "DH Grundlagen/Einführung DH",
          "Programmieren für DH/Python Grundlagen",
          "DH Methoden & Tools",
          "DH Methoden & Tools",
          "DH Grundlagen",
          "DH Methoden & Tools",
          "DH Methoden & Tools",
          "DH Grundlagen",
          "Programmieren für DH",
          "DH Methoden & Tools",
          "Umgang mit dem PC",
          "Umgang mit dem PC",
          "DH Projekt",
          "Programmieren für DH",
          "Programmieren für DH",
          "Programmieren für DH",
          "DH Grundlagen",
          "Statistik für DH",
          "Statistik für DH",
          "DH Methoden & Tools",
          "Programmieren für DH",
          "",
          "",
          "",
          "",
          "",
          ""
         ],
         "type": "treemap",
         "values": [
          2,
          3,
          2,
          2,
          3,
          3,
          1,
          3,
          3,
          3,
          3,
          2,
          3,
          3,
          3,
          1,
          3,
          3,
          3,
          3,
          2,
          3,
          1,
          3,
          2,
          3,
          2,
          3,
          3,
          3,
          1,
          3,
          3,
          3,
          3,
          3,
          2,
          1,
          1,
          2,
          2,
          3,
          3,
          2,
          2,
          1,
          1,
          2,
          1,
          1,
          1,
          3,
          3,
          3,
          2,
          2,
          3,
          2,
          3,
          2,
          2,
          2,
          3,
          2,
          1,
          2,
          2,
          2,
          2,
          1,
          3,
          1,
          1,
          2,
          2,
          3,
          3,
          3,
          3,
          3,
          2,
          1,
          1,
          1,
          1,
          3,
          2,
          3,
          2,
          1,
          1,
          3,
          2,
          3,
          1,
          3,
          2,
          3,
          3,
          3,
          6,
          6,
          37,
          8,
          20,
          2,
          2,
          8,
          13,
          18,
          15,
          9,
          21,
          15,
          6,
          8,
          12,
          15,
          4,
          45,
          63,
          15,
          51,
          20,
          31
         ]
        }
       ],
       "layout": {
        "font": {
         "color": "Black",
         "size": 15
        },
        "legend": {
         "tracegroupgap": 0
        },
        "margin": {
         "b": 25,
         "l": 25,
         "r": 25,
         "t": 25
        },
        "template": {
         "data": {
          "bar": [
           {
            "error_x": {
             "color": "#2a3f5f"
            },
            "error_y": {
             "color": "#2a3f5f"
            },
            "marker": {
             "line": {
              "color": "#E5ECF6",
              "width": 0.5
             },
             "pattern": {
              "fillmode": "overlay",
              "size": 10,
              "solidity": 0.2
             }
            },
            "type": "bar"
           }
          ],
          "barpolar": [
           {
            "marker": {
             "line": {
              "color": "#E5ECF6",
              "width": 0.5
             },
             "pattern": {
              "fillmode": "overlay",
              "size": 10,
              "solidity": 0.2
             }
            },
            "type": "barpolar"
           }
          ],
          "carpet": [
           {
            "aaxis": {
             "endlinecolor": "#2a3f5f",
             "gridcolor": "white",
             "linecolor": "white",
             "minorgridcolor": "white",
             "startlinecolor": "#2a3f5f"
            },
            "baxis": {
             "endlinecolor": "#2a3f5f",
             "gridcolor": "white",
             "linecolor": "white",
             "minorgridcolor": "white",
             "startlinecolor": "#2a3f5f"
            },
            "type": "carpet"
           }
          ],
          "choropleth": [
           {
            "colorbar": {
             "outlinewidth": 0,
             "ticks": ""
            },
            "type": "choropleth"
           }
          ],
          "contour": [
           {
            "colorbar": {
             "outlinewidth": 0,
             "ticks": ""
            },
            "colorscale": [
             [
              0,
              "#0d0887"
             ],
             [
              0.1111111111111111,
              "#46039f"
             ],
             [
              0.2222222222222222,
              "#7201a8"
             ],
             [
              0.3333333333333333,
              "#9c179e"
             ],
             [
              0.4444444444444444,
              "#bd3786"
             ],
             [
              0.5555555555555556,
              "#d8576b"
             ],
             [
              0.6666666666666666,
              "#ed7953"
             ],
             [
              0.7777777777777778,
              "#fb9f3a"
             ],
             [
              0.8888888888888888,
              "#fdca26"
             ],
             [
              1,
              "#f0f921"
             ]
            ],
            "type": "contour"
           }
          ],
          "contourcarpet": [
           {
            "colorbar": {
             "outlinewidth": 0,
             "ticks": ""
            },
            "type": "contourcarpet"
           }
          ],
          "heatmap": [
           {
            "colorbar": {
             "outlinewidth": 0,
             "ticks": ""
            },
            "colorscale": [
             [
              0,
              "#0d0887"
             ],
             [
              0.1111111111111111,
              "#46039f"
             ],
             [
              0.2222222222222222,
              "#7201a8"
             ],
             [
              0.3333333333333333,
              "#9c179e"
             ],
             [
              0.4444444444444444,
              "#bd3786"
             ],
             [
              0.5555555555555556,
              "#d8576b"
             ],
             [
              0.6666666666666666,
              "#ed7953"
             ],
             [
              0.7777777777777778,
              "#fb9f3a"
             ],
             [
              0.8888888888888888,
              "#fdca26"
             ],
             [
              1,
              "#f0f921"
             ]
            ],
            "type": "heatmap"
           }
          ],
          "heatmapgl": [
           {
            "colorbar": {
             "outlinewidth": 0,
             "ticks": ""
            },
            "colorscale": [
             [
              0,
              "#0d0887"
             ],
             [
              0.1111111111111111,
              "#46039f"
             ],
             [
              0.2222222222222222,
              "#7201a8"
             ],
             [
              0.3333333333333333,
              "#9c179e"
             ],
             [
              0.4444444444444444,
              "#bd3786"
             ],
             [
              0.5555555555555556,
              "#d8576b"
             ],
             [
              0.6666666666666666,
              "#ed7953"
             ],
             [
              0.7777777777777778,
              "#fb9f3a"
             ],
             [
              0.8888888888888888,
              "#fdca26"
             ],
             [
              1,
              "#f0f921"
             ]
            ],
            "type": "heatmapgl"
           }
          ],
          "histogram": [
           {
            "marker": {
             "pattern": {
              "fillmode": "overlay",
              "size": 10,
              "solidity": 0.2
             }
            },
            "type": "histogram"
           }
          ],
          "histogram2d": [
           {
            "colorbar": {
             "outlinewidth": 0,
             "ticks": ""
            },
            "colorscale": [
             [
              0,
              "#0d0887"
             ],
             [
              0.1111111111111111,
              "#46039f"
             ],
             [
              0.2222222222222222,
              "#7201a8"
             ],
             [
              0.3333333333333333,
              "#9c179e"
             ],
             [
              0.4444444444444444,
              "#bd3786"
             ],
             [
              0.5555555555555556,
              "#d8576b"
             ],
             [
              0.6666666666666666,
              "#ed7953"
             ],
             [
              0.7777777777777778,
              "#fb9f3a"
             ],
             [
              0.8888888888888888,
              "#fdca26"
             ],
             [
              1,
              "#f0f921"
             ]
            ],
            "type": "histogram2d"
           }
          ],
          "histogram2dcontour": [
           {
            "colorbar": {
             "outlinewidth": 0,
             "ticks": ""
            },
            "colorscale": [
             [
              0,
              "#0d0887"
             ],
             [
              0.1111111111111111,
              "#46039f"
             ],
             [
              0.2222222222222222,
              "#7201a8"
             ],
             [
              0.3333333333333333,
              "#9c179e"
             ],
             [
              0.4444444444444444,
              "#bd3786"
             ],
             [
              0.5555555555555556,
              "#d8576b"
             ],
             [
              0.6666666666666666,
              "#ed7953"
             ],
             [
              0.7777777777777778,
              "#fb9f3a"
             ],
             [
              0.8888888888888888,
              "#fdca26"
             ],
             [
              1,
              "#f0f921"
             ]
            ],
            "type": "histogram2dcontour"
           }
          ],
          "mesh3d": [
           {
            "colorbar": {
             "outlinewidth": 0,
             "ticks": ""
            },
            "type": "mesh3d"
           }
          ],
          "parcoords": [
           {
            "line": {
             "colorbar": {
              "outlinewidth": 0,
              "ticks": ""
             }
            },
            "type": "parcoords"
           }
          ],
          "pie": [
           {
            "automargin": true,
            "type": "pie"
           }
          ],
          "scatter": [
           {
            "fillpattern": {
             "fillmode": "overlay",
             "size": 10,
             "solidity": 0.2
            },
            "type": "scatter"
           }
          ],
          "scatter3d": [
           {
            "line": {
             "colorbar": {
              "outlinewidth": 0,
              "ticks": ""
             }
            },
            "marker": {
             "colorbar": {
              "outlinewidth": 0,
              "ticks": ""
             }
            },
            "type": "scatter3d"
           }
          ],
          "scattercarpet": [
           {
            "marker": {
             "colorbar": {
              "outlinewidth": 0,
              "ticks": ""
             }
            },
            "type": "scattercarpet"
           }
          ],
          "scattergeo": [
           {
            "marker": {
             "colorbar": {
              "outlinewidth": 0,
              "ticks": ""
             }
            },
            "type": "scattergeo"
           }
          ],
          "scattergl": [
           {
            "marker": {
             "colorbar": {
              "outlinewidth": 0,
              "ticks": ""
             }
            },
            "type": "scattergl"
           }
          ],
          "scattermapbox": [
           {
            "marker": {
             "colorbar": {
              "outlinewidth": 0,
              "ticks": ""
             }
            },
            "type": "scattermapbox"
           }
          ],
          "scatterpolar": [
           {
            "marker": {
             "colorbar": {
              "outlinewidth": 0,
              "ticks": ""
             }
            },
            "type": "scatterpolar"
           }
          ],
          "scatterpolargl": [
           {
            "marker": {
             "colorbar": {
              "outlinewidth": 0,
              "ticks": ""
             }
            },
            "type": "scatterpolargl"
           }
          ],
          "scatterternary": [
           {
            "marker": {
             "colorbar": {
              "outlinewidth": 0,
              "ticks": ""
             }
            },
            "type": "scatterternary"
           }
          ],
          "surface": [
           {
            "colorbar": {
             "outlinewidth": 0,
             "ticks": ""
            },
            "colorscale": [
             [
              0,
              "#0d0887"
             ],
             [
              0.1111111111111111,
              "#46039f"
             ],
             [
              0.2222222222222222,
              "#7201a8"
             ],
             [
              0.3333333333333333,
              "#9c179e"
             ],
             [
              0.4444444444444444,
              "#bd3786"
             ],
             [
              0.5555555555555556,
              "#d8576b"
             ],
             [
              0.6666666666666666,
              "#ed7953"
             ],
             [
              0.7777777777777778,
              "#fb9f3a"
             ],
             [
              0.8888888888888888,
              "#fdca26"
             ],
             [
              1,
              "#f0f921"
             ]
            ],
            "type": "surface"
           }
          ],
          "table": [
           {
            "cells": {
             "fill": {
              "color": "#EBF0F8"
             },
             "line": {
              "color": "white"
             }
            },
            "header": {
             "fill": {
              "color": "#C8D4E3"
             },
             "line": {
              "color": "white"
             }
            },
            "type": "table"
           }
          ]
         },
         "layout": {
          "annotationdefaults": {
           "arrowcolor": "#2a3f5f",
           "arrowhead": 0,
           "arrowwidth": 1
          },
          "autotypenumbers": "strict",
          "coloraxis": {
           "colorbar": {
            "outlinewidth": 0,
            "ticks": ""
           }
          },
          "colorscale": {
           "diverging": [
            [
             0,
             "#8e0152"
            ],
            [
             0.1,
             "#c51b7d"
            ],
            [
             0.2,
             "#de77ae"
            ],
            [
             0.3,
             "#f1b6da"
            ],
            [
             0.4,
             "#fde0ef"
            ],
            [
             0.5,
             "#f7f7f7"
            ],
            [
             0.6,
             "#e6f5d0"
            ],
            [
             0.7,
             "#b8e186"
            ],
            [
             0.8,
             "#7fbc41"
            ],
            [
             0.9,
             "#4d9221"
            ],
            [
             1,
             "#276419"
            ]
           ],
           "sequential": [
            [
             0,
             "#0d0887"
            ],
            [
             0.1111111111111111,
             "#46039f"
            ],
            [
             0.2222222222222222,
             "#7201a8"
            ],
            [
             0.3333333333333333,
             "#9c179e"
            ],
            [
             0.4444444444444444,
             "#bd3786"
            ],
            [
             0.5555555555555556,
             "#d8576b"
            ],
            [
             0.6666666666666666,
             "#ed7953"
            ],
            [
             0.7777777777777778,
             "#fb9f3a"
            ],
            [
             0.8888888888888888,
             "#fdca26"
            ],
            [
             1,
             "#f0f921"
            ]
           ],
           "sequentialminus": [
            [
             0,
             "#0d0887"
            ],
            [
             0.1111111111111111,
             "#46039f"
            ],
            [
             0.2222222222222222,
             "#7201a8"
            ],
            [
             0.3333333333333333,
             "#9c179e"
            ],
            [
             0.4444444444444444,
             "#bd3786"
            ],
            [
             0.5555555555555556,
             "#d8576b"
            ],
            [
             0.6666666666666666,
             "#ed7953"
            ],
            [
             0.7777777777777778,
             "#fb9f3a"
            ],
            [
             0.8888888888888888,
             "#fdca26"
            ],
            [
             1,
             "#f0f921"
            ]
           ]
          },
          "colorway": [
           "#636efa",
           "#EF553B",
           "#00cc96",
           "#ab63fa",
           "#FFA15A",
           "#19d3f3",
           "#FF6692",
           "#B6E880",
           "#FF97FF",
           "#FECB52"
          ],
          "font": {
           "color": "#2a3f5f"
          },
          "geo": {
           "bgcolor": "white",
           "lakecolor": "white",
           "landcolor": "#E5ECF6",
           "showlakes": true,
           "showland": true,
           "subunitcolor": "white"
          },
          "hoverlabel": {
           "align": "left"
          },
          "hovermode": "closest",
          "mapbox": {
           "style": "light"
          },
          "paper_bgcolor": "white",
          "plot_bgcolor": "#E5ECF6",
          "polar": {
           "angularaxis": {
            "gridcolor": "white",
            "linecolor": "white",
            "ticks": ""
           },
           "bgcolor": "#E5ECF6",
           "radialaxis": {
            "gridcolor": "white",
            "linecolor": "white",
            "ticks": ""
           }
          },
          "scene": {
           "xaxis": {
            "backgroundcolor": "#E5ECF6",
            "gridcolor": "white",
            "gridwidth": 2,
            "linecolor": "white",
            "showbackground": true,
            "ticks": "",
            "zerolinecolor": "white"
           },
           "yaxis": {
            "backgroundcolor": "#E5ECF6",
            "gridcolor": "white",
            "gridwidth": 2,
            "linecolor": "white",
            "showbackground": true,
            "ticks": "",
            "zerolinecolor": "white"
           },
           "zaxis": {
            "backgroundcolor": "#E5ECF6",
            "gridcolor": "white",
            "gridwidth": 2,
            "linecolor": "white",
            "showbackground": true,
            "ticks": "",
            "zerolinecolor": "white"
           }
          },
          "shapedefaults": {
           "line": {
            "color": "#2a3f5f"
           }
          },
          "ternary": {
           "aaxis": {
            "gridcolor": "white",
            "linecolor": "white",
            "ticks": ""
           },
           "baxis": {
            "gridcolor": "white",
            "linecolor": "white",
            "ticks": ""
           },
           "bgcolor": "#E5ECF6",
           "caxis": {
            "gridcolor": "white",
            "linecolor": "white",
            "ticks": ""
           }
          },
          "title": {
           "x": 0.05
          },
          "xaxis": {
           "automargin": true,
           "gridcolor": "white",
           "linecolor": "white",
           "ticks": "",
           "title": {
            "standoff": 15
           },
           "zerolinecolor": "white",
           "zerolinewidth": 2
          },
          "yaxis": {
           "automargin": true,
           "gridcolor": "white",
           "linecolor": "white",
           "ticks": "",
           "title": {
            "standoff": 15
           },
           "zerolinecolor": "white",
           "zerolinewidth": 2
          }
         }
        },
        "title": {
         "text": "Schlüsselkompetenzen Zertifikat \"Digital Humanities\"",
         "x": 0.5,
         "xanchor": "center",
         "y": 0.98,
         "yanchor": "top"
        },
        "treemapcolorway": [
         "#ed7102",
         "#ed7102",
         "#ed7102",
         "#ed7102",
         "#ed7102",
         "#ed7102",
         "#ed7102",
         "#ed7102",
         "#ed7102",
         "#ed7102",
         "#ed7102",
         "#ed7102",
         "#ed7102",
         "#ed7102",
         "#8dae10",
         "#8dae10",
         "#8dae10",
         "#8dae10",
         "#8dae10",
         "#8dae10",
         "#8dae10",
         "#8dae10",
         "#8dae10",
         "#8dae10",
         "#8dae10",
         "#8dae10",
         "#8dae10",
         "#8dae10",
         "#8dae10",
         "#8dae10",
         "#8dae10",
         "#b61e3e",
         "#b61e3e",
         "#b61e3e",
         "#b61e3e",
         "#b61e3e",
         "#b61e3e",
         "#b61e3e",
         "#b61e3e",
         "#b61e3e",
         "#b61e3e",
         "#b61e3e",
         "#b61e3e",
         "#b61e3e",
         "#b61e3e",
         "#b61e3e",
         "#b61e3e",
         "#b61e3e",
         "#b61e3e",
         "#b61e3e",
         "#b61e3e",
         "#17365c",
         "#17365c",
         "#17365c",
         "#17365c",
         "#17365c",
         "#17365c",
         "#17365c",
         "#17365c",
         "#17365c",
         "#8c8751",
         "#8c8751",
         "#8c8751",
         "#8c8751",
         "#8c8751",
         "#8c8751",
         "#8c8751",
         "#8c8751",
         "#8c8751",
         "#8c8751",
         "#8c8751",
         "#8c8751",
         "#8c8751",
         "#8c8751",
         "#8c8751",
         "#8c8751",
         "#8c8751",
         "#8c8751",
         "#8c8751",
         "#8c8751",
         "#8c8751",
         "#8c8751",
         "#8c8751",
         "#8c8751",
         "#8c8751",
         "#8c8751",
         "#8c8751",
         "#8c8751",
         "#8c8751",
         "#8c8751",
         "#8c8751",
         "#8c8751",
         "#8c8751",
         "#8c8751",
         "#8c8751",
         "#c1baa3",
         "#c1baa3",
         "#c1baa3",
         "#c1baa3",
         "#c1baa3"
        ]
       }
      }
     },
     "metadata": {},
     "output_type": "display_data"
    }
   ],
   "source": [
    "import plotly.express as px\n",
    "\n",
    "fig = px.treemap(df, path=[\n",
    "    # px.Constant('Schlüsselkompetenzen Zertifikat \"Digital Humanities\"'),\n",
    "    # 'Modul',\n",
    "    'Bereich',\n",
    "    'Unterbereich',\n",
    "    'AS'\n",
    "],\n",
    "    values='Prio_',\n",
    "    # hover_data=['Zeitaufwand'],\n",
    "    # color=df['color'],\n",
    "    # color_discrete_map={key: RUB_palette[bereich_colors[key]] for key in bereich_colors.keys()}\n",
    "    # color_discrete_map={key: RUB_palette[bereich_colors[key]] for key in bereich_colors.keys()}\n",
    "    color='Bereich',\n",
    "    color_discrete_sequence=df['color'],\n",
    "    color_discrete_map=dict(zip(df['Bereich'], df['color']))\n",
    ")\n",
    "fig.update_traces(marker=dict(cornerradius=5))\n",
    "fig.update_layout(margin=dict(t=25, l=25, r=25, b=25))\n",
    "fig.update_traces(hovertemplate='%{label}')\n",
    "fig.update_layout(\n",
    "    title={\n",
    "    'text': 'Schlüsselkompetenzen Zertifikat \"Digital Humanities\"',  # Set your headline text here\n",
    "    'y':0.98,  # Position the title slightly below the top edge\n",
    "    'x':0.5,   # Center-align the title\n",
    "    'xanchor': 'center',\n",
    "    'yanchor': 'top'\n",
    "    },\n",
    "    # template='seaborn',\n",
    "    font=dict(\n",
    "        # family=\"Courier New, monospace\",\n",
    "        size=15,  # Set the font size here\n",
    "        color=\"Black\"\n",
    "    )\n",
    ")\n",
    "fig.show()\n",
    "fig.write_html(\"AS_Bereiche.html\",  include_plotlyjs='cdn')\n",
    "fig.write_image(f\"img/AS_Bereiche.svg\")"
   ]
  },
  {
   "cell_type": "markdown",
   "metadata": {},
   "source": [
    "## Nach Workshop-Priorisierung"
   ]
  },
  {
   "cell_type": "code",
   "execution_count": 117,
   "metadata": {},
   "outputs": [
    {
     "data": {
      "text/plain": [
       "Index(['Status', 'Atomic Skills', 'tmp', 'Unterbereich', 'Bereich', 'Prio',\n",
       "       'Punkteanzahl BA', 'Punkteanzahl MA', 'Punkte gesamt',\n",
       "       'Punkte gewichtet', 'Zeitaufwand', 'Framework', 'Zertifikat', 'Modul',\n",
       "       'Modul_Option2', 'Lernzieltyp', 'Lernziel_konkret',\n",
       "       'Ridsdale DL Framework Key Ability', 'Ridsdale DL Framework Competency',\n",
       "       'RUB_Angebot', 'UA_Ruhr_Angebot', 'Kommentare', 'AS', 'Prio_', 'color'],\n",
       "      dtype='object')"
      ]
     },
     "execution_count": 117,
     "metadata": {},
     "output_type": "execute_result"
    }
   ],
   "source": [
    "df.keys()"
   ]
  },
  {
   "cell_type": "code",
   "execution_count": 120,
   "metadata": {},
   "outputs": [
    {
     "data": {
      "application/vnd.plotly.v1+json": {
       "config": {
        "plotlyServerURL": "https://plot.ly"
       },
       "data": [
        {
         "branchvalues": "total",
         "customdata": [
          [
           "Abstimmungsergebnisse<br>B.A.: 0<br>M.A.: 1",
           "DH Grundlagen"
          ],
          [
           "Abstimmungsergebnisse<br>B.A.: 2<br>M.A.: 2",
           "DH Grundlagen"
          ],
          [
           "Abstimmungsergebnisse<br>B.A.: 0<br>M.A.: 1",
           "DH Grundlagen"
          ],
          [
           "Abstimmungsergebnisse<br>B.A.: 0<br>M.A.: 0",
           "DH Methoden & Tools"
          ],
          [
           "Abstimmungsergebnisse<br>B.A.: 0<br>M.A.: 5",
           "DH Methoden & Tools"
          ],
          [
           "Abstimmungsergebnisse<br>B.A.: 0<br>M.A.: 4",
           "DH Methoden & Tools"
          ],
          [
           "Abstimmungsergebnisse<br>B.A.: 0<br>M.A.: 3",
           "Statistik für DH"
          ],
          [
           "Abstimmungsergebnisse<br>B.A.: 1<br>M.A.: 0",
           "Programmieren für DH"
          ],
          [
           "Abstimmungsergebnisse<br>B.A.: 2<br>M.A.: 0",
           "Programmieren für DH"
          ],
          [
           "Abstimmungsergebnisse<br>B.A.: 2<br>M.A.: 3",
           "DH Grundlagen"
          ],
          [
           "Abstimmungsergebnisse<br>B.A.: 2<br>M.A.: 0",
           "DH Grundlagen"
          ],
          [
           "Abstimmungsergebnisse<br>B.A.: 3<br>M.A.: 3",
           "DH Grundlagen"
          ],
          [
           "Abstimmungsergebnisse<br>B.A.: 4<br>M.A.: 0",
           "Programmieren für DH"
          ],
          [
           "Abstimmungsergebnisse<br>B.A.: 1<br>M.A.: 3",
           "DH Projekt"
          ],
          [
           "Abstimmungsergebnisse<br>B.A.: 1<br>M.A.: 2",
           "Programmieren für DH"
          ],
          [
           "Abstimmungsergebnisse<br>B.A.: 0<br>M.A.: 8",
           "Statistik für DH"
          ],
          [
           "Abstimmungsergebnisse<br>B.A.: 7<br>M.A.: 0",
           "Umgang mit dem PC"
          ],
          [
           "Abstimmungsergebnisse<br>B.A.: 2<br>M.A.: 0",
           "Umgang mit dem PC"
          ],
          [
           "Abstimmungsergebnisse<br>B.A.: 0<br>M.A.: 0",
           "Programmieren für DH"
          ],
          [
           "Abstimmungsergebnisse<br>B.A.: 1<br>M.A.: 0",
           "Umgang mit dem PC"
          ],
          [
           "Abstimmungsergebnisse<br>B.A.: 1<br>M.A.: 1",
           "DH Methoden & Tools"
          ],
          [
           "Abstimmungsergebnisse<br>B.A.: 3<br>M.A.: 1",
           "Programmieren für DH"
          ],
          [
           "Abstimmungsergebnisse<br>B.A.: 0<br>M.A.: 0",
           "DH Methoden & Tools"
          ],
          [
           "Abstimmungsergebnisse<br>B.A.: 4<br>M.A.: 4",
           "DH Projekt"
          ],
          [
           "Abstimmungsergebnisse<br>B.A.: 1<br>M.A.: 0",
           "Umgang mit dem PC"
          ],
          [
           "Abstimmungsergebnisse<br>B.A.: 0<br>M.A.: 2",
           "Statistik für DH"
          ],
          [
           "Abstimmungsergebnisse<br>B.A.: 0<br>M.A.: 0",
           "Umgang mit dem PC"
          ],
          [
           "Abstimmungsergebnisse<br>B.A.: 1<br>M.A.: 1",
           "Umgang mit dem PC"
          ],
          [
           "Abstimmungsergebnisse<br>B.A.: 1<br>M.A.: 0",
           "Statistik für DH"
          ],
          [
           "Abstimmungsergebnisse<br>B.A.: 0<br>M.A.: 0",
           "Programmieren für DH"
          ],
          [
           "Abstimmungsergebnisse<br>B.A.: 0<br>M.A.: 0",
           "DH Methoden & Tools"
          ],
          [
           "Abstimmungsergebnisse<br>B.A.: 0<br>M.A.: 1",
           "Programmieren für DH"
          ],
          [
           "Abstimmungsergebnisse<br>B.A.: 0<br>M.A.: 1",
           "DH Grundlagen"
          ],
          [
           "Abstimmungsergebnisse<br>B.A.: 3<br>M.A.: 2",
           "DH Projekt"
          ],
          [
           "Abstimmungsergebnisse<br>B.A.: 3<br>M.A.: 0",
           "DH Grundlagen"
          ],
          [
           "Abstimmungsergebnisse<br>B.A.: 0<br>M.A.: 1",
           "DH Methoden & Tools"
          ],
          [
           "Abstimmungsergebnisse<br>B.A.: 1<br>M.A.: 2",
           "DH Methoden & Tools"
          ],
          [
           "Abstimmungsergebnisse<br>B.A.: 2<br>M.A.: 2",
           "Programmieren für DH"
          ],
          [
           "Abstimmungsergebnisse<br>B.A.: 0<br>M.A.: 0",
           "Programmieren für DH"
          ],
          [
           "Abstimmungsergebnisse<br>B.A.: 0<br>M.A.: 0",
           "Programmieren für DH"
          ],
          [
           "Abstimmungsergebnisse<br>B.A.: 1<br>M.A.: 0",
           "DH Methoden & Tools"
          ],
          [
           "Abstimmungsergebnisse<br>B.A.: 1<br>M.A.: 1",
           "Programmieren für DH"
          ],
          [
           "Abstimmungsergebnisse<br>B.A.: 3<br>M.A.: 0",
           "Umgang mit dem PC"
          ],
          [
           "Abstimmungsergebnisse<br>B.A.: 0<br>M.A.: 0",
           "DH Methoden & Tools"
          ],
          [
           "Abstimmungsergebnisse<br>B.A.: 2<br>M.A.: 2",
           "Umgang mit dem PC"
          ],
          [
           "Abstimmungsergebnisse<br>B.A.: 0<br>M.A.: 0",
           "Umgang mit dem PC"
          ],
          [
           "Abstimmungsergebnisse<br>B.A.: 0<br>M.A.: 0",
           "Programmieren für DH"
          ],
          [
           "Abstimmungsergebnisse<br>B.A.: 0<br>M.A.: 3",
           "DH Grundlagen"
          ],
          [
           "Abstimmungsergebnisse<br>B.A.: 2<br>M.A.: 0",
           "Umgang mit dem PC"
          ],
          [
           "Abstimmungsergebnisse<br>B.A.: 0<br>M.A.: 0",
           "DH Methoden & Tools"
          ],
          [
           "Abstimmungsergebnisse<br>B.A.: 0<br>M.A.: 1",
           "DH Methoden & Tools"
          ],
          [
           "Abstimmungsergebnisse<br>B.A.: 0<br>M.A.: 1",
           "DH Methoden & Tools"
          ],
          [
           "Abstimmungsergebnisse<br>B.A.: 1<br>M.A.: 3",
           "DH Methoden & Tools"
          ],
          [
           "Abstimmungsergebnisse<br>B.A.: 3<br>M.A.: 3",
           "DH Projekt"
          ],
          [
           "Abstimmungsergebnisse<br>B.A.: 0<br>M.A.: 0",
           "DH Methoden & Tools"
          ],
          [
           "Abstimmungsergebnisse<br>B.A.: 2<br>M.A.: 0",
           "DH Methoden & Tools"
          ],
          [
           "Abstimmungsergebnisse<br>B.A.: 2<br>M.A.: 0",
           "DH Grundlagen"
          ],
          [
           "Abstimmungsergebnisse<br>B.A.: 0<br>M.A.: 1",
           "Statistik für DH"
          ],
          [
           "Abstimmungsergebnisse<br>B.A.: 5<br>M.A.: 0",
           "Statistik für DH"
          ],
          [
           "Abstimmungsergebnisse<br>B.A.: 2<br>M.A.: 2",
           "DH Methoden & Tools"
          ],
          [
           "Abstimmungsergebnisse<br>B.A.: 0<br>M.A.: 1",
           "DH Methoden & Tools"
          ],
          [
           "Abstimmungsergebnisse<br>B.A.: 2<br>M.A.: 0",
           "DH Methoden & Tools"
          ],
          [
           "Abstimmungsergebnisse<br>B.A.: 2<br>M.A.: 0",
           "Programmieren für DH"
          ],
          [
           "Abstimmungsergebnisse<br>B.A.: 1<br>M.A.: 0",
           "DH Grundlagen"
          ],
          [
           "Abstimmungsergebnisse<br>B.A.: 0<br>M.A.: 0",
           "Programmieren für DH"
          ],
          [
           "Abstimmungsergebnisse<br>B.A.: 0<br>M.A.: 1",
           "DH Methoden & Tools"
          ],
          [
           "Abstimmungsergebnisse<br>B.A.: 0<br>M.A.: 1",
           "Statistik für DH"
          ],
          [
           "Abstimmungsergebnisse<br>B.A.: 0<br>M.A.: 0",
           "Statistik für DH"
          ],
          [
           "Abstimmungsergebnisse<br>B.A.: 0<br>M.A.: 0",
           "DH Methoden & Tools"
          ],
          [
           "Abstimmungsergebnisse<br>B.A.: 0<br>M.A.: 0",
           "DH Methoden & Tools"
          ],
          [
           "Abstimmungsergebnisse<br>B.A.: 0<br>M.A.: 0",
           "DH Grundlagen"
          ],
          [
           "Abstimmungsergebnisse<br>B.A.: 0<br>M.A.: 0",
           "DH Methoden & Tools"
          ],
          [
           "Abstimmungsergebnisse<br>B.A.: 0<br>M.A.: 1",
           "DH Methoden & Tools"
          ],
          [
           "Abstimmungsergebnisse<br>B.A.: 0<br>M.A.: 3",
           "DH Grundlagen"
          ],
          [
           "Abstimmungsergebnisse<br>B.A.: 0<br>M.A.: 1",
           "DH Methoden & Tools"
          ],
          [
           "Abstimmungsergebnisse<br>B.A.: 2<br>M.A.: 0",
           "Programmieren für DH"
          ],
          [
           "Abstimmungsergebnisse<br>B.A.: 5<br>M.A.: 1",
           "Programmieren für DH"
          ],
          [
           "Abstimmungsergebnisse<br>B.A.: 0<br>M.A.: 1",
           "Programmieren für DH"
          ],
          [
           "Abstimmungsergebnisse<br>B.A.: 0<br>M.A.: 0",
           "DH Methoden & Tools"
          ],
          [
           "Abstimmungsergebnisse<br>B.A.: 2<br>M.A.: 2",
           "Statistik für DH"
          ],
          [
           "Abstimmungsergebnisse<br>B.A.: 0<br>M.A.: 3",
           "Umgang mit dem PC"
          ],
          [
           "Abstimmungsergebnisse<br>B.A.: 0<br>M.A.: 3",
           "DH Methoden & Tools"
          ],
          [
           "Abstimmungsergebnisse<br>B.A.: 0<br>M.A.: 0",
           "DH Methoden & Tools"
          ],
          [
           "Abstimmungsergebnisse<br>B.A.: 0<br>M.A.: 3",
           "DH Methoden & Tools"
          ],
          [
           "Abstimmungsergebnisse<br>B.A.: 0<br>M.A.: 4",
           "DH Methoden & Tools"
          ],
          [
           "Abstimmungsergebnisse<br>B.A.: 1<br>M.A.: 9",
           "Programmieren für DH"
          ],
          [
           "Abstimmungsergebnisse<br>B.A.: 0<br>M.A.: 2",
           "DH Methoden & Tools"
          ],
          [
           "Abstimmungsergebnisse<br>B.A.: 4<br>M.A.: 4",
           "DH Projekt"
          ],
          [
           "Abstimmungsergebnisse<br>B.A.: 0<br>M.A.: 0",
           "DH Methoden & Tools"
          ],
          [
           "Abstimmungsergebnisse<br>B.A.: 0<br>M.A.: 0",
           "DH Methoden & Tools"
          ],
          [
           "Abstimmungsergebnisse<br>B.A.: 0<br>M.A.: 0",
           "Umgang mit dem PC"
          ],
          [
           "Abstimmungsergebnisse<br>B.A.: 0<br>M.A.: 0",
           "DH Grundlagen"
          ],
          [
           "Abstimmungsergebnisse<br>B.A.: 0<br>M.A.: 0",
           "DH Methoden & Tools"
          ],
          [
           "Abstimmungsergebnisse<br>B.A.: 7<br>M.A.: 0",
           "DH Grundlagen"
          ],
          [
           "Abstimmungsergebnisse<br>B.A.: 0<br>M.A.: 1",
           "DH Methoden & Tools"
          ],
          [
           "Abstimmungsergebnisse<br>B.A.: 8<br>M.A.: 0",
           "Umgang mit dem PC"
          ],
          [
           "Abstimmungsergebnisse<br>B.A.: 0<br>M.A.: 3",
           "Umgang mit dem PC"
          ],
          [
           "Abstimmungsergebnisse<br>B.A.: 7<br>M.A.: 1",
           "DH Grundlagen"
          ],
          [
           "Abstimmungsergebnisse<br>B.A.: 7<br>M.A.: 0",
           "DH Grundlagen"
          ],
          [
           "Abstimmungsergebnisse<br>B.A.: 6<br>M.A.: 0",
           "Programmieren für DH"
          ],
          [
           "(?)",
           "DH Methoden & Tools"
          ],
          [
           "(?)",
           "DH Methoden & Tools"
          ],
          [
           "(?)",
           "DH Grundlagen"
          ],
          [
           "(?)",
           "DH Methoden & Tools"
          ],
          [
           "(?)",
           "DH Methoden & Tools"
          ],
          [
           "Abstimmungsergebnisse<br>B.A.: 1<br>M.A.: 0",
           "DH Grundlagen"
          ],
          [
           "Abstimmungsergebnisse<br>B.A.: 0<br>M.A.: 0",
           "Programmieren für DH"
          ],
          [
           "(?)",
           "DH Methoden & Tools"
          ],
          [
           "(?)",
           "Umgang mit dem PC"
          ],
          [
           "(?)",
           "Umgang mit dem PC"
          ],
          [
           "(?)",
           "DH Projekt"
          ],
          [
           "(?)",
           "Programmieren für DH"
          ],
          [
           "(?)",
           "Programmieren für DH"
          ],
          [
           "(?)",
           "Programmieren für DH"
          ],
          [
           "(?)",
           "DH Grundlagen"
          ],
          [
           "(?)",
           "Statistik für DH"
          ],
          [
           "(?)",
           "Statistik für DH"
          ],
          [
           "(?)",
           "DH Methoden & Tools"
          ],
          [
           "(?)",
           "Programmieren für DH"
          ],
          [
           "(?)",
           "DH Grundlagen"
          ],
          [
           "(?)",
           "DH Methoden & Tools"
          ],
          [
           "(?)",
           "DH Projekt"
          ],
          [
           "(?)",
           "Programmieren für DH"
          ],
          [
           "(?)",
           "Statistik für DH"
          ],
          [
           "(?)",
           "Umgang mit dem PC"
          ]
         ],
         "domain": {
          "x": [
           0,
           1
          ],
          "y": [
           0,
           1
          ]
         },
         "hovertemplate": "%{customdata[0]}<br><br>%{label}",
         "ids": [
          "DH Grundlagen/Einführung DH/Digitalisierung<br>- 3D Digitalisierung,<br>AR, VR (Plastiken,<br>Gebäudemodelle)",
          "DH Grundlagen/Einführung DH/Digitalisierungsverfahren<br>Bild & Text",
          "DH Grundlagen/Einführung DH/Digitalisierung<br>- Bilder als digitale<br>Daten (Raster &<br>Vektorgrafiken)",
          "DH Methoden & Tools/Methoden/Digitalisierung:<br>Frameworks (bspw.<br>IIIF)",
          "DH Methoden & Tools/Digitale Editionen/Digitale Editionen<br>erstellen",
          "DH Methoden & Tools/Digitale Editionen/Digitale Editionen<br>bearbeiten/ Maintenance",
          "Statistik für DH/Statistik Fortgeschritten/Design und Implementierung<br>statistischer Modelle",
          "Programmieren für DH/Python Grundlagen/Datenvisualisierung<br>(matplotlib, seaborn,<br>etc.)",
          "Programmieren für DH/R/Datenvisualisierung<br>(ggplot)",
          "DH Grundlagen/Einführung DH/Datenverarbeitung<br>& -organisation:<br>Metadaten (Typen<br>& Standards)",
          "DH Grundlagen/Einführung DH/Datenverarbeitung<br>& -organisation:<br>Datenbanken",
          "DH Grundlagen/Rechtliches/Datenschutz, Copyright,<br>DSGVO (in Bezug<br>auf Webscraping)",
          "Programmieren für DH/R/Datenaufbereitung<br>& Umgang mit Fehlermeldungen",
          "DH Projekt/Projekt/Datenanalyse oder<br>Visualisierung",
          "Programmieren für DH/R/Datenanalyse & Textmining",
          "Statistik für DH/Statistik Fortgeschritten/Datenanalyse und<br>Machine Learning",
          "Umgang mit dem PC/PC Grundlagen/Dateien - Ordnerstruktur/-hierarchie,<br>Pfade, Benennung,<br>Arten, Umwandeln",
          "Umgang mit dem PC/PC Grundlagen/Tabellenkalkulation<br>- Excel/Google Sheets",
          "Programmieren für DH/Python Grundlagen/Text (String-Methoden/-Funktionen)",
          "Umgang mit dem PC/PC Grundlagen/Tastaturkürzel &<br>Sonderzeichen",
          "DH Methoden & Tools/Tools/Open Refine",
          "Programmieren für DH/Python Grundlagen/Pandas",
          "DH Methoden & Tools/Tools/Tableau",
          "DH Projekt/Projekt/Projektorientiertes<br>Lernen: Modellierung,<br>Projektentwurf,<br>Umsetzung und Evaluation",
          "Umgang mit dem PC/PC Fortgeschritten/Quellenverwaltung<br>(mit Zotero, etc.)",
          "Statistik für DH/Statistik Grundlagen/Schätzer, Konfidenzintervalle<br>& Hypothesentests",
          "Umgang mit dem PC/PC Fortgeschritten/Shell Fortgeschritten:<br>shell scripts, variablen,<br>editor in der shell,<br>remote access/ssh",
          "Umgang mit dem PC/PC Grundlagen/Shell Grundlagen:<br>Was ist die Shell?,<br>Unix vs. Windows,<br>simple Befehle",
          "Statistik für DH/Statistik Grundlagen/Skalenniveaus",
          "Programmieren für DH/Python Fortgeschritten/Sonstige DH-Bibliotheken",
          "DH Methoden & Tools/Tools/Sonstige DH-Tools",
          "Programmieren für DH/Python Fortgeschritten/Spacy",
          "DH Grundlagen/Einführung DH/Textdaten - Zeichenkodierung",
          "DH Projekt/Projekt/Selbständiges Arbeiten<br>mit Datensätzen",
          "DH Grundlagen/Einführung DH/Textdaten Grundlagen<br>-  txt, md, csv,<br>tsv, XML, HTML,<br>KML, TEI",
          "DH Methoden & Tools/Tools/OCR: Tools, Python-Bibliotheken,<br>APIs",
          "DH Methoden & Tools/Methoden/Topic Modelling",
          "Programmieren für DH/Web/Webseiten (HTML,<br>CSS, PHP, JavaScript)",
          "Programmieren für DH/Web/Web-Programmierung/<br>-Frameworks (Django,<br>Flask, etc.)",
          "Programmieren für DH/Web/Web-Frontend zur<br>Suche und Anzeige<br>von Datenbankinhalten<br>(z.B. Dashbord)",
          "DH Methoden & Tools/Nicht-Text-Daten/Video & 3D (Bearbeiten,<br>Konvertieren, etc.)",
          "Programmieren für DH/R/Tidyverse",
          "Umgang mit dem PC/PC Grundlagen/Versionskontrolle/Datensicherung",
          "DH Methoden & Tools/Tools/Umgang mit lokalen<br>Korpustools (Antconc,<br>etc.)",
          "Umgang mit dem PC/PC Fortgeschritten/Versionskontrolle<br>mit git",
          "Umgang mit dem PC/PC Fortgeschritten/UNIX/Linux: Serveradministration",
          "Programmieren für DH/Misc/UNIX/Linux: Script-Sprachen",
          "DH Grundlagen/Rechtliches/Open Access / Open<br>Research",
          "Umgang mit dem PC/PC Fortgeschritten/UNIX/Linux: Grundlagen,<br>Betriebssystem",
          "DH Methoden & Tools/Tools/Trifacta/Alteryx<br>Designer Cloud",
          "DH Methoden & Tools/KI/Transformer-Architektur",
          "DH Methoden & Tools/Methoden/Umgang mit Online-Korpora",
          "DH Methoden & Tools/KI/Überblick (High<br>Level: wie funktioniert<br>KI/ML/Klassifikation/Generation/Bias)",
          "DH Projekt/Projekt/Wissenskommunikation<br>(Vorgehen & Ergebnisse<br>nachvollziehbar<br>darstellen)",
          "DH Methoden & Tools/Tools/Wordsmith",
          "DH Methoden & Tools/Methoden/XML-Technologien<br>Fortgeschritten<br>(TEI-XML, Xquery,<br>XSLT, XPATH)",
          "DH Grundlagen/Einführung DH/Überblick Textdatenbanken/Korpora<br>(\"Welche gibt es?\",<br>\"Wie finde ich passende<br>Korpora/Datenbanken?\")",
          "Statistik für DH/Statistik Fortgeschritten/Klassifikation:<br>Naive Bayes",
          "Statistik für DH/Statistik Grundlagen/Graphische Darstellung<br>(welche Daten, welche<br>Darstellung, Fehler)",
          "DH Methoden & Tools/Datenbanken/Grundlagen: Excel/CSV,<br>SQL, Zugriff auf<br>existierende DBs/API",
          "DH Methoden & Tools/Datenbanken/Grundlagen: Verwalten,<br>Zusammenfügen, Analysieren<br>großer Datensätze",
          "DH Methoden & Tools/Methoden/Information Retrieval",
          "Programmieren für DH/Python Grundlagen/Infrastruktur (IDE,<br>Jupyter Notebooks,<br>Colab/Pages/JupyterHub)",
          "DH Grundlagen/Misc/Internationale Standards<br>in der Auszeichnung<br>von (Meta)daten<br>z.B. METS, MODS,<br>TEI",
          "Programmieren für DH/Misc/Java ",
          "DH Methoden & Tools/Tools/Kartenerstellung<br>(GIS, ArcGis, etc.)",
          "Statistik für DH/Statistik Fortgeschritten/Klassifikation:<br>Beispielcode (z.B.<br>in Python oder R)",
          "Statistik für DH/Statistik Fortgeschritten/Klassifikation:<br>KNN, SVM, etc",
          "DH Methoden & Tools/Methoden/Kollation (Editionsphilologie)",
          "DH Methoden & Tools/Methoden/Graphanalyse",
          "DH Grundlagen/Einführung DH/Geschichte der DH",
          "DH Methoden & Tools/Datenbanken/Fortgeschritten:<br>selbst aufsetzen,<br>bearbeiten, maintainen",
          "DH Methoden & Tools/Datenbanken/Fortgeschritten:<br>SQL/NoSQL, eXist-db,<br>MongoDB, etc.",
          "DH Grundlagen/Rechtliches/Forschungsethik",
          "DH Methoden & Tools/Methoden/Erstellung von TEI-Customisations",
          "Programmieren für DH/R/Grundlagen R Programmieren",
          "Programmieren für DH/Python Grundlagen/Grundlagen Programmieren<br>(Kontrollfluss,<br>Schleifen, Grundlagen<br>i/o, Boolsche Logik,<br>etc.)",
          "Programmieren für DH/Python Fortgeschritten/NLTK",
          "DH Methoden & Tools/Methoden/Named Entity Recognition",
          "Statistik für DH/Statistik Grundlagen/Korrelation & Kausalität",
          "Umgang mit dem PC/PC Fortgeschritten/LaTeχ (Overleaf)",
          "DH Methoden & Tools/KI/Maschinelles Lernen:<br>Algorithmen",
          "DH Methoden & Tools/KI/Mathematische Grundlagen",
          "DH Methoden & Tools/Tools/MaxQDA",
          "DH Methoden & Tools/Methoden/Network Analysis",
          "Programmieren für DH/Python Grundlagen/Korpusanalytische<br>Verfahren (Webscraping,<br>Tokenisierung, Annotation,<br>Kookkurrenz-, Frequenzanalyse,<br>etc.)",
          "DH Methoden & Tools/KI/(Python-)Beispielprojekt<br>zum Ausprobieren<br>und Anpassen",
          "DH Projekt/Projekt/Anwendung der Kenntnisse<br>in einem selbstständigen<br>(Datenanalyse-)projekt",
          "DH Methoden & Tools/Nicht-Text-Daten/Audio (Bearbeiten,<br>Konvertieren, etc.)",
          "DH Methoden & Tools/Nicht-Text-Daten/Audio Signal Processing",
          "Umgang mit dem PC/PC Fortgeschritten/Aufbau/Administration<br>von Client-Server-Architektur",
          "DH Grundlagen/Einführung DH/Begriffsdefinition<br>DH",
          "DH Methoden & Tools/Nicht-Text-Daten/Bild (Bearbeiten,<br>Konvertieren, etc.)",
          "DH Grundlagen/Einführung DH/Beispiele Tools<br>& Methoden: Digitale<br>Editionen, Digitale<br>Archive, Korpusanalyse,<br>Oral History, GIS,<br>VR, 3D-Design, digitale<br>Filmanalyse",
          "DH Methoden & Tools/Nicht-Text-Daten/Computer Vision",
          "Umgang mit dem PC/PC Grundlagen/Computer-Probleme<br>selber lösen (richtig<br>googlen, Tutorials<br>befolgen)",
          "Umgang mit dem PC/PC Fortgeschritten/Containerisierung<br>(z.B. Docker)",
          "DH Grundlagen/Einführung DH/DH & Ich (\"Wofür<br>brauche ich persönlich<br>DH-Methoden in meinem<br>Studium?\")",
          "DH Grundlagen/Einführung DH/Beispiele Fragestellungen<br>- Fächer: Literaturwissenschaft,<br>Editionsphilologie,<br>Linguistik, Geschichte,<br>Kunstgeschichte,<br>Archäologie, Musik,<br>Medienwissenschaft",
          "Programmieren für DH/Python Grundlagen/(DH) Code verstehen<br>und anpassen",
          "DH Methoden & Tools/Datenbanken",
          "DH Methoden & Tools/Digitale Editionen",
          "DH Grundlagen/Einführung DH",
          "DH Methoden & Tools/KI",
          "DH Methoden & Tools/Methoden",
          "DH Grundlagen/Misc",
          "Programmieren für DH/Misc",
          "DH Methoden & Tools/Nicht-Text-Daten",
          "Umgang mit dem PC/PC Fortgeschritten",
          "Umgang mit dem PC/PC Grundlagen",
          "DH Projekt/Projekt",
          "Programmieren für DH/Python Fortgeschritten",
          "Programmieren für DH/Python Grundlagen",
          "Programmieren für DH/R",
          "DH Grundlagen/Rechtliches",
          "Statistik für DH/Statistik Fortgeschritten",
          "Statistik für DH/Statistik Grundlagen",
          "DH Methoden & Tools/Tools",
          "Programmieren für DH/Web",
          "DH Grundlagen",
          "DH Methoden & Tools",
          "DH Projekt",
          "Programmieren für DH",
          "Statistik für DH",
          "Umgang mit dem PC"
         ],
         "labels": [
          "Digitalisierung<br>- 3D Digitalisierung,<br>AR, VR (Plastiken,<br>Gebäudemodelle)",
          "Digitalisierungsverfahren<br>Bild & Text",
          "Digitalisierung<br>- Bilder als digitale<br>Daten (Raster &<br>Vektorgrafiken)",
          "Digitalisierung:<br>Frameworks (bspw.<br>IIIF)",
          "Digitale Editionen<br>erstellen",
          "Digitale Editionen<br>bearbeiten/ Maintenance",
          "Design und Implementierung<br>statistischer Modelle",
          "Datenvisualisierung<br>(matplotlib, seaborn,<br>etc.)",
          "Datenvisualisierung<br>(ggplot)",
          "Datenverarbeitung<br>& -organisation:<br>Metadaten (Typen<br>& Standards)",
          "Datenverarbeitung<br>& -organisation:<br>Datenbanken",
          "Datenschutz, Copyright,<br>DSGVO (in Bezug<br>auf Webscraping)",
          "Datenaufbereitung<br>& Umgang mit Fehlermeldungen",
          "Datenanalyse oder<br>Visualisierung",
          "Datenanalyse & Textmining",
          "Datenanalyse und<br>Machine Learning",
          "Dateien - Ordnerstruktur/-hierarchie,<br>Pfade, Benennung,<br>Arten, Umwandeln",
          "Tabellenkalkulation<br>- Excel/Google Sheets",
          "Text (String-Methoden/-Funktionen)",
          "Tastaturkürzel &<br>Sonderzeichen",
          "Open Refine",
          "Pandas",
          "Tableau",
          "Projektorientiertes<br>Lernen: Modellierung,<br>Projektentwurf,<br>Umsetzung und Evaluation",
          "Quellenverwaltung<br>(mit Zotero, etc.)",
          "Schätzer, Konfidenzintervalle<br>& Hypothesentests",
          "Shell Fortgeschritten:<br>shell scripts, variablen,<br>editor in der shell,<br>remote access/ssh",
          "Shell Grundlagen:<br>Was ist die Shell?,<br>Unix vs. Windows,<br>simple Befehle",
          "Skalenniveaus",
          "Sonstige DH-Bibliotheken",
          "Sonstige DH-Tools",
          "Spacy",
          "Textdaten - Zeichenkodierung",
          "Selbständiges Arbeiten<br>mit Datensätzen",
          "Textdaten Grundlagen<br>-  txt, md, csv,<br>tsv, XML, HTML,<br>KML, TEI",
          "OCR: Tools, Python-Bibliotheken,<br>APIs",
          "Topic Modelling",
          "Webseiten (HTML,<br>CSS, PHP, JavaScript)",
          "Web-Programmierung/<br>-Frameworks (Django,<br>Flask, etc.)",
          "Web-Frontend zur<br>Suche und Anzeige<br>von Datenbankinhalten<br>(z.B. Dashbord)",
          "Video & 3D (Bearbeiten,<br>Konvertieren, etc.)",
          "Tidyverse",
          "Versionskontrolle/Datensicherung",
          "Umgang mit lokalen<br>Korpustools (Antconc,<br>etc.)",
          "Versionskontrolle<br>mit git",
          "UNIX/Linux: Serveradministration",
          "UNIX/Linux: Script-Sprachen",
          "Open Access / Open<br>Research",
          "UNIX/Linux: Grundlagen,<br>Betriebssystem",
          "Trifacta/Alteryx<br>Designer Cloud",
          "Transformer-Architektur",
          "Umgang mit Online-Korpora",
          "Überblick (High<br>Level: wie funktioniert<br>KI/ML/Klassifikation/Generation/Bias)",
          "Wissenskommunikation<br>(Vorgehen & Ergebnisse<br>nachvollziehbar<br>darstellen)",
          "Wordsmith",
          "XML-Technologien<br>Fortgeschritten<br>(TEI-XML, Xquery,<br>XSLT, XPATH)",
          "Überblick Textdatenbanken/Korpora<br>(\"Welche gibt es?\",<br>\"Wie finde ich passende<br>Korpora/Datenbanken?\")",
          "Klassifikation:<br>Naive Bayes",
          "Graphische Darstellung<br>(welche Daten, welche<br>Darstellung, Fehler)",
          "Grundlagen: Excel/CSV,<br>SQL, Zugriff auf<br>existierende DBs/API",
          "Grundlagen: Verwalten,<br>Zusammenfügen, Analysieren<br>großer Datensätze",
          "Information Retrieval",
          "Infrastruktur (IDE,<br>Jupyter Notebooks,<br>Colab/Pages/JupyterHub)",
          "Internationale Standards<br>in der Auszeichnung<br>von (Meta)daten<br>z.B. METS, MODS,<br>TEI",
          "Java ",
          "Kartenerstellung<br>(GIS, ArcGis, etc.)",
          "Klassifikation:<br>Beispielcode (z.B.<br>in Python oder R)",
          "Klassifikation:<br>KNN, SVM, etc",
          "Kollation (Editionsphilologie)",
          "Graphanalyse",
          "Geschichte der DH",
          "Fortgeschritten:<br>selbst aufsetzen,<br>bearbeiten, maintainen",
          "Fortgeschritten:<br>SQL/NoSQL, eXist-db,<br>MongoDB, etc.",
          "Forschungsethik",
          "Erstellung von TEI-Customisations",
          "Grundlagen R Programmieren",
          "Grundlagen Programmieren<br>(Kontrollfluss,<br>Schleifen, Grundlagen<br>i/o, Boolsche Logik,<br>etc.)",
          "NLTK",
          "Named Entity Recognition",
          "Korrelation & Kausalität",
          "LaTeχ (Overleaf)",
          "Maschinelles Lernen:<br>Algorithmen",
          "Mathematische Grundlagen",
          "MaxQDA",
          "Network Analysis",
          "Korpusanalytische<br>Verfahren (Webscraping,<br>Tokenisierung, Annotation,<br>Kookkurrenz-, Frequenzanalyse,<br>etc.)",
          "(Python-)Beispielprojekt<br>zum Ausprobieren<br>und Anpassen",
          "Anwendung der Kenntnisse<br>in einem selbstständigen<br>(Datenanalyse-)projekt",
          "Audio (Bearbeiten,<br>Konvertieren, etc.)",
          "Audio Signal Processing",
          "Aufbau/Administration<br>von Client-Server-Architektur",
          "Begriffsdefinition<br>DH",
          "Bild (Bearbeiten,<br>Konvertieren, etc.)",
          "Beispiele Tools<br>& Methoden: Digitale<br>Editionen, Digitale<br>Archive, Korpusanalyse,<br>Oral History, GIS,<br>VR, 3D-Design, digitale<br>Filmanalyse",
          "Computer Vision",
          "Computer-Probleme<br>selber lösen (richtig<br>googlen, Tutorials<br>befolgen)",
          "Containerisierung<br>(z.B. Docker)",
          "DH & Ich (\"Wofür<br>brauche ich persönlich<br>DH-Methoden in meinem<br>Studium?\")",
          "Beispiele Fragestellungen<br>- Fächer: Literaturwissenschaft,<br>Editionsphilologie,<br>Linguistik, Geschichte,<br>Kunstgeschichte,<br>Archäologie, Musik,<br>Medienwissenschaft",
          "(DH) Code verstehen<br>und anpassen",
          "Datenbanken",
          "Digitale Editionen",
          "Einführung DH",
          "KI",
          "Methoden",
          "Misc",
          "Misc",
          "Nicht-Text-Daten",
          "PC Fortgeschritten",
          "PC Grundlagen",
          "Projekt",
          "Python Fortgeschritten",
          "Python Grundlagen",
          "R",
          "Rechtliches",
          "Statistik Fortgeschritten",
          "Statistik Grundlagen",
          "Tools",
          "Web",
          "DH Grundlagen",
          "DH Methoden & Tools",
          "DH Projekt",
          "Programmieren für DH",
          "Statistik für DH",
          "Umgang mit dem PC"
         ],
         "marker": {
          "colors": [
           "#8dae10",
           "#8dae10",
           "#8dae10",
           "#8c8751",
           "#8c8751",
           "#8c8751",
           "#17365c",
           "#b61e3e",
           "#b61e3e",
           "#8dae10",
           "#8dae10",
           "#8dae10",
           "#b61e3e",
           "#c1baa3",
           "#b61e3e",
           "#17365c",
           "#ed7102",
           "#ed7102",
           "#b61e3e",
           "#ed7102",
           "#8c8751",
           "#b61e3e",
           "#8c8751",
           "#c1baa3",
           "#ed7102",
           "#17365c",
           "#ed7102",
           "#ed7102",
           "#17365c",
           "#b61e3e",
           "#8c8751",
           "#b61e3e",
           "#8dae10",
           "#c1baa3",
           "#8dae10",
           "#8c8751",
           "#8c8751",
           "#b61e3e",
           "#b61e3e",
           "#b61e3e",
           "#8c8751",
           "#b61e3e",
           "#ed7102",
           "#8c8751",
           "#ed7102",
           "#ed7102",
           "#b61e3e",
           "#8dae10",
           "#ed7102",
           "#8c8751",
           "#8c8751",
           "#8c8751",
           "#8c8751",
           "#c1baa3",
           "#8c8751",
           "#8c8751",
           "#8dae10",
           "#17365c",
           "#17365c",
           "#8c8751",
           "#8c8751",
           "#8c8751",
           "#b61e3e",
           "#8dae10",
           "#b61e3e",
           "#8c8751",
           "#17365c",
           "#17365c",
           "#8c8751",
           "#8c8751",
           "#8dae10",
           "#8c8751",
           "#8c8751",
           "#8dae10",
           "#8c8751",
           "#b61e3e",
           "#b61e3e",
           "#b61e3e",
           "#8c8751",
           "#17365c",
           "#ed7102",
           "#8c8751",
           "#8c8751",
           "#8c8751",
           "#8c8751",
           "#b61e3e",
           "#8c8751",
           "#c1baa3",
           "#8c8751",
           "#8c8751",
           "#ed7102",
           "#8dae10",
           "#8c8751",
           "#8dae10",
           "#8c8751",
           "#ed7102",
           "#ed7102",
           "#8dae10",
           "#8dae10",
           "#b61e3e",
           "#8c8751",
           "#8c8751",
           "#8dae10",
           "#8c8751",
           "#8c8751",
           "#8dae10",
           "#b61e3e",
           "#8c8751",
           "#ed7102",
           "#ed7102",
           "#c1baa3",
           "#b61e3e",
           "#b61e3e",
           "#b61e3e",
           "#8dae10",
           "#17365c",
           "#17365c",
           "#8c8751",
           "#b61e3e",
           "#8dae10",
           "#8c8751",
           "#c1baa3",
           "#b61e3e",
           "#17365c",
           "#ed7102"
          ],
          "cornerradius": 5
         },
         "name": "",
         "parents": [
          "DH Grundlagen/Einführung DH",
          "DH Grundlagen/Einführung DH",
          "DH Grundlagen/Einführung DH",
          "DH Methoden & Tools/Methoden",
          "DH Methoden & Tools/Digitale Editionen",
          "DH Methoden & Tools/Digitale Editionen",
          "Statistik für DH/Statistik Fortgeschritten",
          "Programmieren für DH/Python Grundlagen",
          "Programmieren für DH/R",
          "DH Grundlagen/Einführung DH",
          "DH Grundlagen/Einführung DH",
          "DH Grundlagen/Rechtliches",
          "Programmieren für DH/R",
          "DH Projekt/Projekt",
          "Programmieren für DH/R",
          "Statistik für DH/Statistik Fortgeschritten",
          "Umgang mit dem PC/PC Grundlagen",
          "Umgang mit dem PC/PC Grundlagen",
          "Programmieren für DH/Python Grundlagen",
          "Umgang mit dem PC/PC Grundlagen",
          "DH Methoden & Tools/Tools",
          "Programmieren für DH/Python Grundlagen",
          "DH Methoden & Tools/Tools",
          "DH Projekt/Projekt",
          "Umgang mit dem PC/PC Fortgeschritten",
          "Statistik für DH/Statistik Grundlagen",
          "Umgang mit dem PC/PC Fortgeschritten",
          "Umgang mit dem PC/PC Grundlagen",
          "Statistik für DH/Statistik Grundlagen",
          "Programmieren für DH/Python Fortgeschritten",
          "DH Methoden & Tools/Tools",
          "Programmieren für DH/Python Fortgeschritten",
          "DH Grundlagen/Einführung DH",
          "DH Projekt/Projekt",
          "DH Grundlagen/Einführung DH",
          "DH Methoden & Tools/Tools",
          "DH Methoden & Tools/Methoden",
          "Programmieren für DH/Web",
          "Programmieren für DH/Web",
          "Programmieren für DH/Web",
          "DH Methoden & Tools/Nicht-Text-Daten",
          "Programmieren für DH/R",
          "Umgang mit dem PC/PC Grundlagen",
          "DH Methoden & Tools/Tools",
          "Umgang mit dem PC/PC Fortgeschritten",
          "Umgang mit dem PC/PC Fortgeschritten",
          "Programmieren für DH/Misc",
          "DH Grundlagen/Rechtliches",
          "Umgang mit dem PC/PC Fortgeschritten",
          "DH Methoden & Tools/Tools",
          "DH Methoden & Tools/KI",
          "DH Methoden & Tools/Methoden",
          "DH Methoden & Tools/KI",
          "DH Projekt/Projekt",
          "DH Methoden & Tools/Tools",
          "DH Methoden & Tools/Methoden",
          "DH Grundlagen/Einführung DH",
          "Statistik für DH/Statistik Fortgeschritten",
          "Statistik für DH/Statistik Grundlagen",
          "DH Methoden & Tools/Datenbanken",
          "DH Methoden & Tools/Datenbanken",
          "DH Methoden & Tools/Methoden",
          "Programmieren für DH/Python Grundlagen",
          "DH Grundlagen/Misc",
          "Programmieren für DH/Misc",
          "DH Methoden & Tools/Tools",
          "Statistik für DH/Statistik Fortgeschritten",
          "Statistik für DH/Statistik Fortgeschritten",
          "DH Methoden & Tools/Methoden",
          "DH Methoden & Tools/Methoden",
          "DH Grundlagen/Einführung DH",
          "DH Methoden & Tools/Datenbanken",
          "DH Methoden & Tools/Datenbanken",
          "DH Grundlagen/Rechtliches",
          "DH Methoden & Tools/Methoden",
          "Programmieren für DH/R",
          "Programmieren für DH/Python Grundlagen",
          "Programmieren für DH/Python Fortgeschritten",
          "DH Methoden & Tools/Methoden",
          "Statistik für DH/Statistik Grundlagen",
          "Umgang mit dem PC/PC Fortgeschritten",
          "DH Methoden & Tools/KI",
          "DH Methoden & Tools/KI",
          "DH Methoden & Tools/Tools",
          "DH Methoden & Tools/Methoden",
          "Programmieren für DH/Python Grundlagen",
          "DH Methoden & Tools/KI",
          "DH Projekt/Projekt",
          "DH Methoden & Tools/Nicht-Text-Daten",
          "DH Methoden & Tools/Nicht-Text-Daten",
          "Umgang mit dem PC/PC Fortgeschritten",
          "DH Grundlagen/Einführung DH",
          "DH Methoden & Tools/Nicht-Text-Daten",
          "DH Grundlagen/Einführung DH",
          "DH Methoden & Tools/Nicht-Text-Daten",
          "Umgang mit dem PC/PC Grundlagen",
          "Umgang mit dem PC/PC Fortgeschritten",
          "DH Grundlagen/Einführung DH",
          "DH Grundlagen/Einführung DH",
          "Programmieren für DH/Python Grundlagen",
          "DH Methoden & Tools",
          "DH Methoden & Tools",
          "DH Grundlagen",
          "DH Methoden & Tools",
          "DH Methoden & Tools",
          "DH Grundlagen",
          "Programmieren für DH",
          "DH Methoden & Tools",
          "Umgang mit dem PC",
          "Umgang mit dem PC",
          "DH Projekt",
          "Programmieren für DH",
          "Programmieren für DH",
          "Programmieren für DH",
          "DH Grundlagen",
          "Statistik für DH",
          "Statistik für DH",
          "DH Methoden & Tools",
          "Programmieren für DH",
          "",
          "",
          "",
          "",
          "",
          ""
         ],
         "type": "treemap",
         "values": [
          2,
          9,
          2,
          1,
          6,
          5,
          4,
          4,
          7,
          10,
          7,
          13,
          13,
          7,
          6,
          9,
          22,
          7,
          1,
          4,
          5,
          11,
          1,
          17,
          4,
          3,
          1,
          5,
          4,
          1,
          1,
          2,
          2,
          12,
          10,
          2,
          6,
          9,
          1,
          1,
          4,
          5,
          10,
          1,
          9,
          1,
          1,
          4,
          7,
          1,
          2,
          2,
          7,
          13,
          1,
          7,
          7,
          2,
          16,
          9,
          2,
          7,
          7,
          4,
          1,
          2,
          2,
          1,
          1,
          1,
          1,
          1,
          2,
          4,
          2,
          7,
          17,
          2,
          1,
          9,
          4,
          4,
          1,
          4,
          5,
          13,
          3,
          17,
          1,
          1,
          1,
          1,
          1,
          22,
          2,
          25,
          4,
          23,
          22,
          19,
          14,
          11,
          118,
          17,
          33,
          4,
          2,
          9,
          31,
          73,
          66,
          5,
          72,
          38,
          21,
          18,
          32,
          18,
          11,
          143,
          102,
          66,
          128,
          50,
          104
         ]
        }
       ],
       "layout": {
        "font": {
         "color": "Black",
         "size": 15
        },
        "legend": {
         "tracegroupgap": 0
        },
        "margin": {
         "b": 25,
         "l": 25,
         "r": 25,
         "t": 25
        },
        "template": {
         "data": {
          "bar": [
           {
            "error_x": {
             "color": "#2a3f5f"
            },
            "error_y": {
             "color": "#2a3f5f"
            },
            "marker": {
             "line": {
              "color": "#E5ECF6",
              "width": 0.5
             },
             "pattern": {
              "fillmode": "overlay",
              "size": 10,
              "solidity": 0.2
             }
            },
            "type": "bar"
           }
          ],
          "barpolar": [
           {
            "marker": {
             "line": {
              "color": "#E5ECF6",
              "width": 0.5
             },
             "pattern": {
              "fillmode": "overlay",
              "size": 10,
              "solidity": 0.2
             }
            },
            "type": "barpolar"
           }
          ],
          "carpet": [
           {
            "aaxis": {
             "endlinecolor": "#2a3f5f",
             "gridcolor": "white",
             "linecolor": "white",
             "minorgridcolor": "white",
             "startlinecolor": "#2a3f5f"
            },
            "baxis": {
             "endlinecolor": "#2a3f5f",
             "gridcolor": "white",
             "linecolor": "white",
             "minorgridcolor": "white",
             "startlinecolor": "#2a3f5f"
            },
            "type": "carpet"
           }
          ],
          "choropleth": [
           {
            "colorbar": {
             "outlinewidth": 0,
             "ticks": ""
            },
            "type": "choropleth"
           }
          ],
          "contour": [
           {
            "colorbar": {
             "outlinewidth": 0,
             "ticks": ""
            },
            "colorscale": [
             [
              0,
              "#0d0887"
             ],
             [
              0.1111111111111111,
              "#46039f"
             ],
             [
              0.2222222222222222,
              "#7201a8"
             ],
             [
              0.3333333333333333,
              "#9c179e"
             ],
             [
              0.4444444444444444,
              "#bd3786"
             ],
             [
              0.5555555555555556,
              "#d8576b"
             ],
             [
              0.6666666666666666,
              "#ed7953"
             ],
             [
              0.7777777777777778,
              "#fb9f3a"
             ],
             [
              0.8888888888888888,
              "#fdca26"
             ],
             [
              1,
              "#f0f921"
             ]
            ],
            "type": "contour"
           }
          ],
          "contourcarpet": [
           {
            "colorbar": {
             "outlinewidth": 0,
             "ticks": ""
            },
            "type": "contourcarpet"
           }
          ],
          "heatmap": [
           {
            "colorbar": {
             "outlinewidth": 0,
             "ticks": ""
            },
            "colorscale": [
             [
              0,
              "#0d0887"
             ],
             [
              0.1111111111111111,
              "#46039f"
             ],
             [
              0.2222222222222222,
              "#7201a8"
             ],
             [
              0.3333333333333333,
              "#9c179e"
             ],
             [
              0.4444444444444444,
              "#bd3786"
             ],
             [
              0.5555555555555556,
              "#d8576b"
             ],
             [
              0.6666666666666666,
              "#ed7953"
             ],
             [
              0.7777777777777778,
              "#fb9f3a"
             ],
             [
              0.8888888888888888,
              "#fdca26"
             ],
             [
              1,
              "#f0f921"
             ]
            ],
            "type": "heatmap"
           }
          ],
          "heatmapgl": [
           {
            "colorbar": {
             "outlinewidth": 0,
             "ticks": ""
            },
            "colorscale": [
             [
              0,
              "#0d0887"
             ],
             [
              0.1111111111111111,
              "#46039f"
             ],
             [
              0.2222222222222222,
              "#7201a8"
             ],
             [
              0.3333333333333333,
              "#9c179e"
             ],
             [
              0.4444444444444444,
              "#bd3786"
             ],
             [
              0.5555555555555556,
              "#d8576b"
             ],
             [
              0.6666666666666666,
              "#ed7953"
             ],
             [
              0.7777777777777778,
              "#fb9f3a"
             ],
             [
              0.8888888888888888,
              "#fdca26"
             ],
             [
              1,
              "#f0f921"
             ]
            ],
            "type": "heatmapgl"
           }
          ],
          "histogram": [
           {
            "marker": {
             "pattern": {
              "fillmode": "overlay",
              "size": 10,
              "solidity": 0.2
             }
            },
            "type": "histogram"
           }
          ],
          "histogram2d": [
           {
            "colorbar": {
             "outlinewidth": 0,
             "ticks": ""
            },
            "colorscale": [
             [
              0,
              "#0d0887"
             ],
             [
              0.1111111111111111,
              "#46039f"
             ],
             [
              0.2222222222222222,
              "#7201a8"
             ],
             [
              0.3333333333333333,
              "#9c179e"
             ],
             [
              0.4444444444444444,
              "#bd3786"
             ],
             [
              0.5555555555555556,
              "#d8576b"
             ],
             [
              0.6666666666666666,
              "#ed7953"
             ],
             [
              0.7777777777777778,
              "#fb9f3a"
             ],
             [
              0.8888888888888888,
              "#fdca26"
             ],
             [
              1,
              "#f0f921"
             ]
            ],
            "type": "histogram2d"
           }
          ],
          "histogram2dcontour": [
           {
            "colorbar": {
             "outlinewidth": 0,
             "ticks": ""
            },
            "colorscale": [
             [
              0,
              "#0d0887"
             ],
             [
              0.1111111111111111,
              "#46039f"
             ],
             [
              0.2222222222222222,
              "#7201a8"
             ],
             [
              0.3333333333333333,
              "#9c179e"
             ],
             [
              0.4444444444444444,
              "#bd3786"
             ],
             [
              0.5555555555555556,
              "#d8576b"
             ],
             [
              0.6666666666666666,
              "#ed7953"
             ],
             [
              0.7777777777777778,
              "#fb9f3a"
             ],
             [
              0.8888888888888888,
              "#fdca26"
             ],
             [
              1,
              "#f0f921"
             ]
            ],
            "type": "histogram2dcontour"
           }
          ],
          "mesh3d": [
           {
            "colorbar": {
             "outlinewidth": 0,
             "ticks": ""
            },
            "type": "mesh3d"
           }
          ],
          "parcoords": [
           {
            "line": {
             "colorbar": {
              "outlinewidth": 0,
              "ticks": ""
             }
            },
            "type": "parcoords"
           }
          ],
          "pie": [
           {
            "automargin": true,
            "type": "pie"
           }
          ],
          "scatter": [
           {
            "fillpattern": {
             "fillmode": "overlay",
             "size": 10,
             "solidity": 0.2
            },
            "type": "scatter"
           }
          ],
          "scatter3d": [
           {
            "line": {
             "colorbar": {
              "outlinewidth": 0,
              "ticks": ""
             }
            },
            "marker": {
             "colorbar": {
              "outlinewidth": 0,
              "ticks": ""
             }
            },
            "type": "scatter3d"
           }
          ],
          "scattercarpet": [
           {
            "marker": {
             "colorbar": {
              "outlinewidth": 0,
              "ticks": ""
             }
            },
            "type": "scattercarpet"
           }
          ],
          "scattergeo": [
           {
            "marker": {
             "colorbar": {
              "outlinewidth": 0,
              "ticks": ""
             }
            },
            "type": "scattergeo"
           }
          ],
          "scattergl": [
           {
            "marker": {
             "colorbar": {
              "outlinewidth": 0,
              "ticks": ""
             }
            },
            "type": "scattergl"
           }
          ],
          "scattermapbox": [
           {
            "marker": {
             "colorbar": {
              "outlinewidth": 0,
              "ticks": ""
             }
            },
            "type": "scattermapbox"
           }
          ],
          "scatterpolar": [
           {
            "marker": {
             "colorbar": {
              "outlinewidth": 0,
              "ticks": ""
             }
            },
            "type": "scatterpolar"
           }
          ],
          "scatterpolargl": [
           {
            "marker": {
             "colorbar": {
              "outlinewidth": 0,
              "ticks": ""
             }
            },
            "type": "scatterpolargl"
           }
          ],
          "scatterternary": [
           {
            "marker": {
             "colorbar": {
              "outlinewidth": 0,
              "ticks": ""
             }
            },
            "type": "scatterternary"
           }
          ],
          "surface": [
           {
            "colorbar": {
             "outlinewidth": 0,
             "ticks": ""
            },
            "colorscale": [
             [
              0,
              "#0d0887"
             ],
             [
              0.1111111111111111,
              "#46039f"
             ],
             [
              0.2222222222222222,
              "#7201a8"
             ],
             [
              0.3333333333333333,
              "#9c179e"
             ],
             [
              0.4444444444444444,
              "#bd3786"
             ],
             [
              0.5555555555555556,
              "#d8576b"
             ],
             [
              0.6666666666666666,
              "#ed7953"
             ],
             [
              0.7777777777777778,
              "#fb9f3a"
             ],
             [
              0.8888888888888888,
              "#fdca26"
             ],
             [
              1,
              "#f0f921"
             ]
            ],
            "type": "surface"
           }
          ],
          "table": [
           {
            "cells": {
             "fill": {
              "color": "#EBF0F8"
             },
             "line": {
              "color": "white"
             }
            },
            "header": {
             "fill": {
              "color": "#C8D4E3"
             },
             "line": {
              "color": "white"
             }
            },
            "type": "table"
           }
          ]
         },
         "layout": {
          "annotationdefaults": {
           "arrowcolor": "#2a3f5f",
           "arrowhead": 0,
           "arrowwidth": 1
          },
          "autotypenumbers": "strict",
          "coloraxis": {
           "colorbar": {
            "outlinewidth": 0,
            "ticks": ""
           }
          },
          "colorscale": {
           "diverging": [
            [
             0,
             "#8e0152"
            ],
            [
             0.1,
             "#c51b7d"
            ],
            [
             0.2,
             "#de77ae"
            ],
            [
             0.3,
             "#f1b6da"
            ],
            [
             0.4,
             "#fde0ef"
            ],
            [
             0.5,
             "#f7f7f7"
            ],
            [
             0.6,
             "#e6f5d0"
            ],
            [
             0.7,
             "#b8e186"
            ],
            [
             0.8,
             "#7fbc41"
            ],
            [
             0.9,
             "#4d9221"
            ],
            [
             1,
             "#276419"
            ]
           ],
           "sequential": [
            [
             0,
             "#0d0887"
            ],
            [
             0.1111111111111111,
             "#46039f"
            ],
            [
             0.2222222222222222,
             "#7201a8"
            ],
            [
             0.3333333333333333,
             "#9c179e"
            ],
            [
             0.4444444444444444,
             "#bd3786"
            ],
            [
             0.5555555555555556,
             "#d8576b"
            ],
            [
             0.6666666666666666,
             "#ed7953"
            ],
            [
             0.7777777777777778,
             "#fb9f3a"
            ],
            [
             0.8888888888888888,
             "#fdca26"
            ],
            [
             1,
             "#f0f921"
            ]
           ],
           "sequentialminus": [
            [
             0,
             "#0d0887"
            ],
            [
             0.1111111111111111,
             "#46039f"
            ],
            [
             0.2222222222222222,
             "#7201a8"
            ],
            [
             0.3333333333333333,
             "#9c179e"
            ],
            [
             0.4444444444444444,
             "#bd3786"
            ],
            [
             0.5555555555555556,
             "#d8576b"
            ],
            [
             0.6666666666666666,
             "#ed7953"
            ],
            [
             0.7777777777777778,
             "#fb9f3a"
            ],
            [
             0.8888888888888888,
             "#fdca26"
            ],
            [
             1,
             "#f0f921"
            ]
           ]
          },
          "colorway": [
           "#636efa",
           "#EF553B",
           "#00cc96",
           "#ab63fa",
           "#FFA15A",
           "#19d3f3",
           "#FF6692",
           "#B6E880",
           "#FF97FF",
           "#FECB52"
          ],
          "font": {
           "color": "#2a3f5f"
          },
          "geo": {
           "bgcolor": "white",
           "lakecolor": "white",
           "landcolor": "#E5ECF6",
           "showlakes": true,
           "showland": true,
           "subunitcolor": "white"
          },
          "hoverlabel": {
           "align": "left"
          },
          "hovermode": "closest",
          "mapbox": {
           "style": "light"
          },
          "paper_bgcolor": "white",
          "plot_bgcolor": "#E5ECF6",
          "polar": {
           "angularaxis": {
            "gridcolor": "white",
            "linecolor": "white",
            "ticks": ""
           },
           "bgcolor": "#E5ECF6",
           "radialaxis": {
            "gridcolor": "white",
            "linecolor": "white",
            "ticks": ""
           }
          },
          "scene": {
           "xaxis": {
            "backgroundcolor": "#E5ECF6",
            "gridcolor": "white",
            "gridwidth": 2,
            "linecolor": "white",
            "showbackground": true,
            "ticks": "",
            "zerolinecolor": "white"
           },
           "yaxis": {
            "backgroundcolor": "#E5ECF6",
            "gridcolor": "white",
            "gridwidth": 2,
            "linecolor": "white",
            "showbackground": true,
            "ticks": "",
            "zerolinecolor": "white"
           },
           "zaxis": {
            "backgroundcolor": "#E5ECF6",
            "gridcolor": "white",
            "gridwidth": 2,
            "linecolor": "white",
            "showbackground": true,
            "ticks": "",
            "zerolinecolor": "white"
           }
          },
          "shapedefaults": {
           "line": {
            "color": "#2a3f5f"
           }
          },
          "ternary": {
           "aaxis": {
            "gridcolor": "white",
            "linecolor": "white",
            "ticks": ""
           },
           "baxis": {
            "gridcolor": "white",
            "linecolor": "white",
            "ticks": ""
           },
           "bgcolor": "#E5ECF6",
           "caxis": {
            "gridcolor": "white",
            "linecolor": "white",
            "ticks": ""
           }
          },
          "title": {
           "x": 0.05
          },
          "xaxis": {
           "automargin": true,
           "gridcolor": "white",
           "linecolor": "white",
           "ticks": "",
           "title": {
            "standoff": 15
           },
           "zerolinecolor": "white",
           "zerolinewidth": 2
          },
          "yaxis": {
           "automargin": true,
           "gridcolor": "white",
           "linecolor": "white",
           "ticks": "",
           "title": {
            "standoff": 15
           },
           "zerolinecolor": "white",
           "zerolinewidth": 2
          }
         }
        },
        "title": {
         "text": "Schlüsselkompetenzen Zertifikat \"Digital Humanities\"",
         "x": 0.5,
         "xanchor": "center",
         "y": 0.98,
         "yanchor": "top"
        },
        "treemapcolorway": [
         "#ed7102",
         "#ed7102",
         "#ed7102",
         "#ed7102",
         "#ed7102",
         "#ed7102",
         "#ed7102",
         "#ed7102",
         "#ed7102",
         "#ed7102",
         "#ed7102",
         "#ed7102",
         "#ed7102",
         "#ed7102",
         "#8dae10",
         "#8dae10",
         "#8dae10",
         "#8dae10",
         "#8dae10",
         "#8dae10",
         "#8dae10",
         "#8dae10",
         "#8dae10",
         "#8dae10",
         "#8dae10",
         "#8dae10",
         "#8dae10",
         "#8dae10",
         "#8dae10",
         "#8dae10",
         "#8dae10",
         "#b61e3e",
         "#b61e3e",
         "#b61e3e",
         "#b61e3e",
         "#b61e3e",
         "#b61e3e",
         "#b61e3e",
         "#b61e3e",
         "#b61e3e",
         "#b61e3e",
         "#b61e3e",
         "#b61e3e",
         "#b61e3e",
         "#b61e3e",
         "#b61e3e",
         "#b61e3e",
         "#b61e3e",
         "#b61e3e",
         "#b61e3e",
         "#b61e3e",
         "#17365c",
         "#17365c",
         "#17365c",
         "#17365c",
         "#17365c",
         "#17365c",
         "#17365c",
         "#17365c",
         "#17365c",
         "#8c8751",
         "#8c8751",
         "#8c8751",
         "#8c8751",
         "#8c8751",
         "#8c8751",
         "#8c8751",
         "#8c8751",
         "#8c8751",
         "#8c8751",
         "#8c8751",
         "#8c8751",
         "#8c8751",
         "#8c8751",
         "#8c8751",
         "#8c8751",
         "#8c8751",
         "#8c8751",
         "#8c8751",
         "#8c8751",
         "#8c8751",
         "#8c8751",
         "#8c8751",
         "#8c8751",
         "#8c8751",
         "#8c8751",
         "#8c8751",
         "#8c8751",
         "#8c8751",
         "#8c8751",
         "#8c8751",
         "#8c8751",
         "#8c8751",
         "#8c8751",
         "#8c8751",
         "#c1baa3",
         "#c1baa3",
         "#c1baa3",
         "#c1baa3",
         "#c1baa3"
        ]
       }
      }
     },
     "metadata": {},
     "output_type": "display_data"
    }
   ],
   "source": [
    "import plotly.express as px\n",
    "\n",
    "df['weight_hover'] = df.apply(lambda df: f\"Abstimmungsergebnisse<br>B.A.: {df['Punkteanzahl BA']}<br>M.A.: {df['Punkteanzahl MA']}\", axis=1)\n",
    "\n",
    "fig = px.treemap(df, path=[\n",
    "    # px.Constant('Schlüsselkompetenzen Zertifikat \"Digital Humanities\"'),\n",
    "    # 'Modul',\n",
    "    'Bereich',\n",
    "    'Unterbereich',\n",
    "    'AS'\n",
    "],\n",
    "    values='Punkte gewichtet',\n",
    "    custom_data=['weight_hover'],\n",
    "    # color=df['color'],\n",
    "    # color_discrete_map={key: RUB_palette[bereich_colors[key]] for key in bereich_colors.keys()}\n",
    "    # color_discrete_map={key: RUB_palette[bereich_colors[key]] for key in bereich_colors.keys()}\n",
    "    color='Bereich',\n",
    "    color_discrete_sequence=df['color'],\n",
    "    color_discrete_map=dict(zip(df['Bereich'], df['color']))\n",
    ")\n",
    "fig.update_traces(marker=dict(cornerradius=5))\n",
    "fig.update_layout(margin=dict(t=25, l=25, r=25, b=25))\n",
    "fig.update_traces(hovertemplate='%{customdata[0]}<br><br>%{label}')\n",
    "fig.update_layout(\n",
    "    title={\n",
    "    'text': 'Schlüsselkompetenzen Zertifikat \"Digital Humanities\"',  # Set your headline text here\n",
    "    'y':0.98,  # Position the title slightly below the top edge\n",
    "    'x':0.5,   # Center-align the title\n",
    "    'xanchor': 'center',\n",
    "    'yanchor': 'top'\n",
    "    },\n",
    "    # template='seaborn',\n",
    "    font=dict(\n",
    "        # family=\"Courier New, monospace\",\n",
    "        size=15,  # Set the font size here\n",
    "        color=\"Black\"\n",
    "    )\n",
    ")\n",
    "fig.show()\n",
    "fig.write_html(\"AS_Bereiche_gewichtet.html\",  include_plotlyjs='cdn')\n",
    "fig.write_image(f\"img/AS_Bereiche_gewichtet.svg\")"
   ]
  },
  {
   "cell_type": "markdown",
   "metadata": {},
   "source": [
    "# Mit Modulen & AS"
   ]
  },
  {
   "cell_type": "code",
   "execution_count": 55,
   "metadata": {},
   "outputs": [
    {
     "data": {
      "application/vnd.plotly.v1+json": {
       "config": {
        "plotlyServerURL": "https://plot.ly"
       },
       "data": [
        {
         "branchvalues": "total",
         "domain": {
          "x": [
           0,
           1
          ],
          "y": [
           0,
           1
          ]
         },
         "hovertemplate": "%{label}",
         "ids": [
          "Schlüsselkompetenzen Zertifikat \"Digital Humanities\"/Methodenmodul/Programmieren für DH/Python Grundlagen/(DH) Code verstehen<br>und anpassen",
          "Schlüsselkompetenzen Zertifikat \"Digital Humanities\"/Methodenmodul/DH Methoden & Tools/KI/(Python-)Beispielprojekt<br>zum Ausprobieren<br>und Anpassen",
          "Schlüsselkompetenzen Zertifikat \"Digital Humanities\"/Praxismodul/DH Projekt/Projekt/Anwendung der Kenntnisse<br>in einem selbstständigen<br>(Datenanalyse-)projekt",
          "Schlüsselkompetenzen Zertifikat \"Digital Humanities\"/Methodenmodul/DH Methoden & Tools/Nicht-Text-Daten/Audio (Bearbeiten,<br>Konvertieren, etc.)",
          "Schlüsselkompetenzen Zertifikat \"Digital Humanities\"/Methodenmodul/DH Methoden & Tools/Nicht-Text-Daten/Audio Signal Processing",
          "Schlüsselkompetenzen Zertifikat \"Digital Humanities\"/Methodenmodul/Umgang mit dem PC/PC Fortgeschritten/Aufbau/Administration<br>von Client-Server-Architektur",
          "Schlüsselkompetenzen Zertifikat \"Digital Humanities\"/Basismodul/DH Grundlagen/Einführung DH/Begriffsdefinition<br>DH",
          "Schlüsselkompetenzen Zertifikat \"Digital Humanities\"/Basismodul/DH Grundlagen/Einführung DH/Beispiele Fragestellungen<br>- Fächer: Literaturwissenschaft,<br>Editionsphilologie,<br>Linguistik, Geschichte,<br>Kunstgeschichte,<br>Archäologie, Musik,<br>Medienwissenschaft",
          "Schlüsselkompetenzen Zertifikat \"Digital Humanities\"/Basismodul/DH Grundlagen/Einführung DH/Beispiele Tools<br>& Methoden: Digitale<br>Editionen, Digitale<br>Archive, Korpusanalyse,<br>Oral History, GIS,<br>VR, 3D-Design, digitale<br>Filmanalyse",
          "Schlüsselkompetenzen Zertifikat \"Digital Humanities\"/Methodenmodul/DH Methoden & Tools/Nicht-Text-Daten/Bild (Bearbeiten,<br>Konvertieren, etc.)",
          "Schlüsselkompetenzen Zertifikat \"Digital Humanities\"/Methodenmodul/DH Methoden & Tools/Nicht-Text-Daten/Computer Vision",
          "Schlüsselkompetenzen Zertifikat \"Digital Humanities\"/Methodenmodul/Umgang mit dem PC/PC Grundlagen/Computer-Probleme<br>selber lösen (richtig<br>googlen, Tutorials<br>befolgen)",
          "Schlüsselkompetenzen Zertifikat \"Digital Humanities\"/Methodenmodul/Umgang mit dem PC/PC Fortgeschritten/Containerisierung<br>(z.B. Docker)",
          "Schlüsselkompetenzen Zertifikat \"Digital Humanities\"/Basismodul/DH Grundlagen/Einführung DH/DH & Ich (\"Wofür<br>brauche ich persönlich<br>DH-Methoden in meinem<br>Studium?\")",
          "Schlüsselkompetenzen Zertifikat \"Digital Humanities\"/Methodenmodul/Umgang mit dem PC/PC Grundlagen/Dateien - Ordnerstruktur/-hierarchie,<br>Pfade, Benennung,<br>Arten, Umwandeln",
          "Schlüsselkompetenzen Zertifikat \"Digital Humanities\"/Methodenmodul/Programmieren für DH/R/Datenanalyse & Textmining",
          "Schlüsselkompetenzen Zertifikat \"Digital Humanities\"/Praxismodul/DH Projekt/Projekt/Datenanalyse oder<br>Visualisierung",
          "Schlüsselkompetenzen Zertifikat \"Digital Humanities\"/Methodenmodul/Statistik für DH/Statistik Fortgeschritten/Datenanalyse und<br>Machine Learning",
          "Schlüsselkompetenzen Zertifikat \"Digital Humanities\"/Methodenmodul/Programmieren für DH/R/Datenaufbereitung<br>& Umgang mit Fehlermeldungen",
          "Schlüsselkompetenzen Zertifikat \"Digital Humanities\"/Basismodul/DH Grundlagen/Rechtliches/Datenschutz, Copyright,<br>DSGVO (in Bezug<br>auf Webscraping)",
          "Schlüsselkompetenzen Zertifikat \"Digital Humanities\"/Basismodul/DH Grundlagen/Einführung DH/Datenverarbeitung<br>& -organisation:<br>Datenbanken",
          "Schlüsselkompetenzen Zertifikat \"Digital Humanities\"/Basismodul/DH Grundlagen/Einführung DH/Datenverarbeitung<br>& -organisation:<br>Metadaten (Typen<br>& Standards)",
          "Schlüsselkompetenzen Zertifikat \"Digital Humanities\"/Methodenmodul/Programmieren für DH/R/Datenvisualisierung<br>(ggplot)",
          "Schlüsselkompetenzen Zertifikat \"Digital Humanities\"/Methodenmodul/Programmieren für DH/Python Grundlagen/Datenvisualisierung<br>(matplotlib, seaborn,<br>etc.)",
          "Schlüsselkompetenzen Zertifikat \"Digital Humanities\"/Methodenmodul/Statistik für DH/Statistik Fortgeschritten/Design und Implementierung<br>statistischer Modelle",
          "Schlüsselkompetenzen Zertifikat \"Digital Humanities\"/Methodenmodul/DH Methoden & Tools/Digitale Editionen/Digitale Editionen<br>bearbeiten/ Maintenance",
          "Schlüsselkompetenzen Zertifikat \"Digital Humanities\"/Methodenmodul/DH Methoden & Tools/Digitale Editionen/Digitale Editionen<br>erstellen",
          "Schlüsselkompetenzen Zertifikat \"Digital Humanities\"/Methodenmodul/DH Methoden & Tools/Methoden/Digitalisierung:<br>Frameworks (bspw.<br>IIIF)",
          "Schlüsselkompetenzen Zertifikat \"Digital Humanities\"/Basismodul/DH Grundlagen/Einführung DH/Digitalisierung<br>- 3D Digitalisierung,<br>AR, VR (Plastiken,<br>Gebäudemodelle)",
          "Schlüsselkompetenzen Zertifikat \"Digital Humanities\"/Basismodul/DH Grundlagen/Einführung DH/Digitalisierung<br>- Bilder als digitale<br>Daten (Raster &<br>Vektorgrafiken)",
          "Schlüsselkompetenzen Zertifikat \"Digital Humanities\"/Basismodul/DH Grundlagen/Einführung DH/Digitalisierungsverfahren<br>Bild & Text",
          "Schlüsselkompetenzen Zertifikat \"Digital Humanities\"/Methodenmodul/DH Methoden & Tools/Methoden/Erstellung von TEI-Customisations",
          "Schlüsselkompetenzen Zertifikat \"Digital Humanities\"/Basismodul/DH Grundlagen/Rechtliches/Forschungsethik",
          "Schlüsselkompetenzen Zertifikat \"Digital Humanities\"/Methodenmodul/DH Methoden & Tools/Datenbanken/Fortgeschritten:<br>SQL/NoSQL, eXist-db,<br>MongoDB, etc.",
          "Schlüsselkompetenzen Zertifikat \"Digital Humanities\"/Methodenmodul/DH Methoden & Tools/Datenbanken/Fortgeschritten:<br>selbst aufsetzen,<br>bearbeiten, maintainen",
          "Schlüsselkompetenzen Zertifikat \"Digital Humanities\"/Basismodul/DH Grundlagen/Einführung DH/Geschichte der DH",
          "Schlüsselkompetenzen Zertifikat \"Digital Humanities\"/Methodenmodul/DH Methoden & Tools/Methoden/Graphanalyse",
          "Schlüsselkompetenzen Zertifikat \"Digital Humanities\"/Methodenmodul/Statistik für DH/Statistik Grundlagen/Graphische Darstellung<br>(welche Daten, welche<br>Darstellung, Fehler)",
          "Schlüsselkompetenzen Zertifikat \"Digital Humanities\"/Methodenmodul/Programmieren für DH/Python Grundlagen/Grundlagen Programmieren<br>(Kontrollfluss,<br>Schleifen, Grundlagen<br>i/o, Boolsche Logik,<br>etc.)",
          "Schlüsselkompetenzen Zertifikat \"Digital Humanities\"/Methodenmodul/Programmieren für DH/R/Grundlagen R Programmieren",
          "Schlüsselkompetenzen Zertifikat \"Digital Humanities\"/Methodenmodul/DH Methoden & Tools/Datenbanken/Grundlagen: Excel/CSV,<br>SQL, Zugriff auf<br>existierende DBs/API",
          "Schlüsselkompetenzen Zertifikat \"Digital Humanities\"/Methodenmodul/DH Methoden & Tools/Datenbanken/Grundlagen: Verwalten,<br>Zusammenfügen, Analysieren<br>großer Datensätze",
          "Schlüsselkompetenzen Zertifikat \"Digital Humanities\"/Methodenmodul/DH Methoden & Tools/Methoden/Information Retrieval",
          "Schlüsselkompetenzen Zertifikat \"Digital Humanities\"/Methodenmodul/Programmieren für DH/Python Grundlagen/Infrastruktur (IDE,<br>Jupyter Notebooks,<br>Colab/Pages/JupyterHub)",
          "Schlüsselkompetenzen Zertifikat \"Digital Humanities\"/Basismodul/DH Grundlagen/Misc/Internationale Standards<br>in der Auszeichnung<br>von (Meta)daten<br>z.B. METS, MODS,<br>TEI",
          "Schlüsselkompetenzen Zertifikat \"Digital Humanities\"/Methodenmodul/Programmieren für DH/Misc/Java ",
          "Schlüsselkompetenzen Zertifikat \"Digital Humanities\"/Methodenmodul/DH Methoden & Tools/Tools/Kartenerstellung<br>(GIS, ArcGis, etc.)",
          "Schlüsselkompetenzen Zertifikat \"Digital Humanities\"/Methodenmodul/Statistik für DH/Statistik Fortgeschritten/Klassifikation:<br>Beispielcode (z.B.<br>in Python oder R)",
          "Schlüsselkompetenzen Zertifikat \"Digital Humanities\"/Methodenmodul/Statistik für DH/Statistik Fortgeschritten/Klassifikation:<br>KNN, SVM, etc",
          "Schlüsselkompetenzen Zertifikat \"Digital Humanities\"/Methodenmodul/Statistik für DH/Statistik Fortgeschritten/Klassifikation:<br>Naive Bayes",
          "Schlüsselkompetenzen Zertifikat \"Digital Humanities\"/Methodenmodul/DH Methoden & Tools/Methoden/Kollation (Editionsphilologie)",
          "Schlüsselkompetenzen Zertifikat \"Digital Humanities\"/Methodenmodul/Programmieren für DH/Python Grundlagen/Korpusanalytische<br>Verfahren (Webscraping,<br>Tokenisierung, Annotation,<br>Kookkurrenz-, Frequenzanalyse,<br>etc.)",
          "Schlüsselkompetenzen Zertifikat \"Digital Humanities\"/Methodenmodul/Statistik für DH/Statistik Grundlagen/Korrelation & Kausalität",
          "Schlüsselkompetenzen Zertifikat \"Digital Humanities\"/Methodenmodul/Umgang mit dem PC/PC Fortgeschritten/LaTeχ (Overleaf)",
          "Schlüsselkompetenzen Zertifikat \"Digital Humanities\"/Methodenmodul/DH Methoden & Tools/KI/Maschinelles Lernen:<br>Algorithmen",
          "Schlüsselkompetenzen Zertifikat \"Digital Humanities\"/Methodenmodul/DH Methoden & Tools/KI/Mathematische Grundlagen",
          "Schlüsselkompetenzen Zertifikat \"Digital Humanities\"/Methodenmodul/DH Methoden & Tools/Tools/MaxQDA",
          "Schlüsselkompetenzen Zertifikat \"Digital Humanities\"/Methodenmodul/Programmieren für DH/Python Fortgeschritten/NLTK",
          "Schlüsselkompetenzen Zertifikat \"Digital Humanities\"/Methodenmodul/DH Methoden & Tools/Methoden/Named Entity Recognition",
          "Schlüsselkompetenzen Zertifikat \"Digital Humanities\"/Methodenmodul/DH Methoden & Tools/Methoden/Network Analysis",
          "Schlüsselkompetenzen Zertifikat \"Digital Humanities\"/Methodenmodul/DH Methoden & Tools/Tools/OCR: Tools, Python-Bibliotheken,<br>APIs",
          "Schlüsselkompetenzen Zertifikat \"Digital Humanities\"/Basismodul/DH Grundlagen/Rechtliches/Open Access / Open<br>Research",
          "Schlüsselkompetenzen Zertifikat \"Digital Humanities\"/Methodenmodul/DH Methoden & Tools/Tools/Open Refine",
          "Schlüsselkompetenzen Zertifikat \"Digital Humanities\"/Methodenmodul/Programmieren für DH/Python Grundlagen/Pandas",
          "Schlüsselkompetenzen Zertifikat \"Digital Humanities\"/Praxismodul/DH Projekt/Projekt/Projektorientiertes<br>Lernen: Modellierung,<br>Projektentwurf,<br>Umsetzung und Evaluation",
          "Schlüsselkompetenzen Zertifikat \"Digital Humanities\"/Methodenmodul/Umgang mit dem PC/PC Fortgeschritten/Quellenverwaltung<br>(mit Zotero, etc.)",
          "Schlüsselkompetenzen Zertifikat \"Digital Humanities\"/Methodenmodul/Statistik für DH/Statistik Grundlagen/Schätzer, Konfidenzintervalle<br>& Hypothesentests",
          "Schlüsselkompetenzen Zertifikat \"Digital Humanities\"/Praxismodul/DH Projekt/Projekt/Selbständiges Arbeiten<br>mit Datensätzen",
          "Schlüsselkompetenzen Zertifikat \"Digital Humanities\"/Methodenmodul/Umgang mit dem PC/PC Fortgeschritten/Shell Fortgeschritten:<br>shell scripts, variablen,<br>editor in der shell,<br>remote access/ssh",
          "Schlüsselkompetenzen Zertifikat \"Digital Humanities\"/Methodenmodul/Umgang mit dem PC/PC Grundlagen/Shell Grundlagen:<br>Was ist die Shell?,<br>Unix vs. Windows,<br>simple Befehle",
          "Schlüsselkompetenzen Zertifikat \"Digital Humanities\"/Methodenmodul/Statistik für DH/Statistik Grundlagen/Skalenniveaus",
          "Schlüsselkompetenzen Zertifikat \"Digital Humanities\"/Methodenmodul/Programmieren für DH/Python Fortgeschritten/Sonstige DH-Bibliotheken",
          "Schlüsselkompetenzen Zertifikat \"Digital Humanities\"/Methodenmodul/DH Methoden & Tools/Tools/Sonstige DH-Tools",
          "Schlüsselkompetenzen Zertifikat \"Digital Humanities\"/Methodenmodul/Programmieren für DH/Python Fortgeschritten/Spacy",
          "Schlüsselkompetenzen Zertifikat \"Digital Humanities\"/Methodenmodul/Umgang mit dem PC/PC Grundlagen/Tabellenkalkulation<br>- Excel/Google Sheets",
          "Schlüsselkompetenzen Zertifikat \"Digital Humanities\"/Methodenmodul/DH Methoden & Tools/Tools/Tableau",
          "Schlüsselkompetenzen Zertifikat \"Digital Humanities\"/Methodenmodul/Umgang mit dem PC/PC Grundlagen/Tastaturkürzel &<br>Sonderzeichen",
          "Schlüsselkompetenzen Zertifikat \"Digital Humanities\"/Methodenmodul/Programmieren für DH/Python Grundlagen/Text (String-Methoden/-Funktionen)",
          "Schlüsselkompetenzen Zertifikat \"Digital Humanities\"/Basismodul/DH Grundlagen/Einführung DH/Textdaten - Zeichenkodierung",
          "Schlüsselkompetenzen Zertifikat \"Digital Humanities\"/Basismodul/DH Grundlagen/Einführung DH/Textdaten Grundlagen<br>-  txt, md, csv,<br>tsv, XML, HTML,<br>KML, TEI",
          "Schlüsselkompetenzen Zertifikat \"Digital Humanities\"/Methodenmodul/Programmieren für DH/R/Tidyverse",
          "Schlüsselkompetenzen Zertifikat \"Digital Humanities\"/Methodenmodul/DH Methoden & Tools/Methoden/Topic Modelling",
          "Schlüsselkompetenzen Zertifikat \"Digital Humanities\"/Methodenmodul/DH Methoden & Tools/KI/Transformer-Architektur",
          "Schlüsselkompetenzen Zertifikat \"Digital Humanities\"/Methodenmodul/DH Methoden & Tools/Tools/Trifacta/Alteryx<br>Designer Cloud",
          "Schlüsselkompetenzen Zertifikat \"Digital Humanities\"/Methodenmodul/Umgang mit dem PC/PC Fortgeschritten/UNIX/Linux: Grundlagen,<br>Betriebssystem",
          "Schlüsselkompetenzen Zertifikat \"Digital Humanities\"/Methodenmodul/Programmieren für DH/Misc/UNIX/Linux: Script-Sprachen",
          "Schlüsselkompetenzen Zertifikat \"Digital Humanities\"/Methodenmodul/Umgang mit dem PC/PC Fortgeschritten/UNIX/Linux: Serveradministration",
          "Schlüsselkompetenzen Zertifikat \"Digital Humanities\"/Methodenmodul/DH Methoden & Tools/Methoden/Umgang mit Online-Korpora",
          "Schlüsselkompetenzen Zertifikat \"Digital Humanities\"/Methodenmodul/DH Methoden & Tools/Tools/Umgang mit lokalen<br>Korpustools (Antconc,<br>etc.)",
          "Schlüsselkompetenzen Zertifikat \"Digital Humanities\"/Methodenmodul/Umgang mit dem PC/PC Grundlagen/Versionskontrolle/Datensicherung",
          "Schlüsselkompetenzen Zertifikat \"Digital Humanities\"/Methodenmodul/Umgang mit dem PC/PC Fortgeschritten/Versionskontrolle<br>mit git",
          "Schlüsselkompetenzen Zertifikat \"Digital Humanities\"/Methodenmodul/DH Methoden & Tools/Nicht-Text-Daten/Video & 3D (Bearbeiten,<br>Konvertieren, etc.)",
          "Schlüsselkompetenzen Zertifikat \"Digital Humanities\"/Methodenmodul/Programmieren für DH/Web/Web-Frontend zur<br>Suche und Anzeige<br>von Datenbankinhalten<br>(z.B. Dashbord)",
          "Schlüsselkompetenzen Zertifikat \"Digital Humanities\"/Methodenmodul/Programmieren für DH/Web/Web-Programmierung/<br>-Frameworks (Django,<br>Flask, etc.)",
          "Schlüsselkompetenzen Zertifikat \"Digital Humanities\"/Methodenmodul/Programmieren für DH/Web/Webseiten (HTML,<br>CSS, PHP, JavaScript)",
          "Schlüsselkompetenzen Zertifikat \"Digital Humanities\"/Praxismodul/DH Projekt/Projekt/Wissenskommunikation<br>(Vorgehen & Ergebnisse<br>nachvollziehbar<br>darstellen)",
          "Schlüsselkompetenzen Zertifikat \"Digital Humanities\"/Methodenmodul/DH Methoden & Tools/Tools/Wordsmith",
          "Schlüsselkompetenzen Zertifikat \"Digital Humanities\"/Methodenmodul/DH Methoden & Tools/Methoden/XML-Technologien<br>Fortgeschritten<br>(TEI-XML, Xquery,<br>XSLT, XPATH)",
          "Schlüsselkompetenzen Zertifikat \"Digital Humanities\"/Methodenmodul/DH Methoden & Tools/KI/Überblick (High<br>Level: wie funktioniert<br>KI/ML/Klassifikation/Generation/Bias)",
          "Schlüsselkompetenzen Zertifikat \"Digital Humanities\"/Basismodul/DH Grundlagen/Einführung DH/Überblick Textdatenbanken/Korpora<br>(\"Welche gibt es?\",<br>\"Wie finde ich passende<br>Korpora/Datenbanken?\")",
          "Schlüsselkompetenzen Zertifikat \"Digital Humanities\"/Methodenmodul/DH Methoden & Tools/Datenbanken",
          "Schlüsselkompetenzen Zertifikat \"Digital Humanities\"/Methodenmodul/DH Methoden & Tools/Digitale Editionen",
          "Schlüsselkompetenzen Zertifikat \"Digital Humanities\"/Basismodul/DH Grundlagen/Einführung DH",
          "Schlüsselkompetenzen Zertifikat \"Digital Humanities\"/Methodenmodul/DH Methoden & Tools/KI",
          "Schlüsselkompetenzen Zertifikat \"Digital Humanities\"/Methodenmodul/DH Methoden & Tools/Methoden",
          "Schlüsselkompetenzen Zertifikat \"Digital Humanities\"/Basismodul/DH Grundlagen/Misc",
          "Schlüsselkompetenzen Zertifikat \"Digital Humanities\"/Methodenmodul/Programmieren für DH/Misc",
          "Schlüsselkompetenzen Zertifikat \"Digital Humanities\"/Methodenmodul/DH Methoden & Tools/Nicht-Text-Daten",
          "Schlüsselkompetenzen Zertifikat \"Digital Humanities\"/Methodenmodul/Umgang mit dem PC/PC Fortgeschritten",
          "Schlüsselkompetenzen Zertifikat \"Digital Humanities\"/Methodenmodul/Umgang mit dem PC/PC Grundlagen",
          "Schlüsselkompetenzen Zertifikat \"Digital Humanities\"/Praxismodul/DH Projekt/Projekt",
          "Schlüsselkompetenzen Zertifikat \"Digital Humanities\"/Methodenmodul/Programmieren für DH/Python Fortgeschritten",
          "Schlüsselkompetenzen Zertifikat \"Digital Humanities\"/Methodenmodul/Programmieren für DH/Python Grundlagen",
          "Schlüsselkompetenzen Zertifikat \"Digital Humanities\"/Methodenmodul/Programmieren für DH/R",
          "Schlüsselkompetenzen Zertifikat \"Digital Humanities\"/Basismodul/DH Grundlagen/Rechtliches",
          "Schlüsselkompetenzen Zertifikat \"Digital Humanities\"/Methodenmodul/Statistik für DH/Statistik Fortgeschritten",
          "Schlüsselkompetenzen Zertifikat \"Digital Humanities\"/Methodenmodul/Statistik für DH/Statistik Grundlagen",
          "Schlüsselkompetenzen Zertifikat \"Digital Humanities\"/Methodenmodul/DH Methoden & Tools/Tools",
          "Schlüsselkompetenzen Zertifikat \"Digital Humanities\"/Methodenmodul/Programmieren für DH/Web",
          "Schlüsselkompetenzen Zertifikat \"Digital Humanities\"/Basismodul/DH Grundlagen",
          "Schlüsselkompetenzen Zertifikat \"Digital Humanities\"/Methodenmodul/DH Methoden & Tools",
          "Schlüsselkompetenzen Zertifikat \"Digital Humanities\"/Praxismodul/DH Projekt",
          "Schlüsselkompetenzen Zertifikat \"Digital Humanities\"/Methodenmodul/Programmieren für DH",
          "Schlüsselkompetenzen Zertifikat \"Digital Humanities\"/Methodenmodul/Statistik für DH",
          "Schlüsselkompetenzen Zertifikat \"Digital Humanities\"/Methodenmodul/Umgang mit dem PC",
          "Schlüsselkompetenzen Zertifikat \"Digital Humanities\"/Basismodul",
          "Schlüsselkompetenzen Zertifikat \"Digital Humanities\"/Methodenmodul",
          "Schlüsselkompetenzen Zertifikat \"Digital Humanities\"/Praxismodul",
          "Schlüsselkompetenzen Zertifikat \"Digital Humanities\""
         ],
         "labels": [
          "(DH) Code verstehen<br>und anpassen",
          "(Python-)Beispielprojekt<br>zum Ausprobieren<br>und Anpassen",
          "Anwendung der Kenntnisse<br>in einem selbstständigen<br>(Datenanalyse-)projekt",
          "Audio (Bearbeiten,<br>Konvertieren, etc.)",
          "Audio Signal Processing",
          "Aufbau/Administration<br>von Client-Server-Architektur",
          "Begriffsdefinition<br>DH",
          "Beispiele Fragestellungen<br>- Fächer: Literaturwissenschaft,<br>Editionsphilologie,<br>Linguistik, Geschichte,<br>Kunstgeschichte,<br>Archäologie, Musik,<br>Medienwissenschaft",
          "Beispiele Tools<br>& Methoden: Digitale<br>Editionen, Digitale<br>Archive, Korpusanalyse,<br>Oral History, GIS,<br>VR, 3D-Design, digitale<br>Filmanalyse",
          "Bild (Bearbeiten,<br>Konvertieren, etc.)",
          "Computer Vision",
          "Computer-Probleme<br>selber lösen (richtig<br>googlen, Tutorials<br>befolgen)",
          "Containerisierung<br>(z.B. Docker)",
          "DH & Ich (\"Wofür<br>brauche ich persönlich<br>DH-Methoden in meinem<br>Studium?\")",
          "Dateien - Ordnerstruktur/-hierarchie,<br>Pfade, Benennung,<br>Arten, Umwandeln",
          "Datenanalyse & Textmining",
          "Datenanalyse oder<br>Visualisierung",
          "Datenanalyse und<br>Machine Learning",
          "Datenaufbereitung<br>& Umgang mit Fehlermeldungen",
          "Datenschutz, Copyright,<br>DSGVO (in Bezug<br>auf Webscraping)",
          "Datenverarbeitung<br>& -organisation:<br>Datenbanken",
          "Datenverarbeitung<br>& -organisation:<br>Metadaten (Typen<br>& Standards)",
          "Datenvisualisierung<br>(ggplot)",
          "Datenvisualisierung<br>(matplotlib, seaborn,<br>etc.)",
          "Design und Implementierung<br>statistischer Modelle",
          "Digitale Editionen<br>bearbeiten/ Maintenance",
          "Digitale Editionen<br>erstellen",
          "Digitalisierung:<br>Frameworks (bspw.<br>IIIF)",
          "Digitalisierung<br>- 3D Digitalisierung,<br>AR, VR (Plastiken,<br>Gebäudemodelle)",
          "Digitalisierung<br>- Bilder als digitale<br>Daten (Raster &<br>Vektorgrafiken)",
          "Digitalisierungsverfahren<br>Bild & Text",
          "Erstellung von TEI-Customisations",
          "Forschungsethik",
          "Fortgeschritten:<br>SQL/NoSQL, eXist-db,<br>MongoDB, etc.",
          "Fortgeschritten:<br>selbst aufsetzen,<br>bearbeiten, maintainen",
          "Geschichte der DH",
          "Graphanalyse",
          "Graphische Darstellung<br>(welche Daten, welche<br>Darstellung, Fehler)",
          "Grundlagen Programmieren<br>(Kontrollfluss,<br>Schleifen, Grundlagen<br>i/o, Boolsche Logik,<br>etc.)",
          "Grundlagen R Programmieren",
          "Grundlagen: Excel/CSV,<br>SQL, Zugriff auf<br>existierende DBs/API",
          "Grundlagen: Verwalten,<br>Zusammenfügen, Analysieren<br>großer Datensätze",
          "Information Retrieval",
          "Infrastruktur (IDE,<br>Jupyter Notebooks,<br>Colab/Pages/JupyterHub)",
          "Internationale Standards<br>in der Auszeichnung<br>von (Meta)daten<br>z.B. METS, MODS,<br>TEI",
          "Java ",
          "Kartenerstellung<br>(GIS, ArcGis, etc.)",
          "Klassifikation:<br>Beispielcode (z.B.<br>in Python oder R)",
          "Klassifikation:<br>KNN, SVM, etc",
          "Klassifikation:<br>Naive Bayes",
          "Kollation (Editionsphilologie)",
          "Korpusanalytische<br>Verfahren (Webscraping,<br>Tokenisierung, Annotation,<br>Kookkurrenz-, Frequenzanalyse,<br>etc.)",
          "Korrelation & Kausalität",
          "LaTeχ (Overleaf)",
          "Maschinelles Lernen:<br>Algorithmen",
          "Mathematische Grundlagen",
          "MaxQDA",
          "NLTK",
          "Named Entity Recognition",
          "Network Analysis",
          "OCR: Tools, Python-Bibliotheken,<br>APIs",
          "Open Access / Open<br>Research",
          "Open Refine",
          "Pandas",
          "Projektorientiertes<br>Lernen: Modellierung,<br>Projektentwurf,<br>Umsetzung und Evaluation",
          "Quellenverwaltung<br>(mit Zotero, etc.)",
          "Schätzer, Konfidenzintervalle<br>& Hypothesentests",
          "Selbständiges Arbeiten<br>mit Datensätzen",
          "Shell Fortgeschritten:<br>shell scripts, variablen,<br>editor in der shell,<br>remote access/ssh",
          "Shell Grundlagen:<br>Was ist die Shell?,<br>Unix vs. Windows,<br>simple Befehle",
          "Skalenniveaus",
          "Sonstige DH-Bibliotheken",
          "Sonstige DH-Tools",
          "Spacy",
          "Tabellenkalkulation<br>- Excel/Google Sheets",
          "Tableau",
          "Tastaturkürzel &<br>Sonderzeichen",
          "Text (String-Methoden/-Funktionen)",
          "Textdaten - Zeichenkodierung",
          "Textdaten Grundlagen<br>-  txt, md, csv,<br>tsv, XML, HTML,<br>KML, TEI",
          "Tidyverse",
          "Topic Modelling",
          "Transformer-Architektur",
          "Trifacta/Alteryx<br>Designer Cloud",
          "UNIX/Linux: Grundlagen,<br>Betriebssystem",
          "UNIX/Linux: Script-Sprachen",
          "UNIX/Linux: Serveradministration",
          "Umgang mit Online-Korpora",
          "Umgang mit lokalen<br>Korpustools (Antconc,<br>etc.)",
          "Versionskontrolle/Datensicherung",
          "Versionskontrolle<br>mit git",
          "Video & 3D (Bearbeiten,<br>Konvertieren, etc.)",
          "Web-Frontend zur<br>Suche und Anzeige<br>von Datenbankinhalten<br>(z.B. Dashbord)",
          "Web-Programmierung/<br>-Frameworks (Django,<br>Flask, etc.)",
          "Webseiten (HTML,<br>CSS, PHP, JavaScript)",
          "Wissenskommunikation<br>(Vorgehen & Ergebnisse<br>nachvollziehbar<br>darstellen)",
          "Wordsmith",
          "XML-Technologien<br>Fortgeschritten<br>(TEI-XML, Xquery,<br>XSLT, XPATH)",
          "Überblick (High<br>Level: wie funktioniert<br>KI/ML/Klassifikation/Generation/Bias)",
          "Überblick Textdatenbanken/Korpora<br>(\"Welche gibt es?\",<br>\"Wie finde ich passende<br>Korpora/Datenbanken?\")",
          "Datenbanken",
          "Digitale Editionen",
          "Einführung DH",
          "KI",
          "Methoden",
          "Misc",
          "Misc",
          "Nicht-Text-Daten",
          "PC Fortgeschritten",
          "PC Grundlagen",
          "Projekt",
          "Python Fortgeschritten",
          "Python Grundlagen",
          "R",
          "Rechtliches",
          "Statistik Fortgeschritten",
          "Statistik Grundlagen",
          "Tools",
          "Web",
          "DH Grundlagen",
          "DH Methoden & Tools",
          "DH Projekt",
          "Programmieren für DH",
          "Statistik für DH",
          "Umgang mit dem PC",
          "Basismodul",
          "Methodenmodul",
          "Praxismodul",
          "Schlüsselkompetenzen Zertifikat \"Digital Humanities\""
         ],
         "marker": {
          "cornerradius": 5
         },
         "name": "",
         "parents": [
          "Schlüsselkompetenzen Zertifikat \"Digital Humanities\"/Methodenmodul/Programmieren für DH/Python Grundlagen",
          "Schlüsselkompetenzen Zertifikat \"Digital Humanities\"/Methodenmodul/DH Methoden & Tools/KI",
          "Schlüsselkompetenzen Zertifikat \"Digital Humanities\"/Praxismodul/DH Projekt/Projekt",
          "Schlüsselkompetenzen Zertifikat \"Digital Humanities\"/Methodenmodul/DH Methoden & Tools/Nicht-Text-Daten",
          "Schlüsselkompetenzen Zertifikat \"Digital Humanities\"/Methodenmodul/DH Methoden & Tools/Nicht-Text-Daten",
          "Schlüsselkompetenzen Zertifikat \"Digital Humanities\"/Methodenmodul/Umgang mit dem PC/PC Fortgeschritten",
          "Schlüsselkompetenzen Zertifikat \"Digital Humanities\"/Basismodul/DH Grundlagen/Einführung DH",
          "Schlüsselkompetenzen Zertifikat \"Digital Humanities\"/Basismodul/DH Grundlagen/Einführung DH",
          "Schlüsselkompetenzen Zertifikat \"Digital Humanities\"/Basismodul/DH Grundlagen/Einführung DH",
          "Schlüsselkompetenzen Zertifikat \"Digital Humanities\"/Methodenmodul/DH Methoden & Tools/Nicht-Text-Daten",
          "Schlüsselkompetenzen Zertifikat \"Digital Humanities\"/Methodenmodul/DH Methoden & Tools/Nicht-Text-Daten",
          "Schlüsselkompetenzen Zertifikat \"Digital Humanities\"/Methodenmodul/Umgang mit dem PC/PC Grundlagen",
          "Schlüsselkompetenzen Zertifikat \"Digital Humanities\"/Methodenmodul/Umgang mit dem PC/PC Fortgeschritten",
          "Schlüsselkompetenzen Zertifikat \"Digital Humanities\"/Basismodul/DH Grundlagen/Einführung DH",
          "Schlüsselkompetenzen Zertifikat \"Digital Humanities\"/Methodenmodul/Umgang mit dem PC/PC Grundlagen",
          "Schlüsselkompetenzen Zertifikat \"Digital Humanities\"/Methodenmodul/Programmieren für DH/R",
          "Schlüsselkompetenzen Zertifikat \"Digital Humanities\"/Praxismodul/DH Projekt/Projekt",
          "Schlüsselkompetenzen Zertifikat \"Digital Humanities\"/Methodenmodul/Statistik für DH/Statistik Fortgeschritten",
          "Schlüsselkompetenzen Zertifikat \"Digital Humanities\"/Methodenmodul/Programmieren für DH/R",
          "Schlüsselkompetenzen Zertifikat \"Digital Humanities\"/Basismodul/DH Grundlagen/Rechtliches",
          "Schlüsselkompetenzen Zertifikat \"Digital Humanities\"/Basismodul/DH Grundlagen/Einführung DH",
          "Schlüsselkompetenzen Zertifikat \"Digital Humanities\"/Basismodul/DH Grundlagen/Einführung DH",
          "Schlüsselkompetenzen Zertifikat \"Digital Humanities\"/Methodenmodul/Programmieren für DH/R",
          "Schlüsselkompetenzen Zertifikat \"Digital Humanities\"/Methodenmodul/Programmieren für DH/Python Grundlagen",
          "Schlüsselkompetenzen Zertifikat \"Digital Humanities\"/Methodenmodul/Statistik für DH/Statistik Fortgeschritten",
          "Schlüsselkompetenzen Zertifikat \"Digital Humanities\"/Methodenmodul/DH Methoden & Tools/Digitale Editionen",
          "Schlüsselkompetenzen Zertifikat \"Digital Humanities\"/Methodenmodul/DH Methoden & Tools/Digitale Editionen",
          "Schlüsselkompetenzen Zertifikat \"Digital Humanities\"/Methodenmodul/DH Methoden & Tools/Methoden",
          "Schlüsselkompetenzen Zertifikat \"Digital Humanities\"/Basismodul/DH Grundlagen/Einführung DH",
          "Schlüsselkompetenzen Zertifikat \"Digital Humanities\"/Basismodul/DH Grundlagen/Einführung DH",
          "Schlüsselkompetenzen Zertifikat \"Digital Humanities\"/Basismodul/DH Grundlagen/Einführung DH",
          "Schlüsselkompetenzen Zertifikat \"Digital Humanities\"/Methodenmodul/DH Methoden & Tools/Methoden",
          "Schlüsselkompetenzen Zertifikat \"Digital Humanities\"/Basismodul/DH Grundlagen/Rechtliches",
          "Schlüsselkompetenzen Zertifikat \"Digital Humanities\"/Methodenmodul/DH Methoden & Tools/Datenbanken",
          "Schlüsselkompetenzen Zertifikat \"Digital Humanities\"/Methodenmodul/DH Methoden & Tools/Datenbanken",
          "Schlüsselkompetenzen Zertifikat \"Digital Humanities\"/Basismodul/DH Grundlagen/Einführung DH",
          "Schlüsselkompetenzen Zertifikat \"Digital Humanities\"/Methodenmodul/DH Methoden & Tools/Methoden",
          "Schlüsselkompetenzen Zertifikat \"Digital Humanities\"/Methodenmodul/Statistik für DH/Statistik Grundlagen",
          "Schlüsselkompetenzen Zertifikat \"Digital Humanities\"/Methodenmodul/Programmieren für DH/Python Grundlagen",
          "Schlüsselkompetenzen Zertifikat \"Digital Humanities\"/Methodenmodul/Programmieren für DH/R",
          "Schlüsselkompetenzen Zertifikat \"Digital Humanities\"/Methodenmodul/DH Methoden & Tools/Datenbanken",
          "Schlüsselkompetenzen Zertifikat \"Digital Humanities\"/Methodenmodul/DH Methoden & Tools/Datenbanken",
          "Schlüsselkompetenzen Zertifikat \"Digital Humanities\"/Methodenmodul/DH Methoden & Tools/Methoden",
          "Schlüsselkompetenzen Zertifikat \"Digital Humanities\"/Methodenmodul/Programmieren für DH/Python Grundlagen",
          "Schlüsselkompetenzen Zertifikat \"Digital Humanities\"/Basismodul/DH Grundlagen/Misc",
          "Schlüsselkompetenzen Zertifikat \"Digital Humanities\"/Methodenmodul/Programmieren für DH/Misc",
          "Schlüsselkompetenzen Zertifikat \"Digital Humanities\"/Methodenmodul/DH Methoden & Tools/Tools",
          "Schlüsselkompetenzen Zertifikat \"Digital Humanities\"/Methodenmodul/Statistik für DH/Statistik Fortgeschritten",
          "Schlüsselkompetenzen Zertifikat \"Digital Humanities\"/Methodenmodul/Statistik für DH/Statistik Fortgeschritten",
          "Schlüsselkompetenzen Zertifikat \"Digital Humanities\"/Methodenmodul/Statistik für DH/Statistik Fortgeschritten",
          "Schlüsselkompetenzen Zertifikat \"Digital Humanities\"/Methodenmodul/DH Methoden & Tools/Methoden",
          "Schlüsselkompetenzen Zertifikat \"Digital Humanities\"/Methodenmodul/Programmieren für DH/Python Grundlagen",
          "Schlüsselkompetenzen Zertifikat \"Digital Humanities\"/Methodenmodul/Statistik für DH/Statistik Grundlagen",
          "Schlüsselkompetenzen Zertifikat \"Digital Humanities\"/Methodenmodul/Umgang mit dem PC/PC Fortgeschritten",
          "Schlüsselkompetenzen Zertifikat \"Digital Humanities\"/Methodenmodul/DH Methoden & Tools/KI",
          "Schlüsselkompetenzen Zertifikat \"Digital Humanities\"/Methodenmodul/DH Methoden & Tools/KI",
          "Schlüsselkompetenzen Zertifikat \"Digital Humanities\"/Methodenmodul/DH Methoden & Tools/Tools",
          "Schlüsselkompetenzen Zertifikat \"Digital Humanities\"/Methodenmodul/Programmieren für DH/Python Fortgeschritten",
          "Schlüsselkompetenzen Zertifikat \"Digital Humanities\"/Methodenmodul/DH Methoden & Tools/Methoden",
          "Schlüsselkompetenzen Zertifikat \"Digital Humanities\"/Methodenmodul/DH Methoden & Tools/Methoden",
          "Schlüsselkompetenzen Zertifikat \"Digital Humanities\"/Methodenmodul/DH Methoden & Tools/Tools",
          "Schlüsselkompetenzen Zertifikat \"Digital Humanities\"/Basismodul/DH Grundlagen/Rechtliches",
          "Schlüsselkompetenzen Zertifikat \"Digital Humanities\"/Methodenmodul/DH Methoden & Tools/Tools",
          "Schlüsselkompetenzen Zertifikat \"Digital Humanities\"/Methodenmodul/Programmieren für DH/Python Grundlagen",
          "Schlüsselkompetenzen Zertifikat \"Digital Humanities\"/Praxismodul/DH Projekt/Projekt",
          "Schlüsselkompetenzen Zertifikat \"Digital Humanities\"/Methodenmodul/Umgang mit dem PC/PC Fortgeschritten",
          "Schlüsselkompetenzen Zertifikat \"Digital Humanities\"/Methodenmodul/Statistik für DH/Statistik Grundlagen",
          "Schlüsselkompetenzen Zertifikat \"Digital Humanities\"/Praxismodul/DH Projekt/Projekt",
          "Schlüsselkompetenzen Zertifikat \"Digital Humanities\"/Methodenmodul/Umgang mit dem PC/PC Fortgeschritten",
          "Schlüsselkompetenzen Zertifikat \"Digital Humanities\"/Methodenmodul/Umgang mit dem PC/PC Grundlagen",
          "Schlüsselkompetenzen Zertifikat \"Digital Humanities\"/Methodenmodul/Statistik für DH/Statistik Grundlagen",
          "Schlüsselkompetenzen Zertifikat \"Digital Humanities\"/Methodenmodul/Programmieren für DH/Python Fortgeschritten",
          "Schlüsselkompetenzen Zertifikat \"Digital Humanities\"/Methodenmodul/DH Methoden & Tools/Tools",
          "Schlüsselkompetenzen Zertifikat \"Digital Humanities\"/Methodenmodul/Programmieren für DH/Python Fortgeschritten",
          "Schlüsselkompetenzen Zertifikat \"Digital Humanities\"/Methodenmodul/Umgang mit dem PC/PC Grundlagen",
          "Schlüsselkompetenzen Zertifikat \"Digital Humanities\"/Methodenmodul/DH Methoden & Tools/Tools",
          "Schlüsselkompetenzen Zertifikat \"Digital Humanities\"/Methodenmodul/Umgang mit dem PC/PC Grundlagen",
          "Schlüsselkompetenzen Zertifikat \"Digital Humanities\"/Methodenmodul/Programmieren für DH/Python Grundlagen",
          "Schlüsselkompetenzen Zertifikat \"Digital Humanities\"/Basismodul/DH Grundlagen/Einführung DH",
          "Schlüsselkompetenzen Zertifikat \"Digital Humanities\"/Basismodul/DH Grundlagen/Einführung DH",
          "Schlüsselkompetenzen Zertifikat \"Digital Humanities\"/Methodenmodul/Programmieren für DH/R",
          "Schlüsselkompetenzen Zertifikat \"Digital Humanities\"/Methodenmodul/DH Methoden & Tools/Methoden",
          "Schlüsselkompetenzen Zertifikat \"Digital Humanities\"/Methodenmodul/DH Methoden & Tools/KI",
          "Schlüsselkompetenzen Zertifikat \"Digital Humanities\"/Methodenmodul/DH Methoden & Tools/Tools",
          "Schlüsselkompetenzen Zertifikat \"Digital Humanities\"/Methodenmodul/Umgang mit dem PC/PC Fortgeschritten",
          "Schlüsselkompetenzen Zertifikat \"Digital Humanities\"/Methodenmodul/Programmieren für DH/Misc",
          "Schlüsselkompetenzen Zertifikat \"Digital Humanities\"/Methodenmodul/Umgang mit dem PC/PC Fortgeschritten",
          "Schlüsselkompetenzen Zertifikat \"Digital Humanities\"/Methodenmodul/DH Methoden & Tools/Methoden",
          "Schlüsselkompetenzen Zertifikat \"Digital Humanities\"/Methodenmodul/DH Methoden & Tools/Tools",
          "Schlüsselkompetenzen Zertifikat \"Digital Humanities\"/Methodenmodul/Umgang mit dem PC/PC Grundlagen",
          "Schlüsselkompetenzen Zertifikat \"Digital Humanities\"/Methodenmodul/Umgang mit dem PC/PC Fortgeschritten",
          "Schlüsselkompetenzen Zertifikat \"Digital Humanities\"/Methodenmodul/DH Methoden & Tools/Nicht-Text-Daten",
          "Schlüsselkompetenzen Zertifikat \"Digital Humanities\"/Methodenmodul/Programmieren für DH/Web",
          "Schlüsselkompetenzen Zertifikat \"Digital Humanities\"/Methodenmodul/Programmieren für DH/Web",
          "Schlüsselkompetenzen Zertifikat \"Digital Humanities\"/Methodenmodul/Programmieren für DH/Web",
          "Schlüsselkompetenzen Zertifikat \"Digital Humanities\"/Praxismodul/DH Projekt/Projekt",
          "Schlüsselkompetenzen Zertifikat \"Digital Humanities\"/Methodenmodul/DH Methoden & Tools/Tools",
          "Schlüsselkompetenzen Zertifikat \"Digital Humanities\"/Methodenmodul/DH Methoden & Tools/Methoden",
          "Schlüsselkompetenzen Zertifikat \"Digital Humanities\"/Methodenmodul/DH Methoden & Tools/KI",
          "Schlüsselkompetenzen Zertifikat \"Digital Humanities\"/Basismodul/DH Grundlagen/Einführung DH",
          "Schlüsselkompetenzen Zertifikat \"Digital Humanities\"/Methodenmodul/DH Methoden & Tools",
          "Schlüsselkompetenzen Zertifikat \"Digital Humanities\"/Methodenmodul/DH Methoden & Tools",
          "Schlüsselkompetenzen Zertifikat \"Digital Humanities\"/Basismodul/DH Grundlagen",
          "Schlüsselkompetenzen Zertifikat \"Digital Humanities\"/Methodenmodul/DH Methoden & Tools",
          "Schlüsselkompetenzen Zertifikat \"Digital Humanities\"/Methodenmodul/DH Methoden & Tools",
          "Schlüsselkompetenzen Zertifikat \"Digital Humanities\"/Basismodul/DH Grundlagen",
          "Schlüsselkompetenzen Zertifikat \"Digital Humanities\"/Methodenmodul/Programmieren für DH",
          "Schlüsselkompetenzen Zertifikat \"Digital Humanities\"/Methodenmodul/DH Methoden & Tools",
          "Schlüsselkompetenzen Zertifikat \"Digital Humanities\"/Methodenmodul/Umgang mit dem PC",
          "Schlüsselkompetenzen Zertifikat \"Digital Humanities\"/Methodenmodul/Umgang mit dem PC",
          "Schlüsselkompetenzen Zertifikat \"Digital Humanities\"/Praxismodul/DH Projekt",
          "Schlüsselkompetenzen Zertifikat \"Digital Humanities\"/Methodenmodul/Programmieren für DH",
          "Schlüsselkompetenzen Zertifikat \"Digital Humanities\"/Methodenmodul/Programmieren für DH",
          "Schlüsselkompetenzen Zertifikat \"Digital Humanities\"/Methodenmodul/Programmieren für DH",
          "Schlüsselkompetenzen Zertifikat \"Digital Humanities\"/Basismodul/DH Grundlagen",
          "Schlüsselkompetenzen Zertifikat \"Digital Humanities\"/Methodenmodul/Statistik für DH",
          "Schlüsselkompetenzen Zertifikat \"Digital Humanities\"/Methodenmodul/Statistik für DH",
          "Schlüsselkompetenzen Zertifikat \"Digital Humanities\"/Methodenmodul/DH Methoden & Tools",
          "Schlüsselkompetenzen Zertifikat \"Digital Humanities\"/Methodenmodul/Programmieren für DH",
          "Schlüsselkompetenzen Zertifikat \"Digital Humanities\"/Basismodul",
          "Schlüsselkompetenzen Zertifikat \"Digital Humanities\"/Methodenmodul",
          "Schlüsselkompetenzen Zertifikat \"Digital Humanities\"/Praxismodul",
          "Schlüsselkompetenzen Zertifikat \"Digital Humanities\"/Methodenmodul",
          "Schlüsselkompetenzen Zertifikat \"Digital Humanities\"/Methodenmodul",
          "Schlüsselkompetenzen Zertifikat \"Digital Humanities\"/Methodenmodul",
          "Schlüsselkompetenzen Zertifikat \"Digital Humanities\"",
          "Schlüsselkompetenzen Zertifikat \"Digital Humanities\"",
          "Schlüsselkompetenzen Zertifikat \"Digital Humanities\"",
          ""
         ],
         "type": "treemap",
         "values": [
          3,
          2,
          3,
          2,
          1,
          1,
          3,
          3,
          3,
          2,
          1,
          3,
          2,
          3,
          3,
          3,
          3,
          1,
          3,
          2,
          3,
          3,
          3,
          3,
          1,
          3,
          3,
          2,
          2,
          2,
          3,
          2,
          2,
          1,
          1,
          3,
          1,
          3,
          3,
          3,
          2,
          2,
          2,
          3,
          2,
          1,
          2,
          2,
          2,
          2,
          2,
          3,
          3,
          2,
          1,
          1,
          1,
          3,
          3,
          1,
          3,
          2,
          2,
          3,
          3,
          2,
          3,
          3,
          2,
          3,
          3,
          3,
          1,
          3,
          3,
          1,
          3,
          3,
          3,
          3,
          3,
          2,
          1,
          1,
          1,
          1,
          1,
          3,
          2,
          3,
          2,
          2,
          2,
          1,
          1,
          3,
          2,
          2,
          3,
          3,
          6,
          6,
          37,
          8,
          20,
          2,
          2,
          8,
          13,
          18,
          15,
          9,
          21,
          15,
          6,
          8,
          12,
          15,
          4,
          45,
          63,
          15,
          51,
          20,
          31,
          45,
          165,
          15,
          225
         ]
        }
       ],
       "layout": {
        "font": {
         "size": 15
        },
        "legend": {
         "tracegroupgap": 0
        },
        "margin": {
         "b": 25,
         "l": 25,
         "r": 25,
         "t": 25
        },
        "template": {
         "data": {
          "bar": [
           {
            "error_x": {
             "color": "rgb(36,36,36)"
            },
            "error_y": {
             "color": "rgb(36,36,36)"
            },
            "marker": {
             "line": {
              "color": "rgb(234,234,242)",
              "width": 0.5
             },
             "pattern": {
              "fillmode": "overlay",
              "size": 10,
              "solidity": 0.2
             }
            },
            "type": "bar"
           }
          ],
          "barpolar": [
           {
            "marker": {
             "line": {
              "color": "rgb(234,234,242)",
              "width": 0.5
             },
             "pattern": {
              "fillmode": "overlay",
              "size": 10,
              "solidity": 0.2
             }
            },
            "type": "barpolar"
           }
          ],
          "carpet": [
           {
            "aaxis": {
             "endlinecolor": "rgb(36,36,36)",
             "gridcolor": "white",
             "linecolor": "white",
             "minorgridcolor": "white",
             "startlinecolor": "rgb(36,36,36)"
            },
            "baxis": {
             "endlinecolor": "rgb(36,36,36)",
             "gridcolor": "white",
             "linecolor": "white",
             "minorgridcolor": "white",
             "startlinecolor": "rgb(36,36,36)"
            },
            "type": "carpet"
           }
          ],
          "choropleth": [
           {
            "colorbar": {
             "outlinewidth": 0,
             "tickcolor": "rgb(36,36,36)",
             "ticklen": 8,
             "ticks": "outside",
             "tickwidth": 2
            },
            "type": "choropleth"
           }
          ],
          "contour": [
           {
            "colorbar": {
             "outlinewidth": 0,
             "tickcolor": "rgb(36,36,36)",
             "ticklen": 8,
             "ticks": "outside",
             "tickwidth": 2
            },
            "colorscale": [
             [
              0,
              "rgb(2,4,25)"
             ],
             [
              0.06274509803921569,
              "rgb(24,15,41)"
             ],
             [
              0.12549019607843137,
              "rgb(47,23,57)"
             ],
             [
              0.18823529411764706,
              "rgb(71,28,72)"
             ],
             [
              0.25098039215686274,
              "rgb(97,30,82)"
             ],
             [
              0.3137254901960784,
              "rgb(123,30,89)"
             ],
             [
              0.3764705882352941,
              "rgb(150,27,91)"
             ],
             [
              0.4392156862745098,
              "rgb(177,22,88)"
             ],
             [
              0.5019607843137255,
              "rgb(203,26,79)"
             ],
             [
              0.5647058823529412,
              "rgb(223,47,67)"
             ],
             [
              0.6274509803921569,
              "rgb(236,76,61)"
             ],
             [
              0.6901960784313725,
              "rgb(242,107,73)"
             ],
             [
              0.7529411764705882,
              "rgb(244,135,95)"
             ],
             [
              0.8156862745098039,
              "rgb(245,162,122)"
             ],
             [
              0.8784313725490196,
              "rgb(246,188,153)"
             ],
             [
              0.9411764705882353,
              "rgb(247,212,187)"
             ],
             [
              1,
              "rgb(250,234,220)"
             ]
            ],
            "type": "contour"
           }
          ],
          "contourcarpet": [
           {
            "colorbar": {
             "outlinewidth": 0,
             "tickcolor": "rgb(36,36,36)",
             "ticklen": 8,
             "ticks": "outside",
             "tickwidth": 2
            },
            "type": "contourcarpet"
           }
          ],
          "heatmap": [
           {
            "colorbar": {
             "outlinewidth": 0,
             "tickcolor": "rgb(36,36,36)",
             "ticklen": 8,
             "ticks": "outside",
             "tickwidth": 2
            },
            "colorscale": [
             [
              0,
              "rgb(2,4,25)"
             ],
             [
              0.06274509803921569,
              "rgb(24,15,41)"
             ],
             [
              0.12549019607843137,
              "rgb(47,23,57)"
             ],
             [
              0.18823529411764706,
              "rgb(71,28,72)"
             ],
             [
              0.25098039215686274,
              "rgb(97,30,82)"
             ],
             [
              0.3137254901960784,
              "rgb(123,30,89)"
             ],
             [
              0.3764705882352941,
              "rgb(150,27,91)"
             ],
             [
              0.4392156862745098,
              "rgb(177,22,88)"
             ],
             [
              0.5019607843137255,
              "rgb(203,26,79)"
             ],
             [
              0.5647058823529412,
              "rgb(223,47,67)"
             ],
             [
              0.6274509803921569,
              "rgb(236,76,61)"
             ],
             [
              0.6901960784313725,
              "rgb(242,107,73)"
             ],
             [
              0.7529411764705882,
              "rgb(244,135,95)"
             ],
             [
              0.8156862745098039,
              "rgb(245,162,122)"
             ],
             [
              0.8784313725490196,
              "rgb(246,188,153)"
             ],
             [
              0.9411764705882353,
              "rgb(247,212,187)"
             ],
             [
              1,
              "rgb(250,234,220)"
             ]
            ],
            "type": "heatmap"
           }
          ],
          "heatmapgl": [
           {
            "colorbar": {
             "outlinewidth": 0,
             "tickcolor": "rgb(36,36,36)",
             "ticklen": 8,
             "ticks": "outside",
             "tickwidth": 2
            },
            "colorscale": [
             [
              0,
              "rgb(2,4,25)"
             ],
             [
              0.06274509803921569,
              "rgb(24,15,41)"
             ],
             [
              0.12549019607843137,
              "rgb(47,23,57)"
             ],
             [
              0.18823529411764706,
              "rgb(71,28,72)"
             ],
             [
              0.25098039215686274,
              "rgb(97,30,82)"
             ],
             [
              0.3137254901960784,
              "rgb(123,30,89)"
             ],
             [
              0.3764705882352941,
              "rgb(150,27,91)"
             ],
             [
              0.4392156862745098,
              "rgb(177,22,88)"
             ],
             [
              0.5019607843137255,
              "rgb(203,26,79)"
             ],
             [
              0.5647058823529412,
              "rgb(223,47,67)"
             ],
             [
              0.6274509803921569,
              "rgb(236,76,61)"
             ],
             [
              0.6901960784313725,
              "rgb(242,107,73)"
             ],
             [
              0.7529411764705882,
              "rgb(244,135,95)"
             ],
             [
              0.8156862745098039,
              "rgb(245,162,122)"
             ],
             [
              0.8784313725490196,
              "rgb(246,188,153)"
             ],
             [
              0.9411764705882353,
              "rgb(247,212,187)"
             ],
             [
              1,
              "rgb(250,234,220)"
             ]
            ],
            "type": "heatmapgl"
           }
          ],
          "histogram": [
           {
            "marker": {
             "pattern": {
              "fillmode": "overlay",
              "size": 10,
              "solidity": 0.2
             }
            },
            "type": "histogram"
           }
          ],
          "histogram2d": [
           {
            "colorbar": {
             "outlinewidth": 0,
             "tickcolor": "rgb(36,36,36)",
             "ticklen": 8,
             "ticks": "outside",
             "tickwidth": 2
            },
            "colorscale": [
             [
              0,
              "rgb(2,4,25)"
             ],
             [
              0.06274509803921569,
              "rgb(24,15,41)"
             ],
             [
              0.12549019607843137,
              "rgb(47,23,57)"
             ],
             [
              0.18823529411764706,
              "rgb(71,28,72)"
             ],
             [
              0.25098039215686274,
              "rgb(97,30,82)"
             ],
             [
              0.3137254901960784,
              "rgb(123,30,89)"
             ],
             [
              0.3764705882352941,
              "rgb(150,27,91)"
             ],
             [
              0.4392156862745098,
              "rgb(177,22,88)"
             ],
             [
              0.5019607843137255,
              "rgb(203,26,79)"
             ],
             [
              0.5647058823529412,
              "rgb(223,47,67)"
             ],
             [
              0.6274509803921569,
              "rgb(236,76,61)"
             ],
             [
              0.6901960784313725,
              "rgb(242,107,73)"
             ],
             [
              0.7529411764705882,
              "rgb(244,135,95)"
             ],
             [
              0.8156862745098039,
              "rgb(245,162,122)"
             ],
             [
              0.8784313725490196,
              "rgb(246,188,153)"
             ],
             [
              0.9411764705882353,
              "rgb(247,212,187)"
             ],
             [
              1,
              "rgb(250,234,220)"
             ]
            ],
            "type": "histogram2d"
           }
          ],
          "histogram2dcontour": [
           {
            "colorbar": {
             "outlinewidth": 0,
             "tickcolor": "rgb(36,36,36)",
             "ticklen": 8,
             "ticks": "outside",
             "tickwidth": 2
            },
            "colorscale": [
             [
              0,
              "rgb(2,4,25)"
             ],
             [
              0.06274509803921569,
              "rgb(24,15,41)"
             ],
             [
              0.12549019607843137,
              "rgb(47,23,57)"
             ],
             [
              0.18823529411764706,
              "rgb(71,28,72)"
             ],
             [
              0.25098039215686274,
              "rgb(97,30,82)"
             ],
             [
              0.3137254901960784,
              "rgb(123,30,89)"
             ],
             [
              0.3764705882352941,
              "rgb(150,27,91)"
             ],
             [
              0.4392156862745098,
              "rgb(177,22,88)"
             ],
             [
              0.5019607843137255,
              "rgb(203,26,79)"
             ],
             [
              0.5647058823529412,
              "rgb(223,47,67)"
             ],
             [
              0.6274509803921569,
              "rgb(236,76,61)"
             ],
             [
              0.6901960784313725,
              "rgb(242,107,73)"
             ],
             [
              0.7529411764705882,
              "rgb(244,135,95)"
             ],
             [
              0.8156862745098039,
              "rgb(245,162,122)"
             ],
             [
              0.8784313725490196,
              "rgb(246,188,153)"
             ],
             [
              0.9411764705882353,
              "rgb(247,212,187)"
             ],
             [
              1,
              "rgb(250,234,220)"
             ]
            ],
            "type": "histogram2dcontour"
           }
          ],
          "mesh3d": [
           {
            "colorbar": {
             "outlinewidth": 0,
             "tickcolor": "rgb(36,36,36)",
             "ticklen": 8,
             "ticks": "outside",
             "tickwidth": 2
            },
            "type": "mesh3d"
           }
          ],
          "parcoords": [
           {
            "line": {
             "colorbar": {
              "outlinewidth": 0,
              "tickcolor": "rgb(36,36,36)",
              "ticklen": 8,
              "ticks": "outside",
              "tickwidth": 2
             }
            },
            "type": "parcoords"
           }
          ],
          "pie": [
           {
            "automargin": true,
            "type": "pie"
           }
          ],
          "scatter": [
           {
            "fillpattern": {
             "fillmode": "overlay",
             "size": 10,
             "solidity": 0.2
            },
            "type": "scatter"
           }
          ],
          "scatter3d": [
           {
            "line": {
             "colorbar": {
              "outlinewidth": 0,
              "tickcolor": "rgb(36,36,36)",
              "ticklen": 8,
              "ticks": "outside",
              "tickwidth": 2
             }
            },
            "marker": {
             "colorbar": {
              "outlinewidth": 0,
              "tickcolor": "rgb(36,36,36)",
              "ticklen": 8,
              "ticks": "outside",
              "tickwidth": 2
             }
            },
            "type": "scatter3d"
           }
          ],
          "scattercarpet": [
           {
            "marker": {
             "colorbar": {
              "outlinewidth": 0,
              "tickcolor": "rgb(36,36,36)",
              "ticklen": 8,
              "ticks": "outside",
              "tickwidth": 2
             }
            },
            "type": "scattercarpet"
           }
          ],
          "scattergeo": [
           {
            "marker": {
             "colorbar": {
              "outlinewidth": 0,
              "tickcolor": "rgb(36,36,36)",
              "ticklen": 8,
              "ticks": "outside",
              "tickwidth": 2
             }
            },
            "type": "scattergeo"
           }
          ],
          "scattergl": [
           {
            "marker": {
             "colorbar": {
              "outlinewidth": 0,
              "tickcolor": "rgb(36,36,36)",
              "ticklen": 8,
              "ticks": "outside",
              "tickwidth": 2
             }
            },
            "type": "scattergl"
           }
          ],
          "scattermapbox": [
           {
            "marker": {
             "colorbar": {
              "outlinewidth": 0,
              "tickcolor": "rgb(36,36,36)",
              "ticklen": 8,
              "ticks": "outside",
              "tickwidth": 2
             }
            },
            "type": "scattermapbox"
           }
          ],
          "scatterpolar": [
           {
            "marker": {
             "colorbar": {
              "outlinewidth": 0,
              "tickcolor": "rgb(36,36,36)",
              "ticklen": 8,
              "ticks": "outside",
              "tickwidth": 2
             }
            },
            "type": "scatterpolar"
           }
          ],
          "scatterpolargl": [
           {
            "marker": {
             "colorbar": {
              "outlinewidth": 0,
              "tickcolor": "rgb(36,36,36)",
              "ticklen": 8,
              "ticks": "outside",
              "tickwidth": 2
             }
            },
            "type": "scatterpolargl"
           }
          ],
          "scatterternary": [
           {
            "marker": {
             "colorbar": {
              "outlinewidth": 0,
              "tickcolor": "rgb(36,36,36)",
              "ticklen": 8,
              "ticks": "outside",
              "tickwidth": 2
             }
            },
            "type": "scatterternary"
           }
          ],
          "surface": [
           {
            "colorbar": {
             "outlinewidth": 0,
             "tickcolor": "rgb(36,36,36)",
             "ticklen": 8,
             "ticks": "outside",
             "tickwidth": 2
            },
            "colorscale": [
             [
              0,
              "rgb(2,4,25)"
             ],
             [
              0.06274509803921569,
              "rgb(24,15,41)"
             ],
             [
              0.12549019607843137,
              "rgb(47,23,57)"
             ],
             [
              0.18823529411764706,
              "rgb(71,28,72)"
             ],
             [
              0.25098039215686274,
              "rgb(97,30,82)"
             ],
             [
              0.3137254901960784,
              "rgb(123,30,89)"
             ],
             [
              0.3764705882352941,
              "rgb(150,27,91)"
             ],
             [
              0.4392156862745098,
              "rgb(177,22,88)"
             ],
             [
              0.5019607843137255,
              "rgb(203,26,79)"
             ],
             [
              0.5647058823529412,
              "rgb(223,47,67)"
             ],
             [
              0.6274509803921569,
              "rgb(236,76,61)"
             ],
             [
              0.6901960784313725,
              "rgb(242,107,73)"
             ],
             [
              0.7529411764705882,
              "rgb(244,135,95)"
             ],
             [
              0.8156862745098039,
              "rgb(245,162,122)"
             ],
             [
              0.8784313725490196,
              "rgb(246,188,153)"
             ],
             [
              0.9411764705882353,
              "rgb(247,212,187)"
             ],
             [
              1,
              "rgb(250,234,220)"
             ]
            ],
            "type": "surface"
           }
          ],
          "table": [
           {
            "cells": {
             "fill": {
              "color": "rgb(231,231,240)"
             },
             "line": {
              "color": "white"
             }
            },
            "header": {
             "fill": {
              "color": "rgb(183,183,191)"
             },
             "line": {
              "color": "white"
             }
            },
            "type": "table"
           }
          ]
         },
         "layout": {
          "annotationdefaults": {
           "arrowcolor": "rgb(67,103,167)"
          },
          "autotypenumbers": "strict",
          "coloraxis": {
           "colorbar": {
            "outlinewidth": 0,
            "tickcolor": "rgb(36,36,36)",
            "ticklen": 8,
            "ticks": "outside",
            "tickwidth": 2
           }
          },
          "colorscale": {
           "sequential": [
            [
             0,
             "rgb(2,4,25)"
            ],
            [
             0.06274509803921569,
             "rgb(24,15,41)"
            ],
            [
             0.12549019607843137,
             "rgb(47,23,57)"
            ],
            [
             0.18823529411764706,
             "rgb(71,28,72)"
            ],
            [
             0.25098039215686274,
             "rgb(97,30,82)"
            ],
            [
             0.3137254901960784,
             "rgb(123,30,89)"
            ],
            [
             0.3764705882352941,
             "rgb(150,27,91)"
            ],
            [
             0.4392156862745098,
             "rgb(177,22,88)"
            ],
            [
             0.5019607843137255,
             "rgb(203,26,79)"
            ],
            [
             0.5647058823529412,
             "rgb(223,47,67)"
            ],
            [
             0.6274509803921569,
             "rgb(236,76,61)"
            ],
            [
             0.6901960784313725,
             "rgb(242,107,73)"
            ],
            [
             0.7529411764705882,
             "rgb(244,135,95)"
            ],
            [
             0.8156862745098039,
             "rgb(245,162,122)"
            ],
            [
             0.8784313725490196,
             "rgb(246,188,153)"
            ],
            [
             0.9411764705882353,
             "rgb(247,212,187)"
            ],
            [
             1,
             "rgb(250,234,220)"
            ]
           ],
           "sequentialminus": [
            [
             0,
             "rgb(2,4,25)"
            ],
            [
             0.06274509803921569,
             "rgb(24,15,41)"
            ],
            [
             0.12549019607843137,
             "rgb(47,23,57)"
            ],
            [
             0.18823529411764706,
             "rgb(71,28,72)"
            ],
            [
             0.25098039215686274,
             "rgb(97,30,82)"
            ],
            [
             0.3137254901960784,
             "rgb(123,30,89)"
            ],
            [
             0.3764705882352941,
             "rgb(150,27,91)"
            ],
            [
             0.4392156862745098,
             "rgb(177,22,88)"
            ],
            [
             0.5019607843137255,
             "rgb(203,26,79)"
            ],
            [
             0.5647058823529412,
             "rgb(223,47,67)"
            ],
            [
             0.6274509803921569,
             "rgb(236,76,61)"
            ],
            [
             0.6901960784313725,
             "rgb(242,107,73)"
            ],
            [
             0.7529411764705882,
             "rgb(244,135,95)"
            ],
            [
             0.8156862745098039,
             "rgb(245,162,122)"
            ],
            [
             0.8784313725490196,
             "rgb(246,188,153)"
            ],
            [
             0.9411764705882353,
             "rgb(247,212,187)"
            ],
            [
             1,
             "rgb(250,234,220)"
            ]
           ]
          },
          "colorway": [
           "rgb(76,114,176)",
           "rgb(221,132,82)",
           "rgb(85,168,104)",
           "rgb(196,78,82)",
           "rgb(129,114,179)",
           "rgb(147,120,96)",
           "rgb(218,139,195)",
           "rgb(140,140,140)",
           "rgb(204,185,116)",
           "rgb(100,181,205)"
          ],
          "font": {
           "color": "rgb(36,36,36)"
          },
          "geo": {
           "bgcolor": "white",
           "lakecolor": "white",
           "landcolor": "rgb(234,234,242)",
           "showlakes": true,
           "showland": true,
           "subunitcolor": "white"
          },
          "hoverlabel": {
           "align": "left"
          },
          "hovermode": "closest",
          "paper_bgcolor": "white",
          "plot_bgcolor": "rgb(234,234,242)",
          "polar": {
           "angularaxis": {
            "gridcolor": "white",
            "linecolor": "white",
            "showgrid": true,
            "ticks": ""
           },
           "bgcolor": "rgb(234,234,242)",
           "radialaxis": {
            "gridcolor": "white",
            "linecolor": "white",
            "showgrid": true,
            "ticks": ""
           }
          },
          "scene": {
           "xaxis": {
            "backgroundcolor": "rgb(234,234,242)",
            "gridcolor": "white",
            "gridwidth": 2,
            "linecolor": "white",
            "showbackground": true,
            "showgrid": true,
            "ticks": "",
            "zerolinecolor": "white"
           },
           "yaxis": {
            "backgroundcolor": "rgb(234,234,242)",
            "gridcolor": "white",
            "gridwidth": 2,
            "linecolor": "white",
            "showbackground": true,
            "showgrid": true,
            "ticks": "",
            "zerolinecolor": "white"
           },
           "zaxis": {
            "backgroundcolor": "rgb(234,234,242)",
            "gridcolor": "white",
            "gridwidth": 2,
            "linecolor": "white",
            "showbackground": true,
            "showgrid": true,
            "ticks": "",
            "zerolinecolor": "white"
           }
          },
          "shapedefaults": {
           "fillcolor": "rgb(67,103,167)",
           "line": {
            "width": 0
           },
           "opacity": 0.5
          },
          "ternary": {
           "aaxis": {
            "gridcolor": "white",
            "linecolor": "white",
            "showgrid": true,
            "ticks": ""
           },
           "baxis": {
            "gridcolor": "white",
            "linecolor": "white",
            "showgrid": true,
            "ticks": ""
           },
           "bgcolor": "rgb(234,234,242)",
           "caxis": {
            "gridcolor": "white",
            "linecolor": "white",
            "showgrid": true,
            "ticks": ""
           }
          },
          "xaxis": {
           "automargin": true,
           "gridcolor": "white",
           "linecolor": "white",
           "showgrid": true,
           "ticks": "",
           "title": {
            "standoff": 15
           },
           "zerolinecolor": "white"
          },
          "yaxis": {
           "automargin": true,
           "gridcolor": "white",
           "linecolor": "white",
           "showgrid": true,
           "ticks": "",
           "title": {
            "standoff": 15
           },
           "zerolinecolor": "white"
          }
         }
        }
       }
      }
     },
     "metadata": {},
     "output_type": "display_data"
    }
   ],
   "source": [
    "import plotly.express as px\n",
    "\n",
    "fig = px.treemap(df, path=[\n",
    "    px.Constant('Schlüsselkompetenzen Zertifikat \"Digital Humanities\"'),\n",
    "    'Modul',\n",
    "    'Bereich',\n",
    "    'Unterbereich',\n",
    "    'AS'\n",
    "    ],\n",
    "    values='Prio_',\n",
    "    # hover_data=['Zeitaufwand'],\n",
    "    # marker_colors = RUB_colors\n",
    "    # color='Zertifikatsbereich'\n",
    ")\n",
    "fig.update_traces(marker=dict(cornerradius=5))\n",
    "fig.update_layout(margin=dict(t=25, l=25, r=25, b=25))\n",
    "fig.update_traces(hovertemplate='%{label}')\n",
    "fig.update_layout(\n",
    "    template='seaborn',\n",
    "    font=dict(\n",
    "        # family=\"Courier New, monospace\",\n",
    "        size=15,  # Set the font size here\n",
    "        # color=\"RebeccaPurple\"\n",
    "    )\n",
    ")\n",
    "fig.show()\n",
    "fig.write_html(\"AS_3Module.html\",  include_plotlyjs='cdn')"
   ]
  },
  {
   "cell_type": "markdown",
   "metadata": {},
   "source": [
    "# Mit Modulen ohne AS"
   ]
  },
  {
   "cell_type": "code",
   "execution_count": 56,
   "metadata": {},
   "outputs": [
    {
     "data": {
      "application/vnd.plotly.v1+json": {
       "config": {
        "plotlyServerURL": "https://plot.ly"
       },
       "data": [
        {
         "branchvalues": "total",
         "domain": {
          "x": [
           0,
           1
          ],
          "y": [
           0,
           1
          ]
         },
         "hovertemplate": "%{label}",
         "ids": [
          "Schlüsselkompetenzen Zertifikat \"Digital Humanities\"/Methodenmodul/DH Methoden & Tools/Datenbanken",
          "Schlüsselkompetenzen Zertifikat \"Digital Humanities\"/Methodenmodul/DH Methoden & Tools/Digitale Editionen",
          "Schlüsselkompetenzen Zertifikat \"Digital Humanities\"/Basismodul/DH Grundlagen/Einführung DH",
          "Schlüsselkompetenzen Zertifikat \"Digital Humanities\"/Methodenmodul/DH Methoden & Tools/KI",
          "Schlüsselkompetenzen Zertifikat \"Digital Humanities\"/Methodenmodul/DH Methoden & Tools/Methoden",
          "Schlüsselkompetenzen Zertifikat \"Digital Humanities\"/Basismodul/DH Grundlagen/Misc",
          "Schlüsselkompetenzen Zertifikat \"Digital Humanities\"/Methodenmodul/Programmieren für DH/Misc",
          "Schlüsselkompetenzen Zertifikat \"Digital Humanities\"/Methodenmodul/DH Methoden & Tools/Nicht-Text-Daten",
          "Schlüsselkompetenzen Zertifikat \"Digital Humanities\"/Methodenmodul/Umgang mit dem PC/PC Fortgeschritten",
          "Schlüsselkompetenzen Zertifikat \"Digital Humanities\"/Methodenmodul/Umgang mit dem PC/PC Grundlagen",
          "Schlüsselkompetenzen Zertifikat \"Digital Humanities\"/Praxismodul/DH Projekt/Projekt",
          "Schlüsselkompetenzen Zertifikat \"Digital Humanities\"/Methodenmodul/Programmieren für DH/Python Fortgeschritten",
          "Schlüsselkompetenzen Zertifikat \"Digital Humanities\"/Methodenmodul/Programmieren für DH/Python Grundlagen",
          "Schlüsselkompetenzen Zertifikat \"Digital Humanities\"/Methodenmodul/Programmieren für DH/R",
          "Schlüsselkompetenzen Zertifikat \"Digital Humanities\"/Basismodul/DH Grundlagen/Rechtliches",
          "Schlüsselkompetenzen Zertifikat \"Digital Humanities\"/Methodenmodul/Statistik für DH/Statistik Fortgeschritten",
          "Schlüsselkompetenzen Zertifikat \"Digital Humanities\"/Methodenmodul/Statistik für DH/Statistik Grundlagen",
          "Schlüsselkompetenzen Zertifikat \"Digital Humanities\"/Methodenmodul/DH Methoden & Tools/Tools",
          "Schlüsselkompetenzen Zertifikat \"Digital Humanities\"/Methodenmodul/Programmieren für DH/Web",
          "Schlüsselkompetenzen Zertifikat \"Digital Humanities\"/Basismodul/DH Grundlagen",
          "Schlüsselkompetenzen Zertifikat \"Digital Humanities\"/Methodenmodul/DH Methoden & Tools",
          "Schlüsselkompetenzen Zertifikat \"Digital Humanities\"/Praxismodul/DH Projekt",
          "Schlüsselkompetenzen Zertifikat \"Digital Humanities\"/Methodenmodul/Programmieren für DH",
          "Schlüsselkompetenzen Zertifikat \"Digital Humanities\"/Methodenmodul/Statistik für DH",
          "Schlüsselkompetenzen Zertifikat \"Digital Humanities\"/Methodenmodul/Umgang mit dem PC",
          "Schlüsselkompetenzen Zertifikat \"Digital Humanities\"/Basismodul",
          "Schlüsselkompetenzen Zertifikat \"Digital Humanities\"/Methodenmodul",
          "Schlüsselkompetenzen Zertifikat \"Digital Humanities\"/Praxismodul",
          "Schlüsselkompetenzen Zertifikat \"Digital Humanities\""
         ],
         "labels": [
          "Datenbanken",
          "Digitale Editionen",
          "Einführung DH",
          "KI",
          "Methoden",
          "Misc",
          "Misc",
          "Nicht-Text-Daten",
          "PC Fortgeschritten",
          "PC Grundlagen",
          "Projekt",
          "Python Fortgeschritten",
          "Python Grundlagen",
          "R",
          "Rechtliches",
          "Statistik Fortgeschritten",
          "Statistik Grundlagen",
          "Tools",
          "Web",
          "DH Grundlagen",
          "DH Methoden & Tools",
          "DH Projekt",
          "Programmieren für DH",
          "Statistik für DH",
          "Umgang mit dem PC",
          "Basismodul",
          "Methodenmodul",
          "Praxismodul",
          "Schlüsselkompetenzen Zertifikat \"Digital Humanities\""
         ],
         "marker": {
          "cornerradius": 5
         },
         "name": "",
         "parents": [
          "Schlüsselkompetenzen Zertifikat \"Digital Humanities\"/Methodenmodul/DH Methoden & Tools",
          "Schlüsselkompetenzen Zertifikat \"Digital Humanities\"/Methodenmodul/DH Methoden & Tools",
          "Schlüsselkompetenzen Zertifikat \"Digital Humanities\"/Basismodul/DH Grundlagen",
          "Schlüsselkompetenzen Zertifikat \"Digital Humanities\"/Methodenmodul/DH Methoden & Tools",
          "Schlüsselkompetenzen Zertifikat \"Digital Humanities\"/Methodenmodul/DH Methoden & Tools",
          "Schlüsselkompetenzen Zertifikat \"Digital Humanities\"/Basismodul/DH Grundlagen",
          "Schlüsselkompetenzen Zertifikat \"Digital Humanities\"/Methodenmodul/Programmieren für DH",
          "Schlüsselkompetenzen Zertifikat \"Digital Humanities\"/Methodenmodul/DH Methoden & Tools",
          "Schlüsselkompetenzen Zertifikat \"Digital Humanities\"/Methodenmodul/Umgang mit dem PC",
          "Schlüsselkompetenzen Zertifikat \"Digital Humanities\"/Methodenmodul/Umgang mit dem PC",
          "Schlüsselkompetenzen Zertifikat \"Digital Humanities\"/Praxismodul/DH Projekt",
          "Schlüsselkompetenzen Zertifikat \"Digital Humanities\"/Methodenmodul/Programmieren für DH",
          "Schlüsselkompetenzen Zertifikat \"Digital Humanities\"/Methodenmodul/Programmieren für DH",
          "Schlüsselkompetenzen Zertifikat \"Digital Humanities\"/Methodenmodul/Programmieren für DH",
          "Schlüsselkompetenzen Zertifikat \"Digital Humanities\"/Basismodul/DH Grundlagen",
          "Schlüsselkompetenzen Zertifikat \"Digital Humanities\"/Methodenmodul/Statistik für DH",
          "Schlüsselkompetenzen Zertifikat \"Digital Humanities\"/Methodenmodul/Statistik für DH",
          "Schlüsselkompetenzen Zertifikat \"Digital Humanities\"/Methodenmodul/DH Methoden & Tools",
          "Schlüsselkompetenzen Zertifikat \"Digital Humanities\"/Methodenmodul/Programmieren für DH",
          "Schlüsselkompetenzen Zertifikat \"Digital Humanities\"/Basismodul",
          "Schlüsselkompetenzen Zertifikat \"Digital Humanities\"/Methodenmodul",
          "Schlüsselkompetenzen Zertifikat \"Digital Humanities\"/Praxismodul",
          "Schlüsselkompetenzen Zertifikat \"Digital Humanities\"/Methodenmodul",
          "Schlüsselkompetenzen Zertifikat \"Digital Humanities\"/Methodenmodul",
          "Schlüsselkompetenzen Zertifikat \"Digital Humanities\"/Methodenmodul",
          "Schlüsselkompetenzen Zertifikat \"Digital Humanities\"",
          "Schlüsselkompetenzen Zertifikat \"Digital Humanities\"",
          "Schlüsselkompetenzen Zertifikat \"Digital Humanities\"",
          ""
         ],
         "type": "treemap",
         "values": [
          6,
          6,
          37,
          8,
          20,
          2,
          2,
          8,
          13,
          18,
          15,
          9,
          21,
          15,
          6,
          8,
          12,
          15,
          4,
          45,
          63,
          15,
          51,
          20,
          31,
          45,
          165,
          15,
          225
         ]
        }
       ],
       "layout": {
        "font": {
         "size": 15
        },
        "legend": {
         "tracegroupgap": 0
        },
        "margin": {
         "b": 25,
         "l": 25,
         "r": 25,
         "t": 25
        },
        "template": {
         "data": {
          "bar": [
           {
            "error_x": {
             "color": "rgb(36,36,36)"
            },
            "error_y": {
             "color": "rgb(36,36,36)"
            },
            "marker": {
             "line": {
              "color": "rgb(234,234,242)",
              "width": 0.5
             },
             "pattern": {
              "fillmode": "overlay",
              "size": 10,
              "solidity": 0.2
             }
            },
            "type": "bar"
           }
          ],
          "barpolar": [
           {
            "marker": {
             "line": {
              "color": "rgb(234,234,242)",
              "width": 0.5
             },
             "pattern": {
              "fillmode": "overlay",
              "size": 10,
              "solidity": 0.2
             }
            },
            "type": "barpolar"
           }
          ],
          "carpet": [
           {
            "aaxis": {
             "endlinecolor": "rgb(36,36,36)",
             "gridcolor": "white",
             "linecolor": "white",
             "minorgridcolor": "white",
             "startlinecolor": "rgb(36,36,36)"
            },
            "baxis": {
             "endlinecolor": "rgb(36,36,36)",
             "gridcolor": "white",
             "linecolor": "white",
             "minorgridcolor": "white",
             "startlinecolor": "rgb(36,36,36)"
            },
            "type": "carpet"
           }
          ],
          "choropleth": [
           {
            "colorbar": {
             "outlinewidth": 0,
             "tickcolor": "rgb(36,36,36)",
             "ticklen": 8,
             "ticks": "outside",
             "tickwidth": 2
            },
            "type": "choropleth"
           }
          ],
          "contour": [
           {
            "colorbar": {
             "outlinewidth": 0,
             "tickcolor": "rgb(36,36,36)",
             "ticklen": 8,
             "ticks": "outside",
             "tickwidth": 2
            },
            "colorscale": [
             [
              0,
              "rgb(2,4,25)"
             ],
             [
              0.06274509803921569,
              "rgb(24,15,41)"
             ],
             [
              0.12549019607843137,
              "rgb(47,23,57)"
             ],
             [
              0.18823529411764706,
              "rgb(71,28,72)"
             ],
             [
              0.25098039215686274,
              "rgb(97,30,82)"
             ],
             [
              0.3137254901960784,
              "rgb(123,30,89)"
             ],
             [
              0.3764705882352941,
              "rgb(150,27,91)"
             ],
             [
              0.4392156862745098,
              "rgb(177,22,88)"
             ],
             [
              0.5019607843137255,
              "rgb(203,26,79)"
             ],
             [
              0.5647058823529412,
              "rgb(223,47,67)"
             ],
             [
              0.6274509803921569,
              "rgb(236,76,61)"
             ],
             [
              0.6901960784313725,
              "rgb(242,107,73)"
             ],
             [
              0.7529411764705882,
              "rgb(244,135,95)"
             ],
             [
              0.8156862745098039,
              "rgb(245,162,122)"
             ],
             [
              0.8784313725490196,
              "rgb(246,188,153)"
             ],
             [
              0.9411764705882353,
              "rgb(247,212,187)"
             ],
             [
              1,
              "rgb(250,234,220)"
             ]
            ],
            "type": "contour"
           }
          ],
          "contourcarpet": [
           {
            "colorbar": {
             "outlinewidth": 0,
             "tickcolor": "rgb(36,36,36)",
             "ticklen": 8,
             "ticks": "outside",
             "tickwidth": 2
            },
            "type": "contourcarpet"
           }
          ],
          "heatmap": [
           {
            "colorbar": {
             "outlinewidth": 0,
             "tickcolor": "rgb(36,36,36)",
             "ticklen": 8,
             "ticks": "outside",
             "tickwidth": 2
            },
            "colorscale": [
             [
              0,
              "rgb(2,4,25)"
             ],
             [
              0.06274509803921569,
              "rgb(24,15,41)"
             ],
             [
              0.12549019607843137,
              "rgb(47,23,57)"
             ],
             [
              0.18823529411764706,
              "rgb(71,28,72)"
             ],
             [
              0.25098039215686274,
              "rgb(97,30,82)"
             ],
             [
              0.3137254901960784,
              "rgb(123,30,89)"
             ],
             [
              0.3764705882352941,
              "rgb(150,27,91)"
             ],
             [
              0.4392156862745098,
              "rgb(177,22,88)"
             ],
             [
              0.5019607843137255,
              "rgb(203,26,79)"
             ],
             [
              0.5647058823529412,
              "rgb(223,47,67)"
             ],
             [
              0.6274509803921569,
              "rgb(236,76,61)"
             ],
             [
              0.6901960784313725,
              "rgb(242,107,73)"
             ],
             [
              0.7529411764705882,
              "rgb(244,135,95)"
             ],
             [
              0.8156862745098039,
              "rgb(245,162,122)"
             ],
             [
              0.8784313725490196,
              "rgb(246,188,153)"
             ],
             [
              0.9411764705882353,
              "rgb(247,212,187)"
             ],
             [
              1,
              "rgb(250,234,220)"
             ]
            ],
            "type": "heatmap"
           }
          ],
          "heatmapgl": [
           {
            "colorbar": {
             "outlinewidth": 0,
             "tickcolor": "rgb(36,36,36)",
             "ticklen": 8,
             "ticks": "outside",
             "tickwidth": 2
            },
            "colorscale": [
             [
              0,
              "rgb(2,4,25)"
             ],
             [
              0.06274509803921569,
              "rgb(24,15,41)"
             ],
             [
              0.12549019607843137,
              "rgb(47,23,57)"
             ],
             [
              0.18823529411764706,
              "rgb(71,28,72)"
             ],
             [
              0.25098039215686274,
              "rgb(97,30,82)"
             ],
             [
              0.3137254901960784,
              "rgb(123,30,89)"
             ],
             [
              0.3764705882352941,
              "rgb(150,27,91)"
             ],
             [
              0.4392156862745098,
              "rgb(177,22,88)"
             ],
             [
              0.5019607843137255,
              "rgb(203,26,79)"
             ],
             [
              0.5647058823529412,
              "rgb(223,47,67)"
             ],
             [
              0.6274509803921569,
              "rgb(236,76,61)"
             ],
             [
              0.6901960784313725,
              "rgb(242,107,73)"
             ],
             [
              0.7529411764705882,
              "rgb(244,135,95)"
             ],
             [
              0.8156862745098039,
              "rgb(245,162,122)"
             ],
             [
              0.8784313725490196,
              "rgb(246,188,153)"
             ],
             [
              0.9411764705882353,
              "rgb(247,212,187)"
             ],
             [
              1,
              "rgb(250,234,220)"
             ]
            ],
            "type": "heatmapgl"
           }
          ],
          "histogram": [
           {
            "marker": {
             "pattern": {
              "fillmode": "overlay",
              "size": 10,
              "solidity": 0.2
             }
            },
            "type": "histogram"
           }
          ],
          "histogram2d": [
           {
            "colorbar": {
             "outlinewidth": 0,
             "tickcolor": "rgb(36,36,36)",
             "ticklen": 8,
             "ticks": "outside",
             "tickwidth": 2
            },
            "colorscale": [
             [
              0,
              "rgb(2,4,25)"
             ],
             [
              0.06274509803921569,
              "rgb(24,15,41)"
             ],
             [
              0.12549019607843137,
              "rgb(47,23,57)"
             ],
             [
              0.18823529411764706,
              "rgb(71,28,72)"
             ],
             [
              0.25098039215686274,
              "rgb(97,30,82)"
             ],
             [
              0.3137254901960784,
              "rgb(123,30,89)"
             ],
             [
              0.3764705882352941,
              "rgb(150,27,91)"
             ],
             [
              0.4392156862745098,
              "rgb(177,22,88)"
             ],
             [
              0.5019607843137255,
              "rgb(203,26,79)"
             ],
             [
              0.5647058823529412,
              "rgb(223,47,67)"
             ],
             [
              0.6274509803921569,
              "rgb(236,76,61)"
             ],
             [
              0.6901960784313725,
              "rgb(242,107,73)"
             ],
             [
              0.7529411764705882,
              "rgb(244,135,95)"
             ],
             [
              0.8156862745098039,
              "rgb(245,162,122)"
             ],
             [
              0.8784313725490196,
              "rgb(246,188,153)"
             ],
             [
              0.9411764705882353,
              "rgb(247,212,187)"
             ],
             [
              1,
              "rgb(250,234,220)"
             ]
            ],
            "type": "histogram2d"
           }
          ],
          "histogram2dcontour": [
           {
            "colorbar": {
             "outlinewidth": 0,
             "tickcolor": "rgb(36,36,36)",
             "ticklen": 8,
             "ticks": "outside",
             "tickwidth": 2
            },
            "colorscale": [
             [
              0,
              "rgb(2,4,25)"
             ],
             [
              0.06274509803921569,
              "rgb(24,15,41)"
             ],
             [
              0.12549019607843137,
              "rgb(47,23,57)"
             ],
             [
              0.18823529411764706,
              "rgb(71,28,72)"
             ],
             [
              0.25098039215686274,
              "rgb(97,30,82)"
             ],
             [
              0.3137254901960784,
              "rgb(123,30,89)"
             ],
             [
              0.3764705882352941,
              "rgb(150,27,91)"
             ],
             [
              0.4392156862745098,
              "rgb(177,22,88)"
             ],
             [
              0.5019607843137255,
              "rgb(203,26,79)"
             ],
             [
              0.5647058823529412,
              "rgb(223,47,67)"
             ],
             [
              0.6274509803921569,
              "rgb(236,76,61)"
             ],
             [
              0.6901960784313725,
              "rgb(242,107,73)"
             ],
             [
              0.7529411764705882,
              "rgb(244,135,95)"
             ],
             [
              0.8156862745098039,
              "rgb(245,162,122)"
             ],
             [
              0.8784313725490196,
              "rgb(246,188,153)"
             ],
             [
              0.9411764705882353,
              "rgb(247,212,187)"
             ],
             [
              1,
              "rgb(250,234,220)"
             ]
            ],
            "type": "histogram2dcontour"
           }
          ],
          "mesh3d": [
           {
            "colorbar": {
             "outlinewidth": 0,
             "tickcolor": "rgb(36,36,36)",
             "ticklen": 8,
             "ticks": "outside",
             "tickwidth": 2
            },
            "type": "mesh3d"
           }
          ],
          "parcoords": [
           {
            "line": {
             "colorbar": {
              "outlinewidth": 0,
              "tickcolor": "rgb(36,36,36)",
              "ticklen": 8,
              "ticks": "outside",
              "tickwidth": 2
             }
            },
            "type": "parcoords"
           }
          ],
          "pie": [
           {
            "automargin": true,
            "type": "pie"
           }
          ],
          "scatter": [
           {
            "fillpattern": {
             "fillmode": "overlay",
             "size": 10,
             "solidity": 0.2
            },
            "type": "scatter"
           }
          ],
          "scatter3d": [
           {
            "line": {
             "colorbar": {
              "outlinewidth": 0,
              "tickcolor": "rgb(36,36,36)",
              "ticklen": 8,
              "ticks": "outside",
              "tickwidth": 2
             }
            },
            "marker": {
             "colorbar": {
              "outlinewidth": 0,
              "tickcolor": "rgb(36,36,36)",
              "ticklen": 8,
              "ticks": "outside",
              "tickwidth": 2
             }
            },
            "type": "scatter3d"
           }
          ],
          "scattercarpet": [
           {
            "marker": {
             "colorbar": {
              "outlinewidth": 0,
              "tickcolor": "rgb(36,36,36)",
              "ticklen": 8,
              "ticks": "outside",
              "tickwidth": 2
             }
            },
            "type": "scattercarpet"
           }
          ],
          "scattergeo": [
           {
            "marker": {
             "colorbar": {
              "outlinewidth": 0,
              "tickcolor": "rgb(36,36,36)",
              "ticklen": 8,
              "ticks": "outside",
              "tickwidth": 2
             }
            },
            "type": "scattergeo"
           }
          ],
          "scattergl": [
           {
            "marker": {
             "colorbar": {
              "outlinewidth": 0,
              "tickcolor": "rgb(36,36,36)",
              "ticklen": 8,
              "ticks": "outside",
              "tickwidth": 2
             }
            },
            "type": "scattergl"
           }
          ],
          "scattermapbox": [
           {
            "marker": {
             "colorbar": {
              "outlinewidth": 0,
              "tickcolor": "rgb(36,36,36)",
              "ticklen": 8,
              "ticks": "outside",
              "tickwidth": 2
             }
            },
            "type": "scattermapbox"
           }
          ],
          "scatterpolar": [
           {
            "marker": {
             "colorbar": {
              "outlinewidth": 0,
              "tickcolor": "rgb(36,36,36)",
              "ticklen": 8,
              "ticks": "outside",
              "tickwidth": 2
             }
            },
            "type": "scatterpolar"
           }
          ],
          "scatterpolargl": [
           {
            "marker": {
             "colorbar": {
              "outlinewidth": 0,
              "tickcolor": "rgb(36,36,36)",
              "ticklen": 8,
              "ticks": "outside",
              "tickwidth": 2
             }
            },
            "type": "scatterpolargl"
           }
          ],
          "scatterternary": [
           {
            "marker": {
             "colorbar": {
              "outlinewidth": 0,
              "tickcolor": "rgb(36,36,36)",
              "ticklen": 8,
              "ticks": "outside",
              "tickwidth": 2
             }
            },
            "type": "scatterternary"
           }
          ],
          "surface": [
           {
            "colorbar": {
             "outlinewidth": 0,
             "tickcolor": "rgb(36,36,36)",
             "ticklen": 8,
             "ticks": "outside",
             "tickwidth": 2
            },
            "colorscale": [
             [
              0,
              "rgb(2,4,25)"
             ],
             [
              0.06274509803921569,
              "rgb(24,15,41)"
             ],
             [
              0.12549019607843137,
              "rgb(47,23,57)"
             ],
             [
              0.18823529411764706,
              "rgb(71,28,72)"
             ],
             [
              0.25098039215686274,
              "rgb(97,30,82)"
             ],
             [
              0.3137254901960784,
              "rgb(123,30,89)"
             ],
             [
              0.3764705882352941,
              "rgb(150,27,91)"
             ],
             [
              0.4392156862745098,
              "rgb(177,22,88)"
             ],
             [
              0.5019607843137255,
              "rgb(203,26,79)"
             ],
             [
              0.5647058823529412,
              "rgb(223,47,67)"
             ],
             [
              0.6274509803921569,
              "rgb(236,76,61)"
             ],
             [
              0.6901960784313725,
              "rgb(242,107,73)"
             ],
             [
              0.7529411764705882,
              "rgb(244,135,95)"
             ],
             [
              0.8156862745098039,
              "rgb(245,162,122)"
             ],
             [
              0.8784313725490196,
              "rgb(246,188,153)"
             ],
             [
              0.9411764705882353,
              "rgb(247,212,187)"
             ],
             [
              1,
              "rgb(250,234,220)"
             ]
            ],
            "type": "surface"
           }
          ],
          "table": [
           {
            "cells": {
             "fill": {
              "color": "rgb(231,231,240)"
             },
             "line": {
              "color": "white"
             }
            },
            "header": {
             "fill": {
              "color": "rgb(183,183,191)"
             },
             "line": {
              "color": "white"
             }
            },
            "type": "table"
           }
          ]
         },
         "layout": {
          "annotationdefaults": {
           "arrowcolor": "rgb(67,103,167)"
          },
          "autotypenumbers": "strict",
          "coloraxis": {
           "colorbar": {
            "outlinewidth": 0,
            "tickcolor": "rgb(36,36,36)",
            "ticklen": 8,
            "ticks": "outside",
            "tickwidth": 2
           }
          },
          "colorscale": {
           "sequential": [
            [
             0,
             "rgb(2,4,25)"
            ],
            [
             0.06274509803921569,
             "rgb(24,15,41)"
            ],
            [
             0.12549019607843137,
             "rgb(47,23,57)"
            ],
            [
             0.18823529411764706,
             "rgb(71,28,72)"
            ],
            [
             0.25098039215686274,
             "rgb(97,30,82)"
            ],
            [
             0.3137254901960784,
             "rgb(123,30,89)"
            ],
            [
             0.3764705882352941,
             "rgb(150,27,91)"
            ],
            [
             0.4392156862745098,
             "rgb(177,22,88)"
            ],
            [
             0.5019607843137255,
             "rgb(203,26,79)"
            ],
            [
             0.5647058823529412,
             "rgb(223,47,67)"
            ],
            [
             0.6274509803921569,
             "rgb(236,76,61)"
            ],
            [
             0.6901960784313725,
             "rgb(242,107,73)"
            ],
            [
             0.7529411764705882,
             "rgb(244,135,95)"
            ],
            [
             0.8156862745098039,
             "rgb(245,162,122)"
            ],
            [
             0.8784313725490196,
             "rgb(246,188,153)"
            ],
            [
             0.9411764705882353,
             "rgb(247,212,187)"
            ],
            [
             1,
             "rgb(250,234,220)"
            ]
           ],
           "sequentialminus": [
            [
             0,
             "rgb(2,4,25)"
            ],
            [
             0.06274509803921569,
             "rgb(24,15,41)"
            ],
            [
             0.12549019607843137,
             "rgb(47,23,57)"
            ],
            [
             0.18823529411764706,
             "rgb(71,28,72)"
            ],
            [
             0.25098039215686274,
             "rgb(97,30,82)"
            ],
            [
             0.3137254901960784,
             "rgb(123,30,89)"
            ],
            [
             0.3764705882352941,
             "rgb(150,27,91)"
            ],
            [
             0.4392156862745098,
             "rgb(177,22,88)"
            ],
            [
             0.5019607843137255,
             "rgb(203,26,79)"
            ],
            [
             0.5647058823529412,
             "rgb(223,47,67)"
            ],
            [
             0.6274509803921569,
             "rgb(236,76,61)"
            ],
            [
             0.6901960784313725,
             "rgb(242,107,73)"
            ],
            [
             0.7529411764705882,
             "rgb(244,135,95)"
            ],
            [
             0.8156862745098039,
             "rgb(245,162,122)"
            ],
            [
             0.8784313725490196,
             "rgb(246,188,153)"
            ],
            [
             0.9411764705882353,
             "rgb(247,212,187)"
            ],
            [
             1,
             "rgb(250,234,220)"
            ]
           ]
          },
          "colorway": [
           "rgb(76,114,176)",
           "rgb(221,132,82)",
           "rgb(85,168,104)",
           "rgb(196,78,82)",
           "rgb(129,114,179)",
           "rgb(147,120,96)",
           "rgb(218,139,195)",
           "rgb(140,140,140)",
           "rgb(204,185,116)",
           "rgb(100,181,205)"
          ],
          "font": {
           "color": "rgb(36,36,36)"
          },
          "geo": {
           "bgcolor": "white",
           "lakecolor": "white",
           "landcolor": "rgb(234,234,242)",
           "showlakes": true,
           "showland": true,
           "subunitcolor": "white"
          },
          "hoverlabel": {
           "align": "left"
          },
          "hovermode": "closest",
          "paper_bgcolor": "white",
          "plot_bgcolor": "rgb(234,234,242)",
          "polar": {
           "angularaxis": {
            "gridcolor": "white",
            "linecolor": "white",
            "showgrid": true,
            "ticks": ""
           },
           "bgcolor": "rgb(234,234,242)",
           "radialaxis": {
            "gridcolor": "white",
            "linecolor": "white",
            "showgrid": true,
            "ticks": ""
           }
          },
          "scene": {
           "xaxis": {
            "backgroundcolor": "rgb(234,234,242)",
            "gridcolor": "white",
            "gridwidth": 2,
            "linecolor": "white",
            "showbackground": true,
            "showgrid": true,
            "ticks": "",
            "zerolinecolor": "white"
           },
           "yaxis": {
            "backgroundcolor": "rgb(234,234,242)",
            "gridcolor": "white",
            "gridwidth": 2,
            "linecolor": "white",
            "showbackground": true,
            "showgrid": true,
            "ticks": "",
            "zerolinecolor": "white"
           },
           "zaxis": {
            "backgroundcolor": "rgb(234,234,242)",
            "gridcolor": "white",
            "gridwidth": 2,
            "linecolor": "white",
            "showbackground": true,
            "showgrid": true,
            "ticks": "",
            "zerolinecolor": "white"
           }
          },
          "shapedefaults": {
           "fillcolor": "rgb(67,103,167)",
           "line": {
            "width": 0
           },
           "opacity": 0.5
          },
          "ternary": {
           "aaxis": {
            "gridcolor": "white",
            "linecolor": "white",
            "showgrid": true,
            "ticks": ""
           },
           "baxis": {
            "gridcolor": "white",
            "linecolor": "white",
            "showgrid": true,
            "ticks": ""
           },
           "bgcolor": "rgb(234,234,242)",
           "caxis": {
            "gridcolor": "white",
            "linecolor": "white",
            "showgrid": true,
            "ticks": ""
           }
          },
          "xaxis": {
           "automargin": true,
           "gridcolor": "white",
           "linecolor": "white",
           "showgrid": true,
           "ticks": "",
           "title": {
            "standoff": 15
           },
           "zerolinecolor": "white"
          },
          "yaxis": {
           "automargin": true,
           "gridcolor": "white",
           "linecolor": "white",
           "showgrid": true,
           "ticks": "",
           "title": {
            "standoff": 15
           },
           "zerolinecolor": "white"
          }
         }
        }
       }
      }
     },
     "metadata": {},
     "output_type": "display_data"
    }
   ],
   "source": [
    "import plotly.express as px\n",
    "\n",
    "fig = px.treemap(df, path=[\n",
    "    px.Constant('Schlüsselkompetenzen Zertifikat \"Digital Humanities\"'),\n",
    "    'Modul',\n",
    "    'Bereich',\n",
    "    'Unterbereich',\n",
    "    # 'AS'\n",
    "    ],\n",
    "    values='Prio_',\n",
    "    # hover_data=['Zeitaufwand'],\n",
    "    # marker_colors = RUB_colors\n",
    "    # color='Zertifikatsbereich'\n",
    ")\n",
    "fig.update_traces(marker=dict(cornerradius=5))\n",
    "fig.update_layout(margin=dict(t=25, l=25, r=25, b=25))\n",
    "fig.update_traces(hovertemplate='%{label}')\n",
    "fig.update_layout(\n",
    "    template='seaborn',\n",
    "    font=dict(\n",
    "        # family=\"Courier New, monospace\",\n",
    "        size=15,  # Set the font size here\n",
    "        # color=\"RebeccaPurple\"\n",
    "    )\n",
    ")\n",
    "fig.show()\n",
    "fig.write_html(\"UB_3Module.html\",  include_plotlyjs='cdn')"
   ]
  },
  {
   "cell_type": "markdown",
   "metadata": {},
   "source": [
    "# 20-CP Variante"
   ]
  },
  {
   "cell_type": "markdown",
   "metadata": {},
   "source": [
    "## Mit AS"
   ]
  },
  {
   "cell_type": "code",
   "execution_count": 57,
   "metadata": {},
   "outputs": [
    {
     "data": {
      "application/vnd.plotly.v1+json": {
       "config": {
        "plotlyServerURL": "https://plot.ly"
       },
       "data": [
        {
         "branchvalues": "total",
         "domain": {
          "x": [
           0,
           1
          ],
          "y": [
           0,
           1
          ]
         },
         "hovertemplate": "%{label}",
         "ids": [
          "Schlüsselkompetenzen Zertifikat \"Digital Humanities\"/Methodenmodul/Programmieren für DH/Python Grundlagen/(DH) Code verstehen<br>und anpassen",
          "Schlüsselkompetenzen Zertifikat \"Digital Humanities\"/Methodenmodul/DH Methoden & Tools/KI/(Python-)Beispielprojekt<br>zum Ausprobieren<br>und Anpassen",
          "Schlüsselkompetenzen Zertifikat \"Digital Humanities\"/Praxismodul/DH Projekt/Projekt/Anwendung der Kenntnisse<br>in einem selbstständigen<br>(Datenanalyse-)projekt",
          "Schlüsselkompetenzen Zertifikat \"Digital Humanities\"/Methodenmodul/DH Methoden & Tools/Nicht-Text-Daten/Audio (Bearbeiten,<br>Konvertieren, etc.)",
          "Schlüsselkompetenzen Zertifikat \"Digital Humanities\"/DH-Fortgeschritten/DH Methoden & Tools/Nicht-Text-Daten/Audio Signal Processing",
          "Schlüsselkompetenzen Zertifikat \"Digital Humanities\"/DH-Fortgeschritten/Umgang mit dem PC/PC Fortgeschritten/Aufbau/Administration<br>von Client-Server-Architektur",
          "Schlüsselkompetenzen Zertifikat \"Digital Humanities\"/Basismodul/DH Grundlagen/Einführung DH/Begriffsdefinition<br>DH",
          "Schlüsselkompetenzen Zertifikat \"Digital Humanities\"/Basismodul/DH Grundlagen/Einführung DH/Beispiele Fragestellungen<br>- Fächer: Literaturwissenschaft,<br>Editionsphilologie,<br>Linguistik, Geschichte,<br>Kunstgeschichte,<br>Archäologie, Musik,<br>Medienwissenschaft",
          "Schlüsselkompetenzen Zertifikat \"Digital Humanities\"/Basismodul/DH Grundlagen/Einführung DH/Beispiele Tools<br>& Methoden: Digitale<br>Editionen, Digitale<br>Archive, Korpusanalyse,<br>Oral History, GIS,<br>VR, 3D-Design, digitale<br>Filmanalyse",
          "Schlüsselkompetenzen Zertifikat \"Digital Humanities\"/Methodenmodul/DH Methoden & Tools/Nicht-Text-Daten/Bild (Bearbeiten,<br>Konvertieren, etc.)",
          "Schlüsselkompetenzen Zertifikat \"Digital Humanities\"/DH-Fortgeschritten/DH Methoden & Tools/Nicht-Text-Daten/Computer Vision",
          "Schlüsselkompetenzen Zertifikat \"Digital Humanities\"/Basismodul/Umgang mit dem PC/PC Grundlagen/Computer-Probleme<br>selber lösen (richtig<br>googlen, Tutorials<br>befolgen)",
          "Schlüsselkompetenzen Zertifikat \"Digital Humanities\"/DH-Fortgeschritten/Umgang mit dem PC/PC Fortgeschritten/Containerisierung<br>(z.B. Docker)",
          "Schlüsselkompetenzen Zertifikat \"Digital Humanities\"/Basismodul/DH Grundlagen/Einführung DH/DH & Ich (\"Wofür<br>brauche ich persönlich<br>DH-Methoden in meinem<br>Studium?\")",
          "Schlüsselkompetenzen Zertifikat \"Digital Humanities\"/Basismodul/Umgang mit dem PC/PC Grundlagen/Dateien - Ordnerstruktur/-hierarchie,<br>Pfade, Benennung,<br>Arten, Umwandeln",
          "Schlüsselkompetenzen Zertifikat \"Digital Humanities\"/Methodenmodul/Programmieren für DH/R/Datenanalyse & Textmining",
          "Schlüsselkompetenzen Zertifikat \"Digital Humanities\"/Praxismodul/DH Projekt/Projekt/Datenanalyse oder<br>Visualisierung",
          "Schlüsselkompetenzen Zertifikat \"Digital Humanities\"/DH-Fortgeschritten/Statistik für DH/Statistik Fortgeschritten/Datenanalyse und<br>Machine Learning",
          "Schlüsselkompetenzen Zertifikat \"Digital Humanities\"/Methodenmodul/Programmieren für DH/R/Datenaufbereitung<br>& Umgang mit Fehlermeldungen",
          "Schlüsselkompetenzen Zertifikat \"Digital Humanities\"/Basismodul/DH Grundlagen/Rechtliches/Datenschutz, Copyright,<br>DSGVO (in Bezug<br>auf Webscraping)",
          "Schlüsselkompetenzen Zertifikat \"Digital Humanities\"/Basismodul/DH Grundlagen/Einführung DH/Datenverarbeitung<br>& -organisation:<br>Datenbanken",
          "Schlüsselkompetenzen Zertifikat \"Digital Humanities\"/Basismodul/DH Grundlagen/Einführung DH/Datenverarbeitung<br>& -organisation:<br>Metadaten (Typen<br>& Standards)",
          "Schlüsselkompetenzen Zertifikat \"Digital Humanities\"/Methodenmodul/Programmieren für DH/R/Datenvisualisierung<br>(ggplot)",
          "Schlüsselkompetenzen Zertifikat \"Digital Humanities\"/Methodenmodul/Programmieren für DH/Python Grundlagen/Datenvisualisierung<br>(matplotlib, seaborn,<br>etc.)",
          "Schlüsselkompetenzen Zertifikat \"Digital Humanities\"/DH-Fortgeschritten/Statistik für DH/Statistik Fortgeschritten/Design und Implementierung<br>statistischer Modelle",
          "Schlüsselkompetenzen Zertifikat \"Digital Humanities\"/Methodenmodul/DH Methoden & Tools/Digitale Editionen/Digitale Editionen<br>bearbeiten/ Maintenance",
          "Schlüsselkompetenzen Zertifikat \"Digital Humanities\"/Methodenmodul/DH Methoden & Tools/Digitale Editionen/Digitale Editionen<br>erstellen",
          "Schlüsselkompetenzen Zertifikat \"Digital Humanities\"/Methodenmodul/DH Methoden & Tools/Methoden/Digitalisierung:<br>Frameworks (bspw.<br>IIIF)",
          "Schlüsselkompetenzen Zertifikat \"Digital Humanities\"/Basismodul/DH Grundlagen/Einführung DH/Digitalisierung<br>- 3D Digitalisierung,<br>AR, VR (Plastiken,<br>Gebäudemodelle)",
          "Schlüsselkompetenzen Zertifikat \"Digital Humanities\"/Basismodul/DH Grundlagen/Einführung DH/Digitalisierung<br>- Bilder als digitale<br>Daten (Raster &<br>Vektorgrafiken)",
          "Schlüsselkompetenzen Zertifikat \"Digital Humanities\"/Basismodul/DH Grundlagen/Einführung DH/Digitalisierungsverfahren<br>Bild & Text",
          "Schlüsselkompetenzen Zertifikat \"Digital Humanities\"/Methodenmodul/DH Methoden & Tools/Methoden/Erstellung von TEI-Customisations",
          "Schlüsselkompetenzen Zertifikat \"Digital Humanities\"/Basismodul/DH Grundlagen/Rechtliches/Forschungsethik",
          "Schlüsselkompetenzen Zertifikat \"Digital Humanities\"/Methodenmodul/DH Methoden & Tools/Datenbanken/Fortgeschritten:<br>SQL/NoSQL, eXist-db,<br>MongoDB, etc.",
          "Schlüsselkompetenzen Zertifikat \"Digital Humanities\"/Methodenmodul/DH Methoden & Tools/Datenbanken/Fortgeschritten:<br>selbst aufsetzen,<br>bearbeiten, maintainen",
          "Schlüsselkompetenzen Zertifikat \"Digital Humanities\"/Basismodul/DH Grundlagen/Einführung DH/Geschichte der DH",
          "Schlüsselkompetenzen Zertifikat \"Digital Humanities\"/DH-Fortgeschritten/DH Methoden & Tools/Methoden/Graphanalyse",
          "Schlüsselkompetenzen Zertifikat \"Digital Humanities\"/Methodenmodul/Statistik für DH/Statistik Grundlagen/Graphische Darstellung<br>(welche Daten, welche<br>Darstellung, Fehler)",
          "Schlüsselkompetenzen Zertifikat \"Digital Humanities\"/Methodenmodul/Programmieren für DH/Python Grundlagen/Grundlagen Programmieren<br>(Kontrollfluss,<br>Schleifen, Grundlagen<br>i/o, Boolsche Logik,<br>etc.)",
          "Schlüsselkompetenzen Zertifikat \"Digital Humanities\"/Methodenmodul/Programmieren für DH/R/Grundlagen R Programmieren",
          "Schlüsselkompetenzen Zertifikat \"Digital Humanities\"/Methodenmodul/DH Methoden & Tools/Datenbanken/Grundlagen: Excel/CSV,<br>SQL, Zugriff auf<br>existierende DBs/API",
          "Schlüsselkompetenzen Zertifikat \"Digital Humanities\"/Methodenmodul/DH Methoden & Tools/Datenbanken/Grundlagen: Verwalten,<br>Zusammenfügen, Analysieren<br>großer Datensätze",
          "Schlüsselkompetenzen Zertifikat \"Digital Humanities\"/Methodenmodul/DH Methoden & Tools/Methoden/Information Retrieval",
          "Schlüsselkompetenzen Zertifikat \"Digital Humanities\"/Methodenmodul/Programmieren für DH/Python Grundlagen/Infrastruktur (IDE,<br>Jupyter Notebooks,<br>Colab/Pages/JupyterHub)",
          "Schlüsselkompetenzen Zertifikat \"Digital Humanities\"/Basismodul/DH Grundlagen/Misc/Internationale Standards<br>in der Auszeichnung<br>von (Meta)daten<br>z.B. METS, MODS,<br>TEI",
          "Schlüsselkompetenzen Zertifikat \"Digital Humanities\"/DH-Fortgeschritten/Programmieren für DH/Misc/Java ",
          "Schlüsselkompetenzen Zertifikat \"Digital Humanities\"/Methodenmodul/DH Methoden & Tools/Tools/Kartenerstellung<br>(GIS, ArcGis, etc.)",
          "Schlüsselkompetenzen Zertifikat \"Digital Humanities\"/DH-Fortgeschritten/Statistik für DH/Statistik Fortgeschritten/Klassifikation:<br>Beispielcode (z.B.<br>in Python oder R)",
          "Schlüsselkompetenzen Zertifikat \"Digital Humanities\"/DH-Fortgeschritten/Statistik für DH/Statistik Fortgeschritten/Klassifikation:<br>KNN, SVM, etc",
          "Schlüsselkompetenzen Zertifikat \"Digital Humanities\"/DH-Fortgeschritten/Statistik für DH/Statistik Fortgeschritten/Klassifikation:<br>Naive Bayes",
          "Schlüsselkompetenzen Zertifikat \"Digital Humanities\"/Methodenmodul/DH Methoden & Tools/Methoden/Kollation (Editionsphilologie)",
          "Schlüsselkompetenzen Zertifikat \"Digital Humanities\"/Methodenmodul/Programmieren für DH/Python Grundlagen/Korpusanalytische<br>Verfahren (Webscraping,<br>Tokenisierung, Annotation,<br>Kookkurrenz-, Frequenzanalyse,<br>etc.)",
          "Schlüsselkompetenzen Zertifikat \"Digital Humanities\"/Methodenmodul/Statistik für DH/Statistik Grundlagen/Korrelation & Kausalität",
          "Schlüsselkompetenzen Zertifikat \"Digital Humanities\"/DH-Fortgeschritten/Umgang mit dem PC/PC Fortgeschritten/LaTeχ (Overleaf)",
          "Schlüsselkompetenzen Zertifikat \"Digital Humanities\"/DH-Fortgeschritten/DH Methoden & Tools/KI/Maschinelles Lernen:<br>Algorithmen",
          "Schlüsselkompetenzen Zertifikat \"Digital Humanities\"/DH-Fortgeschritten/DH Methoden & Tools/KI/Mathematische Grundlagen",
          "Schlüsselkompetenzen Zertifikat \"Digital Humanities\"/Methodenmodul/DH Methoden & Tools/Tools/MaxQDA",
          "Schlüsselkompetenzen Zertifikat \"Digital Humanities\"/DH-Fortgeschritten/Programmieren für DH/Python Fortgeschritten/NLTK",
          "Schlüsselkompetenzen Zertifikat \"Digital Humanities\"/Methodenmodul/DH Methoden & Tools/Methoden/Named Entity Recognition",
          "Schlüsselkompetenzen Zertifikat \"Digital Humanities\"/DH-Fortgeschritten/DH Methoden & Tools/Methoden/Network Analysis",
          "Schlüsselkompetenzen Zertifikat \"Digital Humanities\"/Methodenmodul/DH Methoden & Tools/Tools/OCR: Tools, Python-Bibliotheken,<br>APIs",
          "Schlüsselkompetenzen Zertifikat \"Digital Humanities\"/Basismodul/DH Grundlagen/Rechtliches/Open Access / Open<br>Research",
          "Schlüsselkompetenzen Zertifikat \"Digital Humanities\"/Methodenmodul/DH Methoden & Tools/Tools/Open Refine",
          "Schlüsselkompetenzen Zertifikat \"Digital Humanities\"/Methodenmodul/Programmieren für DH/Python Grundlagen/Pandas",
          "Schlüsselkompetenzen Zertifikat \"Digital Humanities\"/Praxismodul/DH Projekt/Projekt/Projektorientiertes<br>Lernen: Modellierung,<br>Projektentwurf,<br>Umsetzung und Evaluation",
          "Schlüsselkompetenzen Zertifikat \"Digital Humanities\"/DH-Fortgeschritten/Umgang mit dem PC/PC Fortgeschritten/Quellenverwaltung<br>(mit Zotero, etc.)",
          "Schlüsselkompetenzen Zertifikat \"Digital Humanities\"/Methodenmodul/Statistik für DH/Statistik Grundlagen/Schätzer, Konfidenzintervalle<br>& Hypothesentests",
          "Schlüsselkompetenzen Zertifikat \"Digital Humanities\"/Praxismodul/DH Projekt/Projekt/Selbständiges Arbeiten<br>mit Datensätzen",
          "Schlüsselkompetenzen Zertifikat \"Digital Humanities\"/DH-Fortgeschritten/Umgang mit dem PC/PC Fortgeschritten/Shell Fortgeschritten:<br>shell scripts, variablen,<br>editor in der shell,<br>remote access/ssh",
          "Schlüsselkompetenzen Zertifikat \"Digital Humanities\"/Basismodul/Umgang mit dem PC/PC Grundlagen/Shell Grundlagen:<br>Was ist die Shell?,<br>Unix vs. Windows,<br>simple Befehle",
          "Schlüsselkompetenzen Zertifikat \"Digital Humanities\"/Methodenmodul/Statistik für DH/Statistik Grundlagen/Skalenniveaus",
          "Schlüsselkompetenzen Zertifikat \"Digital Humanities\"/DH-Fortgeschritten/Programmieren für DH/Python Fortgeschritten/Sonstige DH-Bibliotheken",
          "Schlüsselkompetenzen Zertifikat \"Digital Humanities\"/Methodenmodul/DH Methoden & Tools/Tools/Sonstige DH-Tools",
          "Schlüsselkompetenzen Zertifikat \"Digital Humanities\"/DH-Fortgeschritten/Programmieren für DH/Python Fortgeschritten/Spacy",
          "Schlüsselkompetenzen Zertifikat \"Digital Humanities\"/Basismodul/Umgang mit dem PC/PC Grundlagen/Tabellenkalkulation<br>- Excel/Google Sheets",
          "Schlüsselkompetenzen Zertifikat \"Digital Humanities\"/Methodenmodul/DH Methoden & Tools/Tools/Tableau",
          "Schlüsselkompetenzen Zertifikat \"Digital Humanities\"/Basismodul/Umgang mit dem PC/PC Grundlagen/Tastaturkürzel &<br>Sonderzeichen",
          "Schlüsselkompetenzen Zertifikat \"Digital Humanities\"/Methodenmodul/Programmieren für DH/Python Grundlagen/Text (String-Methoden/-Funktionen)",
          "Schlüsselkompetenzen Zertifikat \"Digital Humanities\"/Basismodul/DH Grundlagen/Einführung DH/Textdaten - Zeichenkodierung",
          "Schlüsselkompetenzen Zertifikat \"Digital Humanities\"/Basismodul/DH Grundlagen/Einführung DH/Textdaten Grundlagen<br>-  txt, md, csv,<br>tsv, XML, HTML,<br>KML, TEI",
          "Schlüsselkompetenzen Zertifikat \"Digital Humanities\"/Methodenmodul/Programmieren für DH/R/Tidyverse",
          "Schlüsselkompetenzen Zertifikat \"Digital Humanities\"/Methodenmodul/DH Methoden & Tools/Methoden/Topic Modelling",
          "Schlüsselkompetenzen Zertifikat \"Digital Humanities\"/DH-Fortgeschritten/DH Methoden & Tools/KI/Transformer-Architektur",
          "Schlüsselkompetenzen Zertifikat \"Digital Humanities\"/Methodenmodul/DH Methoden & Tools/Tools/Trifacta/Alteryx<br>Designer Cloud",
          "Schlüsselkompetenzen Zertifikat \"Digital Humanities\"/DH-Fortgeschritten/Umgang mit dem PC/PC Fortgeschritten/UNIX/Linux: Grundlagen,<br>Betriebssystem",
          "Schlüsselkompetenzen Zertifikat \"Digital Humanities\"/Methodenmodul/Programmieren für DH/Misc/UNIX/Linux: Script-Sprachen",
          "Schlüsselkompetenzen Zertifikat \"Digital Humanities\"/DH-Fortgeschritten/Umgang mit dem PC/PC Fortgeschritten/UNIX/Linux: Serveradministration",
          "Schlüsselkompetenzen Zertifikat \"Digital Humanities\"/Methodenmodul/DH Methoden & Tools/Methoden/Umgang mit Online-Korpora",
          "Schlüsselkompetenzen Zertifikat \"Digital Humanities\"/Methodenmodul/DH Methoden & Tools/Tools/Umgang mit lokalen<br>Korpustools (Antconc,<br>etc.)",
          "Schlüsselkompetenzen Zertifikat \"Digital Humanities\"/Basismodul/Umgang mit dem PC/PC Grundlagen/Versionskontrolle/Datensicherung",
          "Schlüsselkompetenzen Zertifikat \"Digital Humanities\"/DH-Fortgeschritten/Umgang mit dem PC/PC Fortgeschritten/Versionskontrolle<br>mit git",
          "Schlüsselkompetenzen Zertifikat \"Digital Humanities\"/Methodenmodul/DH Methoden & Tools/Nicht-Text-Daten/Video & 3D (Bearbeiten,<br>Konvertieren, etc.)",
          "Schlüsselkompetenzen Zertifikat \"Digital Humanities\"/Methodenmodul/Programmieren für DH/Web/Web-Frontend zur<br>Suche und Anzeige<br>von Datenbankinhalten<br>(z.B. Dashbord)",
          "Schlüsselkompetenzen Zertifikat \"Digital Humanities\"/Methodenmodul/Programmieren für DH/Web/Web-Programmierung/<br>-Frameworks (Django,<br>Flask, etc.)",
          "Schlüsselkompetenzen Zertifikat \"Digital Humanities\"/Methodenmodul/Programmieren für DH/Web/Webseiten (HTML,<br>CSS, PHP, JavaScript)",
          "Schlüsselkompetenzen Zertifikat \"Digital Humanities\"/Praxismodul/DH Projekt/Projekt/Wissenskommunikation<br>(Vorgehen & Ergebnisse<br>nachvollziehbar<br>darstellen)",
          "Schlüsselkompetenzen Zertifikat \"Digital Humanities\"/Methodenmodul/DH Methoden & Tools/Tools/Wordsmith",
          "Schlüsselkompetenzen Zertifikat \"Digital Humanities\"/DH-Fortgeschritten/DH Methoden & Tools/Methoden/XML-Technologien<br>Fortgeschritten<br>(TEI-XML, Xquery,<br>XSLT, XPATH)",
          "Schlüsselkompetenzen Zertifikat \"Digital Humanities\"/Methodenmodul/DH Methoden & Tools/KI/Überblick (High<br>Level: wie funktioniert<br>KI/ML/Klassifikation/Generation/Bias)",
          "Schlüsselkompetenzen Zertifikat \"Digital Humanities\"/Basismodul/DH Grundlagen/Einführung DH/Überblick Textdatenbanken/Korpora<br>(\"Welche gibt es?\",<br>\"Wie finde ich passende<br>Korpora/Datenbanken?\")",
          "Schlüsselkompetenzen Zertifikat \"Digital Humanities\"/Methodenmodul/DH Methoden & Tools/Datenbanken",
          "Schlüsselkompetenzen Zertifikat \"Digital Humanities\"/Methodenmodul/DH Methoden & Tools/Digitale Editionen",
          "Schlüsselkompetenzen Zertifikat \"Digital Humanities\"/Basismodul/DH Grundlagen/Einführung DH",
          "Schlüsselkompetenzen Zertifikat \"Digital Humanities\"/DH-Fortgeschritten/DH Methoden & Tools/KI",
          "Schlüsselkompetenzen Zertifikat \"Digital Humanities\"/Methodenmodul/DH Methoden & Tools/KI",
          "Schlüsselkompetenzen Zertifikat \"Digital Humanities\"/DH-Fortgeschritten/DH Methoden & Tools/Methoden",
          "Schlüsselkompetenzen Zertifikat \"Digital Humanities\"/Methodenmodul/DH Methoden & Tools/Methoden",
          "Schlüsselkompetenzen Zertifikat \"Digital Humanities\"/Basismodul/DH Grundlagen/Misc",
          "Schlüsselkompetenzen Zertifikat \"Digital Humanities\"/DH-Fortgeschritten/Programmieren für DH/Misc",
          "Schlüsselkompetenzen Zertifikat \"Digital Humanities\"/Methodenmodul/Programmieren für DH/Misc",
          "Schlüsselkompetenzen Zertifikat \"Digital Humanities\"/DH-Fortgeschritten/DH Methoden & Tools/Nicht-Text-Daten",
          "Schlüsselkompetenzen Zertifikat \"Digital Humanities\"/Methodenmodul/DH Methoden & Tools/Nicht-Text-Daten",
          "Schlüsselkompetenzen Zertifikat \"Digital Humanities\"/DH-Fortgeschritten/Umgang mit dem PC/PC Fortgeschritten",
          "Schlüsselkompetenzen Zertifikat \"Digital Humanities\"/Basismodul/Umgang mit dem PC/PC Grundlagen",
          "Schlüsselkompetenzen Zertifikat \"Digital Humanities\"/Praxismodul/DH Projekt/Projekt",
          "Schlüsselkompetenzen Zertifikat \"Digital Humanities\"/DH-Fortgeschritten/Programmieren für DH/Python Fortgeschritten",
          "Schlüsselkompetenzen Zertifikat \"Digital Humanities\"/Methodenmodul/Programmieren für DH/Python Grundlagen",
          "Schlüsselkompetenzen Zertifikat \"Digital Humanities\"/Methodenmodul/Programmieren für DH/R",
          "Schlüsselkompetenzen Zertifikat \"Digital Humanities\"/Basismodul/DH Grundlagen/Rechtliches",
          "Schlüsselkompetenzen Zertifikat \"Digital Humanities\"/DH-Fortgeschritten/Statistik für DH/Statistik Fortgeschritten",
          "Schlüsselkompetenzen Zertifikat \"Digital Humanities\"/Methodenmodul/Statistik für DH/Statistik Grundlagen",
          "Schlüsselkompetenzen Zertifikat \"Digital Humanities\"/Methodenmodul/DH Methoden & Tools/Tools",
          "Schlüsselkompetenzen Zertifikat \"Digital Humanities\"/Methodenmodul/Programmieren für DH/Web",
          "Schlüsselkompetenzen Zertifikat \"Digital Humanities\"/Basismodul/DH Grundlagen",
          "Schlüsselkompetenzen Zertifikat \"Digital Humanities\"/DH-Fortgeschritten/DH Methoden & Tools",
          "Schlüsselkompetenzen Zertifikat \"Digital Humanities\"/Methodenmodul/DH Methoden & Tools",
          "Schlüsselkompetenzen Zertifikat \"Digital Humanities\"/Praxismodul/DH Projekt",
          "Schlüsselkompetenzen Zertifikat \"Digital Humanities\"/DH-Fortgeschritten/Programmieren für DH",
          "Schlüsselkompetenzen Zertifikat \"Digital Humanities\"/Methodenmodul/Programmieren für DH",
          "Schlüsselkompetenzen Zertifikat \"Digital Humanities\"/DH-Fortgeschritten/Statistik für DH",
          "Schlüsselkompetenzen Zertifikat \"Digital Humanities\"/Methodenmodul/Statistik für DH",
          "Schlüsselkompetenzen Zertifikat \"Digital Humanities\"/Basismodul/Umgang mit dem PC",
          "Schlüsselkompetenzen Zertifikat \"Digital Humanities\"/DH-Fortgeschritten/Umgang mit dem PC",
          "Schlüsselkompetenzen Zertifikat \"Digital Humanities\"/Basismodul",
          "Schlüsselkompetenzen Zertifikat \"Digital Humanities\"/DH-Fortgeschritten",
          "Schlüsselkompetenzen Zertifikat \"Digital Humanities\"/Methodenmodul",
          "Schlüsselkompetenzen Zertifikat \"Digital Humanities\"/Praxismodul",
          "Schlüsselkompetenzen Zertifikat \"Digital Humanities\""
         ],
         "labels": [
          "(DH) Code verstehen<br>und anpassen",
          "(Python-)Beispielprojekt<br>zum Ausprobieren<br>und Anpassen",
          "Anwendung der Kenntnisse<br>in einem selbstständigen<br>(Datenanalyse-)projekt",
          "Audio (Bearbeiten,<br>Konvertieren, etc.)",
          "Audio Signal Processing",
          "Aufbau/Administration<br>von Client-Server-Architektur",
          "Begriffsdefinition<br>DH",
          "Beispiele Fragestellungen<br>- Fächer: Literaturwissenschaft,<br>Editionsphilologie,<br>Linguistik, Geschichte,<br>Kunstgeschichte,<br>Archäologie, Musik,<br>Medienwissenschaft",
          "Beispiele Tools<br>& Methoden: Digitale<br>Editionen, Digitale<br>Archive, Korpusanalyse,<br>Oral History, GIS,<br>VR, 3D-Design, digitale<br>Filmanalyse",
          "Bild (Bearbeiten,<br>Konvertieren, etc.)",
          "Computer Vision",
          "Computer-Probleme<br>selber lösen (richtig<br>googlen, Tutorials<br>befolgen)",
          "Containerisierung<br>(z.B. Docker)",
          "DH & Ich (\"Wofür<br>brauche ich persönlich<br>DH-Methoden in meinem<br>Studium?\")",
          "Dateien - Ordnerstruktur/-hierarchie,<br>Pfade, Benennung,<br>Arten, Umwandeln",
          "Datenanalyse & Textmining",
          "Datenanalyse oder<br>Visualisierung",
          "Datenanalyse und<br>Machine Learning",
          "Datenaufbereitung<br>& Umgang mit Fehlermeldungen",
          "Datenschutz, Copyright,<br>DSGVO (in Bezug<br>auf Webscraping)",
          "Datenverarbeitung<br>& -organisation:<br>Datenbanken",
          "Datenverarbeitung<br>& -organisation:<br>Metadaten (Typen<br>& Standards)",
          "Datenvisualisierung<br>(ggplot)",
          "Datenvisualisierung<br>(matplotlib, seaborn,<br>etc.)",
          "Design und Implementierung<br>statistischer Modelle",
          "Digitale Editionen<br>bearbeiten/ Maintenance",
          "Digitale Editionen<br>erstellen",
          "Digitalisierung:<br>Frameworks (bspw.<br>IIIF)",
          "Digitalisierung<br>- 3D Digitalisierung,<br>AR, VR (Plastiken,<br>Gebäudemodelle)",
          "Digitalisierung<br>- Bilder als digitale<br>Daten (Raster &<br>Vektorgrafiken)",
          "Digitalisierungsverfahren<br>Bild & Text",
          "Erstellung von TEI-Customisations",
          "Forschungsethik",
          "Fortgeschritten:<br>SQL/NoSQL, eXist-db,<br>MongoDB, etc.",
          "Fortgeschritten:<br>selbst aufsetzen,<br>bearbeiten, maintainen",
          "Geschichte der DH",
          "Graphanalyse",
          "Graphische Darstellung<br>(welche Daten, welche<br>Darstellung, Fehler)",
          "Grundlagen Programmieren<br>(Kontrollfluss,<br>Schleifen, Grundlagen<br>i/o, Boolsche Logik,<br>etc.)",
          "Grundlagen R Programmieren",
          "Grundlagen: Excel/CSV,<br>SQL, Zugriff auf<br>existierende DBs/API",
          "Grundlagen: Verwalten,<br>Zusammenfügen, Analysieren<br>großer Datensätze",
          "Information Retrieval",
          "Infrastruktur (IDE,<br>Jupyter Notebooks,<br>Colab/Pages/JupyterHub)",
          "Internationale Standards<br>in der Auszeichnung<br>von (Meta)daten<br>z.B. METS, MODS,<br>TEI",
          "Java ",
          "Kartenerstellung<br>(GIS, ArcGis, etc.)",
          "Klassifikation:<br>Beispielcode (z.B.<br>in Python oder R)",
          "Klassifikation:<br>KNN, SVM, etc",
          "Klassifikation:<br>Naive Bayes",
          "Kollation (Editionsphilologie)",
          "Korpusanalytische<br>Verfahren (Webscraping,<br>Tokenisierung, Annotation,<br>Kookkurrenz-, Frequenzanalyse,<br>etc.)",
          "Korrelation & Kausalität",
          "LaTeχ (Overleaf)",
          "Maschinelles Lernen:<br>Algorithmen",
          "Mathematische Grundlagen",
          "MaxQDA",
          "NLTK",
          "Named Entity Recognition",
          "Network Analysis",
          "OCR: Tools, Python-Bibliotheken,<br>APIs",
          "Open Access / Open<br>Research",
          "Open Refine",
          "Pandas",
          "Projektorientiertes<br>Lernen: Modellierung,<br>Projektentwurf,<br>Umsetzung und Evaluation",
          "Quellenverwaltung<br>(mit Zotero, etc.)",
          "Schätzer, Konfidenzintervalle<br>& Hypothesentests",
          "Selbständiges Arbeiten<br>mit Datensätzen",
          "Shell Fortgeschritten:<br>shell scripts, variablen,<br>editor in der shell,<br>remote access/ssh",
          "Shell Grundlagen:<br>Was ist die Shell?,<br>Unix vs. Windows,<br>simple Befehle",
          "Skalenniveaus",
          "Sonstige DH-Bibliotheken",
          "Sonstige DH-Tools",
          "Spacy",
          "Tabellenkalkulation<br>- Excel/Google Sheets",
          "Tableau",
          "Tastaturkürzel &<br>Sonderzeichen",
          "Text (String-Methoden/-Funktionen)",
          "Textdaten - Zeichenkodierung",
          "Textdaten Grundlagen<br>-  txt, md, csv,<br>tsv, XML, HTML,<br>KML, TEI",
          "Tidyverse",
          "Topic Modelling",
          "Transformer-Architektur",
          "Trifacta/Alteryx<br>Designer Cloud",
          "UNIX/Linux: Grundlagen,<br>Betriebssystem",
          "UNIX/Linux: Script-Sprachen",
          "UNIX/Linux: Serveradministration",
          "Umgang mit Online-Korpora",
          "Umgang mit lokalen<br>Korpustools (Antconc,<br>etc.)",
          "Versionskontrolle/Datensicherung",
          "Versionskontrolle<br>mit git",
          "Video & 3D (Bearbeiten,<br>Konvertieren, etc.)",
          "Web-Frontend zur<br>Suche und Anzeige<br>von Datenbankinhalten<br>(z.B. Dashbord)",
          "Web-Programmierung/<br>-Frameworks (Django,<br>Flask, etc.)",
          "Webseiten (HTML,<br>CSS, PHP, JavaScript)",
          "Wissenskommunikation<br>(Vorgehen & Ergebnisse<br>nachvollziehbar<br>darstellen)",
          "Wordsmith",
          "XML-Technologien<br>Fortgeschritten<br>(TEI-XML, Xquery,<br>XSLT, XPATH)",
          "Überblick (High<br>Level: wie funktioniert<br>KI/ML/Klassifikation/Generation/Bias)",
          "Überblick Textdatenbanken/Korpora<br>(\"Welche gibt es?\",<br>\"Wie finde ich passende<br>Korpora/Datenbanken?\")",
          "Datenbanken",
          "Digitale Editionen",
          "Einführung DH",
          "KI",
          "KI",
          "Methoden",
          "Methoden",
          "Misc",
          "Misc",
          "Misc",
          "Nicht-Text-Daten",
          "Nicht-Text-Daten",
          "PC Fortgeschritten",
          "PC Grundlagen",
          "Projekt",
          "Python Fortgeschritten",
          "Python Grundlagen",
          "R",
          "Rechtliches",
          "Statistik Fortgeschritten",
          "Statistik Grundlagen",
          "Tools",
          "Web",
          "DH Grundlagen",
          "DH Methoden & Tools",
          "DH Methoden & Tools",
          "DH Projekt",
          "Programmieren für DH",
          "Programmieren für DH",
          "Statistik für DH",
          "Statistik für DH",
          "Umgang mit dem PC",
          "Umgang mit dem PC",
          "Basismodul",
          "DH-Fortgeschritten",
          "Methodenmodul",
          "Praxismodul",
          "Schlüsselkompetenzen Zertifikat \"Digital Humanities\""
         ],
         "marker": {
          "cornerradius": 5
         },
         "name": "",
         "parents": [
          "Schlüsselkompetenzen Zertifikat \"Digital Humanities\"/Methodenmodul/Programmieren für DH/Python Grundlagen",
          "Schlüsselkompetenzen Zertifikat \"Digital Humanities\"/Methodenmodul/DH Methoden & Tools/KI",
          "Schlüsselkompetenzen Zertifikat \"Digital Humanities\"/Praxismodul/DH Projekt/Projekt",
          "Schlüsselkompetenzen Zertifikat \"Digital Humanities\"/Methodenmodul/DH Methoden & Tools/Nicht-Text-Daten",
          "Schlüsselkompetenzen Zertifikat \"Digital Humanities\"/DH-Fortgeschritten/DH Methoden & Tools/Nicht-Text-Daten",
          "Schlüsselkompetenzen Zertifikat \"Digital Humanities\"/DH-Fortgeschritten/Umgang mit dem PC/PC Fortgeschritten",
          "Schlüsselkompetenzen Zertifikat \"Digital Humanities\"/Basismodul/DH Grundlagen/Einführung DH",
          "Schlüsselkompetenzen Zertifikat \"Digital Humanities\"/Basismodul/DH Grundlagen/Einführung DH",
          "Schlüsselkompetenzen Zertifikat \"Digital Humanities\"/Basismodul/DH Grundlagen/Einführung DH",
          "Schlüsselkompetenzen Zertifikat \"Digital Humanities\"/Methodenmodul/DH Methoden & Tools/Nicht-Text-Daten",
          "Schlüsselkompetenzen Zertifikat \"Digital Humanities\"/DH-Fortgeschritten/DH Methoden & Tools/Nicht-Text-Daten",
          "Schlüsselkompetenzen Zertifikat \"Digital Humanities\"/Basismodul/Umgang mit dem PC/PC Grundlagen",
          "Schlüsselkompetenzen Zertifikat \"Digital Humanities\"/DH-Fortgeschritten/Umgang mit dem PC/PC Fortgeschritten",
          "Schlüsselkompetenzen Zertifikat \"Digital Humanities\"/Basismodul/DH Grundlagen/Einführung DH",
          "Schlüsselkompetenzen Zertifikat \"Digital Humanities\"/Basismodul/Umgang mit dem PC/PC Grundlagen",
          "Schlüsselkompetenzen Zertifikat \"Digital Humanities\"/Methodenmodul/Programmieren für DH/R",
          "Schlüsselkompetenzen Zertifikat \"Digital Humanities\"/Praxismodul/DH Projekt/Projekt",
          "Schlüsselkompetenzen Zertifikat \"Digital Humanities\"/DH-Fortgeschritten/Statistik für DH/Statistik Fortgeschritten",
          "Schlüsselkompetenzen Zertifikat \"Digital Humanities\"/Methodenmodul/Programmieren für DH/R",
          "Schlüsselkompetenzen Zertifikat \"Digital Humanities\"/Basismodul/DH Grundlagen/Rechtliches",
          "Schlüsselkompetenzen Zertifikat \"Digital Humanities\"/Basismodul/DH Grundlagen/Einführung DH",
          "Schlüsselkompetenzen Zertifikat \"Digital Humanities\"/Basismodul/DH Grundlagen/Einführung DH",
          "Schlüsselkompetenzen Zertifikat \"Digital Humanities\"/Methodenmodul/Programmieren für DH/R",
          "Schlüsselkompetenzen Zertifikat \"Digital Humanities\"/Methodenmodul/Programmieren für DH/Python Grundlagen",
          "Schlüsselkompetenzen Zertifikat \"Digital Humanities\"/DH-Fortgeschritten/Statistik für DH/Statistik Fortgeschritten",
          "Schlüsselkompetenzen Zertifikat \"Digital Humanities\"/Methodenmodul/DH Methoden & Tools/Digitale Editionen",
          "Schlüsselkompetenzen Zertifikat \"Digital Humanities\"/Methodenmodul/DH Methoden & Tools/Digitale Editionen",
          "Schlüsselkompetenzen Zertifikat \"Digital Humanities\"/Methodenmodul/DH Methoden & Tools/Methoden",
          "Schlüsselkompetenzen Zertifikat \"Digital Humanities\"/Basismodul/DH Grundlagen/Einführung DH",
          "Schlüsselkompetenzen Zertifikat \"Digital Humanities\"/Basismodul/DH Grundlagen/Einführung DH",
          "Schlüsselkompetenzen Zertifikat \"Digital Humanities\"/Basismodul/DH Grundlagen/Einführung DH",
          "Schlüsselkompetenzen Zertifikat \"Digital Humanities\"/Methodenmodul/DH Methoden & Tools/Methoden",
          "Schlüsselkompetenzen Zertifikat \"Digital Humanities\"/Basismodul/DH Grundlagen/Rechtliches",
          "Schlüsselkompetenzen Zertifikat \"Digital Humanities\"/Methodenmodul/DH Methoden & Tools/Datenbanken",
          "Schlüsselkompetenzen Zertifikat \"Digital Humanities\"/Methodenmodul/DH Methoden & Tools/Datenbanken",
          "Schlüsselkompetenzen Zertifikat \"Digital Humanities\"/Basismodul/DH Grundlagen/Einführung DH",
          "Schlüsselkompetenzen Zertifikat \"Digital Humanities\"/DH-Fortgeschritten/DH Methoden & Tools/Methoden",
          "Schlüsselkompetenzen Zertifikat \"Digital Humanities\"/Methodenmodul/Statistik für DH/Statistik Grundlagen",
          "Schlüsselkompetenzen Zertifikat \"Digital Humanities\"/Methodenmodul/Programmieren für DH/Python Grundlagen",
          "Schlüsselkompetenzen Zertifikat \"Digital Humanities\"/Methodenmodul/Programmieren für DH/R",
          "Schlüsselkompetenzen Zertifikat \"Digital Humanities\"/Methodenmodul/DH Methoden & Tools/Datenbanken",
          "Schlüsselkompetenzen Zertifikat \"Digital Humanities\"/Methodenmodul/DH Methoden & Tools/Datenbanken",
          "Schlüsselkompetenzen Zertifikat \"Digital Humanities\"/Methodenmodul/DH Methoden & Tools/Methoden",
          "Schlüsselkompetenzen Zertifikat \"Digital Humanities\"/Methodenmodul/Programmieren für DH/Python Grundlagen",
          "Schlüsselkompetenzen Zertifikat \"Digital Humanities\"/Basismodul/DH Grundlagen/Misc",
          "Schlüsselkompetenzen Zertifikat \"Digital Humanities\"/DH-Fortgeschritten/Programmieren für DH/Misc",
          "Schlüsselkompetenzen Zertifikat \"Digital Humanities\"/Methodenmodul/DH Methoden & Tools/Tools",
          "Schlüsselkompetenzen Zertifikat \"Digital Humanities\"/DH-Fortgeschritten/Statistik für DH/Statistik Fortgeschritten",
          "Schlüsselkompetenzen Zertifikat \"Digital Humanities\"/DH-Fortgeschritten/Statistik für DH/Statistik Fortgeschritten",
          "Schlüsselkompetenzen Zertifikat \"Digital Humanities\"/DH-Fortgeschritten/Statistik für DH/Statistik Fortgeschritten",
          "Schlüsselkompetenzen Zertifikat \"Digital Humanities\"/Methodenmodul/DH Methoden & Tools/Methoden",
          "Schlüsselkompetenzen Zertifikat \"Digital Humanities\"/Methodenmodul/Programmieren für DH/Python Grundlagen",
          "Schlüsselkompetenzen Zertifikat \"Digital Humanities\"/Methodenmodul/Statistik für DH/Statistik Grundlagen",
          "Schlüsselkompetenzen Zertifikat \"Digital Humanities\"/DH-Fortgeschritten/Umgang mit dem PC/PC Fortgeschritten",
          "Schlüsselkompetenzen Zertifikat \"Digital Humanities\"/DH-Fortgeschritten/DH Methoden & Tools/KI",
          "Schlüsselkompetenzen Zertifikat \"Digital Humanities\"/DH-Fortgeschritten/DH Methoden & Tools/KI",
          "Schlüsselkompetenzen Zertifikat \"Digital Humanities\"/Methodenmodul/DH Methoden & Tools/Tools",
          "Schlüsselkompetenzen Zertifikat \"Digital Humanities\"/DH-Fortgeschritten/Programmieren für DH/Python Fortgeschritten",
          "Schlüsselkompetenzen Zertifikat \"Digital Humanities\"/Methodenmodul/DH Methoden & Tools/Methoden",
          "Schlüsselkompetenzen Zertifikat \"Digital Humanities\"/DH-Fortgeschritten/DH Methoden & Tools/Methoden",
          "Schlüsselkompetenzen Zertifikat \"Digital Humanities\"/Methodenmodul/DH Methoden & Tools/Tools",
          "Schlüsselkompetenzen Zertifikat \"Digital Humanities\"/Basismodul/DH Grundlagen/Rechtliches",
          "Schlüsselkompetenzen Zertifikat \"Digital Humanities\"/Methodenmodul/DH Methoden & Tools/Tools",
          "Schlüsselkompetenzen Zertifikat \"Digital Humanities\"/Methodenmodul/Programmieren für DH/Python Grundlagen",
          "Schlüsselkompetenzen Zertifikat \"Digital Humanities\"/Praxismodul/DH Projekt/Projekt",
          "Schlüsselkompetenzen Zertifikat \"Digital Humanities\"/DH-Fortgeschritten/Umgang mit dem PC/PC Fortgeschritten",
          "Schlüsselkompetenzen Zertifikat \"Digital Humanities\"/Methodenmodul/Statistik für DH/Statistik Grundlagen",
          "Schlüsselkompetenzen Zertifikat \"Digital Humanities\"/Praxismodul/DH Projekt/Projekt",
          "Schlüsselkompetenzen Zertifikat \"Digital Humanities\"/DH-Fortgeschritten/Umgang mit dem PC/PC Fortgeschritten",
          "Schlüsselkompetenzen Zertifikat \"Digital Humanities\"/Basismodul/Umgang mit dem PC/PC Grundlagen",
          "Schlüsselkompetenzen Zertifikat \"Digital Humanities\"/Methodenmodul/Statistik für DH/Statistik Grundlagen",
          "Schlüsselkompetenzen Zertifikat \"Digital Humanities\"/DH-Fortgeschritten/Programmieren für DH/Python Fortgeschritten",
          "Schlüsselkompetenzen Zertifikat \"Digital Humanities\"/Methodenmodul/DH Methoden & Tools/Tools",
          "Schlüsselkompetenzen Zertifikat \"Digital Humanities\"/DH-Fortgeschritten/Programmieren für DH/Python Fortgeschritten",
          "Schlüsselkompetenzen Zertifikat \"Digital Humanities\"/Basismodul/Umgang mit dem PC/PC Grundlagen",
          "Schlüsselkompetenzen Zertifikat \"Digital Humanities\"/Methodenmodul/DH Methoden & Tools/Tools",
          "Schlüsselkompetenzen Zertifikat \"Digital Humanities\"/Basismodul/Umgang mit dem PC/PC Grundlagen",
          "Schlüsselkompetenzen Zertifikat \"Digital Humanities\"/Methodenmodul/Programmieren für DH/Python Grundlagen",
          "Schlüsselkompetenzen Zertifikat \"Digital Humanities\"/Basismodul/DH Grundlagen/Einführung DH",
          "Schlüsselkompetenzen Zertifikat \"Digital Humanities\"/Basismodul/DH Grundlagen/Einführung DH",
          "Schlüsselkompetenzen Zertifikat \"Digital Humanities\"/Methodenmodul/Programmieren für DH/R",
          "Schlüsselkompetenzen Zertifikat \"Digital Humanities\"/Methodenmodul/DH Methoden & Tools/Methoden",
          "Schlüsselkompetenzen Zertifikat \"Digital Humanities\"/DH-Fortgeschritten/DH Methoden & Tools/KI",
          "Schlüsselkompetenzen Zertifikat \"Digital Humanities\"/Methodenmodul/DH Methoden & Tools/Tools",
          "Schlüsselkompetenzen Zertifikat \"Digital Humanities\"/DH-Fortgeschritten/Umgang mit dem PC/PC Fortgeschritten",
          "Schlüsselkompetenzen Zertifikat \"Digital Humanities\"/Methodenmodul/Programmieren für DH/Misc",
          "Schlüsselkompetenzen Zertifikat \"Digital Humanities\"/DH-Fortgeschritten/Umgang mit dem PC/PC Fortgeschritten",
          "Schlüsselkompetenzen Zertifikat \"Digital Humanities\"/Methodenmodul/DH Methoden & Tools/Methoden",
          "Schlüsselkompetenzen Zertifikat \"Digital Humanities\"/Methodenmodul/DH Methoden & Tools/Tools",
          "Schlüsselkompetenzen Zertifikat \"Digital Humanities\"/Basismodul/Umgang mit dem PC/PC Grundlagen",
          "Schlüsselkompetenzen Zertifikat \"Digital Humanities\"/DH-Fortgeschritten/Umgang mit dem PC/PC Fortgeschritten",
          "Schlüsselkompetenzen Zertifikat \"Digital Humanities\"/Methodenmodul/DH Methoden & Tools/Nicht-Text-Daten",
          "Schlüsselkompetenzen Zertifikat \"Digital Humanities\"/Methodenmodul/Programmieren für DH/Web",
          "Schlüsselkompetenzen Zertifikat \"Digital Humanities\"/Methodenmodul/Programmieren für DH/Web",
          "Schlüsselkompetenzen Zertifikat \"Digital Humanities\"/Methodenmodul/Programmieren für DH/Web",
          "Schlüsselkompetenzen Zertifikat \"Digital Humanities\"/Praxismodul/DH Projekt/Projekt",
          "Schlüsselkompetenzen Zertifikat \"Digital Humanities\"/Methodenmodul/DH Methoden & Tools/Tools",
          "Schlüsselkompetenzen Zertifikat \"Digital Humanities\"/DH-Fortgeschritten/DH Methoden & Tools/Methoden",
          "Schlüsselkompetenzen Zertifikat \"Digital Humanities\"/Methodenmodul/DH Methoden & Tools/KI",
          "Schlüsselkompetenzen Zertifikat \"Digital Humanities\"/Basismodul/DH Grundlagen/Einführung DH",
          "Schlüsselkompetenzen Zertifikat \"Digital Humanities\"/Methodenmodul/DH Methoden & Tools",
          "Schlüsselkompetenzen Zertifikat \"Digital Humanities\"/Methodenmodul/DH Methoden & Tools",
          "Schlüsselkompetenzen Zertifikat \"Digital Humanities\"/Basismodul/DH Grundlagen",
          "Schlüsselkompetenzen Zertifikat \"Digital Humanities\"/DH-Fortgeschritten/DH Methoden & Tools",
          "Schlüsselkompetenzen Zertifikat \"Digital Humanities\"/Methodenmodul/DH Methoden & Tools",
          "Schlüsselkompetenzen Zertifikat \"Digital Humanities\"/DH-Fortgeschritten/DH Methoden & Tools",
          "Schlüsselkompetenzen Zertifikat \"Digital Humanities\"/Methodenmodul/DH Methoden & Tools",
          "Schlüsselkompetenzen Zertifikat \"Digital Humanities\"/Basismodul/DH Grundlagen",
          "Schlüsselkompetenzen Zertifikat \"Digital Humanities\"/DH-Fortgeschritten/Programmieren für DH",
          "Schlüsselkompetenzen Zertifikat \"Digital Humanities\"/Methodenmodul/Programmieren für DH",
          "Schlüsselkompetenzen Zertifikat \"Digital Humanities\"/DH-Fortgeschritten/DH Methoden & Tools",
          "Schlüsselkompetenzen Zertifikat \"Digital Humanities\"/Methodenmodul/DH Methoden & Tools",
          "Schlüsselkompetenzen Zertifikat \"Digital Humanities\"/DH-Fortgeschritten/Umgang mit dem PC",
          "Schlüsselkompetenzen Zertifikat \"Digital Humanities\"/Basismodul/Umgang mit dem PC",
          "Schlüsselkompetenzen Zertifikat \"Digital Humanities\"/Praxismodul/DH Projekt",
          "Schlüsselkompetenzen Zertifikat \"Digital Humanities\"/DH-Fortgeschritten/Programmieren für DH",
          "Schlüsselkompetenzen Zertifikat \"Digital Humanities\"/Methodenmodul/Programmieren für DH",
          "Schlüsselkompetenzen Zertifikat \"Digital Humanities\"/Methodenmodul/Programmieren für DH",
          "Schlüsselkompetenzen Zertifikat \"Digital Humanities\"/Basismodul/DH Grundlagen",
          "Schlüsselkompetenzen Zertifikat \"Digital Humanities\"/DH-Fortgeschritten/Statistik für DH",
          "Schlüsselkompetenzen Zertifikat \"Digital Humanities\"/Methodenmodul/Statistik für DH",
          "Schlüsselkompetenzen Zertifikat \"Digital Humanities\"/Methodenmodul/DH Methoden & Tools",
          "Schlüsselkompetenzen Zertifikat \"Digital Humanities\"/Methodenmodul/Programmieren für DH",
          "Schlüsselkompetenzen Zertifikat \"Digital Humanities\"/Basismodul",
          "Schlüsselkompetenzen Zertifikat \"Digital Humanities\"/DH-Fortgeschritten",
          "Schlüsselkompetenzen Zertifikat \"Digital Humanities\"/Methodenmodul",
          "Schlüsselkompetenzen Zertifikat \"Digital Humanities\"/Praxismodul",
          "Schlüsselkompetenzen Zertifikat \"Digital Humanities\"/DH-Fortgeschritten",
          "Schlüsselkompetenzen Zertifikat \"Digital Humanities\"/Methodenmodul",
          "Schlüsselkompetenzen Zertifikat \"Digital Humanities\"/DH-Fortgeschritten",
          "Schlüsselkompetenzen Zertifikat \"Digital Humanities\"/Methodenmodul",
          "Schlüsselkompetenzen Zertifikat \"Digital Humanities\"/Basismodul",
          "Schlüsselkompetenzen Zertifikat \"Digital Humanities\"/DH-Fortgeschritten",
          "Schlüsselkompetenzen Zertifikat \"Digital Humanities\"",
          "Schlüsselkompetenzen Zertifikat \"Digital Humanities\"",
          "Schlüsselkompetenzen Zertifikat \"Digital Humanities\"",
          "Schlüsselkompetenzen Zertifikat \"Digital Humanities\"",
          ""
         ],
         "type": "treemap",
         "values": [
          3,
          2,
          3,
          2,
          1,
          1,
          3,
          3,
          3,
          2,
          1,
          3,
          2,
          3,
          3,
          3,
          3,
          1,
          3,
          2,
          3,
          3,
          3,
          3,
          1,
          3,
          3,
          2,
          2,
          2,
          3,
          2,
          2,
          1,
          1,
          3,
          1,
          3,
          3,
          3,
          2,
          2,
          2,
          3,
          2,
          1,
          2,
          2,
          2,
          2,
          2,
          3,
          3,
          2,
          1,
          1,
          1,
          3,
          3,
          1,
          3,
          2,
          2,
          3,
          3,
          2,
          3,
          3,
          2,
          3,
          3,
          3,
          1,
          3,
          3,
          1,
          3,
          3,
          3,
          3,
          3,
          2,
          1,
          1,
          1,
          1,
          1,
          3,
          2,
          3,
          2,
          2,
          2,
          1,
          1,
          3,
          2,
          2,
          3,
          3,
          6,
          6,
          37,
          3,
          5,
          4,
          16,
          2,
          1,
          1,
          2,
          6,
          13,
          18,
          15,
          9,
          21,
          15,
          6,
          8,
          12,
          15,
          4,
          45,
          9,
          54,
          15,
          10,
          41,
          8,
          12,
          18,
          13,
          63,
          40,
          107,
          15,
          225
         ]
        }
       ],
       "layout": {
        "font": {
         "size": 15
        },
        "legend": {
         "tracegroupgap": 0
        },
        "margin": {
         "b": 25,
         "l": 25,
         "r": 25,
         "t": 25
        },
        "template": {
         "data": {
          "bar": [
           {
            "error_x": {
             "color": "rgb(36,36,36)"
            },
            "error_y": {
             "color": "rgb(36,36,36)"
            },
            "marker": {
             "line": {
              "color": "rgb(234,234,242)",
              "width": 0.5
             },
             "pattern": {
              "fillmode": "overlay",
              "size": 10,
              "solidity": 0.2
             }
            },
            "type": "bar"
           }
          ],
          "barpolar": [
           {
            "marker": {
             "line": {
              "color": "rgb(234,234,242)",
              "width": 0.5
             },
             "pattern": {
              "fillmode": "overlay",
              "size": 10,
              "solidity": 0.2
             }
            },
            "type": "barpolar"
           }
          ],
          "carpet": [
           {
            "aaxis": {
             "endlinecolor": "rgb(36,36,36)",
             "gridcolor": "white",
             "linecolor": "white",
             "minorgridcolor": "white",
             "startlinecolor": "rgb(36,36,36)"
            },
            "baxis": {
             "endlinecolor": "rgb(36,36,36)",
             "gridcolor": "white",
             "linecolor": "white",
             "minorgridcolor": "white",
             "startlinecolor": "rgb(36,36,36)"
            },
            "type": "carpet"
           }
          ],
          "choropleth": [
           {
            "colorbar": {
             "outlinewidth": 0,
             "tickcolor": "rgb(36,36,36)",
             "ticklen": 8,
             "ticks": "outside",
             "tickwidth": 2
            },
            "type": "choropleth"
           }
          ],
          "contour": [
           {
            "colorbar": {
             "outlinewidth": 0,
             "tickcolor": "rgb(36,36,36)",
             "ticklen": 8,
             "ticks": "outside",
             "tickwidth": 2
            },
            "colorscale": [
             [
              0,
              "rgb(2,4,25)"
             ],
             [
              0.06274509803921569,
              "rgb(24,15,41)"
             ],
             [
              0.12549019607843137,
              "rgb(47,23,57)"
             ],
             [
              0.18823529411764706,
              "rgb(71,28,72)"
             ],
             [
              0.25098039215686274,
              "rgb(97,30,82)"
             ],
             [
              0.3137254901960784,
              "rgb(123,30,89)"
             ],
             [
              0.3764705882352941,
              "rgb(150,27,91)"
             ],
             [
              0.4392156862745098,
              "rgb(177,22,88)"
             ],
             [
              0.5019607843137255,
              "rgb(203,26,79)"
             ],
             [
              0.5647058823529412,
              "rgb(223,47,67)"
             ],
             [
              0.6274509803921569,
              "rgb(236,76,61)"
             ],
             [
              0.6901960784313725,
              "rgb(242,107,73)"
             ],
             [
              0.7529411764705882,
              "rgb(244,135,95)"
             ],
             [
              0.8156862745098039,
              "rgb(245,162,122)"
             ],
             [
              0.8784313725490196,
              "rgb(246,188,153)"
             ],
             [
              0.9411764705882353,
              "rgb(247,212,187)"
             ],
             [
              1,
              "rgb(250,234,220)"
             ]
            ],
            "type": "contour"
           }
          ],
          "contourcarpet": [
           {
            "colorbar": {
             "outlinewidth": 0,
             "tickcolor": "rgb(36,36,36)",
             "ticklen": 8,
             "ticks": "outside",
             "tickwidth": 2
            },
            "type": "contourcarpet"
           }
          ],
          "heatmap": [
           {
            "colorbar": {
             "outlinewidth": 0,
             "tickcolor": "rgb(36,36,36)",
             "ticklen": 8,
             "ticks": "outside",
             "tickwidth": 2
            },
            "colorscale": [
             [
              0,
              "rgb(2,4,25)"
             ],
             [
              0.06274509803921569,
              "rgb(24,15,41)"
             ],
             [
              0.12549019607843137,
              "rgb(47,23,57)"
             ],
             [
              0.18823529411764706,
              "rgb(71,28,72)"
             ],
             [
              0.25098039215686274,
              "rgb(97,30,82)"
             ],
             [
              0.3137254901960784,
              "rgb(123,30,89)"
             ],
             [
              0.3764705882352941,
              "rgb(150,27,91)"
             ],
             [
              0.4392156862745098,
              "rgb(177,22,88)"
             ],
             [
              0.5019607843137255,
              "rgb(203,26,79)"
             ],
             [
              0.5647058823529412,
              "rgb(223,47,67)"
             ],
             [
              0.6274509803921569,
              "rgb(236,76,61)"
             ],
             [
              0.6901960784313725,
              "rgb(242,107,73)"
             ],
             [
              0.7529411764705882,
              "rgb(244,135,95)"
             ],
             [
              0.8156862745098039,
              "rgb(245,162,122)"
             ],
             [
              0.8784313725490196,
              "rgb(246,188,153)"
             ],
             [
              0.9411764705882353,
              "rgb(247,212,187)"
             ],
             [
              1,
              "rgb(250,234,220)"
             ]
            ],
            "type": "heatmap"
           }
          ],
          "heatmapgl": [
           {
            "colorbar": {
             "outlinewidth": 0,
             "tickcolor": "rgb(36,36,36)",
             "ticklen": 8,
             "ticks": "outside",
             "tickwidth": 2
            },
            "colorscale": [
             [
              0,
              "rgb(2,4,25)"
             ],
             [
              0.06274509803921569,
              "rgb(24,15,41)"
             ],
             [
              0.12549019607843137,
              "rgb(47,23,57)"
             ],
             [
              0.18823529411764706,
              "rgb(71,28,72)"
             ],
             [
              0.25098039215686274,
              "rgb(97,30,82)"
             ],
             [
              0.3137254901960784,
              "rgb(123,30,89)"
             ],
             [
              0.3764705882352941,
              "rgb(150,27,91)"
             ],
             [
              0.4392156862745098,
              "rgb(177,22,88)"
             ],
             [
              0.5019607843137255,
              "rgb(203,26,79)"
             ],
             [
              0.5647058823529412,
              "rgb(223,47,67)"
             ],
             [
              0.6274509803921569,
              "rgb(236,76,61)"
             ],
             [
              0.6901960784313725,
              "rgb(242,107,73)"
             ],
             [
              0.7529411764705882,
              "rgb(244,135,95)"
             ],
             [
              0.8156862745098039,
              "rgb(245,162,122)"
             ],
             [
              0.8784313725490196,
              "rgb(246,188,153)"
             ],
             [
              0.9411764705882353,
              "rgb(247,212,187)"
             ],
             [
              1,
              "rgb(250,234,220)"
             ]
            ],
            "type": "heatmapgl"
           }
          ],
          "histogram": [
           {
            "marker": {
             "pattern": {
              "fillmode": "overlay",
              "size": 10,
              "solidity": 0.2
             }
            },
            "type": "histogram"
           }
          ],
          "histogram2d": [
           {
            "colorbar": {
             "outlinewidth": 0,
             "tickcolor": "rgb(36,36,36)",
             "ticklen": 8,
             "ticks": "outside",
             "tickwidth": 2
            },
            "colorscale": [
             [
              0,
              "rgb(2,4,25)"
             ],
             [
              0.06274509803921569,
              "rgb(24,15,41)"
             ],
             [
              0.12549019607843137,
              "rgb(47,23,57)"
             ],
             [
              0.18823529411764706,
              "rgb(71,28,72)"
             ],
             [
              0.25098039215686274,
              "rgb(97,30,82)"
             ],
             [
              0.3137254901960784,
              "rgb(123,30,89)"
             ],
             [
              0.3764705882352941,
              "rgb(150,27,91)"
             ],
             [
              0.4392156862745098,
              "rgb(177,22,88)"
             ],
             [
              0.5019607843137255,
              "rgb(203,26,79)"
             ],
             [
              0.5647058823529412,
              "rgb(223,47,67)"
             ],
             [
              0.6274509803921569,
              "rgb(236,76,61)"
             ],
             [
              0.6901960784313725,
              "rgb(242,107,73)"
             ],
             [
              0.7529411764705882,
              "rgb(244,135,95)"
             ],
             [
              0.8156862745098039,
              "rgb(245,162,122)"
             ],
             [
              0.8784313725490196,
              "rgb(246,188,153)"
             ],
             [
              0.9411764705882353,
              "rgb(247,212,187)"
             ],
             [
              1,
              "rgb(250,234,220)"
             ]
            ],
            "type": "histogram2d"
           }
          ],
          "histogram2dcontour": [
           {
            "colorbar": {
             "outlinewidth": 0,
             "tickcolor": "rgb(36,36,36)",
             "ticklen": 8,
             "ticks": "outside",
             "tickwidth": 2
            },
            "colorscale": [
             [
              0,
              "rgb(2,4,25)"
             ],
             [
              0.06274509803921569,
              "rgb(24,15,41)"
             ],
             [
              0.12549019607843137,
              "rgb(47,23,57)"
             ],
             [
              0.18823529411764706,
              "rgb(71,28,72)"
             ],
             [
              0.25098039215686274,
              "rgb(97,30,82)"
             ],
             [
              0.3137254901960784,
              "rgb(123,30,89)"
             ],
             [
              0.3764705882352941,
              "rgb(150,27,91)"
             ],
             [
              0.4392156862745098,
              "rgb(177,22,88)"
             ],
             [
              0.5019607843137255,
              "rgb(203,26,79)"
             ],
             [
              0.5647058823529412,
              "rgb(223,47,67)"
             ],
             [
              0.6274509803921569,
              "rgb(236,76,61)"
             ],
             [
              0.6901960784313725,
              "rgb(242,107,73)"
             ],
             [
              0.7529411764705882,
              "rgb(244,135,95)"
             ],
             [
              0.8156862745098039,
              "rgb(245,162,122)"
             ],
             [
              0.8784313725490196,
              "rgb(246,188,153)"
             ],
             [
              0.9411764705882353,
              "rgb(247,212,187)"
             ],
             [
              1,
              "rgb(250,234,220)"
             ]
            ],
            "type": "histogram2dcontour"
           }
          ],
          "mesh3d": [
           {
            "colorbar": {
             "outlinewidth": 0,
             "tickcolor": "rgb(36,36,36)",
             "ticklen": 8,
             "ticks": "outside",
             "tickwidth": 2
            },
            "type": "mesh3d"
           }
          ],
          "parcoords": [
           {
            "line": {
             "colorbar": {
              "outlinewidth": 0,
              "tickcolor": "rgb(36,36,36)",
              "ticklen": 8,
              "ticks": "outside",
              "tickwidth": 2
             }
            },
            "type": "parcoords"
           }
          ],
          "pie": [
           {
            "automargin": true,
            "type": "pie"
           }
          ],
          "scatter": [
           {
            "fillpattern": {
             "fillmode": "overlay",
             "size": 10,
             "solidity": 0.2
            },
            "type": "scatter"
           }
          ],
          "scatter3d": [
           {
            "line": {
             "colorbar": {
              "outlinewidth": 0,
              "tickcolor": "rgb(36,36,36)",
              "ticklen": 8,
              "ticks": "outside",
              "tickwidth": 2
             }
            },
            "marker": {
             "colorbar": {
              "outlinewidth": 0,
              "tickcolor": "rgb(36,36,36)",
              "ticklen": 8,
              "ticks": "outside",
              "tickwidth": 2
             }
            },
            "type": "scatter3d"
           }
          ],
          "scattercarpet": [
           {
            "marker": {
             "colorbar": {
              "outlinewidth": 0,
              "tickcolor": "rgb(36,36,36)",
              "ticklen": 8,
              "ticks": "outside",
              "tickwidth": 2
             }
            },
            "type": "scattercarpet"
           }
          ],
          "scattergeo": [
           {
            "marker": {
             "colorbar": {
              "outlinewidth": 0,
              "tickcolor": "rgb(36,36,36)",
              "ticklen": 8,
              "ticks": "outside",
              "tickwidth": 2
             }
            },
            "type": "scattergeo"
           }
          ],
          "scattergl": [
           {
            "marker": {
             "colorbar": {
              "outlinewidth": 0,
              "tickcolor": "rgb(36,36,36)",
              "ticklen": 8,
              "ticks": "outside",
              "tickwidth": 2
             }
            },
            "type": "scattergl"
           }
          ],
          "scattermapbox": [
           {
            "marker": {
             "colorbar": {
              "outlinewidth": 0,
              "tickcolor": "rgb(36,36,36)",
              "ticklen": 8,
              "ticks": "outside",
              "tickwidth": 2
             }
            },
            "type": "scattermapbox"
           }
          ],
          "scatterpolar": [
           {
            "marker": {
             "colorbar": {
              "outlinewidth": 0,
              "tickcolor": "rgb(36,36,36)",
              "ticklen": 8,
              "ticks": "outside",
              "tickwidth": 2
             }
            },
            "type": "scatterpolar"
           }
          ],
          "scatterpolargl": [
           {
            "marker": {
             "colorbar": {
              "outlinewidth": 0,
              "tickcolor": "rgb(36,36,36)",
              "ticklen": 8,
              "ticks": "outside",
              "tickwidth": 2
             }
            },
            "type": "scatterpolargl"
           }
          ],
          "scatterternary": [
           {
            "marker": {
             "colorbar": {
              "outlinewidth": 0,
              "tickcolor": "rgb(36,36,36)",
              "ticklen": 8,
              "ticks": "outside",
              "tickwidth": 2
             }
            },
            "type": "scatterternary"
           }
          ],
          "surface": [
           {
            "colorbar": {
             "outlinewidth": 0,
             "tickcolor": "rgb(36,36,36)",
             "ticklen": 8,
             "ticks": "outside",
             "tickwidth": 2
            },
            "colorscale": [
             [
              0,
              "rgb(2,4,25)"
             ],
             [
              0.06274509803921569,
              "rgb(24,15,41)"
             ],
             [
              0.12549019607843137,
              "rgb(47,23,57)"
             ],
             [
              0.18823529411764706,
              "rgb(71,28,72)"
             ],
             [
              0.25098039215686274,
              "rgb(97,30,82)"
             ],
             [
              0.3137254901960784,
              "rgb(123,30,89)"
             ],
             [
              0.3764705882352941,
              "rgb(150,27,91)"
             ],
             [
              0.4392156862745098,
              "rgb(177,22,88)"
             ],
             [
              0.5019607843137255,
              "rgb(203,26,79)"
             ],
             [
              0.5647058823529412,
              "rgb(223,47,67)"
             ],
             [
              0.6274509803921569,
              "rgb(236,76,61)"
             ],
             [
              0.6901960784313725,
              "rgb(242,107,73)"
             ],
             [
              0.7529411764705882,
              "rgb(244,135,95)"
             ],
             [
              0.8156862745098039,
              "rgb(245,162,122)"
             ],
             [
              0.8784313725490196,
              "rgb(246,188,153)"
             ],
             [
              0.9411764705882353,
              "rgb(247,212,187)"
             ],
             [
              1,
              "rgb(250,234,220)"
             ]
            ],
            "type": "surface"
           }
          ],
          "table": [
           {
            "cells": {
             "fill": {
              "color": "rgb(231,231,240)"
             },
             "line": {
              "color": "white"
             }
            },
            "header": {
             "fill": {
              "color": "rgb(183,183,191)"
             },
             "line": {
              "color": "white"
             }
            },
            "type": "table"
           }
          ]
         },
         "layout": {
          "annotationdefaults": {
           "arrowcolor": "rgb(67,103,167)"
          },
          "autotypenumbers": "strict",
          "coloraxis": {
           "colorbar": {
            "outlinewidth": 0,
            "tickcolor": "rgb(36,36,36)",
            "ticklen": 8,
            "ticks": "outside",
            "tickwidth": 2
           }
          },
          "colorscale": {
           "sequential": [
            [
             0,
             "rgb(2,4,25)"
            ],
            [
             0.06274509803921569,
             "rgb(24,15,41)"
            ],
            [
             0.12549019607843137,
             "rgb(47,23,57)"
            ],
            [
             0.18823529411764706,
             "rgb(71,28,72)"
            ],
            [
             0.25098039215686274,
             "rgb(97,30,82)"
            ],
            [
             0.3137254901960784,
             "rgb(123,30,89)"
            ],
            [
             0.3764705882352941,
             "rgb(150,27,91)"
            ],
            [
             0.4392156862745098,
             "rgb(177,22,88)"
            ],
            [
             0.5019607843137255,
             "rgb(203,26,79)"
            ],
            [
             0.5647058823529412,
             "rgb(223,47,67)"
            ],
            [
             0.6274509803921569,
             "rgb(236,76,61)"
            ],
            [
             0.6901960784313725,
             "rgb(242,107,73)"
            ],
            [
             0.7529411764705882,
             "rgb(244,135,95)"
            ],
            [
             0.8156862745098039,
             "rgb(245,162,122)"
            ],
            [
             0.8784313725490196,
             "rgb(246,188,153)"
            ],
            [
             0.9411764705882353,
             "rgb(247,212,187)"
            ],
            [
             1,
             "rgb(250,234,220)"
            ]
           ],
           "sequentialminus": [
            [
             0,
             "rgb(2,4,25)"
            ],
            [
             0.06274509803921569,
             "rgb(24,15,41)"
            ],
            [
             0.12549019607843137,
             "rgb(47,23,57)"
            ],
            [
             0.18823529411764706,
             "rgb(71,28,72)"
            ],
            [
             0.25098039215686274,
             "rgb(97,30,82)"
            ],
            [
             0.3137254901960784,
             "rgb(123,30,89)"
            ],
            [
             0.3764705882352941,
             "rgb(150,27,91)"
            ],
            [
             0.4392156862745098,
             "rgb(177,22,88)"
            ],
            [
             0.5019607843137255,
             "rgb(203,26,79)"
            ],
            [
             0.5647058823529412,
             "rgb(223,47,67)"
            ],
            [
             0.6274509803921569,
             "rgb(236,76,61)"
            ],
            [
             0.6901960784313725,
             "rgb(242,107,73)"
            ],
            [
             0.7529411764705882,
             "rgb(244,135,95)"
            ],
            [
             0.8156862745098039,
             "rgb(245,162,122)"
            ],
            [
             0.8784313725490196,
             "rgb(246,188,153)"
            ],
            [
             0.9411764705882353,
             "rgb(247,212,187)"
            ],
            [
             1,
             "rgb(250,234,220)"
            ]
           ]
          },
          "colorway": [
           "rgb(76,114,176)",
           "rgb(221,132,82)",
           "rgb(85,168,104)",
           "rgb(196,78,82)",
           "rgb(129,114,179)",
           "rgb(147,120,96)",
           "rgb(218,139,195)",
           "rgb(140,140,140)",
           "rgb(204,185,116)",
           "rgb(100,181,205)"
          ],
          "font": {
           "color": "rgb(36,36,36)"
          },
          "geo": {
           "bgcolor": "white",
           "lakecolor": "white",
           "landcolor": "rgb(234,234,242)",
           "showlakes": true,
           "showland": true,
           "subunitcolor": "white"
          },
          "hoverlabel": {
           "align": "left"
          },
          "hovermode": "closest",
          "paper_bgcolor": "white",
          "plot_bgcolor": "rgb(234,234,242)",
          "polar": {
           "angularaxis": {
            "gridcolor": "white",
            "linecolor": "white",
            "showgrid": true,
            "ticks": ""
           },
           "bgcolor": "rgb(234,234,242)",
           "radialaxis": {
            "gridcolor": "white",
            "linecolor": "white",
            "showgrid": true,
            "ticks": ""
           }
          },
          "scene": {
           "xaxis": {
            "backgroundcolor": "rgb(234,234,242)",
            "gridcolor": "white",
            "gridwidth": 2,
            "linecolor": "white",
            "showbackground": true,
            "showgrid": true,
            "ticks": "",
            "zerolinecolor": "white"
           },
           "yaxis": {
            "backgroundcolor": "rgb(234,234,242)",
            "gridcolor": "white",
            "gridwidth": 2,
            "linecolor": "white",
            "showbackground": true,
            "showgrid": true,
            "ticks": "",
            "zerolinecolor": "white"
           },
           "zaxis": {
            "backgroundcolor": "rgb(234,234,242)",
            "gridcolor": "white",
            "gridwidth": 2,
            "linecolor": "white",
            "showbackground": true,
            "showgrid": true,
            "ticks": "",
            "zerolinecolor": "white"
           }
          },
          "shapedefaults": {
           "fillcolor": "rgb(67,103,167)",
           "line": {
            "width": 0
           },
           "opacity": 0.5
          },
          "ternary": {
           "aaxis": {
            "gridcolor": "white",
            "linecolor": "white",
            "showgrid": true,
            "ticks": ""
           },
           "baxis": {
            "gridcolor": "white",
            "linecolor": "white",
            "showgrid": true,
            "ticks": ""
           },
           "bgcolor": "rgb(234,234,242)",
           "caxis": {
            "gridcolor": "white",
            "linecolor": "white",
            "showgrid": true,
            "ticks": ""
           }
          },
          "xaxis": {
           "automargin": true,
           "gridcolor": "white",
           "linecolor": "white",
           "showgrid": true,
           "ticks": "",
           "title": {
            "standoff": 15
           },
           "zerolinecolor": "white"
          },
          "yaxis": {
           "automargin": true,
           "gridcolor": "white",
           "linecolor": "white",
           "showgrid": true,
           "ticks": "",
           "title": {
            "standoff": 15
           },
           "zerolinecolor": "white"
          }
         }
        }
       }
      }
     },
     "metadata": {},
     "output_type": "display_data"
    }
   ],
   "source": [
    "import plotly.express as px\n",
    "\n",
    "fig = px.treemap(df, path=[\n",
    "    px.Constant('Schlüsselkompetenzen Zertifikat \"Digital Humanities\"'),\n",
    "    'Modul_Option2',\n",
    "    'Bereich',\n",
    "    'Unterbereich',\n",
    "    'AS'\n",
    "    ],\n",
    "    values='Prio_',\n",
    "    # hover_data=['Zeitaufwand'],\n",
    "    # marker_colors = RUB_colors\n",
    "    # color='Zertifikatsbereich'\n",
    ")\n",
    "fig.update_traces(marker=dict(cornerradius=5))\n",
    "fig.update_layout(margin=dict(t=25, l=25, r=25, b=25))\n",
    "fig.update_traces(hovertemplate='%{label}')\n",
    "fig.update_layout(\n",
    "    template='seaborn',\n",
    "    font=dict(\n",
    "        # family=\"Courier New, monospace\",\n",
    "        size=15,  # Set the font size here\n",
    "        # color=\"RebeccaPurple\"\n",
    "    )\n",
    ")\n",
    "fig.show()\n",
    "fig.write_html(\"AS_4Module.html\",  include_plotlyjs='cdn')"
   ]
  },
  {
   "cell_type": "markdown",
   "metadata": {},
   "source": [
    "## Ohne AS"
   ]
  },
  {
   "cell_type": "code",
   "execution_count": 58,
   "metadata": {},
   "outputs": [
    {
     "data": {
      "application/vnd.plotly.v1+json": {
       "config": {
        "plotlyServerURL": "https://plot.ly"
       },
       "data": [
        {
         "branchvalues": "total",
         "domain": {
          "x": [
           0,
           1
          ],
          "y": [
           0,
           1
          ]
         },
         "hovertemplate": "%{label}",
         "ids": [
          "Schlüsselkompetenzen Zertifikat \"Digital Humanities\"/Methodenmodul/DH Methoden & Tools/Datenbanken",
          "Schlüsselkompetenzen Zertifikat \"Digital Humanities\"/Methodenmodul/DH Methoden & Tools/Digitale Editionen",
          "Schlüsselkompetenzen Zertifikat \"Digital Humanities\"/Basismodul/DH Grundlagen/Einführung DH",
          "Schlüsselkompetenzen Zertifikat \"Digital Humanities\"/DH-Fortgeschritten/DH Methoden & Tools/KI",
          "Schlüsselkompetenzen Zertifikat \"Digital Humanities\"/Methodenmodul/DH Methoden & Tools/KI",
          "Schlüsselkompetenzen Zertifikat \"Digital Humanities\"/DH-Fortgeschritten/DH Methoden & Tools/Methoden",
          "Schlüsselkompetenzen Zertifikat \"Digital Humanities\"/Methodenmodul/DH Methoden & Tools/Methoden",
          "Schlüsselkompetenzen Zertifikat \"Digital Humanities\"/Basismodul/DH Grundlagen/Misc",
          "Schlüsselkompetenzen Zertifikat \"Digital Humanities\"/DH-Fortgeschritten/Programmieren für DH/Misc",
          "Schlüsselkompetenzen Zertifikat \"Digital Humanities\"/Methodenmodul/Programmieren für DH/Misc",
          "Schlüsselkompetenzen Zertifikat \"Digital Humanities\"/DH-Fortgeschritten/DH Methoden & Tools/Nicht-Text-Daten",
          "Schlüsselkompetenzen Zertifikat \"Digital Humanities\"/Methodenmodul/DH Methoden & Tools/Nicht-Text-Daten",
          "Schlüsselkompetenzen Zertifikat \"Digital Humanities\"/DH-Fortgeschritten/Umgang mit dem PC/PC Fortgeschritten",
          "Schlüsselkompetenzen Zertifikat \"Digital Humanities\"/Basismodul/Umgang mit dem PC/PC Grundlagen",
          "Schlüsselkompetenzen Zertifikat \"Digital Humanities\"/Praxismodul/DH Projekt/Projekt",
          "Schlüsselkompetenzen Zertifikat \"Digital Humanities\"/DH-Fortgeschritten/Programmieren für DH/Python Fortgeschritten",
          "Schlüsselkompetenzen Zertifikat \"Digital Humanities\"/Methodenmodul/Programmieren für DH/Python Grundlagen",
          "Schlüsselkompetenzen Zertifikat \"Digital Humanities\"/Methodenmodul/Programmieren für DH/R",
          "Schlüsselkompetenzen Zertifikat \"Digital Humanities\"/Basismodul/DH Grundlagen/Rechtliches",
          "Schlüsselkompetenzen Zertifikat \"Digital Humanities\"/DH-Fortgeschritten/Statistik für DH/Statistik Fortgeschritten",
          "Schlüsselkompetenzen Zertifikat \"Digital Humanities\"/Methodenmodul/Statistik für DH/Statistik Grundlagen",
          "Schlüsselkompetenzen Zertifikat \"Digital Humanities\"/Methodenmodul/DH Methoden & Tools/Tools",
          "Schlüsselkompetenzen Zertifikat \"Digital Humanities\"/Methodenmodul/Programmieren für DH/Web",
          "Schlüsselkompetenzen Zertifikat \"Digital Humanities\"/Basismodul/DH Grundlagen",
          "Schlüsselkompetenzen Zertifikat \"Digital Humanities\"/DH-Fortgeschritten/DH Methoden & Tools",
          "Schlüsselkompetenzen Zertifikat \"Digital Humanities\"/Methodenmodul/DH Methoden & Tools",
          "Schlüsselkompetenzen Zertifikat \"Digital Humanities\"/Praxismodul/DH Projekt",
          "Schlüsselkompetenzen Zertifikat \"Digital Humanities\"/DH-Fortgeschritten/Programmieren für DH",
          "Schlüsselkompetenzen Zertifikat \"Digital Humanities\"/Methodenmodul/Programmieren für DH",
          "Schlüsselkompetenzen Zertifikat \"Digital Humanities\"/DH-Fortgeschritten/Statistik für DH",
          "Schlüsselkompetenzen Zertifikat \"Digital Humanities\"/Methodenmodul/Statistik für DH",
          "Schlüsselkompetenzen Zertifikat \"Digital Humanities\"/Basismodul/Umgang mit dem PC",
          "Schlüsselkompetenzen Zertifikat \"Digital Humanities\"/DH-Fortgeschritten/Umgang mit dem PC",
          "Schlüsselkompetenzen Zertifikat \"Digital Humanities\"/Basismodul",
          "Schlüsselkompetenzen Zertifikat \"Digital Humanities\"/DH-Fortgeschritten",
          "Schlüsselkompetenzen Zertifikat \"Digital Humanities\"/Methodenmodul",
          "Schlüsselkompetenzen Zertifikat \"Digital Humanities\"/Praxismodul",
          "Schlüsselkompetenzen Zertifikat \"Digital Humanities\""
         ],
         "labels": [
          "Datenbanken",
          "Digitale Editionen",
          "Einführung DH",
          "KI",
          "KI",
          "Methoden",
          "Methoden",
          "Misc",
          "Misc",
          "Misc",
          "Nicht-Text-Daten",
          "Nicht-Text-Daten",
          "PC Fortgeschritten",
          "PC Grundlagen",
          "Projekt",
          "Python Fortgeschritten",
          "Python Grundlagen",
          "R",
          "Rechtliches",
          "Statistik Fortgeschritten",
          "Statistik Grundlagen",
          "Tools",
          "Web",
          "DH Grundlagen",
          "DH Methoden & Tools",
          "DH Methoden & Tools",
          "DH Projekt",
          "Programmieren für DH",
          "Programmieren für DH",
          "Statistik für DH",
          "Statistik für DH",
          "Umgang mit dem PC",
          "Umgang mit dem PC",
          "Basismodul",
          "DH-Fortgeschritten",
          "Methodenmodul",
          "Praxismodul",
          "Schlüsselkompetenzen Zertifikat \"Digital Humanities\""
         ],
         "marker": {
          "cornerradius": 5
         },
         "name": "",
         "parents": [
          "Schlüsselkompetenzen Zertifikat \"Digital Humanities\"/Methodenmodul/DH Methoden & Tools",
          "Schlüsselkompetenzen Zertifikat \"Digital Humanities\"/Methodenmodul/DH Methoden & Tools",
          "Schlüsselkompetenzen Zertifikat \"Digital Humanities\"/Basismodul/DH Grundlagen",
          "Schlüsselkompetenzen Zertifikat \"Digital Humanities\"/DH-Fortgeschritten/DH Methoden & Tools",
          "Schlüsselkompetenzen Zertifikat \"Digital Humanities\"/Methodenmodul/DH Methoden & Tools",
          "Schlüsselkompetenzen Zertifikat \"Digital Humanities\"/DH-Fortgeschritten/DH Methoden & Tools",
          "Schlüsselkompetenzen Zertifikat \"Digital Humanities\"/Methodenmodul/DH Methoden & Tools",
          "Schlüsselkompetenzen Zertifikat \"Digital Humanities\"/Basismodul/DH Grundlagen",
          "Schlüsselkompetenzen Zertifikat \"Digital Humanities\"/DH-Fortgeschritten/Programmieren für DH",
          "Schlüsselkompetenzen Zertifikat \"Digital Humanities\"/Methodenmodul/Programmieren für DH",
          "Schlüsselkompetenzen Zertifikat \"Digital Humanities\"/DH-Fortgeschritten/DH Methoden & Tools",
          "Schlüsselkompetenzen Zertifikat \"Digital Humanities\"/Methodenmodul/DH Methoden & Tools",
          "Schlüsselkompetenzen Zertifikat \"Digital Humanities\"/DH-Fortgeschritten/Umgang mit dem PC",
          "Schlüsselkompetenzen Zertifikat \"Digital Humanities\"/Basismodul/Umgang mit dem PC",
          "Schlüsselkompetenzen Zertifikat \"Digital Humanities\"/Praxismodul/DH Projekt",
          "Schlüsselkompetenzen Zertifikat \"Digital Humanities\"/DH-Fortgeschritten/Programmieren für DH",
          "Schlüsselkompetenzen Zertifikat \"Digital Humanities\"/Methodenmodul/Programmieren für DH",
          "Schlüsselkompetenzen Zertifikat \"Digital Humanities\"/Methodenmodul/Programmieren für DH",
          "Schlüsselkompetenzen Zertifikat \"Digital Humanities\"/Basismodul/DH Grundlagen",
          "Schlüsselkompetenzen Zertifikat \"Digital Humanities\"/DH-Fortgeschritten/Statistik für DH",
          "Schlüsselkompetenzen Zertifikat \"Digital Humanities\"/Methodenmodul/Statistik für DH",
          "Schlüsselkompetenzen Zertifikat \"Digital Humanities\"/Methodenmodul/DH Methoden & Tools",
          "Schlüsselkompetenzen Zertifikat \"Digital Humanities\"/Methodenmodul/Programmieren für DH",
          "Schlüsselkompetenzen Zertifikat \"Digital Humanities\"/Basismodul",
          "Schlüsselkompetenzen Zertifikat \"Digital Humanities\"/DH-Fortgeschritten",
          "Schlüsselkompetenzen Zertifikat \"Digital Humanities\"/Methodenmodul",
          "Schlüsselkompetenzen Zertifikat \"Digital Humanities\"/Praxismodul",
          "Schlüsselkompetenzen Zertifikat \"Digital Humanities\"/DH-Fortgeschritten",
          "Schlüsselkompetenzen Zertifikat \"Digital Humanities\"/Methodenmodul",
          "Schlüsselkompetenzen Zertifikat \"Digital Humanities\"/DH-Fortgeschritten",
          "Schlüsselkompetenzen Zertifikat \"Digital Humanities\"/Methodenmodul",
          "Schlüsselkompetenzen Zertifikat \"Digital Humanities\"/Basismodul",
          "Schlüsselkompetenzen Zertifikat \"Digital Humanities\"/DH-Fortgeschritten",
          "Schlüsselkompetenzen Zertifikat \"Digital Humanities\"",
          "Schlüsselkompetenzen Zertifikat \"Digital Humanities\"",
          "Schlüsselkompetenzen Zertifikat \"Digital Humanities\"",
          "Schlüsselkompetenzen Zertifikat \"Digital Humanities\"",
          ""
         ],
         "type": "treemap",
         "values": [
          6,
          6,
          37,
          3,
          5,
          4,
          16,
          2,
          1,
          1,
          2,
          6,
          13,
          18,
          15,
          9,
          21,
          15,
          6,
          8,
          12,
          15,
          4,
          45,
          9,
          54,
          15,
          10,
          41,
          8,
          12,
          18,
          13,
          63,
          40,
          107,
          15,
          225
         ]
        }
       ],
       "layout": {
        "legend": {
         "tracegroupgap": 0
        },
        "margin": {
         "b": 25,
         "l": 25,
         "r": 25,
         "t": 25
        },
        "template": {
         "data": {
          "bar": [
           {
            "error_x": {
             "color": "#2a3f5f"
            },
            "error_y": {
             "color": "#2a3f5f"
            },
            "marker": {
             "line": {
              "color": "#E5ECF6",
              "width": 0.5
             },
             "pattern": {
              "fillmode": "overlay",
              "size": 10,
              "solidity": 0.2
             }
            },
            "type": "bar"
           }
          ],
          "barpolar": [
           {
            "marker": {
             "line": {
              "color": "#E5ECF6",
              "width": 0.5
             },
             "pattern": {
              "fillmode": "overlay",
              "size": 10,
              "solidity": 0.2
             }
            },
            "type": "barpolar"
           }
          ],
          "carpet": [
           {
            "aaxis": {
             "endlinecolor": "#2a3f5f",
             "gridcolor": "white",
             "linecolor": "white",
             "minorgridcolor": "white",
             "startlinecolor": "#2a3f5f"
            },
            "baxis": {
             "endlinecolor": "#2a3f5f",
             "gridcolor": "white",
             "linecolor": "white",
             "minorgridcolor": "white",
             "startlinecolor": "#2a3f5f"
            },
            "type": "carpet"
           }
          ],
          "choropleth": [
           {
            "colorbar": {
             "outlinewidth": 0,
             "ticks": ""
            },
            "type": "choropleth"
           }
          ],
          "contour": [
           {
            "colorbar": {
             "outlinewidth": 0,
             "ticks": ""
            },
            "colorscale": [
             [
              0,
              "#0d0887"
             ],
             [
              0.1111111111111111,
              "#46039f"
             ],
             [
              0.2222222222222222,
              "#7201a8"
             ],
             [
              0.3333333333333333,
              "#9c179e"
             ],
             [
              0.4444444444444444,
              "#bd3786"
             ],
             [
              0.5555555555555556,
              "#d8576b"
             ],
             [
              0.6666666666666666,
              "#ed7953"
             ],
             [
              0.7777777777777778,
              "#fb9f3a"
             ],
             [
              0.8888888888888888,
              "#fdca26"
             ],
             [
              1,
              "#f0f921"
             ]
            ],
            "type": "contour"
           }
          ],
          "contourcarpet": [
           {
            "colorbar": {
             "outlinewidth": 0,
             "ticks": ""
            },
            "type": "contourcarpet"
           }
          ],
          "heatmap": [
           {
            "colorbar": {
             "outlinewidth": 0,
             "ticks": ""
            },
            "colorscale": [
             [
              0,
              "#0d0887"
             ],
             [
              0.1111111111111111,
              "#46039f"
             ],
             [
              0.2222222222222222,
              "#7201a8"
             ],
             [
              0.3333333333333333,
              "#9c179e"
             ],
             [
              0.4444444444444444,
              "#bd3786"
             ],
             [
              0.5555555555555556,
              "#d8576b"
             ],
             [
              0.6666666666666666,
              "#ed7953"
             ],
             [
              0.7777777777777778,
              "#fb9f3a"
             ],
             [
              0.8888888888888888,
              "#fdca26"
             ],
             [
              1,
              "#f0f921"
             ]
            ],
            "type": "heatmap"
           }
          ],
          "heatmapgl": [
           {
            "colorbar": {
             "outlinewidth": 0,
             "ticks": ""
            },
            "colorscale": [
             [
              0,
              "#0d0887"
             ],
             [
              0.1111111111111111,
              "#46039f"
             ],
             [
              0.2222222222222222,
              "#7201a8"
             ],
             [
              0.3333333333333333,
              "#9c179e"
             ],
             [
              0.4444444444444444,
              "#bd3786"
             ],
             [
              0.5555555555555556,
              "#d8576b"
             ],
             [
              0.6666666666666666,
              "#ed7953"
             ],
             [
              0.7777777777777778,
              "#fb9f3a"
             ],
             [
              0.8888888888888888,
              "#fdca26"
             ],
             [
              1,
              "#f0f921"
             ]
            ],
            "type": "heatmapgl"
           }
          ],
          "histogram": [
           {
            "marker": {
             "pattern": {
              "fillmode": "overlay",
              "size": 10,
              "solidity": 0.2
             }
            },
            "type": "histogram"
           }
          ],
          "histogram2d": [
           {
            "colorbar": {
             "outlinewidth": 0,
             "ticks": ""
            },
            "colorscale": [
             [
              0,
              "#0d0887"
             ],
             [
              0.1111111111111111,
              "#46039f"
             ],
             [
              0.2222222222222222,
              "#7201a8"
             ],
             [
              0.3333333333333333,
              "#9c179e"
             ],
             [
              0.4444444444444444,
              "#bd3786"
             ],
             [
              0.5555555555555556,
              "#d8576b"
             ],
             [
              0.6666666666666666,
              "#ed7953"
             ],
             [
              0.7777777777777778,
              "#fb9f3a"
             ],
             [
              0.8888888888888888,
              "#fdca26"
             ],
             [
              1,
              "#f0f921"
             ]
            ],
            "type": "histogram2d"
           }
          ],
          "histogram2dcontour": [
           {
            "colorbar": {
             "outlinewidth": 0,
             "ticks": ""
            },
            "colorscale": [
             [
              0,
              "#0d0887"
             ],
             [
              0.1111111111111111,
              "#46039f"
             ],
             [
              0.2222222222222222,
              "#7201a8"
             ],
             [
              0.3333333333333333,
              "#9c179e"
             ],
             [
              0.4444444444444444,
              "#bd3786"
             ],
             [
              0.5555555555555556,
              "#d8576b"
             ],
             [
              0.6666666666666666,
              "#ed7953"
             ],
             [
              0.7777777777777778,
              "#fb9f3a"
             ],
             [
              0.8888888888888888,
              "#fdca26"
             ],
             [
              1,
              "#f0f921"
             ]
            ],
            "type": "histogram2dcontour"
           }
          ],
          "mesh3d": [
           {
            "colorbar": {
             "outlinewidth": 0,
             "ticks": ""
            },
            "type": "mesh3d"
           }
          ],
          "parcoords": [
           {
            "line": {
             "colorbar": {
              "outlinewidth": 0,
              "ticks": ""
             }
            },
            "type": "parcoords"
           }
          ],
          "pie": [
           {
            "automargin": true,
            "type": "pie"
           }
          ],
          "scatter": [
           {
            "fillpattern": {
             "fillmode": "overlay",
             "size": 10,
             "solidity": 0.2
            },
            "type": "scatter"
           }
          ],
          "scatter3d": [
           {
            "line": {
             "colorbar": {
              "outlinewidth": 0,
              "ticks": ""
             }
            },
            "marker": {
             "colorbar": {
              "outlinewidth": 0,
              "ticks": ""
             }
            },
            "type": "scatter3d"
           }
          ],
          "scattercarpet": [
           {
            "marker": {
             "colorbar": {
              "outlinewidth": 0,
              "ticks": ""
             }
            },
            "type": "scattercarpet"
           }
          ],
          "scattergeo": [
           {
            "marker": {
             "colorbar": {
              "outlinewidth": 0,
              "ticks": ""
             }
            },
            "type": "scattergeo"
           }
          ],
          "scattergl": [
           {
            "marker": {
             "colorbar": {
              "outlinewidth": 0,
              "ticks": ""
             }
            },
            "type": "scattergl"
           }
          ],
          "scattermapbox": [
           {
            "marker": {
             "colorbar": {
              "outlinewidth": 0,
              "ticks": ""
             }
            },
            "type": "scattermapbox"
           }
          ],
          "scatterpolar": [
           {
            "marker": {
             "colorbar": {
              "outlinewidth": 0,
              "ticks": ""
             }
            },
            "type": "scatterpolar"
           }
          ],
          "scatterpolargl": [
           {
            "marker": {
             "colorbar": {
              "outlinewidth": 0,
              "ticks": ""
             }
            },
            "type": "scatterpolargl"
           }
          ],
          "scatterternary": [
           {
            "marker": {
             "colorbar": {
              "outlinewidth": 0,
              "ticks": ""
             }
            },
            "type": "scatterternary"
           }
          ],
          "surface": [
           {
            "colorbar": {
             "outlinewidth": 0,
             "ticks": ""
            },
            "colorscale": [
             [
              0,
              "#0d0887"
             ],
             [
              0.1111111111111111,
              "#46039f"
             ],
             [
              0.2222222222222222,
              "#7201a8"
             ],
             [
              0.3333333333333333,
              "#9c179e"
             ],
             [
              0.4444444444444444,
              "#bd3786"
             ],
             [
              0.5555555555555556,
              "#d8576b"
             ],
             [
              0.6666666666666666,
              "#ed7953"
             ],
             [
              0.7777777777777778,
              "#fb9f3a"
             ],
             [
              0.8888888888888888,
              "#fdca26"
             ],
             [
              1,
              "#f0f921"
             ]
            ],
            "type": "surface"
           }
          ],
          "table": [
           {
            "cells": {
             "fill": {
              "color": "#EBF0F8"
             },
             "line": {
              "color": "white"
             }
            },
            "header": {
             "fill": {
              "color": "#C8D4E3"
             },
             "line": {
              "color": "white"
             }
            },
            "type": "table"
           }
          ]
         },
         "layout": {
          "annotationdefaults": {
           "arrowcolor": "#2a3f5f",
           "arrowhead": 0,
           "arrowwidth": 1
          },
          "autotypenumbers": "strict",
          "coloraxis": {
           "colorbar": {
            "outlinewidth": 0,
            "ticks": ""
           }
          },
          "colorscale": {
           "diverging": [
            [
             0,
             "#8e0152"
            ],
            [
             0.1,
             "#c51b7d"
            ],
            [
             0.2,
             "#de77ae"
            ],
            [
             0.3,
             "#f1b6da"
            ],
            [
             0.4,
             "#fde0ef"
            ],
            [
             0.5,
             "#f7f7f7"
            ],
            [
             0.6,
             "#e6f5d0"
            ],
            [
             0.7,
             "#b8e186"
            ],
            [
             0.8,
             "#7fbc41"
            ],
            [
             0.9,
             "#4d9221"
            ],
            [
             1,
             "#276419"
            ]
           ],
           "sequential": [
            [
             0,
             "#0d0887"
            ],
            [
             0.1111111111111111,
             "#46039f"
            ],
            [
             0.2222222222222222,
             "#7201a8"
            ],
            [
             0.3333333333333333,
             "#9c179e"
            ],
            [
             0.4444444444444444,
             "#bd3786"
            ],
            [
             0.5555555555555556,
             "#d8576b"
            ],
            [
             0.6666666666666666,
             "#ed7953"
            ],
            [
             0.7777777777777778,
             "#fb9f3a"
            ],
            [
             0.8888888888888888,
             "#fdca26"
            ],
            [
             1,
             "#f0f921"
            ]
           ],
           "sequentialminus": [
            [
             0,
             "#0d0887"
            ],
            [
             0.1111111111111111,
             "#46039f"
            ],
            [
             0.2222222222222222,
             "#7201a8"
            ],
            [
             0.3333333333333333,
             "#9c179e"
            ],
            [
             0.4444444444444444,
             "#bd3786"
            ],
            [
             0.5555555555555556,
             "#d8576b"
            ],
            [
             0.6666666666666666,
             "#ed7953"
            ],
            [
             0.7777777777777778,
             "#fb9f3a"
            ],
            [
             0.8888888888888888,
             "#fdca26"
            ],
            [
             1,
             "#f0f921"
            ]
           ]
          },
          "colorway": [
           "#636efa",
           "#EF553B",
           "#00cc96",
           "#ab63fa",
           "#FFA15A",
           "#19d3f3",
           "#FF6692",
           "#B6E880",
           "#FF97FF",
           "#FECB52"
          ],
          "font": {
           "color": "#2a3f5f"
          },
          "geo": {
           "bgcolor": "white",
           "lakecolor": "white",
           "landcolor": "#E5ECF6",
           "showlakes": true,
           "showland": true,
           "subunitcolor": "white"
          },
          "hoverlabel": {
           "align": "left"
          },
          "hovermode": "closest",
          "mapbox": {
           "style": "light"
          },
          "paper_bgcolor": "white",
          "plot_bgcolor": "#E5ECF6",
          "polar": {
           "angularaxis": {
            "gridcolor": "white",
            "linecolor": "white",
            "ticks": ""
           },
           "bgcolor": "#E5ECF6",
           "radialaxis": {
            "gridcolor": "white",
            "linecolor": "white",
            "ticks": ""
           }
          },
          "scene": {
           "xaxis": {
            "backgroundcolor": "#E5ECF6",
            "gridcolor": "white",
            "gridwidth": 2,
            "linecolor": "white",
            "showbackground": true,
            "ticks": "",
            "zerolinecolor": "white"
           },
           "yaxis": {
            "backgroundcolor": "#E5ECF6",
            "gridcolor": "white",
            "gridwidth": 2,
            "linecolor": "white",
            "showbackground": true,
            "ticks": "",
            "zerolinecolor": "white"
           },
           "zaxis": {
            "backgroundcolor": "#E5ECF6",
            "gridcolor": "white",
            "gridwidth": 2,
            "linecolor": "white",
            "showbackground": true,
            "ticks": "",
            "zerolinecolor": "white"
           }
          },
          "shapedefaults": {
           "line": {
            "color": "#2a3f5f"
           }
          },
          "ternary": {
           "aaxis": {
            "gridcolor": "white",
            "linecolor": "white",
            "ticks": ""
           },
           "baxis": {
            "gridcolor": "white",
            "linecolor": "white",
            "ticks": ""
           },
           "bgcolor": "#E5ECF6",
           "caxis": {
            "gridcolor": "white",
            "linecolor": "white",
            "ticks": ""
           }
          },
          "title": {
           "x": 0.05
          },
          "xaxis": {
           "automargin": true,
           "gridcolor": "white",
           "linecolor": "white",
           "ticks": "",
           "title": {
            "standoff": 15
           },
           "zerolinecolor": "white",
           "zerolinewidth": 2
          },
          "yaxis": {
           "automargin": true,
           "gridcolor": "white",
           "linecolor": "white",
           "ticks": "",
           "title": {
            "standoff": 15
           },
           "zerolinecolor": "white",
           "zerolinewidth": 2
          }
         }
        }
       }
      }
     },
     "metadata": {},
     "output_type": "display_data"
    }
   ],
   "source": [
    "import plotly.express as px\n",
    "\n",
    "fig = px.treemap(df, path=[\n",
    "    px.Constant('Schlüsselkompetenzen Zertifikat \"Digital Humanities\"'),\n",
    "    'Modul_Option2',\n",
    "    'Bereich',\n",
    "    'Unterbereich',\n",
    "    # 'AS'\n",
    "    ],\n",
    "    values='Prio_',\n",
    "    # hover_data=['Zeitaufwand'],\n",
    "    # marker_colors = RUB_colors\n",
    "    # color='Zertifikatsbereich'\n",
    ")\n",
    "fig.update_traces(marker=dict(cornerradius=5))\n",
    "fig.update_layout(margin=dict(t=25, l=25, r=25, b=25))\n",
    "fig.update_traces(hovertemplate='%{label}')\n",
    "fig.show()\n",
    "fig.write_html(\"UB_4Module.html\",  include_plotlyjs='cdn')"
   ]
  },
  {
   "cell_type": "code",
   "execution_count": 59,
   "metadata": {},
   "outputs": [],
   "source": [
    "import plotly.graph_objects as go\n",
    "import plotly.io as pio\n",
    "\n",
    "pio.templates[\"draft\"] = go.layout.Template(\n",
    "    layout_annotations=[\n",
    "        dict(\n",
    "            name=\"draft watermark\",\n",
    "            text=\"DRAFT\",\n",
    "            textangle=-30,\n",
    "            opacity=0.1,\n",
    "            font=dict(color=\"black\", size=100),\n",
    "            xref=\"paper\",\n",
    "            yref=\"paper\",\n",
    "            x=0.5,\n",
    "            y=0.5,\n",
    "            showarrow=False,\n",
    "        )\n",
    "    ]\n",
    ")"
   ]
  },
  {
   "cell_type": "code",
   "execution_count": 60,
   "metadata": {},
   "outputs": [],
   "source": [
    "import plotly.graph_objects as go\n",
    "import plotly.io as pio\n",
    "\n",
    "pio.templates[\"rub\"] = go.layout.Template(\n",
    "    layout_annotations=[\n",
    "        dict(\n",
    "            name=\"draft watermark\",\n",
    "            text=\"DRAFT\",\n",
    "            textangle=-30,\n",
    "            opacity=0.1,\n",
    "            font=dict(color=\"black\", size=100),\n",
    "            xref=\"paper\",\n",
    "            yref=\"paper\",\n",
    "            x=0.5,\n",
    "            y=0.5,\n",
    "            showarrow=False,\n",
    "        )\n",
    "    ]\n",
    ")"
   ]
  },
  {
   "cell_type": "markdown",
   "metadata": {},
   "source": [
    "# Poster Plots"
   ]
  },
  {
   "cell_type": "code",
   "execution_count": 61,
   "metadata": {},
   "outputs": [
    {
     "ename": "SyntaxError",
     "evalue": "f-string: unmatched '(' (3456754466.py, line 25)",
     "output_type": "error",
     "traceback": [
      "\u001b[1;36m  Cell \u001b[1;32mIn[61], line 25\u001b[1;36m\u001b[0m\n\u001b[1;33m    fig.write_image(f\"img/{bereich.replace(' ', \"_\")}.svg\")\u001b[0m\n\u001b[1;37m                                                 ^\u001b[0m\n\u001b[1;31mSyntaxError\u001b[0m\u001b[1;31m:\u001b[0m f-string: unmatched '('\n"
     ]
    }
   ],
   "source": [
    "import plotly.express as px\n",
    "\n",
    "def plot_bereich(df, bereich):\n",
    "    df = df[df['Bereich'] == bereich]\n",
    "    fig = px.treemap(df, path=[\n",
    "        px.Constant(bereich),\n",
    "        'Unterbereich',\n",
    "        'AS'\n",
    "        ],\n",
    "        # values='Prio_', # Skalierung nicht nötig für Plakate\n",
    "        color_discrete_sequence =list(df['color'])\n",
    "    )\n",
    "    fig.update_traces(marker=dict(cornerradius=5))\n",
    "    fig.update_layout(margin=dict(t=25, l=25, r=25, b=25))\n",
    "    fig.update_traces(hovertemplate='%{label}')\n",
    "    fig.update_layout(\n",
    "        # template='seaborn',\n",
    "        font=dict(\n",
    "            # family=\"Courier New, monospace\",\n",
    "            size=15,  # Set the font size here\n",
    "            color='black'\n",
    "        )\n",
    "    )\n",
    "    fig.show()\n",
    "    fig.write_image(f\"img/{bereich.replace(' ', \"_\")}.svg\")\n",
    "    \n",
    "print(RUB_palette)\n",
    "\n",
    "for b in df.Bereich.value_counts().keys():\n",
    "    # print(b)\n",
    "    plot_bereich(df,b)"
   ]
  }
 ],
 "metadata": {
  "kernelspec": {
   "display_name": "py311",
   "language": "python",
   "name": "python3"
  },
  "language_info": {
   "codemirror_mode": {
    "name": "ipython",
    "version": 3
   },
   "file_extension": ".py",
   "mimetype": "text/x-python",
   "name": "python",
   "nbconvert_exporter": "python",
   "pygments_lexer": "ipython3",
   "version": "3.10.13"
  }
 },
 "nbformat": 4,
 "nbformat_minor": 2
}
