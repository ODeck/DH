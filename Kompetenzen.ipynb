{
 "cells": [
  {
   "cell_type": "markdown",
   "metadata": {},
   "source": [
    "# Visualisierung der Kompetenzen-Excel-Tabelle"
   ]
  },
  {
   "cell_type": "code",
   "execution_count": 1,
   "metadata": {},
   "outputs": [],
   "source": [
    "from dotenv import load_dotenv\n",
    "import os\n",
    "import matplotlib.pyplot as plt\n",
    "import pandas as pd\n",
    "\n",
    "load_dotenv()\n",
    "data = os.getenv('data')\n",
    "sciebo = data[:-4]\n",
    "file = sciebo + r\"\\DH-Ruhr\\Recherche\\Kompetenzen\\DH_Kompetenzen_Übersicht_V2.2.xlsx\"\n"
   ]
  },
  {
   "cell_type": "code",
   "execution_count": 2,
   "metadata": {},
   "outputs": [
    {
     "name": "stderr",
     "output_type": "stream",
     "text": [
      "c:\\Users\\Oliver\\anaconda3\\envs\\py312\\Lib\\site-packages\\openpyxl\\worksheet\\_read_only.py:81: UserWarning: Data Validation extension is not supported and will be removed\n",
      "  for idx, row in parser.parse():\n"
     ]
    },
    {
     "data": {
      "text/html": [
       "<div>\n",
       "<style scoped>\n",
       "    .dataframe tbody tr th:only-of-type {\n",
       "        vertical-align: middle;\n",
       "    }\n",
       "\n",
       "    .dataframe tbody tr th {\n",
       "        vertical-align: top;\n",
       "    }\n",
       "\n",
       "    .dataframe thead th {\n",
       "        text-align: right;\n",
       "    }\n",
       "</style>\n",
       "<table border=\"1\" class=\"dataframe\">\n",
       "  <thead>\n",
       "    <tr style=\"text-align: right;\">\n",
       "      <th></th>\n",
       "      <th>Status</th>\n",
       "      <th>Atomic Skills</th>\n",
       "      <th>tmp</th>\n",
       "      <th>Unterbereich</th>\n",
       "      <th>Bereich</th>\n",
       "      <th>Prio</th>\n",
       "      <th>Zeitaufwand</th>\n",
       "      <th>Framework</th>\n",
       "      <th>Zertifikat</th>\n",
       "      <th>Modul</th>\n",
       "      <th>Modul_Option2</th>\n",
       "      <th>Lernzieltyp</th>\n",
       "      <th>Lernziel_konkret</th>\n",
       "      <th>Ridsdale DL Framework Key Ability</th>\n",
       "      <th>Ridsdale DL Framework Competency</th>\n",
       "      <th>RUB_Angebot</th>\n",
       "      <th>UA_Ruhr_Angebot</th>\n",
       "      <th>Kommentare</th>\n",
       "    </tr>\n",
       "    <tr>\n",
       "      <th>id</th>\n",
       "      <th></th>\n",
       "      <th></th>\n",
       "      <th></th>\n",
       "      <th></th>\n",
       "      <th></th>\n",
       "      <th></th>\n",
       "      <th></th>\n",
       "      <th></th>\n",
       "      <th></th>\n",
       "      <th></th>\n",
       "      <th></th>\n",
       "      <th></th>\n",
       "      <th></th>\n",
       "      <th></th>\n",
       "      <th></th>\n",
       "      <th></th>\n",
       "      <th></th>\n",
       "      <th></th>\n",
       "    </tr>\n",
       "  </thead>\n",
       "  <tbody>\n",
       "    <tr>\n",
       "      <th>1</th>\n",
       "      <td>NaN</td>\n",
       "      <td>Computer-Probleme selber lösen (richtig google...</td>\n",
       "      <td>1</td>\n",
       "      <td>PC Grundlagen</td>\n",
       "      <td>Umgang mit dem PC</td>\n",
       "      <td>1</td>\n",
       "      <td>0.1</td>\n",
       "      <td>DL</td>\n",
       "      <td>DH-Basic</td>\n",
       "      <td>Basismodul</td>\n",
       "      <td>Basismodul</td>\n",
       "      <td>Verstehen</td>\n",
       "      <td>NaN</td>\n",
       "      <td>NaN</td>\n",
       "      <td>NaN</td>\n",
       "      <td>NaN</td>\n",
       "      <td>NaN</td>\n",
       "      <td>NaN</td>\n",
       "    </tr>\n",
       "    <tr>\n",
       "      <th>2</th>\n",
       "      <td>NaN</td>\n",
       "      <td>Dateien - Ordnerstruktur/-hierarchie, Pfade, B...</td>\n",
       "      <td>1</td>\n",
       "      <td>PC Grundlagen</td>\n",
       "      <td>Umgang mit dem PC</td>\n",
       "      <td>1</td>\n",
       "      <td>0.1</td>\n",
       "      <td>DL</td>\n",
       "      <td>DH-Basic</td>\n",
       "      <td>Basismodul</td>\n",
       "      <td>Basismodul</td>\n",
       "      <td>Verstehen</td>\n",
       "      <td>NaN</td>\n",
       "      <td>Data Management</td>\n",
       "      <td>Data Organization</td>\n",
       "      <td>NaN</td>\n",
       "      <td>NaN</td>\n",
       "      <td>NaN</td>\n",
       "    </tr>\n",
       "    <tr>\n",
       "      <th>3</th>\n",
       "      <td>NaN</td>\n",
       "      <td>Shell Grundlagen: Was ist die Shell?, Unix vs....</td>\n",
       "      <td>1</td>\n",
       "      <td>PC Grundlagen</td>\n",
       "      <td>Umgang mit dem PC</td>\n",
       "      <td>1</td>\n",
       "      <td>0.1</td>\n",
       "      <td>DL</td>\n",
       "      <td>DH-Basic</td>\n",
       "      <td>Basismodul</td>\n",
       "      <td>Basismodul</td>\n",
       "      <td>Verstehen</td>\n",
       "      <td>NaN</td>\n",
       "      <td>NaN</td>\n",
       "      <td>NaN</td>\n",
       "      <td>NaN</td>\n",
       "      <td>NaN</td>\n",
       "      <td>NaN</td>\n",
       "    </tr>\n",
       "    <tr>\n",
       "      <th>4</th>\n",
       "      <td>NaN</td>\n",
       "      <td>Tabellenkalkulation - Excel/Google Sheets</td>\n",
       "      <td>1</td>\n",
       "      <td>PC Grundlagen</td>\n",
       "      <td>Umgang mit dem PC</td>\n",
       "      <td>1</td>\n",
       "      <td>0.1</td>\n",
       "      <td>DL</td>\n",
       "      <td>DH-Basic</td>\n",
       "      <td>Basismodul</td>\n",
       "      <td>Basismodul</td>\n",
       "      <td>Verstehen</td>\n",
       "      <td>NaN</td>\n",
       "      <td>Data Evaluation</td>\n",
       "      <td>Data Tools</td>\n",
       "      <td>NaN</td>\n",
       "      <td>NaN</td>\n",
       "      <td>NaN</td>\n",
       "    </tr>\n",
       "    <tr>\n",
       "      <th>5</th>\n",
       "      <td>NaN</td>\n",
       "      <td>Tastaturkürzel &amp; Sonderzeichen</td>\n",
       "      <td>1</td>\n",
       "      <td>PC Grundlagen</td>\n",
       "      <td>Umgang mit dem PC</td>\n",
       "      <td>1</td>\n",
       "      <td>0.1</td>\n",
       "      <td>DL</td>\n",
       "      <td>DH-Basic</td>\n",
       "      <td>Basismodul</td>\n",
       "      <td>Basismodul</td>\n",
       "      <td>Wissen</td>\n",
       "      <td>NaN</td>\n",
       "      <td>NaN</td>\n",
       "      <td>NaN</td>\n",
       "      <td>NaN</td>\n",
       "      <td>NaN</td>\n",
       "      <td>NaN</td>\n",
       "    </tr>\n",
       "  </tbody>\n",
       "</table>\n",
       "</div>"
      ],
      "text/plain": [
       "   Status                                      Atomic Skills  tmp  \\\n",
       "id                                                                  \n",
       "1     NaN  Computer-Probleme selber lösen (richtig google...    1   \n",
       "2     NaN  Dateien - Ordnerstruktur/-hierarchie, Pfade, B...    1   \n",
       "3     NaN  Shell Grundlagen: Was ist die Shell?, Unix vs....    1   \n",
       "4     NaN          Tabellenkalkulation - Excel/Google Sheets    1   \n",
       "5     NaN                     Tastaturkürzel & Sonderzeichen    1   \n",
       "\n",
       "     Unterbereich            Bereich  Prio  Zeitaufwand Framework Zertifikat  \\\n",
       "id                                                                             \n",
       "1   PC Grundlagen  Umgang mit dem PC     1          0.1        DL   DH-Basic   \n",
       "2   PC Grundlagen  Umgang mit dem PC     1          0.1        DL   DH-Basic   \n",
       "3   PC Grundlagen  Umgang mit dem PC     1          0.1        DL   DH-Basic   \n",
       "4   PC Grundlagen  Umgang mit dem PC     1          0.1        DL   DH-Basic   \n",
       "5   PC Grundlagen  Umgang mit dem PC     1          0.1        DL   DH-Basic   \n",
       "\n",
       "         Modul Modul_Option2 Lernzieltyp Lernziel_konkret  \\\n",
       "id                                                          \n",
       "1   Basismodul    Basismodul   Verstehen              NaN   \n",
       "2   Basismodul    Basismodul   Verstehen              NaN   \n",
       "3   Basismodul    Basismodul   Verstehen              NaN   \n",
       "4   Basismodul    Basismodul   Verstehen              NaN   \n",
       "5   Basismodul    Basismodul      Wissen              NaN   \n",
       "\n",
       "   Ridsdale DL Framework Key Ability Ridsdale DL Framework Competency  \\\n",
       "id                                                                      \n",
       "1                                NaN                              NaN   \n",
       "2                    Data Management                Data Organization   \n",
       "3                                NaN                              NaN   \n",
       "4                    Data Evaluation                       Data Tools   \n",
       "5                                NaN                              NaN   \n",
       "\n",
       "   RUB_Angebot UA_Ruhr_Angebot Kommentare  \n",
       "id                                         \n",
       "1          NaN             NaN        NaN  \n",
       "2          NaN             NaN        NaN  \n",
       "3          NaN             NaN        NaN  \n",
       "4          NaN             NaN        NaN  \n",
       "5          NaN             NaN        NaN  "
      ]
     },
     "execution_count": 2,
     "metadata": {},
     "output_type": "execute_result"
    }
   ],
   "source": [
    "df = pd.read_excel(file, index_col=\"id\")\n",
    "\n",
    "df.head()"
   ]
  },
  {
   "cell_type": "code",
   "execution_count": 3,
   "metadata": {},
   "outputs": [
    {
     "data": {
      "text/plain": [
       "'Sonstige DH-Tools'"
      ]
     },
     "execution_count": 3,
     "metadata": {},
     "output_type": "execute_result"
    }
   ],
   "source": [
    "def brrrrrr(string, cutoff=20):\n",
    "    brstring = \"\"\n",
    "    while len(string) > cutoff:\n",
    "        space_index = string[cutoff:].find(\" \")\n",
    "        if space_index == -1:\n",
    "            break\n",
    "        brstring += string[:cutoff + space_index].strip() + \"<br>\"\n",
    "        string = string[cutoff + space_index:].strip()\n",
    "    \n",
    "    brstring += string\n",
    "    return brstring\n",
    "    \n",
    "        \n",
    "\n",
    "teststr = df['Atomic Skills'].iloc[92]\n",
    "brrrrrr(teststr,20)"
   ]
  },
  {
   "cell_type": "code",
   "execution_count": 4,
   "metadata": {},
   "outputs": [],
   "source": [
    "\n",
    "df[\"AS\"] = df[\"Atomic Skills\"].apply(lambda x: brrrrrr(x,15))\n",
    "df[\"Prio_\"] = df[\"Prio\"].apply(lambda x: 4-x)"
   ]
  },
  {
   "cell_type": "code",
   "execution_count": 5,
   "metadata": {},
   "outputs": [
    {
     "data": {
      "text/plain": [
       "Index(['Status', 'Atomic Skills', 'tmp', 'Unterbereich', 'Bereich', 'Prio',\n",
       "       'Zeitaufwand', 'Framework', 'Zertifikat', 'Modul', 'Modul_Option2',\n",
       "       'Lernzieltyp', 'Lernziel_konkret', 'Ridsdale DL Framework Key Ability',\n",
       "       'Ridsdale DL Framework Competency', 'RUB_Angebot', 'UA_Ruhr_Angebot',\n",
       "       'Kommentare', 'AS', 'Prio_'],\n",
       "      dtype='object')"
      ]
     },
     "execution_count": 5,
     "metadata": {},
     "output_type": "execute_result"
    }
   ],
   "source": [
    "df.keys()"
   ]
  },
  {
   "cell_type": "code",
   "execution_count": 6,
   "metadata": {},
   "outputs": [],
   "source": [
    "# df[['Atomic Skills', 'Bereich', 'Unterbereich', 'Prio', 'Zeitaufwand','Lernzieltyp', 'Modul']].to_csv(\"dh_cert_skills_RUB.csv\")"
   ]
  },
  {
   "cell_type": "code",
   "execution_count": 7,
   "metadata": {},
   "outputs": [],
   "source": [
    "RUB_palette = {'Blau': '#17365c',\n",
    "               'Grün': '#8dae10',\n",
    "            #    'Grau': '#e7e7e7',\n",
    "               'Gelb': '#ffcc00',\n",
    "               'Orange': '#ed7102',\n",
    "               'Rot': '#e6332a',\n",
    "               'Dunkelrot': '#b61e3e',\n",
    "               'Beige': '#c1baa3',\n",
    "               'Dunkelgrün': '#8c8751',\n",
    "               'Braun': '#9c5516',\n",
    "               'Dunkelbraun': '#59201b'}\n",
    "\n",
    "RUB_colors = list(RUB_palette.values())"
   ]
  },
  {
   "cell_type": "code",
   "execution_count": 8,
   "metadata": {},
   "outputs": [
    {
     "data": {
      "text/plain": [
       "Templates configuration\n",
       "-----------------------\n",
       "    Default template: 'plotly'\n",
       "    Available templates:\n",
       "        ['ggplot2', 'seaborn', 'simple_white', 'plotly',\n",
       "         'plotly_white', 'plotly_dark', 'presentation', 'xgridoff',\n",
       "         'ygridoff', 'gridon', 'none']"
      ]
     },
     "execution_count": 8,
     "metadata": {},
     "output_type": "execute_result"
    }
   ],
   "source": [
    "import plotly.io as pio\n",
    "pio.templates"
   ]
  },
  {
   "cell_type": "code",
   "execution_count": 9,
   "metadata": {},
   "outputs": [],
   "source": [
    "df['Modul'] = df.apply(lambda x: x.Modul if x.Bereich != 'Umgang mit dem PC' else 'Methodenmodul', axis=1)\n"
   ]
  },
  {
   "cell_type": "markdown",
   "metadata": {},
   "source": [
    "# Ohne Module"
   ]
  },
  {
   "cell_type": "code",
   "execution_count": 10,
   "metadata": {},
   "outputs": [
    {
     "data": {
      "application/vnd.plotly.v1+json": {
       "config": {
        "plotlyServerURL": "https://plot.ly"
       },
       "data": [
        {
         "branchvalues": "total",
         "domain": {
          "x": [
           0,
           1
          ],
          "y": [
           0,
           1
          ]
         },
         "hovertemplate": "%{label}",
         "ids": [
          "Schlüsselkompetenzen Zertifikat \"Digital Humanities\"/Programmieren für DH/Python Grundlagen/(DH) Code verstehen<br>und anpassen",
          "Schlüsselkompetenzen Zertifikat \"Digital Humanities\"/DH Methoden & Tools/KI/(Python-)Beispielprojekt<br>zum Ausprobieren<br>und Anpassen",
          "Schlüsselkompetenzen Zertifikat \"Digital Humanities\"/DH Projekt/Projekt/Anwendung der Kenntnisse<br>in einem selbstständigen<br>(Datenanalyse-)projekt",
          "Schlüsselkompetenzen Zertifikat \"Digital Humanities\"/DH Methoden & Tools/Nicht-Text-Daten/Audio (Bearbeiten,<br>Konvertieren, etc.)",
          "Schlüsselkompetenzen Zertifikat \"Digital Humanities\"/DH Methoden & Tools/Nicht-Text-Daten/Audio Signal Processing",
          "Schlüsselkompetenzen Zertifikat \"Digital Humanities\"/Umgang mit dem PC/PC Fortgeschritten/Aufbau/Administration<br>von Client-Server-Architektur",
          "Schlüsselkompetenzen Zertifikat \"Digital Humanities\"/DH Grundlagen/Einführung DH/Begriffsdefinition<br>DH",
          "Schlüsselkompetenzen Zertifikat \"Digital Humanities\"/DH Grundlagen/Einführung DH/Beispiele Fragestellungen<br>- Fächer: Literaturwissenschaft,<br>Editionsphilologie,<br>Linguistik, Geschichte,<br>Kunstgeschichte,<br>Archäologie, Musik,<br>Medienwissenschaft",
          "Schlüsselkompetenzen Zertifikat \"Digital Humanities\"/DH Grundlagen/Einführung DH/Beispiele Tools<br>& Methoden: Digitale<br>Editionen, Digitale<br>Archive, Korpusanalyse,<br>Oral History, GIS,<br>VR, 3D-Design, digitale<br>Filmanalyse",
          "Schlüsselkompetenzen Zertifikat \"Digital Humanities\"/DH Methoden & Tools/Nicht-Text-Daten/Bild (Bearbeiten,<br>Konvertieren, etc.)",
          "Schlüsselkompetenzen Zertifikat \"Digital Humanities\"/DH Methoden & Tools/Nicht-Text-Daten/Computer Vision",
          "Schlüsselkompetenzen Zertifikat \"Digital Humanities\"/Umgang mit dem PC/PC Grundlagen/Computer-Probleme<br>selber lösen (richtig<br>googlen, Tutorials<br>befolgen)",
          "Schlüsselkompetenzen Zertifikat \"Digital Humanities\"/Umgang mit dem PC/PC Fortgeschritten/Containerisierung<br>(z.B. Docker)",
          "Schlüsselkompetenzen Zertifikat \"Digital Humanities\"/DH Grundlagen/Einführung DH/DH & Ich (\"Wofür<br>brauche ich persönlich<br>DH-Methoden in meinem<br>Studium?\")",
          "Schlüsselkompetenzen Zertifikat \"Digital Humanities\"/Umgang mit dem PC/PC Grundlagen/Dateien - Ordnerstruktur/-hierarchie,<br>Pfade, Benennung,<br>Arten, Umwandeln",
          "Schlüsselkompetenzen Zertifikat \"Digital Humanities\"/Programmieren für DH/R/Datenanalyse & Textmining",
          "Schlüsselkompetenzen Zertifikat \"Digital Humanities\"/DH Projekt/Projekt/Datenanalyse oder<br>Visualisierung",
          "Schlüsselkompetenzen Zertifikat \"Digital Humanities\"/Statistik für DH/Statistik Fortgeschritten/Datenanalyse und<br>Machine Learning",
          "Schlüsselkompetenzen Zertifikat \"Digital Humanities\"/Programmieren für DH/R/Datenaufbereitung<br>& Umgang mit Fehlermeldungen",
          "Schlüsselkompetenzen Zertifikat \"Digital Humanities\"/DH Grundlagen/Rechtliches/Datenschutz, Copyright,<br>DSGVO (in Bezug<br>auf Webscraping)",
          "Schlüsselkompetenzen Zertifikat \"Digital Humanities\"/DH Grundlagen/Einführung DH/Datenverarbeitung<br>& -organisation:<br>Datenbanken",
          "Schlüsselkompetenzen Zertifikat \"Digital Humanities\"/DH Grundlagen/Einführung DH/Datenverarbeitung<br>& -organisation:<br>Metadaten (Typen<br>& Standards)",
          "Schlüsselkompetenzen Zertifikat \"Digital Humanities\"/Programmieren für DH/R/Datenvisualisierung<br>(ggplot)",
          "Schlüsselkompetenzen Zertifikat \"Digital Humanities\"/Programmieren für DH/Python Grundlagen/Datenvisualisierung<br>(matplotlib, seaborn,<br>etc.)",
          "Schlüsselkompetenzen Zertifikat \"Digital Humanities\"/Statistik für DH/Statistik Fortgeschritten/Design und Implementierung<br>statistischer Modelle",
          "Schlüsselkompetenzen Zertifikat \"Digital Humanities\"/DH Methoden & Tools/Digitale Editionen/Digitale Editionen<br>bearbeiten/ Maintenance",
          "Schlüsselkompetenzen Zertifikat \"Digital Humanities\"/DH Methoden & Tools/Digitale Editionen/Digitale Editionen<br>erstellen",
          "Schlüsselkompetenzen Zertifikat \"Digital Humanities\"/DH Methoden & Tools/Methoden/Digitalisierung:<br>Frameworks (bspw.<br>IIIF)",
          "Schlüsselkompetenzen Zertifikat \"Digital Humanities\"/DH Grundlagen/Einführung DH/Digitalisierung<br>- 3D Digitalisierung,<br>AR, VR (Plastiken,<br>Gebäudemodelle)",
          "Schlüsselkompetenzen Zertifikat \"Digital Humanities\"/DH Grundlagen/Einführung DH/Digitalisierung<br>- Bilder als digitale<br>Daten (Raster &<br>Vektorgrafiken)",
          "Schlüsselkompetenzen Zertifikat \"Digital Humanities\"/DH Grundlagen/Einführung DH/Digitalisierungsverfahren<br>Bild & Text",
          "Schlüsselkompetenzen Zertifikat \"Digital Humanities\"/DH Methoden & Tools/Methoden/Erstellung von TEI-Customisations",
          "Schlüsselkompetenzen Zertifikat \"Digital Humanities\"/DH Grundlagen/Rechtliches/Forschungsethik",
          "Schlüsselkompetenzen Zertifikat \"Digital Humanities\"/DH Methoden & Tools/Datenbanken/Fortgeschritten:<br>SQL/NoSQL, eXist-db,<br>MongoDB, etc.",
          "Schlüsselkompetenzen Zertifikat \"Digital Humanities\"/DH Methoden & Tools/Datenbanken/Fortgeschritten:<br>selbst aufsetzen,<br>bearbeiten, maintainen",
          "Schlüsselkompetenzen Zertifikat \"Digital Humanities\"/DH Grundlagen/Einführung DH/Geschichte der DH",
          "Schlüsselkompetenzen Zertifikat \"Digital Humanities\"/DH Methoden & Tools/Methoden/Graphanalyse",
          "Schlüsselkompetenzen Zertifikat \"Digital Humanities\"/Statistik für DH/Statistik Grundlagen/Graphische Darstellung<br>(welche Daten, welche<br>Darstellung, Fehler)",
          "Schlüsselkompetenzen Zertifikat \"Digital Humanities\"/Programmieren für DH/Python Grundlagen/Grundlagen Programmieren<br>(Kontrollfluss,<br>Schleifen, Grundlagen<br>i/o, Boolsche Logik,<br>etc.)",
          "Schlüsselkompetenzen Zertifikat \"Digital Humanities\"/Programmieren für DH/R/Grundlagen R Programmieren",
          "Schlüsselkompetenzen Zertifikat \"Digital Humanities\"/DH Methoden & Tools/Datenbanken/Grundlagen: Excel/CSV,<br>SQL, Zugriff auf<br>existierende DBs/API",
          "Schlüsselkompetenzen Zertifikat \"Digital Humanities\"/DH Methoden & Tools/Datenbanken/Grundlagen: Verwalten,<br>Zusammenfügen, Analysieren<br>großer Datensätze",
          "Schlüsselkompetenzen Zertifikat \"Digital Humanities\"/DH Methoden & Tools/Methoden/Information Retrieval",
          "Schlüsselkompetenzen Zertifikat \"Digital Humanities\"/Programmieren für DH/Python Grundlagen/Infrastruktur (IDE,<br>Jupyter Notebooks,<br>Colab/Pages/JupyterHub)",
          "Schlüsselkompetenzen Zertifikat \"Digital Humanities\"/DH Grundlagen/Misc/Internationale Standards<br>in der Auszeichnung<br>von (Meta)daten<br>z.B. METS, MODS,<br>TEI",
          "Schlüsselkompetenzen Zertifikat \"Digital Humanities\"/Programmieren für DH/Misc/Java ",
          "Schlüsselkompetenzen Zertifikat \"Digital Humanities\"/DH Methoden & Tools/Tools/Kartenerstellung<br>(GIS, ArcGis, etc.)",
          "Schlüsselkompetenzen Zertifikat \"Digital Humanities\"/Statistik für DH/Statistik Fortgeschritten/Klassifikation:<br>Beispielcode (z.B.<br>in Python oder R)",
          "Schlüsselkompetenzen Zertifikat \"Digital Humanities\"/Statistik für DH/Statistik Fortgeschritten/Klassifikation:<br>KNN, SVM, etc",
          "Schlüsselkompetenzen Zertifikat \"Digital Humanities\"/Statistik für DH/Statistik Fortgeschritten/Klassifikation:<br>Naive Bayes",
          "Schlüsselkompetenzen Zertifikat \"Digital Humanities\"/DH Methoden & Tools/Methoden/Kollation (Editionsphilologie)",
          "Schlüsselkompetenzen Zertifikat \"Digital Humanities\"/Programmieren für DH/Python Grundlagen/Korpusanalytische<br>Verfahren (Webscraping,<br>Tokenisierung, Annotation,<br>Kookkurrenz-, Frequenzanalyse,<br>etc.)",
          "Schlüsselkompetenzen Zertifikat \"Digital Humanities\"/Statistik für DH/Statistik Grundlagen/Korrelation & Kausalität",
          "Schlüsselkompetenzen Zertifikat \"Digital Humanities\"/Umgang mit dem PC/PC Fortgeschritten/LaTex (Overleaf)",
          "Schlüsselkompetenzen Zertifikat \"Digital Humanities\"/DH Methoden & Tools/KI/Maschinelles Lernen:<br>Algorithmen",
          "Schlüsselkompetenzen Zertifikat \"Digital Humanities\"/DH Methoden & Tools/KI/Mathematische Grundlagen",
          "Schlüsselkompetenzen Zertifikat \"Digital Humanities\"/DH Methoden & Tools/Tools/MaxQDA",
          "Schlüsselkompetenzen Zertifikat \"Digital Humanities\"/Programmieren für DH/Python Fortgeschritten/NLTK",
          "Schlüsselkompetenzen Zertifikat \"Digital Humanities\"/DH Methoden & Tools/Methoden/Named Entity Recognition",
          "Schlüsselkompetenzen Zertifikat \"Digital Humanities\"/DH Methoden & Tools/Methoden/Network Analysis",
          "Schlüsselkompetenzen Zertifikat \"Digital Humanities\"/DH Methoden & Tools/Tools/OCR: Tools, Python-Bibliotheken,<br>APIs",
          "Schlüsselkompetenzen Zertifikat \"Digital Humanities\"/DH Grundlagen/Rechtliches/Open Access / Open<br>Research",
          "Schlüsselkompetenzen Zertifikat \"Digital Humanities\"/DH Methoden & Tools/Tools/Open Refine",
          "Schlüsselkompetenzen Zertifikat \"Digital Humanities\"/Programmieren für DH/Python Grundlagen/Pandas",
          "Schlüsselkompetenzen Zertifikat \"Digital Humanities\"/DH Projekt/Projekt/Projektorientiertes<br>Lernen: Modellierung,<br>Projektentwurf,<br>Umsetzung und Evaluation",
          "Schlüsselkompetenzen Zertifikat \"Digital Humanities\"/Umgang mit dem PC/PC Fortgeschritten/Quellenverwaltung<br>(mit Zotero, etc.)",
          "Schlüsselkompetenzen Zertifikat \"Digital Humanities\"/Statistik für DH/Statistik Grundlagen/Schätzer, Konfidenzintervalle<br>& Hypothesentests",
          "Schlüsselkompetenzen Zertifikat \"Digital Humanities\"/DH Projekt/Projekt/Selbständiges Arbeiten<br>mit Datensätzen",
          "Schlüsselkompetenzen Zertifikat \"Digital Humanities\"/Umgang mit dem PC/PC Fortgeschritten/Shell Fortgeschritten:<br>shell scripts, variablen,<br>editor in der shell,<br>remote access/ssh",
          "Schlüsselkompetenzen Zertifikat \"Digital Humanities\"/Umgang mit dem PC/PC Grundlagen/Shell Grundlagen:<br>Was ist die Shell?,<br>Unix vs. Windows,<br>simple Befehle",
          "Schlüsselkompetenzen Zertifikat \"Digital Humanities\"/Statistik für DH/Statistik Grundlagen/Skalenniveaus",
          "Schlüsselkompetenzen Zertifikat \"Digital Humanities\"/Programmieren für DH/Python Fortgeschritten/Sonstige DH-Bibliotheken",
          "Schlüsselkompetenzen Zertifikat \"Digital Humanities\"/DH Methoden & Tools/Tools/Sonstige DH-Tools",
          "Schlüsselkompetenzen Zertifikat \"Digital Humanities\"/Programmieren für DH/Python Fortgeschritten/Spacy",
          "Schlüsselkompetenzen Zertifikat \"Digital Humanities\"/Umgang mit dem PC/PC Grundlagen/Tabellenkalkulation<br>- Excel/Google Sheets",
          "Schlüsselkompetenzen Zertifikat \"Digital Humanities\"/DH Methoden & Tools/Tools/Tableau",
          "Schlüsselkompetenzen Zertifikat \"Digital Humanities\"/Umgang mit dem PC/PC Grundlagen/Tastaturkürzel &<br>Sonderzeichen",
          "Schlüsselkompetenzen Zertifikat \"Digital Humanities\"/Programmieren für DH/Python Grundlagen/Text (String-Methoden/-Funktionen)",
          "Schlüsselkompetenzen Zertifikat \"Digital Humanities\"/DH Grundlagen/Einführung DH/Textdaten - Zeichenkodierung",
          "Schlüsselkompetenzen Zertifikat \"Digital Humanities\"/DH Grundlagen/Einführung DH/Textdaten Grundlagen<br>-  txt, md, csv,<br>tsv, XML, HTML,<br>KML, TEI",
          "Schlüsselkompetenzen Zertifikat \"Digital Humanities\"/Programmieren für DH/R/Tidyverse",
          "Schlüsselkompetenzen Zertifikat \"Digital Humanities\"/DH Methoden & Tools/Methoden/Topic Modelling",
          "Schlüsselkompetenzen Zertifikat \"Digital Humanities\"/DH Methoden & Tools/KI/Transformer-Architektur",
          "Schlüsselkompetenzen Zertifikat \"Digital Humanities\"/DH Methoden & Tools/Tools/Trifacta/Alteryx<br>Designer Cloud",
          "Schlüsselkompetenzen Zertifikat \"Digital Humanities\"/Umgang mit dem PC/PC Fortgeschritten/UNIX/Linux: Grundlagen,<br>Betriebssystem",
          "Schlüsselkompetenzen Zertifikat \"Digital Humanities\"/Programmieren für DH/Misc/UNIX/Linux: Script-Sprachen",
          "Schlüsselkompetenzen Zertifikat \"Digital Humanities\"/Umgang mit dem PC/PC Fortgeschritten/UNIX/Linux: Serveradministration",
          "Schlüsselkompetenzen Zertifikat \"Digital Humanities\"/DH Methoden & Tools/Methoden/Umgang mit Online-Korpora",
          "Schlüsselkompetenzen Zertifikat \"Digital Humanities\"/DH Methoden & Tools/Tools/Umgang mit lokalen<br>Korpustools (Antconc,<br>etc.)",
          "Schlüsselkompetenzen Zertifikat \"Digital Humanities\"/Umgang mit dem PC/PC Grundlagen/Versionskontrolle/Datensicherung",
          "Schlüsselkompetenzen Zertifikat \"Digital Humanities\"/Umgang mit dem PC/PC Fortgeschritten/Versionskontrolle<br>mit git",
          "Schlüsselkompetenzen Zertifikat \"Digital Humanities\"/DH Methoden & Tools/Nicht-Text-Daten/Video & 3D (Bearbeiten,<br>Konvertieren, etc.)",
          "Schlüsselkompetenzen Zertifikat \"Digital Humanities\"/Programmieren für DH/Web/Web-Frontend zur<br>Suche und Anzeige<br>von Datenbankinhalten<br>(z.B. Dashbord)",
          "Schlüsselkompetenzen Zertifikat \"Digital Humanities\"/Programmieren für DH/Web/Web-Programmierung/<br>-Frameworks (Django,<br>Flask, etc.)",
          "Schlüsselkompetenzen Zertifikat \"Digital Humanities\"/Programmieren für DH/Web/Webseiten (HTML,<br>CSS, PHP, JavaScript)",
          "Schlüsselkompetenzen Zertifikat \"Digital Humanities\"/DH Projekt/Projekt/Wissenskommunikation<br>(Vorgehen & Ergebnisse<br>nachvollziehbar<br>darstellen)",
          "Schlüsselkompetenzen Zertifikat \"Digital Humanities\"/DH Methoden & Tools/Tools/Wordsmith",
          "Schlüsselkompetenzen Zertifikat \"Digital Humanities\"/DH Methoden & Tools/Methoden/XML-Technologien<br>Fortgeschritten<br>(TEI-XML, Xquery,<br>XSLT, XPATH)",
          "Schlüsselkompetenzen Zertifikat \"Digital Humanities\"/DH Methoden & Tools/KI/Überblick (High<br>Level: wie funktioniert<br>KI/ML/Klassifikation/Generation/Bias)",
          "Schlüsselkompetenzen Zertifikat \"Digital Humanities\"/DH Grundlagen/Einführung DH/Überblick Textdatenbanken/Korpora<br>(\"Welche gibt es?\",<br>\"Wie finde ich passende<br>Korpora/Datenbanken?\")",
          "Schlüsselkompetenzen Zertifikat \"Digital Humanities\"/DH Methoden & Tools/Datenbanken",
          "Schlüsselkompetenzen Zertifikat \"Digital Humanities\"/DH Methoden & Tools/Digitale Editionen",
          "Schlüsselkompetenzen Zertifikat \"Digital Humanities\"/DH Grundlagen/Einführung DH",
          "Schlüsselkompetenzen Zertifikat \"Digital Humanities\"/DH Methoden & Tools/KI",
          "Schlüsselkompetenzen Zertifikat \"Digital Humanities\"/DH Methoden & Tools/Methoden",
          "Schlüsselkompetenzen Zertifikat \"Digital Humanities\"/DH Grundlagen/Misc",
          "Schlüsselkompetenzen Zertifikat \"Digital Humanities\"/Programmieren für DH/Misc",
          "Schlüsselkompetenzen Zertifikat \"Digital Humanities\"/DH Methoden & Tools/Nicht-Text-Daten",
          "Schlüsselkompetenzen Zertifikat \"Digital Humanities\"/Umgang mit dem PC/PC Fortgeschritten",
          "Schlüsselkompetenzen Zertifikat \"Digital Humanities\"/Umgang mit dem PC/PC Grundlagen",
          "Schlüsselkompetenzen Zertifikat \"Digital Humanities\"/DH Projekt/Projekt",
          "Schlüsselkompetenzen Zertifikat \"Digital Humanities\"/Programmieren für DH/Python Fortgeschritten",
          "Schlüsselkompetenzen Zertifikat \"Digital Humanities\"/Programmieren für DH/Python Grundlagen",
          "Schlüsselkompetenzen Zertifikat \"Digital Humanities\"/Programmieren für DH/R",
          "Schlüsselkompetenzen Zertifikat \"Digital Humanities\"/DH Grundlagen/Rechtliches",
          "Schlüsselkompetenzen Zertifikat \"Digital Humanities\"/Statistik für DH/Statistik Fortgeschritten",
          "Schlüsselkompetenzen Zertifikat \"Digital Humanities\"/Statistik für DH/Statistik Grundlagen",
          "Schlüsselkompetenzen Zertifikat \"Digital Humanities\"/DH Methoden & Tools/Tools",
          "Schlüsselkompetenzen Zertifikat \"Digital Humanities\"/Programmieren für DH/Web",
          "Schlüsselkompetenzen Zertifikat \"Digital Humanities\"/DH Grundlagen",
          "Schlüsselkompetenzen Zertifikat \"Digital Humanities\"/DH Methoden & Tools",
          "Schlüsselkompetenzen Zertifikat \"Digital Humanities\"/DH Projekt",
          "Schlüsselkompetenzen Zertifikat \"Digital Humanities\"/Programmieren für DH",
          "Schlüsselkompetenzen Zertifikat \"Digital Humanities\"/Statistik für DH",
          "Schlüsselkompetenzen Zertifikat \"Digital Humanities\"/Umgang mit dem PC",
          "Schlüsselkompetenzen Zertifikat \"Digital Humanities\""
         ],
         "labels": [
          "(DH) Code verstehen<br>und anpassen",
          "(Python-)Beispielprojekt<br>zum Ausprobieren<br>und Anpassen",
          "Anwendung der Kenntnisse<br>in einem selbstständigen<br>(Datenanalyse-)projekt",
          "Audio (Bearbeiten,<br>Konvertieren, etc.)",
          "Audio Signal Processing",
          "Aufbau/Administration<br>von Client-Server-Architektur",
          "Begriffsdefinition<br>DH",
          "Beispiele Fragestellungen<br>- Fächer: Literaturwissenschaft,<br>Editionsphilologie,<br>Linguistik, Geschichte,<br>Kunstgeschichte,<br>Archäologie, Musik,<br>Medienwissenschaft",
          "Beispiele Tools<br>& Methoden: Digitale<br>Editionen, Digitale<br>Archive, Korpusanalyse,<br>Oral History, GIS,<br>VR, 3D-Design, digitale<br>Filmanalyse",
          "Bild (Bearbeiten,<br>Konvertieren, etc.)",
          "Computer Vision",
          "Computer-Probleme<br>selber lösen (richtig<br>googlen, Tutorials<br>befolgen)",
          "Containerisierung<br>(z.B. Docker)",
          "DH & Ich (\"Wofür<br>brauche ich persönlich<br>DH-Methoden in meinem<br>Studium?\")",
          "Dateien - Ordnerstruktur/-hierarchie,<br>Pfade, Benennung,<br>Arten, Umwandeln",
          "Datenanalyse & Textmining",
          "Datenanalyse oder<br>Visualisierung",
          "Datenanalyse und<br>Machine Learning",
          "Datenaufbereitung<br>& Umgang mit Fehlermeldungen",
          "Datenschutz, Copyright,<br>DSGVO (in Bezug<br>auf Webscraping)",
          "Datenverarbeitung<br>& -organisation:<br>Datenbanken",
          "Datenverarbeitung<br>& -organisation:<br>Metadaten (Typen<br>& Standards)",
          "Datenvisualisierung<br>(ggplot)",
          "Datenvisualisierung<br>(matplotlib, seaborn,<br>etc.)",
          "Design und Implementierung<br>statistischer Modelle",
          "Digitale Editionen<br>bearbeiten/ Maintenance",
          "Digitale Editionen<br>erstellen",
          "Digitalisierung:<br>Frameworks (bspw.<br>IIIF)",
          "Digitalisierung<br>- 3D Digitalisierung,<br>AR, VR (Plastiken,<br>Gebäudemodelle)",
          "Digitalisierung<br>- Bilder als digitale<br>Daten (Raster &<br>Vektorgrafiken)",
          "Digitalisierungsverfahren<br>Bild & Text",
          "Erstellung von TEI-Customisations",
          "Forschungsethik",
          "Fortgeschritten:<br>SQL/NoSQL, eXist-db,<br>MongoDB, etc.",
          "Fortgeschritten:<br>selbst aufsetzen,<br>bearbeiten, maintainen",
          "Geschichte der DH",
          "Graphanalyse",
          "Graphische Darstellung<br>(welche Daten, welche<br>Darstellung, Fehler)",
          "Grundlagen Programmieren<br>(Kontrollfluss,<br>Schleifen, Grundlagen<br>i/o, Boolsche Logik,<br>etc.)",
          "Grundlagen R Programmieren",
          "Grundlagen: Excel/CSV,<br>SQL, Zugriff auf<br>existierende DBs/API",
          "Grundlagen: Verwalten,<br>Zusammenfügen, Analysieren<br>großer Datensätze",
          "Information Retrieval",
          "Infrastruktur (IDE,<br>Jupyter Notebooks,<br>Colab/Pages/JupyterHub)",
          "Internationale Standards<br>in der Auszeichnung<br>von (Meta)daten<br>z.B. METS, MODS,<br>TEI",
          "Java ",
          "Kartenerstellung<br>(GIS, ArcGis, etc.)",
          "Klassifikation:<br>Beispielcode (z.B.<br>in Python oder R)",
          "Klassifikation:<br>KNN, SVM, etc",
          "Klassifikation:<br>Naive Bayes",
          "Kollation (Editionsphilologie)",
          "Korpusanalytische<br>Verfahren (Webscraping,<br>Tokenisierung, Annotation,<br>Kookkurrenz-, Frequenzanalyse,<br>etc.)",
          "Korrelation & Kausalität",
          "LaTex (Overleaf)",
          "Maschinelles Lernen:<br>Algorithmen",
          "Mathematische Grundlagen",
          "MaxQDA",
          "NLTK",
          "Named Entity Recognition",
          "Network Analysis",
          "OCR: Tools, Python-Bibliotheken,<br>APIs",
          "Open Access / Open<br>Research",
          "Open Refine",
          "Pandas",
          "Projektorientiertes<br>Lernen: Modellierung,<br>Projektentwurf,<br>Umsetzung und Evaluation",
          "Quellenverwaltung<br>(mit Zotero, etc.)",
          "Schätzer, Konfidenzintervalle<br>& Hypothesentests",
          "Selbständiges Arbeiten<br>mit Datensätzen",
          "Shell Fortgeschritten:<br>shell scripts, variablen,<br>editor in der shell,<br>remote access/ssh",
          "Shell Grundlagen:<br>Was ist die Shell?,<br>Unix vs. Windows,<br>simple Befehle",
          "Skalenniveaus",
          "Sonstige DH-Bibliotheken",
          "Sonstige DH-Tools",
          "Spacy",
          "Tabellenkalkulation<br>- Excel/Google Sheets",
          "Tableau",
          "Tastaturkürzel &<br>Sonderzeichen",
          "Text (String-Methoden/-Funktionen)",
          "Textdaten - Zeichenkodierung",
          "Textdaten Grundlagen<br>-  txt, md, csv,<br>tsv, XML, HTML,<br>KML, TEI",
          "Tidyverse",
          "Topic Modelling",
          "Transformer-Architektur",
          "Trifacta/Alteryx<br>Designer Cloud",
          "UNIX/Linux: Grundlagen,<br>Betriebssystem",
          "UNIX/Linux: Script-Sprachen",
          "UNIX/Linux: Serveradministration",
          "Umgang mit Online-Korpora",
          "Umgang mit lokalen<br>Korpustools (Antconc,<br>etc.)",
          "Versionskontrolle/Datensicherung",
          "Versionskontrolle<br>mit git",
          "Video & 3D (Bearbeiten,<br>Konvertieren, etc.)",
          "Web-Frontend zur<br>Suche und Anzeige<br>von Datenbankinhalten<br>(z.B. Dashbord)",
          "Web-Programmierung/<br>-Frameworks (Django,<br>Flask, etc.)",
          "Webseiten (HTML,<br>CSS, PHP, JavaScript)",
          "Wissenskommunikation<br>(Vorgehen & Ergebnisse<br>nachvollziehbar<br>darstellen)",
          "Wordsmith",
          "XML-Technologien<br>Fortgeschritten<br>(TEI-XML, Xquery,<br>XSLT, XPATH)",
          "Überblick (High<br>Level: wie funktioniert<br>KI/ML/Klassifikation/Generation/Bias)",
          "Überblick Textdatenbanken/Korpora<br>(\"Welche gibt es?\",<br>\"Wie finde ich passende<br>Korpora/Datenbanken?\")",
          "Datenbanken",
          "Digitale Editionen",
          "Einführung DH",
          "KI",
          "Methoden",
          "Misc",
          "Misc",
          "Nicht-Text-Daten",
          "PC Fortgeschritten",
          "PC Grundlagen",
          "Projekt",
          "Python Fortgeschritten",
          "Python Grundlagen",
          "R",
          "Rechtliches",
          "Statistik Fortgeschritten",
          "Statistik Grundlagen",
          "Tools",
          "Web",
          "DH Grundlagen",
          "DH Methoden & Tools",
          "DH Projekt",
          "Programmieren für DH",
          "Statistik für DH",
          "Umgang mit dem PC",
          "Schlüsselkompetenzen Zertifikat \"Digital Humanities\""
         ],
         "marker": {
          "cornerradius": 5
         },
         "name": "",
         "parents": [
          "Schlüsselkompetenzen Zertifikat \"Digital Humanities\"/Programmieren für DH/Python Grundlagen",
          "Schlüsselkompetenzen Zertifikat \"Digital Humanities\"/DH Methoden & Tools/KI",
          "Schlüsselkompetenzen Zertifikat \"Digital Humanities\"/DH Projekt/Projekt",
          "Schlüsselkompetenzen Zertifikat \"Digital Humanities\"/DH Methoden & Tools/Nicht-Text-Daten",
          "Schlüsselkompetenzen Zertifikat \"Digital Humanities\"/DH Methoden & Tools/Nicht-Text-Daten",
          "Schlüsselkompetenzen Zertifikat \"Digital Humanities\"/Umgang mit dem PC/PC Fortgeschritten",
          "Schlüsselkompetenzen Zertifikat \"Digital Humanities\"/DH Grundlagen/Einführung DH",
          "Schlüsselkompetenzen Zertifikat \"Digital Humanities\"/DH Grundlagen/Einführung DH",
          "Schlüsselkompetenzen Zertifikat \"Digital Humanities\"/DH Grundlagen/Einführung DH",
          "Schlüsselkompetenzen Zertifikat \"Digital Humanities\"/DH Methoden & Tools/Nicht-Text-Daten",
          "Schlüsselkompetenzen Zertifikat \"Digital Humanities\"/DH Methoden & Tools/Nicht-Text-Daten",
          "Schlüsselkompetenzen Zertifikat \"Digital Humanities\"/Umgang mit dem PC/PC Grundlagen",
          "Schlüsselkompetenzen Zertifikat \"Digital Humanities\"/Umgang mit dem PC/PC Fortgeschritten",
          "Schlüsselkompetenzen Zertifikat \"Digital Humanities\"/DH Grundlagen/Einführung DH",
          "Schlüsselkompetenzen Zertifikat \"Digital Humanities\"/Umgang mit dem PC/PC Grundlagen",
          "Schlüsselkompetenzen Zertifikat \"Digital Humanities\"/Programmieren für DH/R",
          "Schlüsselkompetenzen Zertifikat \"Digital Humanities\"/DH Projekt/Projekt",
          "Schlüsselkompetenzen Zertifikat \"Digital Humanities\"/Statistik für DH/Statistik Fortgeschritten",
          "Schlüsselkompetenzen Zertifikat \"Digital Humanities\"/Programmieren für DH/R",
          "Schlüsselkompetenzen Zertifikat \"Digital Humanities\"/DH Grundlagen/Rechtliches",
          "Schlüsselkompetenzen Zertifikat \"Digital Humanities\"/DH Grundlagen/Einführung DH",
          "Schlüsselkompetenzen Zertifikat \"Digital Humanities\"/DH Grundlagen/Einführung DH",
          "Schlüsselkompetenzen Zertifikat \"Digital Humanities\"/Programmieren für DH/R",
          "Schlüsselkompetenzen Zertifikat \"Digital Humanities\"/Programmieren für DH/Python Grundlagen",
          "Schlüsselkompetenzen Zertifikat \"Digital Humanities\"/Statistik für DH/Statistik Fortgeschritten",
          "Schlüsselkompetenzen Zertifikat \"Digital Humanities\"/DH Methoden & Tools/Digitale Editionen",
          "Schlüsselkompetenzen Zertifikat \"Digital Humanities\"/DH Methoden & Tools/Digitale Editionen",
          "Schlüsselkompetenzen Zertifikat \"Digital Humanities\"/DH Methoden & Tools/Methoden",
          "Schlüsselkompetenzen Zertifikat \"Digital Humanities\"/DH Grundlagen/Einführung DH",
          "Schlüsselkompetenzen Zertifikat \"Digital Humanities\"/DH Grundlagen/Einführung DH",
          "Schlüsselkompetenzen Zertifikat \"Digital Humanities\"/DH Grundlagen/Einführung DH",
          "Schlüsselkompetenzen Zertifikat \"Digital Humanities\"/DH Methoden & Tools/Methoden",
          "Schlüsselkompetenzen Zertifikat \"Digital Humanities\"/DH Grundlagen/Rechtliches",
          "Schlüsselkompetenzen Zertifikat \"Digital Humanities\"/DH Methoden & Tools/Datenbanken",
          "Schlüsselkompetenzen Zertifikat \"Digital Humanities\"/DH Methoden & Tools/Datenbanken",
          "Schlüsselkompetenzen Zertifikat \"Digital Humanities\"/DH Grundlagen/Einführung DH",
          "Schlüsselkompetenzen Zertifikat \"Digital Humanities\"/DH Methoden & Tools/Methoden",
          "Schlüsselkompetenzen Zertifikat \"Digital Humanities\"/Statistik für DH/Statistik Grundlagen",
          "Schlüsselkompetenzen Zertifikat \"Digital Humanities\"/Programmieren für DH/Python Grundlagen",
          "Schlüsselkompetenzen Zertifikat \"Digital Humanities\"/Programmieren für DH/R",
          "Schlüsselkompetenzen Zertifikat \"Digital Humanities\"/DH Methoden & Tools/Datenbanken",
          "Schlüsselkompetenzen Zertifikat \"Digital Humanities\"/DH Methoden & Tools/Datenbanken",
          "Schlüsselkompetenzen Zertifikat \"Digital Humanities\"/DH Methoden & Tools/Methoden",
          "Schlüsselkompetenzen Zertifikat \"Digital Humanities\"/Programmieren für DH/Python Grundlagen",
          "Schlüsselkompetenzen Zertifikat \"Digital Humanities\"/DH Grundlagen/Misc",
          "Schlüsselkompetenzen Zertifikat \"Digital Humanities\"/Programmieren für DH/Misc",
          "Schlüsselkompetenzen Zertifikat \"Digital Humanities\"/DH Methoden & Tools/Tools",
          "Schlüsselkompetenzen Zertifikat \"Digital Humanities\"/Statistik für DH/Statistik Fortgeschritten",
          "Schlüsselkompetenzen Zertifikat \"Digital Humanities\"/Statistik für DH/Statistik Fortgeschritten",
          "Schlüsselkompetenzen Zertifikat \"Digital Humanities\"/Statistik für DH/Statistik Fortgeschritten",
          "Schlüsselkompetenzen Zertifikat \"Digital Humanities\"/DH Methoden & Tools/Methoden",
          "Schlüsselkompetenzen Zertifikat \"Digital Humanities\"/Programmieren für DH/Python Grundlagen",
          "Schlüsselkompetenzen Zertifikat \"Digital Humanities\"/Statistik für DH/Statistik Grundlagen",
          "Schlüsselkompetenzen Zertifikat \"Digital Humanities\"/Umgang mit dem PC/PC Fortgeschritten",
          "Schlüsselkompetenzen Zertifikat \"Digital Humanities\"/DH Methoden & Tools/KI",
          "Schlüsselkompetenzen Zertifikat \"Digital Humanities\"/DH Methoden & Tools/KI",
          "Schlüsselkompetenzen Zertifikat \"Digital Humanities\"/DH Methoden & Tools/Tools",
          "Schlüsselkompetenzen Zertifikat \"Digital Humanities\"/Programmieren für DH/Python Fortgeschritten",
          "Schlüsselkompetenzen Zertifikat \"Digital Humanities\"/DH Methoden & Tools/Methoden",
          "Schlüsselkompetenzen Zertifikat \"Digital Humanities\"/DH Methoden & Tools/Methoden",
          "Schlüsselkompetenzen Zertifikat \"Digital Humanities\"/DH Methoden & Tools/Tools",
          "Schlüsselkompetenzen Zertifikat \"Digital Humanities\"/DH Grundlagen/Rechtliches",
          "Schlüsselkompetenzen Zertifikat \"Digital Humanities\"/DH Methoden & Tools/Tools",
          "Schlüsselkompetenzen Zertifikat \"Digital Humanities\"/Programmieren für DH/Python Grundlagen",
          "Schlüsselkompetenzen Zertifikat \"Digital Humanities\"/DH Projekt/Projekt",
          "Schlüsselkompetenzen Zertifikat \"Digital Humanities\"/Umgang mit dem PC/PC Fortgeschritten",
          "Schlüsselkompetenzen Zertifikat \"Digital Humanities\"/Statistik für DH/Statistik Grundlagen",
          "Schlüsselkompetenzen Zertifikat \"Digital Humanities\"/DH Projekt/Projekt",
          "Schlüsselkompetenzen Zertifikat \"Digital Humanities\"/Umgang mit dem PC/PC Fortgeschritten",
          "Schlüsselkompetenzen Zertifikat \"Digital Humanities\"/Umgang mit dem PC/PC Grundlagen",
          "Schlüsselkompetenzen Zertifikat \"Digital Humanities\"/Statistik für DH/Statistik Grundlagen",
          "Schlüsselkompetenzen Zertifikat \"Digital Humanities\"/Programmieren für DH/Python Fortgeschritten",
          "Schlüsselkompetenzen Zertifikat \"Digital Humanities\"/DH Methoden & Tools/Tools",
          "Schlüsselkompetenzen Zertifikat \"Digital Humanities\"/Programmieren für DH/Python Fortgeschritten",
          "Schlüsselkompetenzen Zertifikat \"Digital Humanities\"/Umgang mit dem PC/PC Grundlagen",
          "Schlüsselkompetenzen Zertifikat \"Digital Humanities\"/DH Methoden & Tools/Tools",
          "Schlüsselkompetenzen Zertifikat \"Digital Humanities\"/Umgang mit dem PC/PC Grundlagen",
          "Schlüsselkompetenzen Zertifikat \"Digital Humanities\"/Programmieren für DH/Python Grundlagen",
          "Schlüsselkompetenzen Zertifikat \"Digital Humanities\"/DH Grundlagen/Einführung DH",
          "Schlüsselkompetenzen Zertifikat \"Digital Humanities\"/DH Grundlagen/Einführung DH",
          "Schlüsselkompetenzen Zertifikat \"Digital Humanities\"/Programmieren für DH/R",
          "Schlüsselkompetenzen Zertifikat \"Digital Humanities\"/DH Methoden & Tools/Methoden",
          "Schlüsselkompetenzen Zertifikat \"Digital Humanities\"/DH Methoden & Tools/KI",
          "Schlüsselkompetenzen Zertifikat \"Digital Humanities\"/DH Methoden & Tools/Tools",
          "Schlüsselkompetenzen Zertifikat \"Digital Humanities\"/Umgang mit dem PC/PC Fortgeschritten",
          "Schlüsselkompetenzen Zertifikat \"Digital Humanities\"/Programmieren für DH/Misc",
          "Schlüsselkompetenzen Zertifikat \"Digital Humanities\"/Umgang mit dem PC/PC Fortgeschritten",
          "Schlüsselkompetenzen Zertifikat \"Digital Humanities\"/DH Methoden & Tools/Methoden",
          "Schlüsselkompetenzen Zertifikat \"Digital Humanities\"/DH Methoden & Tools/Tools",
          "Schlüsselkompetenzen Zertifikat \"Digital Humanities\"/Umgang mit dem PC/PC Grundlagen",
          "Schlüsselkompetenzen Zertifikat \"Digital Humanities\"/Umgang mit dem PC/PC Fortgeschritten",
          "Schlüsselkompetenzen Zertifikat \"Digital Humanities\"/DH Methoden & Tools/Nicht-Text-Daten",
          "Schlüsselkompetenzen Zertifikat \"Digital Humanities\"/Programmieren für DH/Web",
          "Schlüsselkompetenzen Zertifikat \"Digital Humanities\"/Programmieren für DH/Web",
          "Schlüsselkompetenzen Zertifikat \"Digital Humanities\"/Programmieren für DH/Web",
          "Schlüsselkompetenzen Zertifikat \"Digital Humanities\"/DH Projekt/Projekt",
          "Schlüsselkompetenzen Zertifikat \"Digital Humanities\"/DH Methoden & Tools/Tools",
          "Schlüsselkompetenzen Zertifikat \"Digital Humanities\"/DH Methoden & Tools/Methoden",
          "Schlüsselkompetenzen Zertifikat \"Digital Humanities\"/DH Methoden & Tools/KI",
          "Schlüsselkompetenzen Zertifikat \"Digital Humanities\"/DH Grundlagen/Einführung DH",
          "Schlüsselkompetenzen Zertifikat \"Digital Humanities\"/DH Methoden & Tools",
          "Schlüsselkompetenzen Zertifikat \"Digital Humanities\"/DH Methoden & Tools",
          "Schlüsselkompetenzen Zertifikat \"Digital Humanities\"/DH Grundlagen",
          "Schlüsselkompetenzen Zertifikat \"Digital Humanities\"/DH Methoden & Tools",
          "Schlüsselkompetenzen Zertifikat \"Digital Humanities\"/DH Methoden & Tools",
          "Schlüsselkompetenzen Zertifikat \"Digital Humanities\"/DH Grundlagen",
          "Schlüsselkompetenzen Zertifikat \"Digital Humanities\"/Programmieren für DH",
          "Schlüsselkompetenzen Zertifikat \"Digital Humanities\"/DH Methoden & Tools",
          "Schlüsselkompetenzen Zertifikat \"Digital Humanities\"/Umgang mit dem PC",
          "Schlüsselkompetenzen Zertifikat \"Digital Humanities\"/Umgang mit dem PC",
          "Schlüsselkompetenzen Zertifikat \"Digital Humanities\"/DH Projekt",
          "Schlüsselkompetenzen Zertifikat \"Digital Humanities\"/Programmieren für DH",
          "Schlüsselkompetenzen Zertifikat \"Digital Humanities\"/Programmieren für DH",
          "Schlüsselkompetenzen Zertifikat \"Digital Humanities\"/Programmieren für DH",
          "Schlüsselkompetenzen Zertifikat \"Digital Humanities\"/DH Grundlagen",
          "Schlüsselkompetenzen Zertifikat \"Digital Humanities\"/Statistik für DH",
          "Schlüsselkompetenzen Zertifikat \"Digital Humanities\"/Statistik für DH",
          "Schlüsselkompetenzen Zertifikat \"Digital Humanities\"/DH Methoden & Tools",
          "Schlüsselkompetenzen Zertifikat \"Digital Humanities\"/Programmieren für DH",
          "Schlüsselkompetenzen Zertifikat \"Digital Humanities\"",
          "Schlüsselkompetenzen Zertifikat \"Digital Humanities\"",
          "Schlüsselkompetenzen Zertifikat \"Digital Humanities\"",
          "Schlüsselkompetenzen Zertifikat \"Digital Humanities\"",
          "Schlüsselkompetenzen Zertifikat \"Digital Humanities\"",
          "Schlüsselkompetenzen Zertifikat \"Digital Humanities\"",
          ""
         ],
         "type": "treemap",
         "values": [
          3,
          2,
          3,
          2,
          1,
          1,
          3,
          3,
          3,
          2,
          1,
          3,
          2,
          3,
          3,
          3,
          3,
          1,
          3,
          2,
          3,
          3,
          3,
          3,
          1,
          3,
          3,
          2,
          2,
          2,
          3,
          2,
          2,
          1,
          1,
          3,
          1,
          3,
          3,
          3,
          2,
          2,
          2,
          3,
          2,
          1,
          2,
          2,
          2,
          2,
          2,
          3,
          3,
          2,
          1,
          1,
          1,
          3,
          3,
          1,
          3,
          2,
          2,
          3,
          3,
          2,
          3,
          3,
          2,
          3,
          3,
          3,
          1,
          3,
          3,
          1,
          3,
          3,
          3,
          3,
          3,
          2,
          1,
          1,
          1,
          1,
          1,
          3,
          2,
          3,
          2,
          2,
          2,
          1,
          1,
          3,
          2,
          2,
          3,
          3,
          6,
          6,
          37,
          8,
          20,
          2,
          2,
          8,
          13,
          18,
          15,
          9,
          21,
          15,
          6,
          8,
          12,
          15,
          4,
          45,
          63,
          15,
          51,
          20,
          31,
          225
         ]
        }
       ],
       "layout": {
        "font": {
         "size": 15
        },
        "legend": {
         "tracegroupgap": 0
        },
        "margin": {
         "b": 25,
         "l": 25,
         "r": 25,
         "t": 25
        },
        "template": {
         "data": {
          "bar": [
           {
            "error_x": {
             "color": "rgb(36,36,36)"
            },
            "error_y": {
             "color": "rgb(36,36,36)"
            },
            "marker": {
             "line": {
              "color": "rgb(234,234,242)",
              "width": 0.5
             },
             "pattern": {
              "fillmode": "overlay",
              "size": 10,
              "solidity": 0.2
             }
            },
            "type": "bar"
           }
          ],
          "barpolar": [
           {
            "marker": {
             "line": {
              "color": "rgb(234,234,242)",
              "width": 0.5
             },
             "pattern": {
              "fillmode": "overlay",
              "size": 10,
              "solidity": 0.2
             }
            },
            "type": "barpolar"
           }
          ],
          "carpet": [
           {
            "aaxis": {
             "endlinecolor": "rgb(36,36,36)",
             "gridcolor": "white",
             "linecolor": "white",
             "minorgridcolor": "white",
             "startlinecolor": "rgb(36,36,36)"
            },
            "baxis": {
             "endlinecolor": "rgb(36,36,36)",
             "gridcolor": "white",
             "linecolor": "white",
             "minorgridcolor": "white",
             "startlinecolor": "rgb(36,36,36)"
            },
            "type": "carpet"
           }
          ],
          "choropleth": [
           {
            "colorbar": {
             "outlinewidth": 0,
             "tickcolor": "rgb(36,36,36)",
             "ticklen": 8,
             "ticks": "outside",
             "tickwidth": 2
            },
            "type": "choropleth"
           }
          ],
          "contour": [
           {
            "colorbar": {
             "outlinewidth": 0,
             "tickcolor": "rgb(36,36,36)",
             "ticklen": 8,
             "ticks": "outside",
             "tickwidth": 2
            },
            "colorscale": [
             [
              0,
              "rgb(2,4,25)"
             ],
             [
              0.06274509803921569,
              "rgb(24,15,41)"
             ],
             [
              0.12549019607843137,
              "rgb(47,23,57)"
             ],
             [
              0.18823529411764706,
              "rgb(71,28,72)"
             ],
             [
              0.25098039215686274,
              "rgb(97,30,82)"
             ],
             [
              0.3137254901960784,
              "rgb(123,30,89)"
             ],
             [
              0.3764705882352941,
              "rgb(150,27,91)"
             ],
             [
              0.4392156862745098,
              "rgb(177,22,88)"
             ],
             [
              0.5019607843137255,
              "rgb(203,26,79)"
             ],
             [
              0.5647058823529412,
              "rgb(223,47,67)"
             ],
             [
              0.6274509803921569,
              "rgb(236,76,61)"
             ],
             [
              0.6901960784313725,
              "rgb(242,107,73)"
             ],
             [
              0.7529411764705882,
              "rgb(244,135,95)"
             ],
             [
              0.8156862745098039,
              "rgb(245,162,122)"
             ],
             [
              0.8784313725490196,
              "rgb(246,188,153)"
             ],
             [
              0.9411764705882353,
              "rgb(247,212,187)"
             ],
             [
              1,
              "rgb(250,234,220)"
             ]
            ],
            "type": "contour"
           }
          ],
          "contourcarpet": [
           {
            "colorbar": {
             "outlinewidth": 0,
             "tickcolor": "rgb(36,36,36)",
             "ticklen": 8,
             "ticks": "outside",
             "tickwidth": 2
            },
            "type": "contourcarpet"
           }
          ],
          "heatmap": [
           {
            "colorbar": {
             "outlinewidth": 0,
             "tickcolor": "rgb(36,36,36)",
             "ticklen": 8,
             "ticks": "outside",
             "tickwidth": 2
            },
            "colorscale": [
             [
              0,
              "rgb(2,4,25)"
             ],
             [
              0.06274509803921569,
              "rgb(24,15,41)"
             ],
             [
              0.12549019607843137,
              "rgb(47,23,57)"
             ],
             [
              0.18823529411764706,
              "rgb(71,28,72)"
             ],
             [
              0.25098039215686274,
              "rgb(97,30,82)"
             ],
             [
              0.3137254901960784,
              "rgb(123,30,89)"
             ],
             [
              0.3764705882352941,
              "rgb(150,27,91)"
             ],
             [
              0.4392156862745098,
              "rgb(177,22,88)"
             ],
             [
              0.5019607843137255,
              "rgb(203,26,79)"
             ],
             [
              0.5647058823529412,
              "rgb(223,47,67)"
             ],
             [
              0.6274509803921569,
              "rgb(236,76,61)"
             ],
             [
              0.6901960784313725,
              "rgb(242,107,73)"
             ],
             [
              0.7529411764705882,
              "rgb(244,135,95)"
             ],
             [
              0.8156862745098039,
              "rgb(245,162,122)"
             ],
             [
              0.8784313725490196,
              "rgb(246,188,153)"
             ],
             [
              0.9411764705882353,
              "rgb(247,212,187)"
             ],
             [
              1,
              "rgb(250,234,220)"
             ]
            ],
            "type": "heatmap"
           }
          ],
          "heatmapgl": [
           {
            "colorbar": {
             "outlinewidth": 0,
             "tickcolor": "rgb(36,36,36)",
             "ticklen": 8,
             "ticks": "outside",
             "tickwidth": 2
            },
            "colorscale": [
             [
              0,
              "rgb(2,4,25)"
             ],
             [
              0.06274509803921569,
              "rgb(24,15,41)"
             ],
             [
              0.12549019607843137,
              "rgb(47,23,57)"
             ],
             [
              0.18823529411764706,
              "rgb(71,28,72)"
             ],
             [
              0.25098039215686274,
              "rgb(97,30,82)"
             ],
             [
              0.3137254901960784,
              "rgb(123,30,89)"
             ],
             [
              0.3764705882352941,
              "rgb(150,27,91)"
             ],
             [
              0.4392156862745098,
              "rgb(177,22,88)"
             ],
             [
              0.5019607843137255,
              "rgb(203,26,79)"
             ],
             [
              0.5647058823529412,
              "rgb(223,47,67)"
             ],
             [
              0.6274509803921569,
              "rgb(236,76,61)"
             ],
             [
              0.6901960784313725,
              "rgb(242,107,73)"
             ],
             [
              0.7529411764705882,
              "rgb(244,135,95)"
             ],
             [
              0.8156862745098039,
              "rgb(245,162,122)"
             ],
             [
              0.8784313725490196,
              "rgb(246,188,153)"
             ],
             [
              0.9411764705882353,
              "rgb(247,212,187)"
             ],
             [
              1,
              "rgb(250,234,220)"
             ]
            ],
            "type": "heatmapgl"
           }
          ],
          "histogram": [
           {
            "marker": {
             "pattern": {
              "fillmode": "overlay",
              "size": 10,
              "solidity": 0.2
             }
            },
            "type": "histogram"
           }
          ],
          "histogram2d": [
           {
            "colorbar": {
             "outlinewidth": 0,
             "tickcolor": "rgb(36,36,36)",
             "ticklen": 8,
             "ticks": "outside",
             "tickwidth": 2
            },
            "colorscale": [
             [
              0,
              "rgb(2,4,25)"
             ],
             [
              0.06274509803921569,
              "rgb(24,15,41)"
             ],
             [
              0.12549019607843137,
              "rgb(47,23,57)"
             ],
             [
              0.18823529411764706,
              "rgb(71,28,72)"
             ],
             [
              0.25098039215686274,
              "rgb(97,30,82)"
             ],
             [
              0.3137254901960784,
              "rgb(123,30,89)"
             ],
             [
              0.3764705882352941,
              "rgb(150,27,91)"
             ],
             [
              0.4392156862745098,
              "rgb(177,22,88)"
             ],
             [
              0.5019607843137255,
              "rgb(203,26,79)"
             ],
             [
              0.5647058823529412,
              "rgb(223,47,67)"
             ],
             [
              0.6274509803921569,
              "rgb(236,76,61)"
             ],
             [
              0.6901960784313725,
              "rgb(242,107,73)"
             ],
             [
              0.7529411764705882,
              "rgb(244,135,95)"
             ],
             [
              0.8156862745098039,
              "rgb(245,162,122)"
             ],
             [
              0.8784313725490196,
              "rgb(246,188,153)"
             ],
             [
              0.9411764705882353,
              "rgb(247,212,187)"
             ],
             [
              1,
              "rgb(250,234,220)"
             ]
            ],
            "type": "histogram2d"
           }
          ],
          "histogram2dcontour": [
           {
            "colorbar": {
             "outlinewidth": 0,
             "tickcolor": "rgb(36,36,36)",
             "ticklen": 8,
             "ticks": "outside",
             "tickwidth": 2
            },
            "colorscale": [
             [
              0,
              "rgb(2,4,25)"
             ],
             [
              0.06274509803921569,
              "rgb(24,15,41)"
             ],
             [
              0.12549019607843137,
              "rgb(47,23,57)"
             ],
             [
              0.18823529411764706,
              "rgb(71,28,72)"
             ],
             [
              0.25098039215686274,
              "rgb(97,30,82)"
             ],
             [
              0.3137254901960784,
              "rgb(123,30,89)"
             ],
             [
              0.3764705882352941,
              "rgb(150,27,91)"
             ],
             [
              0.4392156862745098,
              "rgb(177,22,88)"
             ],
             [
              0.5019607843137255,
              "rgb(203,26,79)"
             ],
             [
              0.5647058823529412,
              "rgb(223,47,67)"
             ],
             [
              0.6274509803921569,
              "rgb(236,76,61)"
             ],
             [
              0.6901960784313725,
              "rgb(242,107,73)"
             ],
             [
              0.7529411764705882,
              "rgb(244,135,95)"
             ],
             [
              0.8156862745098039,
              "rgb(245,162,122)"
             ],
             [
              0.8784313725490196,
              "rgb(246,188,153)"
             ],
             [
              0.9411764705882353,
              "rgb(247,212,187)"
             ],
             [
              1,
              "rgb(250,234,220)"
             ]
            ],
            "type": "histogram2dcontour"
           }
          ],
          "mesh3d": [
           {
            "colorbar": {
             "outlinewidth": 0,
             "tickcolor": "rgb(36,36,36)",
             "ticklen": 8,
             "ticks": "outside",
             "tickwidth": 2
            },
            "type": "mesh3d"
           }
          ],
          "parcoords": [
           {
            "line": {
             "colorbar": {
              "outlinewidth": 0,
              "tickcolor": "rgb(36,36,36)",
              "ticklen": 8,
              "ticks": "outside",
              "tickwidth": 2
             }
            },
            "type": "parcoords"
           }
          ],
          "pie": [
           {
            "automargin": true,
            "type": "pie"
           }
          ],
          "scatter": [
           {
            "fillpattern": {
             "fillmode": "overlay",
             "size": 10,
             "solidity": 0.2
            },
            "type": "scatter"
           }
          ],
          "scatter3d": [
           {
            "line": {
             "colorbar": {
              "outlinewidth": 0,
              "tickcolor": "rgb(36,36,36)",
              "ticklen": 8,
              "ticks": "outside",
              "tickwidth": 2
             }
            },
            "marker": {
             "colorbar": {
              "outlinewidth": 0,
              "tickcolor": "rgb(36,36,36)",
              "ticklen": 8,
              "ticks": "outside",
              "tickwidth": 2
             }
            },
            "type": "scatter3d"
           }
          ],
          "scattercarpet": [
           {
            "marker": {
             "colorbar": {
              "outlinewidth": 0,
              "tickcolor": "rgb(36,36,36)",
              "ticklen": 8,
              "ticks": "outside",
              "tickwidth": 2
             }
            },
            "type": "scattercarpet"
           }
          ],
          "scattergeo": [
           {
            "marker": {
             "colorbar": {
              "outlinewidth": 0,
              "tickcolor": "rgb(36,36,36)",
              "ticklen": 8,
              "ticks": "outside",
              "tickwidth": 2
             }
            },
            "type": "scattergeo"
           }
          ],
          "scattergl": [
           {
            "marker": {
             "colorbar": {
              "outlinewidth": 0,
              "tickcolor": "rgb(36,36,36)",
              "ticklen": 8,
              "ticks": "outside",
              "tickwidth": 2
             }
            },
            "type": "scattergl"
           }
          ],
          "scattermapbox": [
           {
            "marker": {
             "colorbar": {
              "outlinewidth": 0,
              "tickcolor": "rgb(36,36,36)",
              "ticklen": 8,
              "ticks": "outside",
              "tickwidth": 2
             }
            },
            "type": "scattermapbox"
           }
          ],
          "scatterpolar": [
           {
            "marker": {
             "colorbar": {
              "outlinewidth": 0,
              "tickcolor": "rgb(36,36,36)",
              "ticklen": 8,
              "ticks": "outside",
              "tickwidth": 2
             }
            },
            "type": "scatterpolar"
           }
          ],
          "scatterpolargl": [
           {
            "marker": {
             "colorbar": {
              "outlinewidth": 0,
              "tickcolor": "rgb(36,36,36)",
              "ticklen": 8,
              "ticks": "outside",
              "tickwidth": 2
             }
            },
            "type": "scatterpolargl"
           }
          ],
          "scatterternary": [
           {
            "marker": {
             "colorbar": {
              "outlinewidth": 0,
              "tickcolor": "rgb(36,36,36)",
              "ticklen": 8,
              "ticks": "outside",
              "tickwidth": 2
             }
            },
            "type": "scatterternary"
           }
          ],
          "surface": [
           {
            "colorbar": {
             "outlinewidth": 0,
             "tickcolor": "rgb(36,36,36)",
             "ticklen": 8,
             "ticks": "outside",
             "tickwidth": 2
            },
            "colorscale": [
             [
              0,
              "rgb(2,4,25)"
             ],
             [
              0.06274509803921569,
              "rgb(24,15,41)"
             ],
             [
              0.12549019607843137,
              "rgb(47,23,57)"
             ],
             [
              0.18823529411764706,
              "rgb(71,28,72)"
             ],
             [
              0.25098039215686274,
              "rgb(97,30,82)"
             ],
             [
              0.3137254901960784,
              "rgb(123,30,89)"
             ],
             [
              0.3764705882352941,
              "rgb(150,27,91)"
             ],
             [
              0.4392156862745098,
              "rgb(177,22,88)"
             ],
             [
              0.5019607843137255,
              "rgb(203,26,79)"
             ],
             [
              0.5647058823529412,
              "rgb(223,47,67)"
             ],
             [
              0.6274509803921569,
              "rgb(236,76,61)"
             ],
             [
              0.6901960784313725,
              "rgb(242,107,73)"
             ],
             [
              0.7529411764705882,
              "rgb(244,135,95)"
             ],
             [
              0.8156862745098039,
              "rgb(245,162,122)"
             ],
             [
              0.8784313725490196,
              "rgb(246,188,153)"
             ],
             [
              0.9411764705882353,
              "rgb(247,212,187)"
             ],
             [
              1,
              "rgb(250,234,220)"
             ]
            ],
            "type": "surface"
           }
          ],
          "table": [
           {
            "cells": {
             "fill": {
              "color": "rgb(231,231,240)"
             },
             "line": {
              "color": "white"
             }
            },
            "header": {
             "fill": {
              "color": "rgb(183,183,191)"
             },
             "line": {
              "color": "white"
             }
            },
            "type": "table"
           }
          ]
         },
         "layout": {
          "annotationdefaults": {
           "arrowcolor": "rgb(67,103,167)"
          },
          "autotypenumbers": "strict",
          "coloraxis": {
           "colorbar": {
            "outlinewidth": 0,
            "tickcolor": "rgb(36,36,36)",
            "ticklen": 8,
            "ticks": "outside",
            "tickwidth": 2
           }
          },
          "colorscale": {
           "sequential": [
            [
             0,
             "rgb(2,4,25)"
            ],
            [
             0.06274509803921569,
             "rgb(24,15,41)"
            ],
            [
             0.12549019607843137,
             "rgb(47,23,57)"
            ],
            [
             0.18823529411764706,
             "rgb(71,28,72)"
            ],
            [
             0.25098039215686274,
             "rgb(97,30,82)"
            ],
            [
             0.3137254901960784,
             "rgb(123,30,89)"
            ],
            [
             0.3764705882352941,
             "rgb(150,27,91)"
            ],
            [
             0.4392156862745098,
             "rgb(177,22,88)"
            ],
            [
             0.5019607843137255,
             "rgb(203,26,79)"
            ],
            [
             0.5647058823529412,
             "rgb(223,47,67)"
            ],
            [
             0.6274509803921569,
             "rgb(236,76,61)"
            ],
            [
             0.6901960784313725,
             "rgb(242,107,73)"
            ],
            [
             0.7529411764705882,
             "rgb(244,135,95)"
            ],
            [
             0.8156862745098039,
             "rgb(245,162,122)"
            ],
            [
             0.8784313725490196,
             "rgb(246,188,153)"
            ],
            [
             0.9411764705882353,
             "rgb(247,212,187)"
            ],
            [
             1,
             "rgb(250,234,220)"
            ]
           ],
           "sequentialminus": [
            [
             0,
             "rgb(2,4,25)"
            ],
            [
             0.06274509803921569,
             "rgb(24,15,41)"
            ],
            [
             0.12549019607843137,
             "rgb(47,23,57)"
            ],
            [
             0.18823529411764706,
             "rgb(71,28,72)"
            ],
            [
             0.25098039215686274,
             "rgb(97,30,82)"
            ],
            [
             0.3137254901960784,
             "rgb(123,30,89)"
            ],
            [
             0.3764705882352941,
             "rgb(150,27,91)"
            ],
            [
             0.4392156862745098,
             "rgb(177,22,88)"
            ],
            [
             0.5019607843137255,
             "rgb(203,26,79)"
            ],
            [
             0.5647058823529412,
             "rgb(223,47,67)"
            ],
            [
             0.6274509803921569,
             "rgb(236,76,61)"
            ],
            [
             0.6901960784313725,
             "rgb(242,107,73)"
            ],
            [
             0.7529411764705882,
             "rgb(244,135,95)"
            ],
            [
             0.8156862745098039,
             "rgb(245,162,122)"
            ],
            [
             0.8784313725490196,
             "rgb(246,188,153)"
            ],
            [
             0.9411764705882353,
             "rgb(247,212,187)"
            ],
            [
             1,
             "rgb(250,234,220)"
            ]
           ]
          },
          "colorway": [
           "rgb(76,114,176)",
           "rgb(221,132,82)",
           "rgb(85,168,104)",
           "rgb(196,78,82)",
           "rgb(129,114,179)",
           "rgb(147,120,96)",
           "rgb(218,139,195)",
           "rgb(140,140,140)",
           "rgb(204,185,116)",
           "rgb(100,181,205)"
          ],
          "font": {
           "color": "rgb(36,36,36)"
          },
          "geo": {
           "bgcolor": "white",
           "lakecolor": "white",
           "landcolor": "rgb(234,234,242)",
           "showlakes": true,
           "showland": true,
           "subunitcolor": "white"
          },
          "hoverlabel": {
           "align": "left"
          },
          "hovermode": "closest",
          "paper_bgcolor": "white",
          "plot_bgcolor": "rgb(234,234,242)",
          "polar": {
           "angularaxis": {
            "gridcolor": "white",
            "linecolor": "white",
            "showgrid": true,
            "ticks": ""
           },
           "bgcolor": "rgb(234,234,242)",
           "radialaxis": {
            "gridcolor": "white",
            "linecolor": "white",
            "showgrid": true,
            "ticks": ""
           }
          },
          "scene": {
           "xaxis": {
            "backgroundcolor": "rgb(234,234,242)",
            "gridcolor": "white",
            "gridwidth": 2,
            "linecolor": "white",
            "showbackground": true,
            "showgrid": true,
            "ticks": "",
            "zerolinecolor": "white"
           },
           "yaxis": {
            "backgroundcolor": "rgb(234,234,242)",
            "gridcolor": "white",
            "gridwidth": 2,
            "linecolor": "white",
            "showbackground": true,
            "showgrid": true,
            "ticks": "",
            "zerolinecolor": "white"
           },
           "zaxis": {
            "backgroundcolor": "rgb(234,234,242)",
            "gridcolor": "white",
            "gridwidth": 2,
            "linecolor": "white",
            "showbackground": true,
            "showgrid": true,
            "ticks": "",
            "zerolinecolor": "white"
           }
          },
          "shapedefaults": {
           "fillcolor": "rgb(67,103,167)",
           "line": {
            "width": 0
           },
           "opacity": 0.5
          },
          "ternary": {
           "aaxis": {
            "gridcolor": "white",
            "linecolor": "white",
            "showgrid": true,
            "ticks": ""
           },
           "baxis": {
            "gridcolor": "white",
            "linecolor": "white",
            "showgrid": true,
            "ticks": ""
           },
           "bgcolor": "rgb(234,234,242)",
           "caxis": {
            "gridcolor": "white",
            "linecolor": "white",
            "showgrid": true,
            "ticks": ""
           }
          },
          "xaxis": {
           "automargin": true,
           "gridcolor": "white",
           "linecolor": "white",
           "showgrid": true,
           "ticks": "",
           "title": {
            "standoff": 15
           },
           "zerolinecolor": "white"
          },
          "yaxis": {
           "automargin": true,
           "gridcolor": "white",
           "linecolor": "white",
           "showgrid": true,
           "ticks": "",
           "title": {
            "standoff": 15
           },
           "zerolinecolor": "white"
          }
         }
        }
       }
      }
     },
     "metadata": {},
     "output_type": "display_data"
    }
   ],
   "source": [
    "import plotly.express as px\n",
    "\n",
    "fig = px.treemap(df, path=[\n",
    "    px.Constant('Schlüsselkompetenzen Zertifikat \"Digital Humanities\"'),\n",
    "    # 'Modul',\n",
    "    'Bereich',\n",
    "    'Unterbereich',\n",
    "    'AS'\n",
    "    ],\n",
    "    values='Prio_',\n",
    "    # hover_data=['Zeitaufwand'],\n",
    "    # marker_colors = RUB_colors\n",
    "    # color='Zertifikatsbereich'\n",
    ")\n",
    "fig.update_traces(marker=dict(cornerradius=5))\n",
    "fig.update_layout(margin=dict(t=25, l=25, r=25, b=25))\n",
    "fig.update_traces(hovertemplate='%{label}')\n",
    "fig.update_layout(\n",
    "    template='seaborn',\n",
    "    font=dict(\n",
    "        # family=\"Courier New, monospace\",\n",
    "        size=15,  # Set the font size here\n",
    "        # color=\"RebeccaPurple\"\n",
    "    )\n",
    ")\n",
    "fig.show()\n",
    "fig.write_html(\"AS_Bereiche.html\",  include_plotlyjs='cdn')"
   ]
  },
  {
   "cell_type": "markdown",
   "metadata": {},
   "source": [
    "# Mit Modulen & AS"
   ]
  },
  {
   "cell_type": "code",
   "execution_count": 11,
   "metadata": {},
   "outputs": [
    {
     "data": {
      "application/vnd.plotly.v1+json": {
       "config": {
        "plotlyServerURL": "https://plot.ly"
       },
       "data": [
        {
         "branchvalues": "total",
         "domain": {
          "x": [
           0,
           1
          ],
          "y": [
           0,
           1
          ]
         },
         "hovertemplate": "%{label}",
         "ids": [
          "Schlüsselkompetenzen Zertifikat \"Digital Humanities\"/Methodenmodul/Programmieren für DH/Python Grundlagen/(DH) Code verstehen<br>und anpassen",
          "Schlüsselkompetenzen Zertifikat \"Digital Humanities\"/Methodenmodul/DH Methoden & Tools/KI/(Python-)Beispielprojekt<br>zum Ausprobieren<br>und Anpassen",
          "Schlüsselkompetenzen Zertifikat \"Digital Humanities\"/Praxismodul/DH Projekt/Projekt/Anwendung der Kenntnisse<br>in einem selbstständigen<br>(Datenanalyse-)projekt",
          "Schlüsselkompetenzen Zertifikat \"Digital Humanities\"/Methodenmodul/DH Methoden & Tools/Nicht-Text-Daten/Audio (Bearbeiten,<br>Konvertieren, etc.)",
          "Schlüsselkompetenzen Zertifikat \"Digital Humanities\"/Methodenmodul/DH Methoden & Tools/Nicht-Text-Daten/Audio Signal Processing",
          "Schlüsselkompetenzen Zertifikat \"Digital Humanities\"/Methodenmodul/Umgang mit dem PC/PC Fortgeschritten/Aufbau/Administration<br>von Client-Server-Architektur",
          "Schlüsselkompetenzen Zertifikat \"Digital Humanities\"/Basismodul/DH Grundlagen/Einführung DH/Begriffsdefinition<br>DH",
          "Schlüsselkompetenzen Zertifikat \"Digital Humanities\"/Basismodul/DH Grundlagen/Einführung DH/Beispiele Fragestellungen<br>- Fächer: Literaturwissenschaft,<br>Editionsphilologie,<br>Linguistik, Geschichte,<br>Kunstgeschichte,<br>Archäologie, Musik,<br>Medienwissenschaft",
          "Schlüsselkompetenzen Zertifikat \"Digital Humanities\"/Basismodul/DH Grundlagen/Einführung DH/Beispiele Tools<br>& Methoden: Digitale<br>Editionen, Digitale<br>Archive, Korpusanalyse,<br>Oral History, GIS,<br>VR, 3D-Design, digitale<br>Filmanalyse",
          "Schlüsselkompetenzen Zertifikat \"Digital Humanities\"/Methodenmodul/DH Methoden & Tools/Nicht-Text-Daten/Bild (Bearbeiten,<br>Konvertieren, etc.)",
          "Schlüsselkompetenzen Zertifikat \"Digital Humanities\"/Methodenmodul/DH Methoden & Tools/Nicht-Text-Daten/Computer Vision",
          "Schlüsselkompetenzen Zertifikat \"Digital Humanities\"/Methodenmodul/Umgang mit dem PC/PC Grundlagen/Computer-Probleme<br>selber lösen (richtig<br>googlen, Tutorials<br>befolgen)",
          "Schlüsselkompetenzen Zertifikat \"Digital Humanities\"/Methodenmodul/Umgang mit dem PC/PC Fortgeschritten/Containerisierung<br>(z.B. Docker)",
          "Schlüsselkompetenzen Zertifikat \"Digital Humanities\"/Basismodul/DH Grundlagen/Einführung DH/DH & Ich (\"Wofür<br>brauche ich persönlich<br>DH-Methoden in meinem<br>Studium?\")",
          "Schlüsselkompetenzen Zertifikat \"Digital Humanities\"/Methodenmodul/Umgang mit dem PC/PC Grundlagen/Dateien - Ordnerstruktur/-hierarchie,<br>Pfade, Benennung,<br>Arten, Umwandeln",
          "Schlüsselkompetenzen Zertifikat \"Digital Humanities\"/Methodenmodul/Programmieren für DH/R/Datenanalyse & Textmining",
          "Schlüsselkompetenzen Zertifikat \"Digital Humanities\"/Praxismodul/DH Projekt/Projekt/Datenanalyse oder<br>Visualisierung",
          "Schlüsselkompetenzen Zertifikat \"Digital Humanities\"/Methodenmodul/Statistik für DH/Statistik Fortgeschritten/Datenanalyse und<br>Machine Learning",
          "Schlüsselkompetenzen Zertifikat \"Digital Humanities\"/Methodenmodul/Programmieren für DH/R/Datenaufbereitung<br>& Umgang mit Fehlermeldungen",
          "Schlüsselkompetenzen Zertifikat \"Digital Humanities\"/Basismodul/DH Grundlagen/Rechtliches/Datenschutz, Copyright,<br>DSGVO (in Bezug<br>auf Webscraping)",
          "Schlüsselkompetenzen Zertifikat \"Digital Humanities\"/Basismodul/DH Grundlagen/Einführung DH/Datenverarbeitung<br>& -organisation:<br>Datenbanken",
          "Schlüsselkompetenzen Zertifikat \"Digital Humanities\"/Basismodul/DH Grundlagen/Einführung DH/Datenverarbeitung<br>& -organisation:<br>Metadaten (Typen<br>& Standards)",
          "Schlüsselkompetenzen Zertifikat \"Digital Humanities\"/Methodenmodul/Programmieren für DH/R/Datenvisualisierung<br>(ggplot)",
          "Schlüsselkompetenzen Zertifikat \"Digital Humanities\"/Methodenmodul/Programmieren für DH/Python Grundlagen/Datenvisualisierung<br>(matplotlib, seaborn,<br>etc.)",
          "Schlüsselkompetenzen Zertifikat \"Digital Humanities\"/Methodenmodul/Statistik für DH/Statistik Fortgeschritten/Design und Implementierung<br>statistischer Modelle",
          "Schlüsselkompetenzen Zertifikat \"Digital Humanities\"/Methodenmodul/DH Methoden & Tools/Digitale Editionen/Digitale Editionen<br>bearbeiten/ Maintenance",
          "Schlüsselkompetenzen Zertifikat \"Digital Humanities\"/Methodenmodul/DH Methoden & Tools/Digitale Editionen/Digitale Editionen<br>erstellen",
          "Schlüsselkompetenzen Zertifikat \"Digital Humanities\"/Methodenmodul/DH Methoden & Tools/Methoden/Digitalisierung:<br>Frameworks (bspw.<br>IIIF)",
          "Schlüsselkompetenzen Zertifikat \"Digital Humanities\"/Basismodul/DH Grundlagen/Einführung DH/Digitalisierung<br>- 3D Digitalisierung,<br>AR, VR (Plastiken,<br>Gebäudemodelle)",
          "Schlüsselkompetenzen Zertifikat \"Digital Humanities\"/Basismodul/DH Grundlagen/Einführung DH/Digitalisierung<br>- Bilder als digitale<br>Daten (Raster &<br>Vektorgrafiken)",
          "Schlüsselkompetenzen Zertifikat \"Digital Humanities\"/Basismodul/DH Grundlagen/Einführung DH/Digitalisierungsverfahren<br>Bild & Text",
          "Schlüsselkompetenzen Zertifikat \"Digital Humanities\"/Methodenmodul/DH Methoden & Tools/Methoden/Erstellung von TEI-Customisations",
          "Schlüsselkompetenzen Zertifikat \"Digital Humanities\"/Basismodul/DH Grundlagen/Rechtliches/Forschungsethik",
          "Schlüsselkompetenzen Zertifikat \"Digital Humanities\"/Methodenmodul/DH Methoden & Tools/Datenbanken/Fortgeschritten:<br>SQL/NoSQL, eXist-db,<br>MongoDB, etc.",
          "Schlüsselkompetenzen Zertifikat \"Digital Humanities\"/Methodenmodul/DH Methoden & Tools/Datenbanken/Fortgeschritten:<br>selbst aufsetzen,<br>bearbeiten, maintainen",
          "Schlüsselkompetenzen Zertifikat \"Digital Humanities\"/Basismodul/DH Grundlagen/Einführung DH/Geschichte der DH",
          "Schlüsselkompetenzen Zertifikat \"Digital Humanities\"/Methodenmodul/DH Methoden & Tools/Methoden/Graphanalyse",
          "Schlüsselkompetenzen Zertifikat \"Digital Humanities\"/Methodenmodul/Statistik für DH/Statistik Grundlagen/Graphische Darstellung<br>(welche Daten, welche<br>Darstellung, Fehler)",
          "Schlüsselkompetenzen Zertifikat \"Digital Humanities\"/Methodenmodul/Programmieren für DH/Python Grundlagen/Grundlagen Programmieren<br>(Kontrollfluss,<br>Schleifen, Grundlagen<br>i/o, Boolsche Logik,<br>etc.)",
          "Schlüsselkompetenzen Zertifikat \"Digital Humanities\"/Methodenmodul/Programmieren für DH/R/Grundlagen R Programmieren",
          "Schlüsselkompetenzen Zertifikat \"Digital Humanities\"/Methodenmodul/DH Methoden & Tools/Datenbanken/Grundlagen: Excel/CSV,<br>SQL, Zugriff auf<br>existierende DBs/API",
          "Schlüsselkompetenzen Zertifikat \"Digital Humanities\"/Methodenmodul/DH Methoden & Tools/Datenbanken/Grundlagen: Verwalten,<br>Zusammenfügen, Analysieren<br>großer Datensätze",
          "Schlüsselkompetenzen Zertifikat \"Digital Humanities\"/Methodenmodul/DH Methoden & Tools/Methoden/Information Retrieval",
          "Schlüsselkompetenzen Zertifikat \"Digital Humanities\"/Methodenmodul/Programmieren für DH/Python Grundlagen/Infrastruktur (IDE,<br>Jupyter Notebooks,<br>Colab/Pages/JupyterHub)",
          "Schlüsselkompetenzen Zertifikat \"Digital Humanities\"/Basismodul/DH Grundlagen/Misc/Internationale Standards<br>in der Auszeichnung<br>von (Meta)daten<br>z.B. METS, MODS,<br>TEI",
          "Schlüsselkompetenzen Zertifikat \"Digital Humanities\"/Methodenmodul/Programmieren für DH/Misc/Java ",
          "Schlüsselkompetenzen Zertifikat \"Digital Humanities\"/Methodenmodul/DH Methoden & Tools/Tools/Kartenerstellung<br>(GIS, ArcGis, etc.)",
          "Schlüsselkompetenzen Zertifikat \"Digital Humanities\"/Methodenmodul/Statistik für DH/Statistik Fortgeschritten/Klassifikation:<br>Beispielcode (z.B.<br>in Python oder R)",
          "Schlüsselkompetenzen Zertifikat \"Digital Humanities\"/Methodenmodul/Statistik für DH/Statistik Fortgeschritten/Klassifikation:<br>KNN, SVM, etc",
          "Schlüsselkompetenzen Zertifikat \"Digital Humanities\"/Methodenmodul/Statistik für DH/Statistik Fortgeschritten/Klassifikation:<br>Naive Bayes",
          "Schlüsselkompetenzen Zertifikat \"Digital Humanities\"/Methodenmodul/DH Methoden & Tools/Methoden/Kollation (Editionsphilologie)",
          "Schlüsselkompetenzen Zertifikat \"Digital Humanities\"/Methodenmodul/Programmieren für DH/Python Grundlagen/Korpusanalytische<br>Verfahren (Webscraping,<br>Tokenisierung, Annotation,<br>Kookkurrenz-, Frequenzanalyse,<br>etc.)",
          "Schlüsselkompetenzen Zertifikat \"Digital Humanities\"/Methodenmodul/Statistik für DH/Statistik Grundlagen/Korrelation & Kausalität",
          "Schlüsselkompetenzen Zertifikat \"Digital Humanities\"/Methodenmodul/Umgang mit dem PC/PC Fortgeschritten/LaTex (Overleaf)",
          "Schlüsselkompetenzen Zertifikat \"Digital Humanities\"/Methodenmodul/DH Methoden & Tools/KI/Maschinelles Lernen:<br>Algorithmen",
          "Schlüsselkompetenzen Zertifikat \"Digital Humanities\"/Methodenmodul/DH Methoden & Tools/KI/Mathematische Grundlagen",
          "Schlüsselkompetenzen Zertifikat \"Digital Humanities\"/Methodenmodul/DH Methoden & Tools/Tools/MaxQDA",
          "Schlüsselkompetenzen Zertifikat \"Digital Humanities\"/Methodenmodul/Programmieren für DH/Python Fortgeschritten/NLTK",
          "Schlüsselkompetenzen Zertifikat \"Digital Humanities\"/Methodenmodul/DH Methoden & Tools/Methoden/Named Entity Recognition",
          "Schlüsselkompetenzen Zertifikat \"Digital Humanities\"/Methodenmodul/DH Methoden & Tools/Methoden/Network Analysis",
          "Schlüsselkompetenzen Zertifikat \"Digital Humanities\"/Methodenmodul/DH Methoden & Tools/Tools/OCR: Tools, Python-Bibliotheken,<br>APIs",
          "Schlüsselkompetenzen Zertifikat \"Digital Humanities\"/Basismodul/DH Grundlagen/Rechtliches/Open Access / Open<br>Research",
          "Schlüsselkompetenzen Zertifikat \"Digital Humanities\"/Methodenmodul/DH Methoden & Tools/Tools/Open Refine",
          "Schlüsselkompetenzen Zertifikat \"Digital Humanities\"/Methodenmodul/Programmieren für DH/Python Grundlagen/Pandas",
          "Schlüsselkompetenzen Zertifikat \"Digital Humanities\"/Praxismodul/DH Projekt/Projekt/Projektorientiertes<br>Lernen: Modellierung,<br>Projektentwurf,<br>Umsetzung und Evaluation",
          "Schlüsselkompetenzen Zertifikat \"Digital Humanities\"/Methodenmodul/Umgang mit dem PC/PC Fortgeschritten/Quellenverwaltung<br>(mit Zotero, etc.)",
          "Schlüsselkompetenzen Zertifikat \"Digital Humanities\"/Methodenmodul/Statistik für DH/Statistik Grundlagen/Schätzer, Konfidenzintervalle<br>& Hypothesentests",
          "Schlüsselkompetenzen Zertifikat \"Digital Humanities\"/Praxismodul/DH Projekt/Projekt/Selbständiges Arbeiten<br>mit Datensätzen",
          "Schlüsselkompetenzen Zertifikat \"Digital Humanities\"/Methodenmodul/Umgang mit dem PC/PC Fortgeschritten/Shell Fortgeschritten:<br>shell scripts, variablen,<br>editor in der shell,<br>remote access/ssh",
          "Schlüsselkompetenzen Zertifikat \"Digital Humanities\"/Methodenmodul/Umgang mit dem PC/PC Grundlagen/Shell Grundlagen:<br>Was ist die Shell?,<br>Unix vs. Windows,<br>simple Befehle",
          "Schlüsselkompetenzen Zertifikat \"Digital Humanities\"/Methodenmodul/Statistik für DH/Statistik Grundlagen/Skalenniveaus",
          "Schlüsselkompetenzen Zertifikat \"Digital Humanities\"/Methodenmodul/Programmieren für DH/Python Fortgeschritten/Sonstige DH-Bibliotheken",
          "Schlüsselkompetenzen Zertifikat \"Digital Humanities\"/Methodenmodul/DH Methoden & Tools/Tools/Sonstige DH-Tools",
          "Schlüsselkompetenzen Zertifikat \"Digital Humanities\"/Methodenmodul/Programmieren für DH/Python Fortgeschritten/Spacy",
          "Schlüsselkompetenzen Zertifikat \"Digital Humanities\"/Methodenmodul/Umgang mit dem PC/PC Grundlagen/Tabellenkalkulation<br>- Excel/Google Sheets",
          "Schlüsselkompetenzen Zertifikat \"Digital Humanities\"/Methodenmodul/DH Methoden & Tools/Tools/Tableau",
          "Schlüsselkompetenzen Zertifikat \"Digital Humanities\"/Methodenmodul/Umgang mit dem PC/PC Grundlagen/Tastaturkürzel &<br>Sonderzeichen",
          "Schlüsselkompetenzen Zertifikat \"Digital Humanities\"/Methodenmodul/Programmieren für DH/Python Grundlagen/Text (String-Methoden/-Funktionen)",
          "Schlüsselkompetenzen Zertifikat \"Digital Humanities\"/Basismodul/DH Grundlagen/Einführung DH/Textdaten - Zeichenkodierung",
          "Schlüsselkompetenzen Zertifikat \"Digital Humanities\"/Basismodul/DH Grundlagen/Einführung DH/Textdaten Grundlagen<br>-  txt, md, csv,<br>tsv, XML, HTML,<br>KML, TEI",
          "Schlüsselkompetenzen Zertifikat \"Digital Humanities\"/Methodenmodul/Programmieren für DH/R/Tidyverse",
          "Schlüsselkompetenzen Zertifikat \"Digital Humanities\"/Methodenmodul/DH Methoden & Tools/Methoden/Topic Modelling",
          "Schlüsselkompetenzen Zertifikat \"Digital Humanities\"/Methodenmodul/DH Methoden & Tools/KI/Transformer-Architektur",
          "Schlüsselkompetenzen Zertifikat \"Digital Humanities\"/Methodenmodul/DH Methoden & Tools/Tools/Trifacta/Alteryx<br>Designer Cloud",
          "Schlüsselkompetenzen Zertifikat \"Digital Humanities\"/Methodenmodul/Umgang mit dem PC/PC Fortgeschritten/UNIX/Linux: Grundlagen,<br>Betriebssystem",
          "Schlüsselkompetenzen Zertifikat \"Digital Humanities\"/Methodenmodul/Programmieren für DH/Misc/UNIX/Linux: Script-Sprachen",
          "Schlüsselkompetenzen Zertifikat \"Digital Humanities\"/Methodenmodul/Umgang mit dem PC/PC Fortgeschritten/UNIX/Linux: Serveradministration",
          "Schlüsselkompetenzen Zertifikat \"Digital Humanities\"/Methodenmodul/DH Methoden & Tools/Methoden/Umgang mit Online-Korpora",
          "Schlüsselkompetenzen Zertifikat \"Digital Humanities\"/Methodenmodul/DH Methoden & Tools/Tools/Umgang mit lokalen<br>Korpustools (Antconc,<br>etc.)",
          "Schlüsselkompetenzen Zertifikat \"Digital Humanities\"/Methodenmodul/Umgang mit dem PC/PC Grundlagen/Versionskontrolle/Datensicherung",
          "Schlüsselkompetenzen Zertifikat \"Digital Humanities\"/Methodenmodul/Umgang mit dem PC/PC Fortgeschritten/Versionskontrolle<br>mit git",
          "Schlüsselkompetenzen Zertifikat \"Digital Humanities\"/Methodenmodul/DH Methoden & Tools/Nicht-Text-Daten/Video & 3D (Bearbeiten,<br>Konvertieren, etc.)",
          "Schlüsselkompetenzen Zertifikat \"Digital Humanities\"/Methodenmodul/Programmieren für DH/Web/Web-Frontend zur<br>Suche und Anzeige<br>von Datenbankinhalten<br>(z.B. Dashbord)",
          "Schlüsselkompetenzen Zertifikat \"Digital Humanities\"/Methodenmodul/Programmieren für DH/Web/Web-Programmierung/<br>-Frameworks (Django,<br>Flask, etc.)",
          "Schlüsselkompetenzen Zertifikat \"Digital Humanities\"/Methodenmodul/Programmieren für DH/Web/Webseiten (HTML,<br>CSS, PHP, JavaScript)",
          "Schlüsselkompetenzen Zertifikat \"Digital Humanities\"/Praxismodul/DH Projekt/Projekt/Wissenskommunikation<br>(Vorgehen & Ergebnisse<br>nachvollziehbar<br>darstellen)",
          "Schlüsselkompetenzen Zertifikat \"Digital Humanities\"/Methodenmodul/DH Methoden & Tools/Tools/Wordsmith",
          "Schlüsselkompetenzen Zertifikat \"Digital Humanities\"/Methodenmodul/DH Methoden & Tools/Methoden/XML-Technologien<br>Fortgeschritten<br>(TEI-XML, Xquery,<br>XSLT, XPATH)",
          "Schlüsselkompetenzen Zertifikat \"Digital Humanities\"/Methodenmodul/DH Methoden & Tools/KI/Überblick (High<br>Level: wie funktioniert<br>KI/ML/Klassifikation/Generation/Bias)",
          "Schlüsselkompetenzen Zertifikat \"Digital Humanities\"/Basismodul/DH Grundlagen/Einführung DH/Überblick Textdatenbanken/Korpora<br>(\"Welche gibt es?\",<br>\"Wie finde ich passende<br>Korpora/Datenbanken?\")",
          "Schlüsselkompetenzen Zertifikat \"Digital Humanities\"/Methodenmodul/DH Methoden & Tools/Datenbanken",
          "Schlüsselkompetenzen Zertifikat \"Digital Humanities\"/Methodenmodul/DH Methoden & Tools/Digitale Editionen",
          "Schlüsselkompetenzen Zertifikat \"Digital Humanities\"/Basismodul/DH Grundlagen/Einführung DH",
          "Schlüsselkompetenzen Zertifikat \"Digital Humanities\"/Methodenmodul/DH Methoden & Tools/KI",
          "Schlüsselkompetenzen Zertifikat \"Digital Humanities\"/Methodenmodul/DH Methoden & Tools/Methoden",
          "Schlüsselkompetenzen Zertifikat \"Digital Humanities\"/Basismodul/DH Grundlagen/Misc",
          "Schlüsselkompetenzen Zertifikat \"Digital Humanities\"/Methodenmodul/Programmieren für DH/Misc",
          "Schlüsselkompetenzen Zertifikat \"Digital Humanities\"/Methodenmodul/DH Methoden & Tools/Nicht-Text-Daten",
          "Schlüsselkompetenzen Zertifikat \"Digital Humanities\"/Methodenmodul/Umgang mit dem PC/PC Fortgeschritten",
          "Schlüsselkompetenzen Zertifikat \"Digital Humanities\"/Methodenmodul/Umgang mit dem PC/PC Grundlagen",
          "Schlüsselkompetenzen Zertifikat \"Digital Humanities\"/Praxismodul/DH Projekt/Projekt",
          "Schlüsselkompetenzen Zertifikat \"Digital Humanities\"/Methodenmodul/Programmieren für DH/Python Fortgeschritten",
          "Schlüsselkompetenzen Zertifikat \"Digital Humanities\"/Methodenmodul/Programmieren für DH/Python Grundlagen",
          "Schlüsselkompetenzen Zertifikat \"Digital Humanities\"/Methodenmodul/Programmieren für DH/R",
          "Schlüsselkompetenzen Zertifikat \"Digital Humanities\"/Basismodul/DH Grundlagen/Rechtliches",
          "Schlüsselkompetenzen Zertifikat \"Digital Humanities\"/Methodenmodul/Statistik für DH/Statistik Fortgeschritten",
          "Schlüsselkompetenzen Zertifikat \"Digital Humanities\"/Methodenmodul/Statistik für DH/Statistik Grundlagen",
          "Schlüsselkompetenzen Zertifikat \"Digital Humanities\"/Methodenmodul/DH Methoden & Tools/Tools",
          "Schlüsselkompetenzen Zertifikat \"Digital Humanities\"/Methodenmodul/Programmieren für DH/Web",
          "Schlüsselkompetenzen Zertifikat \"Digital Humanities\"/Basismodul/DH Grundlagen",
          "Schlüsselkompetenzen Zertifikat \"Digital Humanities\"/Methodenmodul/DH Methoden & Tools",
          "Schlüsselkompetenzen Zertifikat \"Digital Humanities\"/Praxismodul/DH Projekt",
          "Schlüsselkompetenzen Zertifikat \"Digital Humanities\"/Methodenmodul/Programmieren für DH",
          "Schlüsselkompetenzen Zertifikat \"Digital Humanities\"/Methodenmodul/Statistik für DH",
          "Schlüsselkompetenzen Zertifikat \"Digital Humanities\"/Methodenmodul/Umgang mit dem PC",
          "Schlüsselkompetenzen Zertifikat \"Digital Humanities\"/Basismodul",
          "Schlüsselkompetenzen Zertifikat \"Digital Humanities\"/Methodenmodul",
          "Schlüsselkompetenzen Zertifikat \"Digital Humanities\"/Praxismodul",
          "Schlüsselkompetenzen Zertifikat \"Digital Humanities\""
         ],
         "labels": [
          "(DH) Code verstehen<br>und anpassen",
          "(Python-)Beispielprojekt<br>zum Ausprobieren<br>und Anpassen",
          "Anwendung der Kenntnisse<br>in einem selbstständigen<br>(Datenanalyse-)projekt",
          "Audio (Bearbeiten,<br>Konvertieren, etc.)",
          "Audio Signal Processing",
          "Aufbau/Administration<br>von Client-Server-Architektur",
          "Begriffsdefinition<br>DH",
          "Beispiele Fragestellungen<br>- Fächer: Literaturwissenschaft,<br>Editionsphilologie,<br>Linguistik, Geschichte,<br>Kunstgeschichte,<br>Archäologie, Musik,<br>Medienwissenschaft",
          "Beispiele Tools<br>& Methoden: Digitale<br>Editionen, Digitale<br>Archive, Korpusanalyse,<br>Oral History, GIS,<br>VR, 3D-Design, digitale<br>Filmanalyse",
          "Bild (Bearbeiten,<br>Konvertieren, etc.)",
          "Computer Vision",
          "Computer-Probleme<br>selber lösen (richtig<br>googlen, Tutorials<br>befolgen)",
          "Containerisierung<br>(z.B. Docker)",
          "DH & Ich (\"Wofür<br>brauche ich persönlich<br>DH-Methoden in meinem<br>Studium?\")",
          "Dateien - Ordnerstruktur/-hierarchie,<br>Pfade, Benennung,<br>Arten, Umwandeln",
          "Datenanalyse & Textmining",
          "Datenanalyse oder<br>Visualisierung",
          "Datenanalyse und<br>Machine Learning",
          "Datenaufbereitung<br>& Umgang mit Fehlermeldungen",
          "Datenschutz, Copyright,<br>DSGVO (in Bezug<br>auf Webscraping)",
          "Datenverarbeitung<br>& -organisation:<br>Datenbanken",
          "Datenverarbeitung<br>& -organisation:<br>Metadaten (Typen<br>& Standards)",
          "Datenvisualisierung<br>(ggplot)",
          "Datenvisualisierung<br>(matplotlib, seaborn,<br>etc.)",
          "Design und Implementierung<br>statistischer Modelle",
          "Digitale Editionen<br>bearbeiten/ Maintenance",
          "Digitale Editionen<br>erstellen",
          "Digitalisierung:<br>Frameworks (bspw.<br>IIIF)",
          "Digitalisierung<br>- 3D Digitalisierung,<br>AR, VR (Plastiken,<br>Gebäudemodelle)",
          "Digitalisierung<br>- Bilder als digitale<br>Daten (Raster &<br>Vektorgrafiken)",
          "Digitalisierungsverfahren<br>Bild & Text",
          "Erstellung von TEI-Customisations",
          "Forschungsethik",
          "Fortgeschritten:<br>SQL/NoSQL, eXist-db,<br>MongoDB, etc.",
          "Fortgeschritten:<br>selbst aufsetzen,<br>bearbeiten, maintainen",
          "Geschichte der DH",
          "Graphanalyse",
          "Graphische Darstellung<br>(welche Daten, welche<br>Darstellung, Fehler)",
          "Grundlagen Programmieren<br>(Kontrollfluss,<br>Schleifen, Grundlagen<br>i/o, Boolsche Logik,<br>etc.)",
          "Grundlagen R Programmieren",
          "Grundlagen: Excel/CSV,<br>SQL, Zugriff auf<br>existierende DBs/API",
          "Grundlagen: Verwalten,<br>Zusammenfügen, Analysieren<br>großer Datensätze",
          "Information Retrieval",
          "Infrastruktur (IDE,<br>Jupyter Notebooks,<br>Colab/Pages/JupyterHub)",
          "Internationale Standards<br>in der Auszeichnung<br>von (Meta)daten<br>z.B. METS, MODS,<br>TEI",
          "Java ",
          "Kartenerstellung<br>(GIS, ArcGis, etc.)",
          "Klassifikation:<br>Beispielcode (z.B.<br>in Python oder R)",
          "Klassifikation:<br>KNN, SVM, etc",
          "Klassifikation:<br>Naive Bayes",
          "Kollation (Editionsphilologie)",
          "Korpusanalytische<br>Verfahren (Webscraping,<br>Tokenisierung, Annotation,<br>Kookkurrenz-, Frequenzanalyse,<br>etc.)",
          "Korrelation & Kausalität",
          "LaTex (Overleaf)",
          "Maschinelles Lernen:<br>Algorithmen",
          "Mathematische Grundlagen",
          "MaxQDA",
          "NLTK",
          "Named Entity Recognition",
          "Network Analysis",
          "OCR: Tools, Python-Bibliotheken,<br>APIs",
          "Open Access / Open<br>Research",
          "Open Refine",
          "Pandas",
          "Projektorientiertes<br>Lernen: Modellierung,<br>Projektentwurf,<br>Umsetzung und Evaluation",
          "Quellenverwaltung<br>(mit Zotero, etc.)",
          "Schätzer, Konfidenzintervalle<br>& Hypothesentests",
          "Selbständiges Arbeiten<br>mit Datensätzen",
          "Shell Fortgeschritten:<br>shell scripts, variablen,<br>editor in der shell,<br>remote access/ssh",
          "Shell Grundlagen:<br>Was ist die Shell?,<br>Unix vs. Windows,<br>simple Befehle",
          "Skalenniveaus",
          "Sonstige DH-Bibliotheken",
          "Sonstige DH-Tools",
          "Spacy",
          "Tabellenkalkulation<br>- Excel/Google Sheets",
          "Tableau",
          "Tastaturkürzel &<br>Sonderzeichen",
          "Text (String-Methoden/-Funktionen)",
          "Textdaten - Zeichenkodierung",
          "Textdaten Grundlagen<br>-  txt, md, csv,<br>tsv, XML, HTML,<br>KML, TEI",
          "Tidyverse",
          "Topic Modelling",
          "Transformer-Architektur",
          "Trifacta/Alteryx<br>Designer Cloud",
          "UNIX/Linux: Grundlagen,<br>Betriebssystem",
          "UNIX/Linux: Script-Sprachen",
          "UNIX/Linux: Serveradministration",
          "Umgang mit Online-Korpora",
          "Umgang mit lokalen<br>Korpustools (Antconc,<br>etc.)",
          "Versionskontrolle/Datensicherung",
          "Versionskontrolle<br>mit git",
          "Video & 3D (Bearbeiten,<br>Konvertieren, etc.)",
          "Web-Frontend zur<br>Suche und Anzeige<br>von Datenbankinhalten<br>(z.B. Dashbord)",
          "Web-Programmierung/<br>-Frameworks (Django,<br>Flask, etc.)",
          "Webseiten (HTML,<br>CSS, PHP, JavaScript)",
          "Wissenskommunikation<br>(Vorgehen & Ergebnisse<br>nachvollziehbar<br>darstellen)",
          "Wordsmith",
          "XML-Technologien<br>Fortgeschritten<br>(TEI-XML, Xquery,<br>XSLT, XPATH)",
          "Überblick (High<br>Level: wie funktioniert<br>KI/ML/Klassifikation/Generation/Bias)",
          "Überblick Textdatenbanken/Korpora<br>(\"Welche gibt es?\",<br>\"Wie finde ich passende<br>Korpora/Datenbanken?\")",
          "Datenbanken",
          "Digitale Editionen",
          "Einführung DH",
          "KI",
          "Methoden",
          "Misc",
          "Misc",
          "Nicht-Text-Daten",
          "PC Fortgeschritten",
          "PC Grundlagen",
          "Projekt",
          "Python Fortgeschritten",
          "Python Grundlagen",
          "R",
          "Rechtliches",
          "Statistik Fortgeschritten",
          "Statistik Grundlagen",
          "Tools",
          "Web",
          "DH Grundlagen",
          "DH Methoden & Tools",
          "DH Projekt",
          "Programmieren für DH",
          "Statistik für DH",
          "Umgang mit dem PC",
          "Basismodul",
          "Methodenmodul",
          "Praxismodul",
          "Schlüsselkompetenzen Zertifikat \"Digital Humanities\""
         ],
         "marker": {
          "cornerradius": 5
         },
         "name": "",
         "parents": [
          "Schlüsselkompetenzen Zertifikat \"Digital Humanities\"/Methodenmodul/Programmieren für DH/Python Grundlagen",
          "Schlüsselkompetenzen Zertifikat \"Digital Humanities\"/Methodenmodul/DH Methoden & Tools/KI",
          "Schlüsselkompetenzen Zertifikat \"Digital Humanities\"/Praxismodul/DH Projekt/Projekt",
          "Schlüsselkompetenzen Zertifikat \"Digital Humanities\"/Methodenmodul/DH Methoden & Tools/Nicht-Text-Daten",
          "Schlüsselkompetenzen Zertifikat \"Digital Humanities\"/Methodenmodul/DH Methoden & Tools/Nicht-Text-Daten",
          "Schlüsselkompetenzen Zertifikat \"Digital Humanities\"/Methodenmodul/Umgang mit dem PC/PC Fortgeschritten",
          "Schlüsselkompetenzen Zertifikat \"Digital Humanities\"/Basismodul/DH Grundlagen/Einführung DH",
          "Schlüsselkompetenzen Zertifikat \"Digital Humanities\"/Basismodul/DH Grundlagen/Einführung DH",
          "Schlüsselkompetenzen Zertifikat \"Digital Humanities\"/Basismodul/DH Grundlagen/Einführung DH",
          "Schlüsselkompetenzen Zertifikat \"Digital Humanities\"/Methodenmodul/DH Methoden & Tools/Nicht-Text-Daten",
          "Schlüsselkompetenzen Zertifikat \"Digital Humanities\"/Methodenmodul/DH Methoden & Tools/Nicht-Text-Daten",
          "Schlüsselkompetenzen Zertifikat \"Digital Humanities\"/Methodenmodul/Umgang mit dem PC/PC Grundlagen",
          "Schlüsselkompetenzen Zertifikat \"Digital Humanities\"/Methodenmodul/Umgang mit dem PC/PC Fortgeschritten",
          "Schlüsselkompetenzen Zertifikat \"Digital Humanities\"/Basismodul/DH Grundlagen/Einführung DH",
          "Schlüsselkompetenzen Zertifikat \"Digital Humanities\"/Methodenmodul/Umgang mit dem PC/PC Grundlagen",
          "Schlüsselkompetenzen Zertifikat \"Digital Humanities\"/Methodenmodul/Programmieren für DH/R",
          "Schlüsselkompetenzen Zertifikat \"Digital Humanities\"/Praxismodul/DH Projekt/Projekt",
          "Schlüsselkompetenzen Zertifikat \"Digital Humanities\"/Methodenmodul/Statistik für DH/Statistik Fortgeschritten",
          "Schlüsselkompetenzen Zertifikat \"Digital Humanities\"/Methodenmodul/Programmieren für DH/R",
          "Schlüsselkompetenzen Zertifikat \"Digital Humanities\"/Basismodul/DH Grundlagen/Rechtliches",
          "Schlüsselkompetenzen Zertifikat \"Digital Humanities\"/Basismodul/DH Grundlagen/Einführung DH",
          "Schlüsselkompetenzen Zertifikat \"Digital Humanities\"/Basismodul/DH Grundlagen/Einführung DH",
          "Schlüsselkompetenzen Zertifikat \"Digital Humanities\"/Methodenmodul/Programmieren für DH/R",
          "Schlüsselkompetenzen Zertifikat \"Digital Humanities\"/Methodenmodul/Programmieren für DH/Python Grundlagen",
          "Schlüsselkompetenzen Zertifikat \"Digital Humanities\"/Methodenmodul/Statistik für DH/Statistik Fortgeschritten",
          "Schlüsselkompetenzen Zertifikat \"Digital Humanities\"/Methodenmodul/DH Methoden & Tools/Digitale Editionen",
          "Schlüsselkompetenzen Zertifikat \"Digital Humanities\"/Methodenmodul/DH Methoden & Tools/Digitale Editionen",
          "Schlüsselkompetenzen Zertifikat \"Digital Humanities\"/Methodenmodul/DH Methoden & Tools/Methoden",
          "Schlüsselkompetenzen Zertifikat \"Digital Humanities\"/Basismodul/DH Grundlagen/Einführung DH",
          "Schlüsselkompetenzen Zertifikat \"Digital Humanities\"/Basismodul/DH Grundlagen/Einführung DH",
          "Schlüsselkompetenzen Zertifikat \"Digital Humanities\"/Basismodul/DH Grundlagen/Einführung DH",
          "Schlüsselkompetenzen Zertifikat \"Digital Humanities\"/Methodenmodul/DH Methoden & Tools/Methoden",
          "Schlüsselkompetenzen Zertifikat \"Digital Humanities\"/Basismodul/DH Grundlagen/Rechtliches",
          "Schlüsselkompetenzen Zertifikat \"Digital Humanities\"/Methodenmodul/DH Methoden & Tools/Datenbanken",
          "Schlüsselkompetenzen Zertifikat \"Digital Humanities\"/Methodenmodul/DH Methoden & Tools/Datenbanken",
          "Schlüsselkompetenzen Zertifikat \"Digital Humanities\"/Basismodul/DH Grundlagen/Einführung DH",
          "Schlüsselkompetenzen Zertifikat \"Digital Humanities\"/Methodenmodul/DH Methoden & Tools/Methoden",
          "Schlüsselkompetenzen Zertifikat \"Digital Humanities\"/Methodenmodul/Statistik für DH/Statistik Grundlagen",
          "Schlüsselkompetenzen Zertifikat \"Digital Humanities\"/Methodenmodul/Programmieren für DH/Python Grundlagen",
          "Schlüsselkompetenzen Zertifikat \"Digital Humanities\"/Methodenmodul/Programmieren für DH/R",
          "Schlüsselkompetenzen Zertifikat \"Digital Humanities\"/Methodenmodul/DH Methoden & Tools/Datenbanken",
          "Schlüsselkompetenzen Zertifikat \"Digital Humanities\"/Methodenmodul/DH Methoden & Tools/Datenbanken",
          "Schlüsselkompetenzen Zertifikat \"Digital Humanities\"/Methodenmodul/DH Methoden & Tools/Methoden",
          "Schlüsselkompetenzen Zertifikat \"Digital Humanities\"/Methodenmodul/Programmieren für DH/Python Grundlagen",
          "Schlüsselkompetenzen Zertifikat \"Digital Humanities\"/Basismodul/DH Grundlagen/Misc",
          "Schlüsselkompetenzen Zertifikat \"Digital Humanities\"/Methodenmodul/Programmieren für DH/Misc",
          "Schlüsselkompetenzen Zertifikat \"Digital Humanities\"/Methodenmodul/DH Methoden & Tools/Tools",
          "Schlüsselkompetenzen Zertifikat \"Digital Humanities\"/Methodenmodul/Statistik für DH/Statistik Fortgeschritten",
          "Schlüsselkompetenzen Zertifikat \"Digital Humanities\"/Methodenmodul/Statistik für DH/Statistik Fortgeschritten",
          "Schlüsselkompetenzen Zertifikat \"Digital Humanities\"/Methodenmodul/Statistik für DH/Statistik Fortgeschritten",
          "Schlüsselkompetenzen Zertifikat \"Digital Humanities\"/Methodenmodul/DH Methoden & Tools/Methoden",
          "Schlüsselkompetenzen Zertifikat \"Digital Humanities\"/Methodenmodul/Programmieren für DH/Python Grundlagen",
          "Schlüsselkompetenzen Zertifikat \"Digital Humanities\"/Methodenmodul/Statistik für DH/Statistik Grundlagen",
          "Schlüsselkompetenzen Zertifikat \"Digital Humanities\"/Methodenmodul/Umgang mit dem PC/PC Fortgeschritten",
          "Schlüsselkompetenzen Zertifikat \"Digital Humanities\"/Methodenmodul/DH Methoden & Tools/KI",
          "Schlüsselkompetenzen Zertifikat \"Digital Humanities\"/Methodenmodul/DH Methoden & Tools/KI",
          "Schlüsselkompetenzen Zertifikat \"Digital Humanities\"/Methodenmodul/DH Methoden & Tools/Tools",
          "Schlüsselkompetenzen Zertifikat \"Digital Humanities\"/Methodenmodul/Programmieren für DH/Python Fortgeschritten",
          "Schlüsselkompetenzen Zertifikat \"Digital Humanities\"/Methodenmodul/DH Methoden & Tools/Methoden",
          "Schlüsselkompetenzen Zertifikat \"Digital Humanities\"/Methodenmodul/DH Methoden & Tools/Methoden",
          "Schlüsselkompetenzen Zertifikat \"Digital Humanities\"/Methodenmodul/DH Methoden & Tools/Tools",
          "Schlüsselkompetenzen Zertifikat \"Digital Humanities\"/Basismodul/DH Grundlagen/Rechtliches",
          "Schlüsselkompetenzen Zertifikat \"Digital Humanities\"/Methodenmodul/DH Methoden & Tools/Tools",
          "Schlüsselkompetenzen Zertifikat \"Digital Humanities\"/Methodenmodul/Programmieren für DH/Python Grundlagen",
          "Schlüsselkompetenzen Zertifikat \"Digital Humanities\"/Praxismodul/DH Projekt/Projekt",
          "Schlüsselkompetenzen Zertifikat \"Digital Humanities\"/Methodenmodul/Umgang mit dem PC/PC Fortgeschritten",
          "Schlüsselkompetenzen Zertifikat \"Digital Humanities\"/Methodenmodul/Statistik für DH/Statistik Grundlagen",
          "Schlüsselkompetenzen Zertifikat \"Digital Humanities\"/Praxismodul/DH Projekt/Projekt",
          "Schlüsselkompetenzen Zertifikat \"Digital Humanities\"/Methodenmodul/Umgang mit dem PC/PC Fortgeschritten",
          "Schlüsselkompetenzen Zertifikat \"Digital Humanities\"/Methodenmodul/Umgang mit dem PC/PC Grundlagen",
          "Schlüsselkompetenzen Zertifikat \"Digital Humanities\"/Methodenmodul/Statistik für DH/Statistik Grundlagen",
          "Schlüsselkompetenzen Zertifikat \"Digital Humanities\"/Methodenmodul/Programmieren für DH/Python Fortgeschritten",
          "Schlüsselkompetenzen Zertifikat \"Digital Humanities\"/Methodenmodul/DH Methoden & Tools/Tools",
          "Schlüsselkompetenzen Zertifikat \"Digital Humanities\"/Methodenmodul/Programmieren für DH/Python Fortgeschritten",
          "Schlüsselkompetenzen Zertifikat \"Digital Humanities\"/Methodenmodul/Umgang mit dem PC/PC Grundlagen",
          "Schlüsselkompetenzen Zertifikat \"Digital Humanities\"/Methodenmodul/DH Methoden & Tools/Tools",
          "Schlüsselkompetenzen Zertifikat \"Digital Humanities\"/Methodenmodul/Umgang mit dem PC/PC Grundlagen",
          "Schlüsselkompetenzen Zertifikat \"Digital Humanities\"/Methodenmodul/Programmieren für DH/Python Grundlagen",
          "Schlüsselkompetenzen Zertifikat \"Digital Humanities\"/Basismodul/DH Grundlagen/Einführung DH",
          "Schlüsselkompetenzen Zertifikat \"Digital Humanities\"/Basismodul/DH Grundlagen/Einführung DH",
          "Schlüsselkompetenzen Zertifikat \"Digital Humanities\"/Methodenmodul/Programmieren für DH/R",
          "Schlüsselkompetenzen Zertifikat \"Digital Humanities\"/Methodenmodul/DH Methoden & Tools/Methoden",
          "Schlüsselkompetenzen Zertifikat \"Digital Humanities\"/Methodenmodul/DH Methoden & Tools/KI",
          "Schlüsselkompetenzen Zertifikat \"Digital Humanities\"/Methodenmodul/DH Methoden & Tools/Tools",
          "Schlüsselkompetenzen Zertifikat \"Digital Humanities\"/Methodenmodul/Umgang mit dem PC/PC Fortgeschritten",
          "Schlüsselkompetenzen Zertifikat \"Digital Humanities\"/Methodenmodul/Programmieren für DH/Misc",
          "Schlüsselkompetenzen Zertifikat \"Digital Humanities\"/Methodenmodul/Umgang mit dem PC/PC Fortgeschritten",
          "Schlüsselkompetenzen Zertifikat \"Digital Humanities\"/Methodenmodul/DH Methoden & Tools/Methoden",
          "Schlüsselkompetenzen Zertifikat \"Digital Humanities\"/Methodenmodul/DH Methoden & Tools/Tools",
          "Schlüsselkompetenzen Zertifikat \"Digital Humanities\"/Methodenmodul/Umgang mit dem PC/PC Grundlagen",
          "Schlüsselkompetenzen Zertifikat \"Digital Humanities\"/Methodenmodul/Umgang mit dem PC/PC Fortgeschritten",
          "Schlüsselkompetenzen Zertifikat \"Digital Humanities\"/Methodenmodul/DH Methoden & Tools/Nicht-Text-Daten",
          "Schlüsselkompetenzen Zertifikat \"Digital Humanities\"/Methodenmodul/Programmieren für DH/Web",
          "Schlüsselkompetenzen Zertifikat \"Digital Humanities\"/Methodenmodul/Programmieren für DH/Web",
          "Schlüsselkompetenzen Zertifikat \"Digital Humanities\"/Methodenmodul/Programmieren für DH/Web",
          "Schlüsselkompetenzen Zertifikat \"Digital Humanities\"/Praxismodul/DH Projekt/Projekt",
          "Schlüsselkompetenzen Zertifikat \"Digital Humanities\"/Methodenmodul/DH Methoden & Tools/Tools",
          "Schlüsselkompetenzen Zertifikat \"Digital Humanities\"/Methodenmodul/DH Methoden & Tools/Methoden",
          "Schlüsselkompetenzen Zertifikat \"Digital Humanities\"/Methodenmodul/DH Methoden & Tools/KI",
          "Schlüsselkompetenzen Zertifikat \"Digital Humanities\"/Basismodul/DH Grundlagen/Einführung DH",
          "Schlüsselkompetenzen Zertifikat \"Digital Humanities\"/Methodenmodul/DH Methoden & Tools",
          "Schlüsselkompetenzen Zertifikat \"Digital Humanities\"/Methodenmodul/DH Methoden & Tools",
          "Schlüsselkompetenzen Zertifikat \"Digital Humanities\"/Basismodul/DH Grundlagen",
          "Schlüsselkompetenzen Zertifikat \"Digital Humanities\"/Methodenmodul/DH Methoden & Tools",
          "Schlüsselkompetenzen Zertifikat \"Digital Humanities\"/Methodenmodul/DH Methoden & Tools",
          "Schlüsselkompetenzen Zertifikat \"Digital Humanities\"/Basismodul/DH Grundlagen",
          "Schlüsselkompetenzen Zertifikat \"Digital Humanities\"/Methodenmodul/Programmieren für DH",
          "Schlüsselkompetenzen Zertifikat \"Digital Humanities\"/Methodenmodul/DH Methoden & Tools",
          "Schlüsselkompetenzen Zertifikat \"Digital Humanities\"/Methodenmodul/Umgang mit dem PC",
          "Schlüsselkompetenzen Zertifikat \"Digital Humanities\"/Methodenmodul/Umgang mit dem PC",
          "Schlüsselkompetenzen Zertifikat \"Digital Humanities\"/Praxismodul/DH Projekt",
          "Schlüsselkompetenzen Zertifikat \"Digital Humanities\"/Methodenmodul/Programmieren für DH",
          "Schlüsselkompetenzen Zertifikat \"Digital Humanities\"/Methodenmodul/Programmieren für DH",
          "Schlüsselkompetenzen Zertifikat \"Digital Humanities\"/Methodenmodul/Programmieren für DH",
          "Schlüsselkompetenzen Zertifikat \"Digital Humanities\"/Basismodul/DH Grundlagen",
          "Schlüsselkompetenzen Zertifikat \"Digital Humanities\"/Methodenmodul/Statistik für DH",
          "Schlüsselkompetenzen Zertifikat \"Digital Humanities\"/Methodenmodul/Statistik für DH",
          "Schlüsselkompetenzen Zertifikat \"Digital Humanities\"/Methodenmodul/DH Methoden & Tools",
          "Schlüsselkompetenzen Zertifikat \"Digital Humanities\"/Methodenmodul/Programmieren für DH",
          "Schlüsselkompetenzen Zertifikat \"Digital Humanities\"/Basismodul",
          "Schlüsselkompetenzen Zertifikat \"Digital Humanities\"/Methodenmodul",
          "Schlüsselkompetenzen Zertifikat \"Digital Humanities\"/Praxismodul",
          "Schlüsselkompetenzen Zertifikat \"Digital Humanities\"/Methodenmodul",
          "Schlüsselkompetenzen Zertifikat \"Digital Humanities\"/Methodenmodul",
          "Schlüsselkompetenzen Zertifikat \"Digital Humanities\"/Methodenmodul",
          "Schlüsselkompetenzen Zertifikat \"Digital Humanities\"",
          "Schlüsselkompetenzen Zertifikat \"Digital Humanities\"",
          "Schlüsselkompetenzen Zertifikat \"Digital Humanities\"",
          ""
         ],
         "type": "treemap",
         "values": [
          3,
          2,
          3,
          2,
          1,
          1,
          3,
          3,
          3,
          2,
          1,
          3,
          2,
          3,
          3,
          3,
          3,
          1,
          3,
          2,
          3,
          3,
          3,
          3,
          1,
          3,
          3,
          2,
          2,
          2,
          3,
          2,
          2,
          1,
          1,
          3,
          1,
          3,
          3,
          3,
          2,
          2,
          2,
          3,
          2,
          1,
          2,
          2,
          2,
          2,
          2,
          3,
          3,
          2,
          1,
          1,
          1,
          3,
          3,
          1,
          3,
          2,
          2,
          3,
          3,
          2,
          3,
          3,
          2,
          3,
          3,
          3,
          1,
          3,
          3,
          1,
          3,
          3,
          3,
          3,
          3,
          2,
          1,
          1,
          1,
          1,
          1,
          3,
          2,
          3,
          2,
          2,
          2,
          1,
          1,
          3,
          2,
          2,
          3,
          3,
          6,
          6,
          37,
          8,
          20,
          2,
          2,
          8,
          13,
          18,
          15,
          9,
          21,
          15,
          6,
          8,
          12,
          15,
          4,
          45,
          63,
          15,
          51,
          20,
          31,
          45,
          165,
          15,
          225
         ]
        }
       ],
       "layout": {
        "font": {
         "size": 15
        },
        "legend": {
         "tracegroupgap": 0
        },
        "margin": {
         "b": 25,
         "l": 25,
         "r": 25,
         "t": 25
        },
        "template": {
         "data": {
          "bar": [
           {
            "error_x": {
             "color": "rgb(36,36,36)"
            },
            "error_y": {
             "color": "rgb(36,36,36)"
            },
            "marker": {
             "line": {
              "color": "rgb(234,234,242)",
              "width": 0.5
             },
             "pattern": {
              "fillmode": "overlay",
              "size": 10,
              "solidity": 0.2
             }
            },
            "type": "bar"
           }
          ],
          "barpolar": [
           {
            "marker": {
             "line": {
              "color": "rgb(234,234,242)",
              "width": 0.5
             },
             "pattern": {
              "fillmode": "overlay",
              "size": 10,
              "solidity": 0.2
             }
            },
            "type": "barpolar"
           }
          ],
          "carpet": [
           {
            "aaxis": {
             "endlinecolor": "rgb(36,36,36)",
             "gridcolor": "white",
             "linecolor": "white",
             "minorgridcolor": "white",
             "startlinecolor": "rgb(36,36,36)"
            },
            "baxis": {
             "endlinecolor": "rgb(36,36,36)",
             "gridcolor": "white",
             "linecolor": "white",
             "minorgridcolor": "white",
             "startlinecolor": "rgb(36,36,36)"
            },
            "type": "carpet"
           }
          ],
          "choropleth": [
           {
            "colorbar": {
             "outlinewidth": 0,
             "tickcolor": "rgb(36,36,36)",
             "ticklen": 8,
             "ticks": "outside",
             "tickwidth": 2
            },
            "type": "choropleth"
           }
          ],
          "contour": [
           {
            "colorbar": {
             "outlinewidth": 0,
             "tickcolor": "rgb(36,36,36)",
             "ticklen": 8,
             "ticks": "outside",
             "tickwidth": 2
            },
            "colorscale": [
             [
              0,
              "rgb(2,4,25)"
             ],
             [
              0.06274509803921569,
              "rgb(24,15,41)"
             ],
             [
              0.12549019607843137,
              "rgb(47,23,57)"
             ],
             [
              0.18823529411764706,
              "rgb(71,28,72)"
             ],
             [
              0.25098039215686274,
              "rgb(97,30,82)"
             ],
             [
              0.3137254901960784,
              "rgb(123,30,89)"
             ],
             [
              0.3764705882352941,
              "rgb(150,27,91)"
             ],
             [
              0.4392156862745098,
              "rgb(177,22,88)"
             ],
             [
              0.5019607843137255,
              "rgb(203,26,79)"
             ],
             [
              0.5647058823529412,
              "rgb(223,47,67)"
             ],
             [
              0.6274509803921569,
              "rgb(236,76,61)"
             ],
             [
              0.6901960784313725,
              "rgb(242,107,73)"
             ],
             [
              0.7529411764705882,
              "rgb(244,135,95)"
             ],
             [
              0.8156862745098039,
              "rgb(245,162,122)"
             ],
             [
              0.8784313725490196,
              "rgb(246,188,153)"
             ],
             [
              0.9411764705882353,
              "rgb(247,212,187)"
             ],
             [
              1,
              "rgb(250,234,220)"
             ]
            ],
            "type": "contour"
           }
          ],
          "contourcarpet": [
           {
            "colorbar": {
             "outlinewidth": 0,
             "tickcolor": "rgb(36,36,36)",
             "ticklen": 8,
             "ticks": "outside",
             "tickwidth": 2
            },
            "type": "contourcarpet"
           }
          ],
          "heatmap": [
           {
            "colorbar": {
             "outlinewidth": 0,
             "tickcolor": "rgb(36,36,36)",
             "ticklen": 8,
             "ticks": "outside",
             "tickwidth": 2
            },
            "colorscale": [
             [
              0,
              "rgb(2,4,25)"
             ],
             [
              0.06274509803921569,
              "rgb(24,15,41)"
             ],
             [
              0.12549019607843137,
              "rgb(47,23,57)"
             ],
             [
              0.18823529411764706,
              "rgb(71,28,72)"
             ],
             [
              0.25098039215686274,
              "rgb(97,30,82)"
             ],
             [
              0.3137254901960784,
              "rgb(123,30,89)"
             ],
             [
              0.3764705882352941,
              "rgb(150,27,91)"
             ],
             [
              0.4392156862745098,
              "rgb(177,22,88)"
             ],
             [
              0.5019607843137255,
              "rgb(203,26,79)"
             ],
             [
              0.5647058823529412,
              "rgb(223,47,67)"
             ],
             [
              0.6274509803921569,
              "rgb(236,76,61)"
             ],
             [
              0.6901960784313725,
              "rgb(242,107,73)"
             ],
             [
              0.7529411764705882,
              "rgb(244,135,95)"
             ],
             [
              0.8156862745098039,
              "rgb(245,162,122)"
             ],
             [
              0.8784313725490196,
              "rgb(246,188,153)"
             ],
             [
              0.9411764705882353,
              "rgb(247,212,187)"
             ],
             [
              1,
              "rgb(250,234,220)"
             ]
            ],
            "type": "heatmap"
           }
          ],
          "heatmapgl": [
           {
            "colorbar": {
             "outlinewidth": 0,
             "tickcolor": "rgb(36,36,36)",
             "ticklen": 8,
             "ticks": "outside",
             "tickwidth": 2
            },
            "colorscale": [
             [
              0,
              "rgb(2,4,25)"
             ],
             [
              0.06274509803921569,
              "rgb(24,15,41)"
             ],
             [
              0.12549019607843137,
              "rgb(47,23,57)"
             ],
             [
              0.18823529411764706,
              "rgb(71,28,72)"
             ],
             [
              0.25098039215686274,
              "rgb(97,30,82)"
             ],
             [
              0.3137254901960784,
              "rgb(123,30,89)"
             ],
             [
              0.3764705882352941,
              "rgb(150,27,91)"
             ],
             [
              0.4392156862745098,
              "rgb(177,22,88)"
             ],
             [
              0.5019607843137255,
              "rgb(203,26,79)"
             ],
             [
              0.5647058823529412,
              "rgb(223,47,67)"
             ],
             [
              0.6274509803921569,
              "rgb(236,76,61)"
             ],
             [
              0.6901960784313725,
              "rgb(242,107,73)"
             ],
             [
              0.7529411764705882,
              "rgb(244,135,95)"
             ],
             [
              0.8156862745098039,
              "rgb(245,162,122)"
             ],
             [
              0.8784313725490196,
              "rgb(246,188,153)"
             ],
             [
              0.9411764705882353,
              "rgb(247,212,187)"
             ],
             [
              1,
              "rgb(250,234,220)"
             ]
            ],
            "type": "heatmapgl"
           }
          ],
          "histogram": [
           {
            "marker": {
             "pattern": {
              "fillmode": "overlay",
              "size": 10,
              "solidity": 0.2
             }
            },
            "type": "histogram"
           }
          ],
          "histogram2d": [
           {
            "colorbar": {
             "outlinewidth": 0,
             "tickcolor": "rgb(36,36,36)",
             "ticklen": 8,
             "ticks": "outside",
             "tickwidth": 2
            },
            "colorscale": [
             [
              0,
              "rgb(2,4,25)"
             ],
             [
              0.06274509803921569,
              "rgb(24,15,41)"
             ],
             [
              0.12549019607843137,
              "rgb(47,23,57)"
             ],
             [
              0.18823529411764706,
              "rgb(71,28,72)"
             ],
             [
              0.25098039215686274,
              "rgb(97,30,82)"
             ],
             [
              0.3137254901960784,
              "rgb(123,30,89)"
             ],
             [
              0.3764705882352941,
              "rgb(150,27,91)"
             ],
             [
              0.4392156862745098,
              "rgb(177,22,88)"
             ],
             [
              0.5019607843137255,
              "rgb(203,26,79)"
             ],
             [
              0.5647058823529412,
              "rgb(223,47,67)"
             ],
             [
              0.6274509803921569,
              "rgb(236,76,61)"
             ],
             [
              0.6901960784313725,
              "rgb(242,107,73)"
             ],
             [
              0.7529411764705882,
              "rgb(244,135,95)"
             ],
             [
              0.8156862745098039,
              "rgb(245,162,122)"
             ],
             [
              0.8784313725490196,
              "rgb(246,188,153)"
             ],
             [
              0.9411764705882353,
              "rgb(247,212,187)"
             ],
             [
              1,
              "rgb(250,234,220)"
             ]
            ],
            "type": "histogram2d"
           }
          ],
          "histogram2dcontour": [
           {
            "colorbar": {
             "outlinewidth": 0,
             "tickcolor": "rgb(36,36,36)",
             "ticklen": 8,
             "ticks": "outside",
             "tickwidth": 2
            },
            "colorscale": [
             [
              0,
              "rgb(2,4,25)"
             ],
             [
              0.06274509803921569,
              "rgb(24,15,41)"
             ],
             [
              0.12549019607843137,
              "rgb(47,23,57)"
             ],
             [
              0.18823529411764706,
              "rgb(71,28,72)"
             ],
             [
              0.25098039215686274,
              "rgb(97,30,82)"
             ],
             [
              0.3137254901960784,
              "rgb(123,30,89)"
             ],
             [
              0.3764705882352941,
              "rgb(150,27,91)"
             ],
             [
              0.4392156862745098,
              "rgb(177,22,88)"
             ],
             [
              0.5019607843137255,
              "rgb(203,26,79)"
             ],
             [
              0.5647058823529412,
              "rgb(223,47,67)"
             ],
             [
              0.6274509803921569,
              "rgb(236,76,61)"
             ],
             [
              0.6901960784313725,
              "rgb(242,107,73)"
             ],
             [
              0.7529411764705882,
              "rgb(244,135,95)"
             ],
             [
              0.8156862745098039,
              "rgb(245,162,122)"
             ],
             [
              0.8784313725490196,
              "rgb(246,188,153)"
             ],
             [
              0.9411764705882353,
              "rgb(247,212,187)"
             ],
             [
              1,
              "rgb(250,234,220)"
             ]
            ],
            "type": "histogram2dcontour"
           }
          ],
          "mesh3d": [
           {
            "colorbar": {
             "outlinewidth": 0,
             "tickcolor": "rgb(36,36,36)",
             "ticklen": 8,
             "ticks": "outside",
             "tickwidth": 2
            },
            "type": "mesh3d"
           }
          ],
          "parcoords": [
           {
            "line": {
             "colorbar": {
              "outlinewidth": 0,
              "tickcolor": "rgb(36,36,36)",
              "ticklen": 8,
              "ticks": "outside",
              "tickwidth": 2
             }
            },
            "type": "parcoords"
           }
          ],
          "pie": [
           {
            "automargin": true,
            "type": "pie"
           }
          ],
          "scatter": [
           {
            "fillpattern": {
             "fillmode": "overlay",
             "size": 10,
             "solidity": 0.2
            },
            "type": "scatter"
           }
          ],
          "scatter3d": [
           {
            "line": {
             "colorbar": {
              "outlinewidth": 0,
              "tickcolor": "rgb(36,36,36)",
              "ticklen": 8,
              "ticks": "outside",
              "tickwidth": 2
             }
            },
            "marker": {
             "colorbar": {
              "outlinewidth": 0,
              "tickcolor": "rgb(36,36,36)",
              "ticklen": 8,
              "ticks": "outside",
              "tickwidth": 2
             }
            },
            "type": "scatter3d"
           }
          ],
          "scattercarpet": [
           {
            "marker": {
             "colorbar": {
              "outlinewidth": 0,
              "tickcolor": "rgb(36,36,36)",
              "ticklen": 8,
              "ticks": "outside",
              "tickwidth": 2
             }
            },
            "type": "scattercarpet"
           }
          ],
          "scattergeo": [
           {
            "marker": {
             "colorbar": {
              "outlinewidth": 0,
              "tickcolor": "rgb(36,36,36)",
              "ticklen": 8,
              "ticks": "outside",
              "tickwidth": 2
             }
            },
            "type": "scattergeo"
           }
          ],
          "scattergl": [
           {
            "marker": {
             "colorbar": {
              "outlinewidth": 0,
              "tickcolor": "rgb(36,36,36)",
              "ticklen": 8,
              "ticks": "outside",
              "tickwidth": 2
             }
            },
            "type": "scattergl"
           }
          ],
          "scattermapbox": [
           {
            "marker": {
             "colorbar": {
              "outlinewidth": 0,
              "tickcolor": "rgb(36,36,36)",
              "ticklen": 8,
              "ticks": "outside",
              "tickwidth": 2
             }
            },
            "type": "scattermapbox"
           }
          ],
          "scatterpolar": [
           {
            "marker": {
             "colorbar": {
              "outlinewidth": 0,
              "tickcolor": "rgb(36,36,36)",
              "ticklen": 8,
              "ticks": "outside",
              "tickwidth": 2
             }
            },
            "type": "scatterpolar"
           }
          ],
          "scatterpolargl": [
           {
            "marker": {
             "colorbar": {
              "outlinewidth": 0,
              "tickcolor": "rgb(36,36,36)",
              "ticklen": 8,
              "ticks": "outside",
              "tickwidth": 2
             }
            },
            "type": "scatterpolargl"
           }
          ],
          "scatterternary": [
           {
            "marker": {
             "colorbar": {
              "outlinewidth": 0,
              "tickcolor": "rgb(36,36,36)",
              "ticklen": 8,
              "ticks": "outside",
              "tickwidth": 2
             }
            },
            "type": "scatterternary"
           }
          ],
          "surface": [
           {
            "colorbar": {
             "outlinewidth": 0,
             "tickcolor": "rgb(36,36,36)",
             "ticklen": 8,
             "ticks": "outside",
             "tickwidth": 2
            },
            "colorscale": [
             [
              0,
              "rgb(2,4,25)"
             ],
             [
              0.06274509803921569,
              "rgb(24,15,41)"
             ],
             [
              0.12549019607843137,
              "rgb(47,23,57)"
             ],
             [
              0.18823529411764706,
              "rgb(71,28,72)"
             ],
             [
              0.25098039215686274,
              "rgb(97,30,82)"
             ],
             [
              0.3137254901960784,
              "rgb(123,30,89)"
             ],
             [
              0.3764705882352941,
              "rgb(150,27,91)"
             ],
             [
              0.4392156862745098,
              "rgb(177,22,88)"
             ],
             [
              0.5019607843137255,
              "rgb(203,26,79)"
             ],
             [
              0.5647058823529412,
              "rgb(223,47,67)"
             ],
             [
              0.6274509803921569,
              "rgb(236,76,61)"
             ],
             [
              0.6901960784313725,
              "rgb(242,107,73)"
             ],
             [
              0.7529411764705882,
              "rgb(244,135,95)"
             ],
             [
              0.8156862745098039,
              "rgb(245,162,122)"
             ],
             [
              0.8784313725490196,
              "rgb(246,188,153)"
             ],
             [
              0.9411764705882353,
              "rgb(247,212,187)"
             ],
             [
              1,
              "rgb(250,234,220)"
             ]
            ],
            "type": "surface"
           }
          ],
          "table": [
           {
            "cells": {
             "fill": {
              "color": "rgb(231,231,240)"
             },
             "line": {
              "color": "white"
             }
            },
            "header": {
             "fill": {
              "color": "rgb(183,183,191)"
             },
             "line": {
              "color": "white"
             }
            },
            "type": "table"
           }
          ]
         },
         "layout": {
          "annotationdefaults": {
           "arrowcolor": "rgb(67,103,167)"
          },
          "autotypenumbers": "strict",
          "coloraxis": {
           "colorbar": {
            "outlinewidth": 0,
            "tickcolor": "rgb(36,36,36)",
            "ticklen": 8,
            "ticks": "outside",
            "tickwidth": 2
           }
          },
          "colorscale": {
           "sequential": [
            [
             0,
             "rgb(2,4,25)"
            ],
            [
             0.06274509803921569,
             "rgb(24,15,41)"
            ],
            [
             0.12549019607843137,
             "rgb(47,23,57)"
            ],
            [
             0.18823529411764706,
             "rgb(71,28,72)"
            ],
            [
             0.25098039215686274,
             "rgb(97,30,82)"
            ],
            [
             0.3137254901960784,
             "rgb(123,30,89)"
            ],
            [
             0.3764705882352941,
             "rgb(150,27,91)"
            ],
            [
             0.4392156862745098,
             "rgb(177,22,88)"
            ],
            [
             0.5019607843137255,
             "rgb(203,26,79)"
            ],
            [
             0.5647058823529412,
             "rgb(223,47,67)"
            ],
            [
             0.6274509803921569,
             "rgb(236,76,61)"
            ],
            [
             0.6901960784313725,
             "rgb(242,107,73)"
            ],
            [
             0.7529411764705882,
             "rgb(244,135,95)"
            ],
            [
             0.8156862745098039,
             "rgb(245,162,122)"
            ],
            [
             0.8784313725490196,
             "rgb(246,188,153)"
            ],
            [
             0.9411764705882353,
             "rgb(247,212,187)"
            ],
            [
             1,
             "rgb(250,234,220)"
            ]
           ],
           "sequentialminus": [
            [
             0,
             "rgb(2,4,25)"
            ],
            [
             0.06274509803921569,
             "rgb(24,15,41)"
            ],
            [
             0.12549019607843137,
             "rgb(47,23,57)"
            ],
            [
             0.18823529411764706,
             "rgb(71,28,72)"
            ],
            [
             0.25098039215686274,
             "rgb(97,30,82)"
            ],
            [
             0.3137254901960784,
             "rgb(123,30,89)"
            ],
            [
             0.3764705882352941,
             "rgb(150,27,91)"
            ],
            [
             0.4392156862745098,
             "rgb(177,22,88)"
            ],
            [
             0.5019607843137255,
             "rgb(203,26,79)"
            ],
            [
             0.5647058823529412,
             "rgb(223,47,67)"
            ],
            [
             0.6274509803921569,
             "rgb(236,76,61)"
            ],
            [
             0.6901960784313725,
             "rgb(242,107,73)"
            ],
            [
             0.7529411764705882,
             "rgb(244,135,95)"
            ],
            [
             0.8156862745098039,
             "rgb(245,162,122)"
            ],
            [
             0.8784313725490196,
             "rgb(246,188,153)"
            ],
            [
             0.9411764705882353,
             "rgb(247,212,187)"
            ],
            [
             1,
             "rgb(250,234,220)"
            ]
           ]
          },
          "colorway": [
           "rgb(76,114,176)",
           "rgb(221,132,82)",
           "rgb(85,168,104)",
           "rgb(196,78,82)",
           "rgb(129,114,179)",
           "rgb(147,120,96)",
           "rgb(218,139,195)",
           "rgb(140,140,140)",
           "rgb(204,185,116)",
           "rgb(100,181,205)"
          ],
          "font": {
           "color": "rgb(36,36,36)"
          },
          "geo": {
           "bgcolor": "white",
           "lakecolor": "white",
           "landcolor": "rgb(234,234,242)",
           "showlakes": true,
           "showland": true,
           "subunitcolor": "white"
          },
          "hoverlabel": {
           "align": "left"
          },
          "hovermode": "closest",
          "paper_bgcolor": "white",
          "plot_bgcolor": "rgb(234,234,242)",
          "polar": {
           "angularaxis": {
            "gridcolor": "white",
            "linecolor": "white",
            "showgrid": true,
            "ticks": ""
           },
           "bgcolor": "rgb(234,234,242)",
           "radialaxis": {
            "gridcolor": "white",
            "linecolor": "white",
            "showgrid": true,
            "ticks": ""
           }
          },
          "scene": {
           "xaxis": {
            "backgroundcolor": "rgb(234,234,242)",
            "gridcolor": "white",
            "gridwidth": 2,
            "linecolor": "white",
            "showbackground": true,
            "showgrid": true,
            "ticks": "",
            "zerolinecolor": "white"
           },
           "yaxis": {
            "backgroundcolor": "rgb(234,234,242)",
            "gridcolor": "white",
            "gridwidth": 2,
            "linecolor": "white",
            "showbackground": true,
            "showgrid": true,
            "ticks": "",
            "zerolinecolor": "white"
           },
           "zaxis": {
            "backgroundcolor": "rgb(234,234,242)",
            "gridcolor": "white",
            "gridwidth": 2,
            "linecolor": "white",
            "showbackground": true,
            "showgrid": true,
            "ticks": "",
            "zerolinecolor": "white"
           }
          },
          "shapedefaults": {
           "fillcolor": "rgb(67,103,167)",
           "line": {
            "width": 0
           },
           "opacity": 0.5
          },
          "ternary": {
           "aaxis": {
            "gridcolor": "white",
            "linecolor": "white",
            "showgrid": true,
            "ticks": ""
           },
           "baxis": {
            "gridcolor": "white",
            "linecolor": "white",
            "showgrid": true,
            "ticks": ""
           },
           "bgcolor": "rgb(234,234,242)",
           "caxis": {
            "gridcolor": "white",
            "linecolor": "white",
            "showgrid": true,
            "ticks": ""
           }
          },
          "xaxis": {
           "automargin": true,
           "gridcolor": "white",
           "linecolor": "white",
           "showgrid": true,
           "ticks": "",
           "title": {
            "standoff": 15
           },
           "zerolinecolor": "white"
          },
          "yaxis": {
           "automargin": true,
           "gridcolor": "white",
           "linecolor": "white",
           "showgrid": true,
           "ticks": "",
           "title": {
            "standoff": 15
           },
           "zerolinecolor": "white"
          }
         }
        }
       }
      }
     },
     "metadata": {},
     "output_type": "display_data"
    }
   ],
   "source": [
    "import plotly.express as px\n",
    "\n",
    "fig = px.treemap(df, path=[\n",
    "    px.Constant('Schlüsselkompetenzen Zertifikat \"Digital Humanities\"'),\n",
    "    'Modul',\n",
    "    'Bereich',\n",
    "    'Unterbereich',\n",
    "    'AS'\n",
    "    ],\n",
    "    values='Prio_',\n",
    "    # hover_data=['Zeitaufwand'],\n",
    "    # marker_colors = RUB_colors\n",
    "    # color='Zertifikatsbereich'\n",
    ")\n",
    "fig.update_traces(marker=dict(cornerradius=5))\n",
    "fig.update_layout(margin=dict(t=25, l=25, r=25, b=25))\n",
    "fig.update_traces(hovertemplate='%{label}')\n",
    "fig.update_layout(\n",
    "    template='seaborn',\n",
    "    font=dict(\n",
    "        # family=\"Courier New, monospace\",\n",
    "        size=15,  # Set the font size here\n",
    "        # color=\"RebeccaPurple\"\n",
    "    )\n",
    ")\n",
    "fig.show()\n",
    "fig.write_html(\"AS_3Module.html\",  include_plotlyjs='cdn')"
   ]
  },
  {
   "cell_type": "markdown",
   "metadata": {},
   "source": [
    "# Mit Modulen ohne AS"
   ]
  },
  {
   "cell_type": "code",
   "execution_count": 12,
   "metadata": {},
   "outputs": [
    {
     "data": {
      "application/vnd.plotly.v1+json": {
       "config": {
        "plotlyServerURL": "https://plot.ly"
       },
       "data": [
        {
         "branchvalues": "total",
         "domain": {
          "x": [
           0,
           1
          ],
          "y": [
           0,
           1
          ]
         },
         "hovertemplate": "%{label}",
         "ids": [
          "Schlüsselkompetenzen Zertifikat \"Digital Humanities\"/Methodenmodul/DH Methoden & Tools/Datenbanken",
          "Schlüsselkompetenzen Zertifikat \"Digital Humanities\"/Methodenmodul/DH Methoden & Tools/Digitale Editionen",
          "Schlüsselkompetenzen Zertifikat \"Digital Humanities\"/Basismodul/DH Grundlagen/Einführung DH",
          "Schlüsselkompetenzen Zertifikat \"Digital Humanities\"/Methodenmodul/DH Methoden & Tools/KI",
          "Schlüsselkompetenzen Zertifikat \"Digital Humanities\"/Methodenmodul/DH Methoden & Tools/Methoden",
          "Schlüsselkompetenzen Zertifikat \"Digital Humanities\"/Basismodul/DH Grundlagen/Misc",
          "Schlüsselkompetenzen Zertifikat \"Digital Humanities\"/Methodenmodul/Programmieren für DH/Misc",
          "Schlüsselkompetenzen Zertifikat \"Digital Humanities\"/Methodenmodul/DH Methoden & Tools/Nicht-Text-Daten",
          "Schlüsselkompetenzen Zertifikat \"Digital Humanities\"/Methodenmodul/Umgang mit dem PC/PC Fortgeschritten",
          "Schlüsselkompetenzen Zertifikat \"Digital Humanities\"/Methodenmodul/Umgang mit dem PC/PC Grundlagen",
          "Schlüsselkompetenzen Zertifikat \"Digital Humanities\"/Praxismodul/DH Projekt/Projekt",
          "Schlüsselkompetenzen Zertifikat \"Digital Humanities\"/Methodenmodul/Programmieren für DH/Python Fortgeschritten",
          "Schlüsselkompetenzen Zertifikat \"Digital Humanities\"/Methodenmodul/Programmieren für DH/Python Grundlagen",
          "Schlüsselkompetenzen Zertifikat \"Digital Humanities\"/Methodenmodul/Programmieren für DH/R",
          "Schlüsselkompetenzen Zertifikat \"Digital Humanities\"/Basismodul/DH Grundlagen/Rechtliches",
          "Schlüsselkompetenzen Zertifikat \"Digital Humanities\"/Methodenmodul/Statistik für DH/Statistik Fortgeschritten",
          "Schlüsselkompetenzen Zertifikat \"Digital Humanities\"/Methodenmodul/Statistik für DH/Statistik Grundlagen",
          "Schlüsselkompetenzen Zertifikat \"Digital Humanities\"/Methodenmodul/DH Methoden & Tools/Tools",
          "Schlüsselkompetenzen Zertifikat \"Digital Humanities\"/Methodenmodul/Programmieren für DH/Web",
          "Schlüsselkompetenzen Zertifikat \"Digital Humanities\"/Basismodul/DH Grundlagen",
          "Schlüsselkompetenzen Zertifikat \"Digital Humanities\"/Methodenmodul/DH Methoden & Tools",
          "Schlüsselkompetenzen Zertifikat \"Digital Humanities\"/Praxismodul/DH Projekt",
          "Schlüsselkompetenzen Zertifikat \"Digital Humanities\"/Methodenmodul/Programmieren für DH",
          "Schlüsselkompetenzen Zertifikat \"Digital Humanities\"/Methodenmodul/Statistik für DH",
          "Schlüsselkompetenzen Zertifikat \"Digital Humanities\"/Methodenmodul/Umgang mit dem PC",
          "Schlüsselkompetenzen Zertifikat \"Digital Humanities\"/Basismodul",
          "Schlüsselkompetenzen Zertifikat \"Digital Humanities\"/Methodenmodul",
          "Schlüsselkompetenzen Zertifikat \"Digital Humanities\"/Praxismodul",
          "Schlüsselkompetenzen Zertifikat \"Digital Humanities\""
         ],
         "labels": [
          "Datenbanken",
          "Digitale Editionen",
          "Einführung DH",
          "KI",
          "Methoden",
          "Misc",
          "Misc",
          "Nicht-Text-Daten",
          "PC Fortgeschritten",
          "PC Grundlagen",
          "Projekt",
          "Python Fortgeschritten",
          "Python Grundlagen",
          "R",
          "Rechtliches",
          "Statistik Fortgeschritten",
          "Statistik Grundlagen",
          "Tools",
          "Web",
          "DH Grundlagen",
          "DH Methoden & Tools",
          "DH Projekt",
          "Programmieren für DH",
          "Statistik für DH",
          "Umgang mit dem PC",
          "Basismodul",
          "Methodenmodul",
          "Praxismodul",
          "Schlüsselkompetenzen Zertifikat \"Digital Humanities\""
         ],
         "marker": {
          "cornerradius": 5
         },
         "name": "",
         "parents": [
          "Schlüsselkompetenzen Zertifikat \"Digital Humanities\"/Methodenmodul/DH Methoden & Tools",
          "Schlüsselkompetenzen Zertifikat \"Digital Humanities\"/Methodenmodul/DH Methoden & Tools",
          "Schlüsselkompetenzen Zertifikat \"Digital Humanities\"/Basismodul/DH Grundlagen",
          "Schlüsselkompetenzen Zertifikat \"Digital Humanities\"/Methodenmodul/DH Methoden & Tools",
          "Schlüsselkompetenzen Zertifikat \"Digital Humanities\"/Methodenmodul/DH Methoden & Tools",
          "Schlüsselkompetenzen Zertifikat \"Digital Humanities\"/Basismodul/DH Grundlagen",
          "Schlüsselkompetenzen Zertifikat \"Digital Humanities\"/Methodenmodul/Programmieren für DH",
          "Schlüsselkompetenzen Zertifikat \"Digital Humanities\"/Methodenmodul/DH Methoden & Tools",
          "Schlüsselkompetenzen Zertifikat \"Digital Humanities\"/Methodenmodul/Umgang mit dem PC",
          "Schlüsselkompetenzen Zertifikat \"Digital Humanities\"/Methodenmodul/Umgang mit dem PC",
          "Schlüsselkompetenzen Zertifikat \"Digital Humanities\"/Praxismodul/DH Projekt",
          "Schlüsselkompetenzen Zertifikat \"Digital Humanities\"/Methodenmodul/Programmieren für DH",
          "Schlüsselkompetenzen Zertifikat \"Digital Humanities\"/Methodenmodul/Programmieren für DH",
          "Schlüsselkompetenzen Zertifikat \"Digital Humanities\"/Methodenmodul/Programmieren für DH",
          "Schlüsselkompetenzen Zertifikat \"Digital Humanities\"/Basismodul/DH Grundlagen",
          "Schlüsselkompetenzen Zertifikat \"Digital Humanities\"/Methodenmodul/Statistik für DH",
          "Schlüsselkompetenzen Zertifikat \"Digital Humanities\"/Methodenmodul/Statistik für DH",
          "Schlüsselkompetenzen Zertifikat \"Digital Humanities\"/Methodenmodul/DH Methoden & Tools",
          "Schlüsselkompetenzen Zertifikat \"Digital Humanities\"/Methodenmodul/Programmieren für DH",
          "Schlüsselkompetenzen Zertifikat \"Digital Humanities\"/Basismodul",
          "Schlüsselkompetenzen Zertifikat \"Digital Humanities\"/Methodenmodul",
          "Schlüsselkompetenzen Zertifikat \"Digital Humanities\"/Praxismodul",
          "Schlüsselkompetenzen Zertifikat \"Digital Humanities\"/Methodenmodul",
          "Schlüsselkompetenzen Zertifikat \"Digital Humanities\"/Methodenmodul",
          "Schlüsselkompetenzen Zertifikat \"Digital Humanities\"/Methodenmodul",
          "Schlüsselkompetenzen Zertifikat \"Digital Humanities\"",
          "Schlüsselkompetenzen Zertifikat \"Digital Humanities\"",
          "Schlüsselkompetenzen Zertifikat \"Digital Humanities\"",
          ""
         ],
         "type": "treemap",
         "values": [
          6,
          6,
          37,
          8,
          20,
          2,
          2,
          8,
          13,
          18,
          15,
          9,
          21,
          15,
          6,
          8,
          12,
          15,
          4,
          45,
          63,
          15,
          51,
          20,
          31,
          45,
          165,
          15,
          225
         ]
        }
       ],
       "layout": {
        "font": {
         "size": 15
        },
        "legend": {
         "tracegroupgap": 0
        },
        "margin": {
         "b": 25,
         "l": 25,
         "r": 25,
         "t": 25
        },
        "template": {
         "data": {
          "bar": [
           {
            "error_x": {
             "color": "rgb(36,36,36)"
            },
            "error_y": {
             "color": "rgb(36,36,36)"
            },
            "marker": {
             "line": {
              "color": "rgb(234,234,242)",
              "width": 0.5
             },
             "pattern": {
              "fillmode": "overlay",
              "size": 10,
              "solidity": 0.2
             }
            },
            "type": "bar"
           }
          ],
          "barpolar": [
           {
            "marker": {
             "line": {
              "color": "rgb(234,234,242)",
              "width": 0.5
             },
             "pattern": {
              "fillmode": "overlay",
              "size": 10,
              "solidity": 0.2
             }
            },
            "type": "barpolar"
           }
          ],
          "carpet": [
           {
            "aaxis": {
             "endlinecolor": "rgb(36,36,36)",
             "gridcolor": "white",
             "linecolor": "white",
             "minorgridcolor": "white",
             "startlinecolor": "rgb(36,36,36)"
            },
            "baxis": {
             "endlinecolor": "rgb(36,36,36)",
             "gridcolor": "white",
             "linecolor": "white",
             "minorgridcolor": "white",
             "startlinecolor": "rgb(36,36,36)"
            },
            "type": "carpet"
           }
          ],
          "choropleth": [
           {
            "colorbar": {
             "outlinewidth": 0,
             "tickcolor": "rgb(36,36,36)",
             "ticklen": 8,
             "ticks": "outside",
             "tickwidth": 2
            },
            "type": "choropleth"
           }
          ],
          "contour": [
           {
            "colorbar": {
             "outlinewidth": 0,
             "tickcolor": "rgb(36,36,36)",
             "ticklen": 8,
             "ticks": "outside",
             "tickwidth": 2
            },
            "colorscale": [
             [
              0,
              "rgb(2,4,25)"
             ],
             [
              0.06274509803921569,
              "rgb(24,15,41)"
             ],
             [
              0.12549019607843137,
              "rgb(47,23,57)"
             ],
             [
              0.18823529411764706,
              "rgb(71,28,72)"
             ],
             [
              0.25098039215686274,
              "rgb(97,30,82)"
             ],
             [
              0.3137254901960784,
              "rgb(123,30,89)"
             ],
             [
              0.3764705882352941,
              "rgb(150,27,91)"
             ],
             [
              0.4392156862745098,
              "rgb(177,22,88)"
             ],
             [
              0.5019607843137255,
              "rgb(203,26,79)"
             ],
             [
              0.5647058823529412,
              "rgb(223,47,67)"
             ],
             [
              0.6274509803921569,
              "rgb(236,76,61)"
             ],
             [
              0.6901960784313725,
              "rgb(242,107,73)"
             ],
             [
              0.7529411764705882,
              "rgb(244,135,95)"
             ],
             [
              0.8156862745098039,
              "rgb(245,162,122)"
             ],
             [
              0.8784313725490196,
              "rgb(246,188,153)"
             ],
             [
              0.9411764705882353,
              "rgb(247,212,187)"
             ],
             [
              1,
              "rgb(250,234,220)"
             ]
            ],
            "type": "contour"
           }
          ],
          "contourcarpet": [
           {
            "colorbar": {
             "outlinewidth": 0,
             "tickcolor": "rgb(36,36,36)",
             "ticklen": 8,
             "ticks": "outside",
             "tickwidth": 2
            },
            "type": "contourcarpet"
           }
          ],
          "heatmap": [
           {
            "colorbar": {
             "outlinewidth": 0,
             "tickcolor": "rgb(36,36,36)",
             "ticklen": 8,
             "ticks": "outside",
             "tickwidth": 2
            },
            "colorscale": [
             [
              0,
              "rgb(2,4,25)"
             ],
             [
              0.06274509803921569,
              "rgb(24,15,41)"
             ],
             [
              0.12549019607843137,
              "rgb(47,23,57)"
             ],
             [
              0.18823529411764706,
              "rgb(71,28,72)"
             ],
             [
              0.25098039215686274,
              "rgb(97,30,82)"
             ],
             [
              0.3137254901960784,
              "rgb(123,30,89)"
             ],
             [
              0.3764705882352941,
              "rgb(150,27,91)"
             ],
             [
              0.4392156862745098,
              "rgb(177,22,88)"
             ],
             [
              0.5019607843137255,
              "rgb(203,26,79)"
             ],
             [
              0.5647058823529412,
              "rgb(223,47,67)"
             ],
             [
              0.6274509803921569,
              "rgb(236,76,61)"
             ],
             [
              0.6901960784313725,
              "rgb(242,107,73)"
             ],
             [
              0.7529411764705882,
              "rgb(244,135,95)"
             ],
             [
              0.8156862745098039,
              "rgb(245,162,122)"
             ],
             [
              0.8784313725490196,
              "rgb(246,188,153)"
             ],
             [
              0.9411764705882353,
              "rgb(247,212,187)"
             ],
             [
              1,
              "rgb(250,234,220)"
             ]
            ],
            "type": "heatmap"
           }
          ],
          "heatmapgl": [
           {
            "colorbar": {
             "outlinewidth": 0,
             "tickcolor": "rgb(36,36,36)",
             "ticklen": 8,
             "ticks": "outside",
             "tickwidth": 2
            },
            "colorscale": [
             [
              0,
              "rgb(2,4,25)"
             ],
             [
              0.06274509803921569,
              "rgb(24,15,41)"
             ],
             [
              0.12549019607843137,
              "rgb(47,23,57)"
             ],
             [
              0.18823529411764706,
              "rgb(71,28,72)"
             ],
             [
              0.25098039215686274,
              "rgb(97,30,82)"
             ],
             [
              0.3137254901960784,
              "rgb(123,30,89)"
             ],
             [
              0.3764705882352941,
              "rgb(150,27,91)"
             ],
             [
              0.4392156862745098,
              "rgb(177,22,88)"
             ],
             [
              0.5019607843137255,
              "rgb(203,26,79)"
             ],
             [
              0.5647058823529412,
              "rgb(223,47,67)"
             ],
             [
              0.6274509803921569,
              "rgb(236,76,61)"
             ],
             [
              0.6901960784313725,
              "rgb(242,107,73)"
             ],
             [
              0.7529411764705882,
              "rgb(244,135,95)"
             ],
             [
              0.8156862745098039,
              "rgb(245,162,122)"
             ],
             [
              0.8784313725490196,
              "rgb(246,188,153)"
             ],
             [
              0.9411764705882353,
              "rgb(247,212,187)"
             ],
             [
              1,
              "rgb(250,234,220)"
             ]
            ],
            "type": "heatmapgl"
           }
          ],
          "histogram": [
           {
            "marker": {
             "pattern": {
              "fillmode": "overlay",
              "size": 10,
              "solidity": 0.2
             }
            },
            "type": "histogram"
           }
          ],
          "histogram2d": [
           {
            "colorbar": {
             "outlinewidth": 0,
             "tickcolor": "rgb(36,36,36)",
             "ticklen": 8,
             "ticks": "outside",
             "tickwidth": 2
            },
            "colorscale": [
             [
              0,
              "rgb(2,4,25)"
             ],
             [
              0.06274509803921569,
              "rgb(24,15,41)"
             ],
             [
              0.12549019607843137,
              "rgb(47,23,57)"
             ],
             [
              0.18823529411764706,
              "rgb(71,28,72)"
             ],
             [
              0.25098039215686274,
              "rgb(97,30,82)"
             ],
             [
              0.3137254901960784,
              "rgb(123,30,89)"
             ],
             [
              0.3764705882352941,
              "rgb(150,27,91)"
             ],
             [
              0.4392156862745098,
              "rgb(177,22,88)"
             ],
             [
              0.5019607843137255,
              "rgb(203,26,79)"
             ],
             [
              0.5647058823529412,
              "rgb(223,47,67)"
             ],
             [
              0.6274509803921569,
              "rgb(236,76,61)"
             ],
             [
              0.6901960784313725,
              "rgb(242,107,73)"
             ],
             [
              0.7529411764705882,
              "rgb(244,135,95)"
             ],
             [
              0.8156862745098039,
              "rgb(245,162,122)"
             ],
             [
              0.8784313725490196,
              "rgb(246,188,153)"
             ],
             [
              0.9411764705882353,
              "rgb(247,212,187)"
             ],
             [
              1,
              "rgb(250,234,220)"
             ]
            ],
            "type": "histogram2d"
           }
          ],
          "histogram2dcontour": [
           {
            "colorbar": {
             "outlinewidth": 0,
             "tickcolor": "rgb(36,36,36)",
             "ticklen": 8,
             "ticks": "outside",
             "tickwidth": 2
            },
            "colorscale": [
             [
              0,
              "rgb(2,4,25)"
             ],
             [
              0.06274509803921569,
              "rgb(24,15,41)"
             ],
             [
              0.12549019607843137,
              "rgb(47,23,57)"
             ],
             [
              0.18823529411764706,
              "rgb(71,28,72)"
             ],
             [
              0.25098039215686274,
              "rgb(97,30,82)"
             ],
             [
              0.3137254901960784,
              "rgb(123,30,89)"
             ],
             [
              0.3764705882352941,
              "rgb(150,27,91)"
             ],
             [
              0.4392156862745098,
              "rgb(177,22,88)"
             ],
             [
              0.5019607843137255,
              "rgb(203,26,79)"
             ],
             [
              0.5647058823529412,
              "rgb(223,47,67)"
             ],
             [
              0.6274509803921569,
              "rgb(236,76,61)"
             ],
             [
              0.6901960784313725,
              "rgb(242,107,73)"
             ],
             [
              0.7529411764705882,
              "rgb(244,135,95)"
             ],
             [
              0.8156862745098039,
              "rgb(245,162,122)"
             ],
             [
              0.8784313725490196,
              "rgb(246,188,153)"
             ],
             [
              0.9411764705882353,
              "rgb(247,212,187)"
             ],
             [
              1,
              "rgb(250,234,220)"
             ]
            ],
            "type": "histogram2dcontour"
           }
          ],
          "mesh3d": [
           {
            "colorbar": {
             "outlinewidth": 0,
             "tickcolor": "rgb(36,36,36)",
             "ticklen": 8,
             "ticks": "outside",
             "tickwidth": 2
            },
            "type": "mesh3d"
           }
          ],
          "parcoords": [
           {
            "line": {
             "colorbar": {
              "outlinewidth": 0,
              "tickcolor": "rgb(36,36,36)",
              "ticklen": 8,
              "ticks": "outside",
              "tickwidth": 2
             }
            },
            "type": "parcoords"
           }
          ],
          "pie": [
           {
            "automargin": true,
            "type": "pie"
           }
          ],
          "scatter": [
           {
            "fillpattern": {
             "fillmode": "overlay",
             "size": 10,
             "solidity": 0.2
            },
            "type": "scatter"
           }
          ],
          "scatter3d": [
           {
            "line": {
             "colorbar": {
              "outlinewidth": 0,
              "tickcolor": "rgb(36,36,36)",
              "ticklen": 8,
              "ticks": "outside",
              "tickwidth": 2
             }
            },
            "marker": {
             "colorbar": {
              "outlinewidth": 0,
              "tickcolor": "rgb(36,36,36)",
              "ticklen": 8,
              "ticks": "outside",
              "tickwidth": 2
             }
            },
            "type": "scatter3d"
           }
          ],
          "scattercarpet": [
           {
            "marker": {
             "colorbar": {
              "outlinewidth": 0,
              "tickcolor": "rgb(36,36,36)",
              "ticklen": 8,
              "ticks": "outside",
              "tickwidth": 2
             }
            },
            "type": "scattercarpet"
           }
          ],
          "scattergeo": [
           {
            "marker": {
             "colorbar": {
              "outlinewidth": 0,
              "tickcolor": "rgb(36,36,36)",
              "ticklen": 8,
              "ticks": "outside",
              "tickwidth": 2
             }
            },
            "type": "scattergeo"
           }
          ],
          "scattergl": [
           {
            "marker": {
             "colorbar": {
              "outlinewidth": 0,
              "tickcolor": "rgb(36,36,36)",
              "ticklen": 8,
              "ticks": "outside",
              "tickwidth": 2
             }
            },
            "type": "scattergl"
           }
          ],
          "scattermapbox": [
           {
            "marker": {
             "colorbar": {
              "outlinewidth": 0,
              "tickcolor": "rgb(36,36,36)",
              "ticklen": 8,
              "ticks": "outside",
              "tickwidth": 2
             }
            },
            "type": "scattermapbox"
           }
          ],
          "scatterpolar": [
           {
            "marker": {
             "colorbar": {
              "outlinewidth": 0,
              "tickcolor": "rgb(36,36,36)",
              "ticklen": 8,
              "ticks": "outside",
              "tickwidth": 2
             }
            },
            "type": "scatterpolar"
           }
          ],
          "scatterpolargl": [
           {
            "marker": {
             "colorbar": {
              "outlinewidth": 0,
              "tickcolor": "rgb(36,36,36)",
              "ticklen": 8,
              "ticks": "outside",
              "tickwidth": 2
             }
            },
            "type": "scatterpolargl"
           }
          ],
          "scatterternary": [
           {
            "marker": {
             "colorbar": {
              "outlinewidth": 0,
              "tickcolor": "rgb(36,36,36)",
              "ticklen": 8,
              "ticks": "outside",
              "tickwidth": 2
             }
            },
            "type": "scatterternary"
           }
          ],
          "surface": [
           {
            "colorbar": {
             "outlinewidth": 0,
             "tickcolor": "rgb(36,36,36)",
             "ticklen": 8,
             "ticks": "outside",
             "tickwidth": 2
            },
            "colorscale": [
             [
              0,
              "rgb(2,4,25)"
             ],
             [
              0.06274509803921569,
              "rgb(24,15,41)"
             ],
             [
              0.12549019607843137,
              "rgb(47,23,57)"
             ],
             [
              0.18823529411764706,
              "rgb(71,28,72)"
             ],
             [
              0.25098039215686274,
              "rgb(97,30,82)"
             ],
             [
              0.3137254901960784,
              "rgb(123,30,89)"
             ],
             [
              0.3764705882352941,
              "rgb(150,27,91)"
             ],
             [
              0.4392156862745098,
              "rgb(177,22,88)"
             ],
             [
              0.5019607843137255,
              "rgb(203,26,79)"
             ],
             [
              0.5647058823529412,
              "rgb(223,47,67)"
             ],
             [
              0.6274509803921569,
              "rgb(236,76,61)"
             ],
             [
              0.6901960784313725,
              "rgb(242,107,73)"
             ],
             [
              0.7529411764705882,
              "rgb(244,135,95)"
             ],
             [
              0.8156862745098039,
              "rgb(245,162,122)"
             ],
             [
              0.8784313725490196,
              "rgb(246,188,153)"
             ],
             [
              0.9411764705882353,
              "rgb(247,212,187)"
             ],
             [
              1,
              "rgb(250,234,220)"
             ]
            ],
            "type": "surface"
           }
          ],
          "table": [
           {
            "cells": {
             "fill": {
              "color": "rgb(231,231,240)"
             },
             "line": {
              "color": "white"
             }
            },
            "header": {
             "fill": {
              "color": "rgb(183,183,191)"
             },
             "line": {
              "color": "white"
             }
            },
            "type": "table"
           }
          ]
         },
         "layout": {
          "annotationdefaults": {
           "arrowcolor": "rgb(67,103,167)"
          },
          "autotypenumbers": "strict",
          "coloraxis": {
           "colorbar": {
            "outlinewidth": 0,
            "tickcolor": "rgb(36,36,36)",
            "ticklen": 8,
            "ticks": "outside",
            "tickwidth": 2
           }
          },
          "colorscale": {
           "sequential": [
            [
             0,
             "rgb(2,4,25)"
            ],
            [
             0.06274509803921569,
             "rgb(24,15,41)"
            ],
            [
             0.12549019607843137,
             "rgb(47,23,57)"
            ],
            [
             0.18823529411764706,
             "rgb(71,28,72)"
            ],
            [
             0.25098039215686274,
             "rgb(97,30,82)"
            ],
            [
             0.3137254901960784,
             "rgb(123,30,89)"
            ],
            [
             0.3764705882352941,
             "rgb(150,27,91)"
            ],
            [
             0.4392156862745098,
             "rgb(177,22,88)"
            ],
            [
             0.5019607843137255,
             "rgb(203,26,79)"
            ],
            [
             0.5647058823529412,
             "rgb(223,47,67)"
            ],
            [
             0.6274509803921569,
             "rgb(236,76,61)"
            ],
            [
             0.6901960784313725,
             "rgb(242,107,73)"
            ],
            [
             0.7529411764705882,
             "rgb(244,135,95)"
            ],
            [
             0.8156862745098039,
             "rgb(245,162,122)"
            ],
            [
             0.8784313725490196,
             "rgb(246,188,153)"
            ],
            [
             0.9411764705882353,
             "rgb(247,212,187)"
            ],
            [
             1,
             "rgb(250,234,220)"
            ]
           ],
           "sequentialminus": [
            [
             0,
             "rgb(2,4,25)"
            ],
            [
             0.06274509803921569,
             "rgb(24,15,41)"
            ],
            [
             0.12549019607843137,
             "rgb(47,23,57)"
            ],
            [
             0.18823529411764706,
             "rgb(71,28,72)"
            ],
            [
             0.25098039215686274,
             "rgb(97,30,82)"
            ],
            [
             0.3137254901960784,
             "rgb(123,30,89)"
            ],
            [
             0.3764705882352941,
             "rgb(150,27,91)"
            ],
            [
             0.4392156862745098,
             "rgb(177,22,88)"
            ],
            [
             0.5019607843137255,
             "rgb(203,26,79)"
            ],
            [
             0.5647058823529412,
             "rgb(223,47,67)"
            ],
            [
             0.6274509803921569,
             "rgb(236,76,61)"
            ],
            [
             0.6901960784313725,
             "rgb(242,107,73)"
            ],
            [
             0.7529411764705882,
             "rgb(244,135,95)"
            ],
            [
             0.8156862745098039,
             "rgb(245,162,122)"
            ],
            [
             0.8784313725490196,
             "rgb(246,188,153)"
            ],
            [
             0.9411764705882353,
             "rgb(247,212,187)"
            ],
            [
             1,
             "rgb(250,234,220)"
            ]
           ]
          },
          "colorway": [
           "rgb(76,114,176)",
           "rgb(221,132,82)",
           "rgb(85,168,104)",
           "rgb(196,78,82)",
           "rgb(129,114,179)",
           "rgb(147,120,96)",
           "rgb(218,139,195)",
           "rgb(140,140,140)",
           "rgb(204,185,116)",
           "rgb(100,181,205)"
          ],
          "font": {
           "color": "rgb(36,36,36)"
          },
          "geo": {
           "bgcolor": "white",
           "lakecolor": "white",
           "landcolor": "rgb(234,234,242)",
           "showlakes": true,
           "showland": true,
           "subunitcolor": "white"
          },
          "hoverlabel": {
           "align": "left"
          },
          "hovermode": "closest",
          "paper_bgcolor": "white",
          "plot_bgcolor": "rgb(234,234,242)",
          "polar": {
           "angularaxis": {
            "gridcolor": "white",
            "linecolor": "white",
            "showgrid": true,
            "ticks": ""
           },
           "bgcolor": "rgb(234,234,242)",
           "radialaxis": {
            "gridcolor": "white",
            "linecolor": "white",
            "showgrid": true,
            "ticks": ""
           }
          },
          "scene": {
           "xaxis": {
            "backgroundcolor": "rgb(234,234,242)",
            "gridcolor": "white",
            "gridwidth": 2,
            "linecolor": "white",
            "showbackground": true,
            "showgrid": true,
            "ticks": "",
            "zerolinecolor": "white"
           },
           "yaxis": {
            "backgroundcolor": "rgb(234,234,242)",
            "gridcolor": "white",
            "gridwidth": 2,
            "linecolor": "white",
            "showbackground": true,
            "showgrid": true,
            "ticks": "",
            "zerolinecolor": "white"
           },
           "zaxis": {
            "backgroundcolor": "rgb(234,234,242)",
            "gridcolor": "white",
            "gridwidth": 2,
            "linecolor": "white",
            "showbackground": true,
            "showgrid": true,
            "ticks": "",
            "zerolinecolor": "white"
           }
          },
          "shapedefaults": {
           "fillcolor": "rgb(67,103,167)",
           "line": {
            "width": 0
           },
           "opacity": 0.5
          },
          "ternary": {
           "aaxis": {
            "gridcolor": "white",
            "linecolor": "white",
            "showgrid": true,
            "ticks": ""
           },
           "baxis": {
            "gridcolor": "white",
            "linecolor": "white",
            "showgrid": true,
            "ticks": ""
           },
           "bgcolor": "rgb(234,234,242)",
           "caxis": {
            "gridcolor": "white",
            "linecolor": "white",
            "showgrid": true,
            "ticks": ""
           }
          },
          "xaxis": {
           "automargin": true,
           "gridcolor": "white",
           "linecolor": "white",
           "showgrid": true,
           "ticks": "",
           "title": {
            "standoff": 15
           },
           "zerolinecolor": "white"
          },
          "yaxis": {
           "automargin": true,
           "gridcolor": "white",
           "linecolor": "white",
           "showgrid": true,
           "ticks": "",
           "title": {
            "standoff": 15
           },
           "zerolinecolor": "white"
          }
         }
        }
       }
      }
     },
     "metadata": {},
     "output_type": "display_data"
    }
   ],
   "source": [
    "import plotly.express as px\n",
    "\n",
    "fig = px.treemap(df, path=[\n",
    "    px.Constant('Schlüsselkompetenzen Zertifikat \"Digital Humanities\"'),\n",
    "    'Modul',\n",
    "    'Bereich',\n",
    "    'Unterbereich',\n",
    "    # 'AS'\n",
    "    ],\n",
    "    values='Prio_',\n",
    "    # hover_data=['Zeitaufwand'],\n",
    "    # marker_colors = RUB_colors\n",
    "    # color='Zertifikatsbereich'\n",
    ")\n",
    "fig.update_traces(marker=dict(cornerradius=5))\n",
    "fig.update_layout(margin=dict(t=25, l=25, r=25, b=25))\n",
    "fig.update_traces(hovertemplate='%{label}')\n",
    "fig.update_layout(\n",
    "    template='seaborn',\n",
    "    font=dict(\n",
    "        # family=\"Courier New, monospace\",\n",
    "        size=15,  # Set the font size here\n",
    "        # color=\"RebeccaPurple\"\n",
    "    )\n",
    ")\n",
    "fig.show()\n",
    "fig.write_html(\"UB_3Module.html\",  include_plotlyjs='cdn')"
   ]
  },
  {
   "cell_type": "markdown",
   "metadata": {},
   "source": [
    "# 20-CP Variante"
   ]
  },
  {
   "cell_type": "markdown",
   "metadata": {},
   "source": [
    "## Mit AS"
   ]
  },
  {
   "cell_type": "code",
   "execution_count": 13,
   "metadata": {},
   "outputs": [
    {
     "data": {
      "application/vnd.plotly.v1+json": {
       "config": {
        "plotlyServerURL": "https://plot.ly"
       },
       "data": [
        {
         "branchvalues": "total",
         "domain": {
          "x": [
           0,
           1
          ],
          "y": [
           0,
           1
          ]
         },
         "hovertemplate": "%{label}",
         "ids": [
          "Schlüsselkompetenzen Zertifikat \"Digital Humanities\"/Methodenmodul/Programmieren für DH/Python Grundlagen/(DH) Code verstehen<br>und anpassen",
          "Schlüsselkompetenzen Zertifikat \"Digital Humanities\"/Methodenmodul/DH Methoden & Tools/KI/(Python-)Beispielprojekt<br>zum Ausprobieren<br>und Anpassen",
          "Schlüsselkompetenzen Zertifikat \"Digital Humanities\"/Praxismodul/DH Projekt/Projekt/Anwendung der Kenntnisse<br>in einem selbstständigen<br>(Datenanalyse-)projekt",
          "Schlüsselkompetenzen Zertifikat \"Digital Humanities\"/Methodenmodul/DH Methoden & Tools/Nicht-Text-Daten/Audio (Bearbeiten,<br>Konvertieren, etc.)",
          "Schlüsselkompetenzen Zertifikat \"Digital Humanities\"/DH-Fortgeschritten/DH Methoden & Tools/Nicht-Text-Daten/Audio Signal Processing",
          "Schlüsselkompetenzen Zertifikat \"Digital Humanities\"/DH-Fortgeschritten/Umgang mit dem PC/PC Fortgeschritten/Aufbau/Administration<br>von Client-Server-Architektur",
          "Schlüsselkompetenzen Zertifikat \"Digital Humanities\"/Basismodul/DH Grundlagen/Einführung DH/Begriffsdefinition<br>DH",
          "Schlüsselkompetenzen Zertifikat \"Digital Humanities\"/Basismodul/DH Grundlagen/Einführung DH/Beispiele Fragestellungen<br>- Fächer: Literaturwissenschaft,<br>Editionsphilologie,<br>Linguistik, Geschichte,<br>Kunstgeschichte,<br>Archäologie, Musik,<br>Medienwissenschaft",
          "Schlüsselkompetenzen Zertifikat \"Digital Humanities\"/Basismodul/DH Grundlagen/Einführung DH/Beispiele Tools<br>& Methoden: Digitale<br>Editionen, Digitale<br>Archive, Korpusanalyse,<br>Oral History, GIS,<br>VR, 3D-Design, digitale<br>Filmanalyse",
          "Schlüsselkompetenzen Zertifikat \"Digital Humanities\"/Methodenmodul/DH Methoden & Tools/Nicht-Text-Daten/Bild (Bearbeiten,<br>Konvertieren, etc.)",
          "Schlüsselkompetenzen Zertifikat \"Digital Humanities\"/DH-Fortgeschritten/DH Methoden & Tools/Nicht-Text-Daten/Computer Vision",
          "Schlüsselkompetenzen Zertifikat \"Digital Humanities\"/Basismodul/Umgang mit dem PC/PC Grundlagen/Computer-Probleme<br>selber lösen (richtig<br>googlen, Tutorials<br>befolgen)",
          "Schlüsselkompetenzen Zertifikat \"Digital Humanities\"/DH-Fortgeschritten/Umgang mit dem PC/PC Fortgeschritten/Containerisierung<br>(z.B. Docker)",
          "Schlüsselkompetenzen Zertifikat \"Digital Humanities\"/Basismodul/DH Grundlagen/Einführung DH/DH & Ich (\"Wofür<br>brauche ich persönlich<br>DH-Methoden in meinem<br>Studium?\")",
          "Schlüsselkompetenzen Zertifikat \"Digital Humanities\"/Basismodul/Umgang mit dem PC/PC Grundlagen/Dateien - Ordnerstruktur/-hierarchie,<br>Pfade, Benennung,<br>Arten, Umwandeln",
          "Schlüsselkompetenzen Zertifikat \"Digital Humanities\"/Methodenmodul/Programmieren für DH/R/Datenanalyse & Textmining",
          "Schlüsselkompetenzen Zertifikat \"Digital Humanities\"/Praxismodul/DH Projekt/Projekt/Datenanalyse oder<br>Visualisierung",
          "Schlüsselkompetenzen Zertifikat \"Digital Humanities\"/DH-Fortgeschritten/Statistik für DH/Statistik Fortgeschritten/Datenanalyse und<br>Machine Learning",
          "Schlüsselkompetenzen Zertifikat \"Digital Humanities\"/Methodenmodul/Programmieren für DH/R/Datenaufbereitung<br>& Umgang mit Fehlermeldungen",
          "Schlüsselkompetenzen Zertifikat \"Digital Humanities\"/Basismodul/DH Grundlagen/Rechtliches/Datenschutz, Copyright,<br>DSGVO (in Bezug<br>auf Webscraping)",
          "Schlüsselkompetenzen Zertifikat \"Digital Humanities\"/Basismodul/DH Grundlagen/Einführung DH/Datenverarbeitung<br>& -organisation:<br>Datenbanken",
          "Schlüsselkompetenzen Zertifikat \"Digital Humanities\"/Basismodul/DH Grundlagen/Einführung DH/Datenverarbeitung<br>& -organisation:<br>Metadaten (Typen<br>& Standards)",
          "Schlüsselkompetenzen Zertifikat \"Digital Humanities\"/Methodenmodul/Programmieren für DH/R/Datenvisualisierung<br>(ggplot)",
          "Schlüsselkompetenzen Zertifikat \"Digital Humanities\"/Methodenmodul/Programmieren für DH/Python Grundlagen/Datenvisualisierung<br>(matplotlib, seaborn,<br>etc.)",
          "Schlüsselkompetenzen Zertifikat \"Digital Humanities\"/DH-Fortgeschritten/Statistik für DH/Statistik Fortgeschritten/Design und Implementierung<br>statistischer Modelle",
          "Schlüsselkompetenzen Zertifikat \"Digital Humanities\"/Methodenmodul/DH Methoden & Tools/Digitale Editionen/Digitale Editionen<br>bearbeiten/ Maintenance",
          "Schlüsselkompetenzen Zertifikat \"Digital Humanities\"/Methodenmodul/DH Methoden & Tools/Digitale Editionen/Digitale Editionen<br>erstellen",
          "Schlüsselkompetenzen Zertifikat \"Digital Humanities\"/Methodenmodul/DH Methoden & Tools/Methoden/Digitalisierung:<br>Frameworks (bspw.<br>IIIF)",
          "Schlüsselkompetenzen Zertifikat \"Digital Humanities\"/Basismodul/DH Grundlagen/Einführung DH/Digitalisierung<br>- 3D Digitalisierung,<br>AR, VR (Plastiken,<br>Gebäudemodelle)",
          "Schlüsselkompetenzen Zertifikat \"Digital Humanities\"/Basismodul/DH Grundlagen/Einführung DH/Digitalisierung<br>- Bilder als digitale<br>Daten (Raster &<br>Vektorgrafiken)",
          "Schlüsselkompetenzen Zertifikat \"Digital Humanities\"/Basismodul/DH Grundlagen/Einführung DH/Digitalisierungsverfahren<br>Bild & Text",
          "Schlüsselkompetenzen Zertifikat \"Digital Humanities\"/Methodenmodul/DH Methoden & Tools/Methoden/Erstellung von TEI-Customisations",
          "Schlüsselkompetenzen Zertifikat \"Digital Humanities\"/Basismodul/DH Grundlagen/Rechtliches/Forschungsethik",
          "Schlüsselkompetenzen Zertifikat \"Digital Humanities\"/Methodenmodul/DH Methoden & Tools/Datenbanken/Fortgeschritten:<br>SQL/NoSQL, eXist-db,<br>MongoDB, etc.",
          "Schlüsselkompetenzen Zertifikat \"Digital Humanities\"/Methodenmodul/DH Methoden & Tools/Datenbanken/Fortgeschritten:<br>selbst aufsetzen,<br>bearbeiten, maintainen",
          "Schlüsselkompetenzen Zertifikat \"Digital Humanities\"/Basismodul/DH Grundlagen/Einführung DH/Geschichte der DH",
          "Schlüsselkompetenzen Zertifikat \"Digital Humanities\"/DH-Fortgeschritten/DH Methoden & Tools/Methoden/Graphanalyse",
          "Schlüsselkompetenzen Zertifikat \"Digital Humanities\"/Methodenmodul/Statistik für DH/Statistik Grundlagen/Graphische Darstellung<br>(welche Daten, welche<br>Darstellung, Fehler)",
          "Schlüsselkompetenzen Zertifikat \"Digital Humanities\"/Methodenmodul/Programmieren für DH/Python Grundlagen/Grundlagen Programmieren<br>(Kontrollfluss,<br>Schleifen, Grundlagen<br>i/o, Boolsche Logik,<br>etc.)",
          "Schlüsselkompetenzen Zertifikat \"Digital Humanities\"/Methodenmodul/Programmieren für DH/R/Grundlagen R Programmieren",
          "Schlüsselkompetenzen Zertifikat \"Digital Humanities\"/Methodenmodul/DH Methoden & Tools/Datenbanken/Grundlagen: Excel/CSV,<br>SQL, Zugriff auf<br>existierende DBs/API",
          "Schlüsselkompetenzen Zertifikat \"Digital Humanities\"/Methodenmodul/DH Methoden & Tools/Datenbanken/Grundlagen: Verwalten,<br>Zusammenfügen, Analysieren<br>großer Datensätze",
          "Schlüsselkompetenzen Zertifikat \"Digital Humanities\"/Methodenmodul/DH Methoden & Tools/Methoden/Information Retrieval",
          "Schlüsselkompetenzen Zertifikat \"Digital Humanities\"/Methodenmodul/Programmieren für DH/Python Grundlagen/Infrastruktur (IDE,<br>Jupyter Notebooks,<br>Colab/Pages/JupyterHub)",
          "Schlüsselkompetenzen Zertifikat \"Digital Humanities\"/Basismodul/DH Grundlagen/Misc/Internationale Standards<br>in der Auszeichnung<br>von (Meta)daten<br>z.B. METS, MODS,<br>TEI",
          "Schlüsselkompetenzen Zertifikat \"Digital Humanities\"/DH-Fortgeschritten/Programmieren für DH/Misc/Java ",
          "Schlüsselkompetenzen Zertifikat \"Digital Humanities\"/Methodenmodul/DH Methoden & Tools/Tools/Kartenerstellung<br>(GIS, ArcGis, etc.)",
          "Schlüsselkompetenzen Zertifikat \"Digital Humanities\"/DH-Fortgeschritten/Statistik für DH/Statistik Fortgeschritten/Klassifikation:<br>Beispielcode (z.B.<br>in Python oder R)",
          "Schlüsselkompetenzen Zertifikat \"Digital Humanities\"/DH-Fortgeschritten/Statistik für DH/Statistik Fortgeschritten/Klassifikation:<br>KNN, SVM, etc",
          "Schlüsselkompetenzen Zertifikat \"Digital Humanities\"/DH-Fortgeschritten/Statistik für DH/Statistik Fortgeschritten/Klassifikation:<br>Naive Bayes",
          "Schlüsselkompetenzen Zertifikat \"Digital Humanities\"/Methodenmodul/DH Methoden & Tools/Methoden/Kollation (Editionsphilologie)",
          "Schlüsselkompetenzen Zertifikat \"Digital Humanities\"/Methodenmodul/Programmieren für DH/Python Grundlagen/Korpusanalytische<br>Verfahren (Webscraping,<br>Tokenisierung, Annotation,<br>Kookkurrenz-, Frequenzanalyse,<br>etc.)",
          "Schlüsselkompetenzen Zertifikat \"Digital Humanities\"/Methodenmodul/Statistik für DH/Statistik Grundlagen/Korrelation & Kausalität",
          "Schlüsselkompetenzen Zertifikat \"Digital Humanities\"/DH-Fortgeschritten/Umgang mit dem PC/PC Fortgeschritten/LaTex (Overleaf)",
          "Schlüsselkompetenzen Zertifikat \"Digital Humanities\"/DH-Fortgeschritten/DH Methoden & Tools/KI/Maschinelles Lernen:<br>Algorithmen",
          "Schlüsselkompetenzen Zertifikat \"Digital Humanities\"/DH-Fortgeschritten/DH Methoden & Tools/KI/Mathematische Grundlagen",
          "Schlüsselkompetenzen Zertifikat \"Digital Humanities\"/Methodenmodul/DH Methoden & Tools/Tools/MaxQDA",
          "Schlüsselkompetenzen Zertifikat \"Digital Humanities\"/DH-Fortgeschritten/Programmieren für DH/Python Fortgeschritten/NLTK",
          "Schlüsselkompetenzen Zertifikat \"Digital Humanities\"/Methodenmodul/DH Methoden & Tools/Methoden/Named Entity Recognition",
          "Schlüsselkompetenzen Zertifikat \"Digital Humanities\"/DH-Fortgeschritten/DH Methoden & Tools/Methoden/Network Analysis",
          "Schlüsselkompetenzen Zertifikat \"Digital Humanities\"/Methodenmodul/DH Methoden & Tools/Tools/OCR: Tools, Python-Bibliotheken,<br>APIs",
          "Schlüsselkompetenzen Zertifikat \"Digital Humanities\"/Basismodul/DH Grundlagen/Rechtliches/Open Access / Open<br>Research",
          "Schlüsselkompetenzen Zertifikat \"Digital Humanities\"/Methodenmodul/DH Methoden & Tools/Tools/Open Refine",
          "Schlüsselkompetenzen Zertifikat \"Digital Humanities\"/Methodenmodul/Programmieren für DH/Python Grundlagen/Pandas",
          "Schlüsselkompetenzen Zertifikat \"Digital Humanities\"/Praxismodul/DH Projekt/Projekt/Projektorientiertes<br>Lernen: Modellierung,<br>Projektentwurf,<br>Umsetzung und Evaluation",
          "Schlüsselkompetenzen Zertifikat \"Digital Humanities\"/DH-Fortgeschritten/Umgang mit dem PC/PC Fortgeschritten/Quellenverwaltung<br>(mit Zotero, etc.)",
          "Schlüsselkompetenzen Zertifikat \"Digital Humanities\"/Methodenmodul/Statistik für DH/Statistik Grundlagen/Schätzer, Konfidenzintervalle<br>& Hypothesentests",
          "Schlüsselkompetenzen Zertifikat \"Digital Humanities\"/Praxismodul/DH Projekt/Projekt/Selbständiges Arbeiten<br>mit Datensätzen",
          "Schlüsselkompetenzen Zertifikat \"Digital Humanities\"/DH-Fortgeschritten/Umgang mit dem PC/PC Fortgeschritten/Shell Fortgeschritten:<br>shell scripts, variablen,<br>editor in der shell,<br>remote access/ssh",
          "Schlüsselkompetenzen Zertifikat \"Digital Humanities\"/Basismodul/Umgang mit dem PC/PC Grundlagen/Shell Grundlagen:<br>Was ist die Shell?,<br>Unix vs. Windows,<br>simple Befehle",
          "Schlüsselkompetenzen Zertifikat \"Digital Humanities\"/Methodenmodul/Statistik für DH/Statistik Grundlagen/Skalenniveaus",
          "Schlüsselkompetenzen Zertifikat \"Digital Humanities\"/DH-Fortgeschritten/Programmieren für DH/Python Fortgeschritten/Sonstige DH-Bibliotheken",
          "Schlüsselkompetenzen Zertifikat \"Digital Humanities\"/Methodenmodul/DH Methoden & Tools/Tools/Sonstige DH-Tools",
          "Schlüsselkompetenzen Zertifikat \"Digital Humanities\"/DH-Fortgeschritten/Programmieren für DH/Python Fortgeschritten/Spacy",
          "Schlüsselkompetenzen Zertifikat \"Digital Humanities\"/Basismodul/Umgang mit dem PC/PC Grundlagen/Tabellenkalkulation<br>- Excel/Google Sheets",
          "Schlüsselkompetenzen Zertifikat \"Digital Humanities\"/Methodenmodul/DH Methoden & Tools/Tools/Tableau",
          "Schlüsselkompetenzen Zertifikat \"Digital Humanities\"/Basismodul/Umgang mit dem PC/PC Grundlagen/Tastaturkürzel &<br>Sonderzeichen",
          "Schlüsselkompetenzen Zertifikat \"Digital Humanities\"/Methodenmodul/Programmieren für DH/Python Grundlagen/Text (String-Methoden/-Funktionen)",
          "Schlüsselkompetenzen Zertifikat \"Digital Humanities\"/Basismodul/DH Grundlagen/Einführung DH/Textdaten - Zeichenkodierung",
          "Schlüsselkompetenzen Zertifikat \"Digital Humanities\"/Basismodul/DH Grundlagen/Einführung DH/Textdaten Grundlagen<br>-  txt, md, csv,<br>tsv, XML, HTML,<br>KML, TEI",
          "Schlüsselkompetenzen Zertifikat \"Digital Humanities\"/Methodenmodul/Programmieren für DH/R/Tidyverse",
          "Schlüsselkompetenzen Zertifikat \"Digital Humanities\"/Methodenmodul/DH Methoden & Tools/Methoden/Topic Modelling",
          "Schlüsselkompetenzen Zertifikat \"Digital Humanities\"/DH-Fortgeschritten/DH Methoden & Tools/KI/Transformer-Architektur",
          "Schlüsselkompetenzen Zertifikat \"Digital Humanities\"/Methodenmodul/DH Methoden & Tools/Tools/Trifacta/Alteryx<br>Designer Cloud",
          "Schlüsselkompetenzen Zertifikat \"Digital Humanities\"/DH-Fortgeschritten/Umgang mit dem PC/PC Fortgeschritten/UNIX/Linux: Grundlagen,<br>Betriebssystem",
          "Schlüsselkompetenzen Zertifikat \"Digital Humanities\"/Methodenmodul/Programmieren für DH/Misc/UNIX/Linux: Script-Sprachen",
          "Schlüsselkompetenzen Zertifikat \"Digital Humanities\"/DH-Fortgeschritten/Umgang mit dem PC/PC Fortgeschritten/UNIX/Linux: Serveradministration",
          "Schlüsselkompetenzen Zertifikat \"Digital Humanities\"/Methodenmodul/DH Methoden & Tools/Methoden/Umgang mit Online-Korpora",
          "Schlüsselkompetenzen Zertifikat \"Digital Humanities\"/Methodenmodul/DH Methoden & Tools/Tools/Umgang mit lokalen<br>Korpustools (Antconc,<br>etc.)",
          "Schlüsselkompetenzen Zertifikat \"Digital Humanities\"/Basismodul/Umgang mit dem PC/PC Grundlagen/Versionskontrolle/Datensicherung",
          "Schlüsselkompetenzen Zertifikat \"Digital Humanities\"/DH-Fortgeschritten/Umgang mit dem PC/PC Fortgeschritten/Versionskontrolle<br>mit git",
          "Schlüsselkompetenzen Zertifikat \"Digital Humanities\"/Methodenmodul/DH Methoden & Tools/Nicht-Text-Daten/Video & 3D (Bearbeiten,<br>Konvertieren, etc.)",
          "Schlüsselkompetenzen Zertifikat \"Digital Humanities\"/Methodenmodul/Programmieren für DH/Web/Web-Frontend zur<br>Suche und Anzeige<br>von Datenbankinhalten<br>(z.B. Dashbord)",
          "Schlüsselkompetenzen Zertifikat \"Digital Humanities\"/Methodenmodul/Programmieren für DH/Web/Web-Programmierung/<br>-Frameworks (Django,<br>Flask, etc.)",
          "Schlüsselkompetenzen Zertifikat \"Digital Humanities\"/Methodenmodul/Programmieren für DH/Web/Webseiten (HTML,<br>CSS, PHP, JavaScript)",
          "Schlüsselkompetenzen Zertifikat \"Digital Humanities\"/Praxismodul/DH Projekt/Projekt/Wissenskommunikation<br>(Vorgehen & Ergebnisse<br>nachvollziehbar<br>darstellen)",
          "Schlüsselkompetenzen Zertifikat \"Digital Humanities\"/Methodenmodul/DH Methoden & Tools/Tools/Wordsmith",
          "Schlüsselkompetenzen Zertifikat \"Digital Humanities\"/DH-Fortgeschritten/DH Methoden & Tools/Methoden/XML-Technologien<br>Fortgeschritten<br>(TEI-XML, Xquery,<br>XSLT, XPATH)",
          "Schlüsselkompetenzen Zertifikat \"Digital Humanities\"/Methodenmodul/DH Methoden & Tools/KI/Überblick (High<br>Level: wie funktioniert<br>KI/ML/Klassifikation/Generation/Bias)",
          "Schlüsselkompetenzen Zertifikat \"Digital Humanities\"/Basismodul/DH Grundlagen/Einführung DH/Überblick Textdatenbanken/Korpora<br>(\"Welche gibt es?\",<br>\"Wie finde ich passende<br>Korpora/Datenbanken?\")",
          "Schlüsselkompetenzen Zertifikat \"Digital Humanities\"/Methodenmodul/DH Methoden & Tools/Datenbanken",
          "Schlüsselkompetenzen Zertifikat \"Digital Humanities\"/Methodenmodul/DH Methoden & Tools/Digitale Editionen",
          "Schlüsselkompetenzen Zertifikat \"Digital Humanities\"/Basismodul/DH Grundlagen/Einführung DH",
          "Schlüsselkompetenzen Zertifikat \"Digital Humanities\"/DH-Fortgeschritten/DH Methoden & Tools/KI",
          "Schlüsselkompetenzen Zertifikat \"Digital Humanities\"/Methodenmodul/DH Methoden & Tools/KI",
          "Schlüsselkompetenzen Zertifikat \"Digital Humanities\"/DH-Fortgeschritten/DH Methoden & Tools/Methoden",
          "Schlüsselkompetenzen Zertifikat \"Digital Humanities\"/Methodenmodul/DH Methoden & Tools/Methoden",
          "Schlüsselkompetenzen Zertifikat \"Digital Humanities\"/Basismodul/DH Grundlagen/Misc",
          "Schlüsselkompetenzen Zertifikat \"Digital Humanities\"/DH-Fortgeschritten/Programmieren für DH/Misc",
          "Schlüsselkompetenzen Zertifikat \"Digital Humanities\"/Methodenmodul/Programmieren für DH/Misc",
          "Schlüsselkompetenzen Zertifikat \"Digital Humanities\"/DH-Fortgeschritten/DH Methoden & Tools/Nicht-Text-Daten",
          "Schlüsselkompetenzen Zertifikat \"Digital Humanities\"/Methodenmodul/DH Methoden & Tools/Nicht-Text-Daten",
          "Schlüsselkompetenzen Zertifikat \"Digital Humanities\"/DH-Fortgeschritten/Umgang mit dem PC/PC Fortgeschritten",
          "Schlüsselkompetenzen Zertifikat \"Digital Humanities\"/Basismodul/Umgang mit dem PC/PC Grundlagen",
          "Schlüsselkompetenzen Zertifikat \"Digital Humanities\"/Praxismodul/DH Projekt/Projekt",
          "Schlüsselkompetenzen Zertifikat \"Digital Humanities\"/DH-Fortgeschritten/Programmieren für DH/Python Fortgeschritten",
          "Schlüsselkompetenzen Zertifikat \"Digital Humanities\"/Methodenmodul/Programmieren für DH/Python Grundlagen",
          "Schlüsselkompetenzen Zertifikat \"Digital Humanities\"/Methodenmodul/Programmieren für DH/R",
          "Schlüsselkompetenzen Zertifikat \"Digital Humanities\"/Basismodul/DH Grundlagen/Rechtliches",
          "Schlüsselkompetenzen Zertifikat \"Digital Humanities\"/DH-Fortgeschritten/Statistik für DH/Statistik Fortgeschritten",
          "Schlüsselkompetenzen Zertifikat \"Digital Humanities\"/Methodenmodul/Statistik für DH/Statistik Grundlagen",
          "Schlüsselkompetenzen Zertifikat \"Digital Humanities\"/Methodenmodul/DH Methoden & Tools/Tools",
          "Schlüsselkompetenzen Zertifikat \"Digital Humanities\"/Methodenmodul/Programmieren für DH/Web",
          "Schlüsselkompetenzen Zertifikat \"Digital Humanities\"/Basismodul/DH Grundlagen",
          "Schlüsselkompetenzen Zertifikat \"Digital Humanities\"/DH-Fortgeschritten/DH Methoden & Tools",
          "Schlüsselkompetenzen Zertifikat \"Digital Humanities\"/Methodenmodul/DH Methoden & Tools",
          "Schlüsselkompetenzen Zertifikat \"Digital Humanities\"/Praxismodul/DH Projekt",
          "Schlüsselkompetenzen Zertifikat \"Digital Humanities\"/DH-Fortgeschritten/Programmieren für DH",
          "Schlüsselkompetenzen Zertifikat \"Digital Humanities\"/Methodenmodul/Programmieren für DH",
          "Schlüsselkompetenzen Zertifikat \"Digital Humanities\"/DH-Fortgeschritten/Statistik für DH",
          "Schlüsselkompetenzen Zertifikat \"Digital Humanities\"/Methodenmodul/Statistik für DH",
          "Schlüsselkompetenzen Zertifikat \"Digital Humanities\"/Basismodul/Umgang mit dem PC",
          "Schlüsselkompetenzen Zertifikat \"Digital Humanities\"/DH-Fortgeschritten/Umgang mit dem PC",
          "Schlüsselkompetenzen Zertifikat \"Digital Humanities\"/Basismodul",
          "Schlüsselkompetenzen Zertifikat \"Digital Humanities\"/DH-Fortgeschritten",
          "Schlüsselkompetenzen Zertifikat \"Digital Humanities\"/Methodenmodul",
          "Schlüsselkompetenzen Zertifikat \"Digital Humanities\"/Praxismodul",
          "Schlüsselkompetenzen Zertifikat \"Digital Humanities\""
         ],
         "labels": [
          "(DH) Code verstehen<br>und anpassen",
          "(Python-)Beispielprojekt<br>zum Ausprobieren<br>und Anpassen",
          "Anwendung der Kenntnisse<br>in einem selbstständigen<br>(Datenanalyse-)projekt",
          "Audio (Bearbeiten,<br>Konvertieren, etc.)",
          "Audio Signal Processing",
          "Aufbau/Administration<br>von Client-Server-Architektur",
          "Begriffsdefinition<br>DH",
          "Beispiele Fragestellungen<br>- Fächer: Literaturwissenschaft,<br>Editionsphilologie,<br>Linguistik, Geschichte,<br>Kunstgeschichte,<br>Archäologie, Musik,<br>Medienwissenschaft",
          "Beispiele Tools<br>& Methoden: Digitale<br>Editionen, Digitale<br>Archive, Korpusanalyse,<br>Oral History, GIS,<br>VR, 3D-Design, digitale<br>Filmanalyse",
          "Bild (Bearbeiten,<br>Konvertieren, etc.)",
          "Computer Vision",
          "Computer-Probleme<br>selber lösen (richtig<br>googlen, Tutorials<br>befolgen)",
          "Containerisierung<br>(z.B. Docker)",
          "DH & Ich (\"Wofür<br>brauche ich persönlich<br>DH-Methoden in meinem<br>Studium?\")",
          "Dateien - Ordnerstruktur/-hierarchie,<br>Pfade, Benennung,<br>Arten, Umwandeln",
          "Datenanalyse & Textmining",
          "Datenanalyse oder<br>Visualisierung",
          "Datenanalyse und<br>Machine Learning",
          "Datenaufbereitung<br>& Umgang mit Fehlermeldungen",
          "Datenschutz, Copyright,<br>DSGVO (in Bezug<br>auf Webscraping)",
          "Datenverarbeitung<br>& -organisation:<br>Datenbanken",
          "Datenverarbeitung<br>& -organisation:<br>Metadaten (Typen<br>& Standards)",
          "Datenvisualisierung<br>(ggplot)",
          "Datenvisualisierung<br>(matplotlib, seaborn,<br>etc.)",
          "Design und Implementierung<br>statistischer Modelle",
          "Digitale Editionen<br>bearbeiten/ Maintenance",
          "Digitale Editionen<br>erstellen",
          "Digitalisierung:<br>Frameworks (bspw.<br>IIIF)",
          "Digitalisierung<br>- 3D Digitalisierung,<br>AR, VR (Plastiken,<br>Gebäudemodelle)",
          "Digitalisierung<br>- Bilder als digitale<br>Daten (Raster &<br>Vektorgrafiken)",
          "Digitalisierungsverfahren<br>Bild & Text",
          "Erstellung von TEI-Customisations",
          "Forschungsethik",
          "Fortgeschritten:<br>SQL/NoSQL, eXist-db,<br>MongoDB, etc.",
          "Fortgeschritten:<br>selbst aufsetzen,<br>bearbeiten, maintainen",
          "Geschichte der DH",
          "Graphanalyse",
          "Graphische Darstellung<br>(welche Daten, welche<br>Darstellung, Fehler)",
          "Grundlagen Programmieren<br>(Kontrollfluss,<br>Schleifen, Grundlagen<br>i/o, Boolsche Logik,<br>etc.)",
          "Grundlagen R Programmieren",
          "Grundlagen: Excel/CSV,<br>SQL, Zugriff auf<br>existierende DBs/API",
          "Grundlagen: Verwalten,<br>Zusammenfügen, Analysieren<br>großer Datensätze",
          "Information Retrieval",
          "Infrastruktur (IDE,<br>Jupyter Notebooks,<br>Colab/Pages/JupyterHub)",
          "Internationale Standards<br>in der Auszeichnung<br>von (Meta)daten<br>z.B. METS, MODS,<br>TEI",
          "Java ",
          "Kartenerstellung<br>(GIS, ArcGis, etc.)",
          "Klassifikation:<br>Beispielcode (z.B.<br>in Python oder R)",
          "Klassifikation:<br>KNN, SVM, etc",
          "Klassifikation:<br>Naive Bayes",
          "Kollation (Editionsphilologie)",
          "Korpusanalytische<br>Verfahren (Webscraping,<br>Tokenisierung, Annotation,<br>Kookkurrenz-, Frequenzanalyse,<br>etc.)",
          "Korrelation & Kausalität",
          "LaTex (Overleaf)",
          "Maschinelles Lernen:<br>Algorithmen",
          "Mathematische Grundlagen",
          "MaxQDA",
          "NLTK",
          "Named Entity Recognition",
          "Network Analysis",
          "OCR: Tools, Python-Bibliotheken,<br>APIs",
          "Open Access / Open<br>Research",
          "Open Refine",
          "Pandas",
          "Projektorientiertes<br>Lernen: Modellierung,<br>Projektentwurf,<br>Umsetzung und Evaluation",
          "Quellenverwaltung<br>(mit Zotero, etc.)",
          "Schätzer, Konfidenzintervalle<br>& Hypothesentests",
          "Selbständiges Arbeiten<br>mit Datensätzen",
          "Shell Fortgeschritten:<br>shell scripts, variablen,<br>editor in der shell,<br>remote access/ssh",
          "Shell Grundlagen:<br>Was ist die Shell?,<br>Unix vs. Windows,<br>simple Befehle",
          "Skalenniveaus",
          "Sonstige DH-Bibliotheken",
          "Sonstige DH-Tools",
          "Spacy",
          "Tabellenkalkulation<br>- Excel/Google Sheets",
          "Tableau",
          "Tastaturkürzel &<br>Sonderzeichen",
          "Text (String-Methoden/-Funktionen)",
          "Textdaten - Zeichenkodierung",
          "Textdaten Grundlagen<br>-  txt, md, csv,<br>tsv, XML, HTML,<br>KML, TEI",
          "Tidyverse",
          "Topic Modelling",
          "Transformer-Architektur",
          "Trifacta/Alteryx<br>Designer Cloud",
          "UNIX/Linux: Grundlagen,<br>Betriebssystem",
          "UNIX/Linux: Script-Sprachen",
          "UNIX/Linux: Serveradministration",
          "Umgang mit Online-Korpora",
          "Umgang mit lokalen<br>Korpustools (Antconc,<br>etc.)",
          "Versionskontrolle/Datensicherung",
          "Versionskontrolle<br>mit git",
          "Video & 3D (Bearbeiten,<br>Konvertieren, etc.)",
          "Web-Frontend zur<br>Suche und Anzeige<br>von Datenbankinhalten<br>(z.B. Dashbord)",
          "Web-Programmierung/<br>-Frameworks (Django,<br>Flask, etc.)",
          "Webseiten (HTML,<br>CSS, PHP, JavaScript)",
          "Wissenskommunikation<br>(Vorgehen & Ergebnisse<br>nachvollziehbar<br>darstellen)",
          "Wordsmith",
          "XML-Technologien<br>Fortgeschritten<br>(TEI-XML, Xquery,<br>XSLT, XPATH)",
          "Überblick (High<br>Level: wie funktioniert<br>KI/ML/Klassifikation/Generation/Bias)",
          "Überblick Textdatenbanken/Korpora<br>(\"Welche gibt es?\",<br>\"Wie finde ich passende<br>Korpora/Datenbanken?\")",
          "Datenbanken",
          "Digitale Editionen",
          "Einführung DH",
          "KI",
          "KI",
          "Methoden",
          "Methoden",
          "Misc",
          "Misc",
          "Misc",
          "Nicht-Text-Daten",
          "Nicht-Text-Daten",
          "PC Fortgeschritten",
          "PC Grundlagen",
          "Projekt",
          "Python Fortgeschritten",
          "Python Grundlagen",
          "R",
          "Rechtliches",
          "Statistik Fortgeschritten",
          "Statistik Grundlagen",
          "Tools",
          "Web",
          "DH Grundlagen",
          "DH Methoden & Tools",
          "DH Methoden & Tools",
          "DH Projekt",
          "Programmieren für DH",
          "Programmieren für DH",
          "Statistik für DH",
          "Statistik für DH",
          "Umgang mit dem PC",
          "Umgang mit dem PC",
          "Basismodul",
          "DH-Fortgeschritten",
          "Methodenmodul",
          "Praxismodul",
          "Schlüsselkompetenzen Zertifikat \"Digital Humanities\""
         ],
         "marker": {
          "cornerradius": 5
         },
         "name": "",
         "parents": [
          "Schlüsselkompetenzen Zertifikat \"Digital Humanities\"/Methodenmodul/Programmieren für DH/Python Grundlagen",
          "Schlüsselkompetenzen Zertifikat \"Digital Humanities\"/Methodenmodul/DH Methoden & Tools/KI",
          "Schlüsselkompetenzen Zertifikat \"Digital Humanities\"/Praxismodul/DH Projekt/Projekt",
          "Schlüsselkompetenzen Zertifikat \"Digital Humanities\"/Methodenmodul/DH Methoden & Tools/Nicht-Text-Daten",
          "Schlüsselkompetenzen Zertifikat \"Digital Humanities\"/DH-Fortgeschritten/DH Methoden & Tools/Nicht-Text-Daten",
          "Schlüsselkompetenzen Zertifikat \"Digital Humanities\"/DH-Fortgeschritten/Umgang mit dem PC/PC Fortgeschritten",
          "Schlüsselkompetenzen Zertifikat \"Digital Humanities\"/Basismodul/DH Grundlagen/Einführung DH",
          "Schlüsselkompetenzen Zertifikat \"Digital Humanities\"/Basismodul/DH Grundlagen/Einführung DH",
          "Schlüsselkompetenzen Zertifikat \"Digital Humanities\"/Basismodul/DH Grundlagen/Einführung DH",
          "Schlüsselkompetenzen Zertifikat \"Digital Humanities\"/Methodenmodul/DH Methoden & Tools/Nicht-Text-Daten",
          "Schlüsselkompetenzen Zertifikat \"Digital Humanities\"/DH-Fortgeschritten/DH Methoden & Tools/Nicht-Text-Daten",
          "Schlüsselkompetenzen Zertifikat \"Digital Humanities\"/Basismodul/Umgang mit dem PC/PC Grundlagen",
          "Schlüsselkompetenzen Zertifikat \"Digital Humanities\"/DH-Fortgeschritten/Umgang mit dem PC/PC Fortgeschritten",
          "Schlüsselkompetenzen Zertifikat \"Digital Humanities\"/Basismodul/DH Grundlagen/Einführung DH",
          "Schlüsselkompetenzen Zertifikat \"Digital Humanities\"/Basismodul/Umgang mit dem PC/PC Grundlagen",
          "Schlüsselkompetenzen Zertifikat \"Digital Humanities\"/Methodenmodul/Programmieren für DH/R",
          "Schlüsselkompetenzen Zertifikat \"Digital Humanities\"/Praxismodul/DH Projekt/Projekt",
          "Schlüsselkompetenzen Zertifikat \"Digital Humanities\"/DH-Fortgeschritten/Statistik für DH/Statistik Fortgeschritten",
          "Schlüsselkompetenzen Zertifikat \"Digital Humanities\"/Methodenmodul/Programmieren für DH/R",
          "Schlüsselkompetenzen Zertifikat \"Digital Humanities\"/Basismodul/DH Grundlagen/Rechtliches",
          "Schlüsselkompetenzen Zertifikat \"Digital Humanities\"/Basismodul/DH Grundlagen/Einführung DH",
          "Schlüsselkompetenzen Zertifikat \"Digital Humanities\"/Basismodul/DH Grundlagen/Einführung DH",
          "Schlüsselkompetenzen Zertifikat \"Digital Humanities\"/Methodenmodul/Programmieren für DH/R",
          "Schlüsselkompetenzen Zertifikat \"Digital Humanities\"/Methodenmodul/Programmieren für DH/Python Grundlagen",
          "Schlüsselkompetenzen Zertifikat \"Digital Humanities\"/DH-Fortgeschritten/Statistik für DH/Statistik Fortgeschritten",
          "Schlüsselkompetenzen Zertifikat \"Digital Humanities\"/Methodenmodul/DH Methoden & Tools/Digitale Editionen",
          "Schlüsselkompetenzen Zertifikat \"Digital Humanities\"/Methodenmodul/DH Methoden & Tools/Digitale Editionen",
          "Schlüsselkompetenzen Zertifikat \"Digital Humanities\"/Methodenmodul/DH Methoden & Tools/Methoden",
          "Schlüsselkompetenzen Zertifikat \"Digital Humanities\"/Basismodul/DH Grundlagen/Einführung DH",
          "Schlüsselkompetenzen Zertifikat \"Digital Humanities\"/Basismodul/DH Grundlagen/Einführung DH",
          "Schlüsselkompetenzen Zertifikat \"Digital Humanities\"/Basismodul/DH Grundlagen/Einführung DH",
          "Schlüsselkompetenzen Zertifikat \"Digital Humanities\"/Methodenmodul/DH Methoden & Tools/Methoden",
          "Schlüsselkompetenzen Zertifikat \"Digital Humanities\"/Basismodul/DH Grundlagen/Rechtliches",
          "Schlüsselkompetenzen Zertifikat \"Digital Humanities\"/Methodenmodul/DH Methoden & Tools/Datenbanken",
          "Schlüsselkompetenzen Zertifikat \"Digital Humanities\"/Methodenmodul/DH Methoden & Tools/Datenbanken",
          "Schlüsselkompetenzen Zertifikat \"Digital Humanities\"/Basismodul/DH Grundlagen/Einführung DH",
          "Schlüsselkompetenzen Zertifikat \"Digital Humanities\"/DH-Fortgeschritten/DH Methoden & Tools/Methoden",
          "Schlüsselkompetenzen Zertifikat \"Digital Humanities\"/Methodenmodul/Statistik für DH/Statistik Grundlagen",
          "Schlüsselkompetenzen Zertifikat \"Digital Humanities\"/Methodenmodul/Programmieren für DH/Python Grundlagen",
          "Schlüsselkompetenzen Zertifikat \"Digital Humanities\"/Methodenmodul/Programmieren für DH/R",
          "Schlüsselkompetenzen Zertifikat \"Digital Humanities\"/Methodenmodul/DH Methoden & Tools/Datenbanken",
          "Schlüsselkompetenzen Zertifikat \"Digital Humanities\"/Methodenmodul/DH Methoden & Tools/Datenbanken",
          "Schlüsselkompetenzen Zertifikat \"Digital Humanities\"/Methodenmodul/DH Methoden & Tools/Methoden",
          "Schlüsselkompetenzen Zertifikat \"Digital Humanities\"/Methodenmodul/Programmieren für DH/Python Grundlagen",
          "Schlüsselkompetenzen Zertifikat \"Digital Humanities\"/Basismodul/DH Grundlagen/Misc",
          "Schlüsselkompetenzen Zertifikat \"Digital Humanities\"/DH-Fortgeschritten/Programmieren für DH/Misc",
          "Schlüsselkompetenzen Zertifikat \"Digital Humanities\"/Methodenmodul/DH Methoden & Tools/Tools",
          "Schlüsselkompetenzen Zertifikat \"Digital Humanities\"/DH-Fortgeschritten/Statistik für DH/Statistik Fortgeschritten",
          "Schlüsselkompetenzen Zertifikat \"Digital Humanities\"/DH-Fortgeschritten/Statistik für DH/Statistik Fortgeschritten",
          "Schlüsselkompetenzen Zertifikat \"Digital Humanities\"/DH-Fortgeschritten/Statistik für DH/Statistik Fortgeschritten",
          "Schlüsselkompetenzen Zertifikat \"Digital Humanities\"/Methodenmodul/DH Methoden & Tools/Methoden",
          "Schlüsselkompetenzen Zertifikat \"Digital Humanities\"/Methodenmodul/Programmieren für DH/Python Grundlagen",
          "Schlüsselkompetenzen Zertifikat \"Digital Humanities\"/Methodenmodul/Statistik für DH/Statistik Grundlagen",
          "Schlüsselkompetenzen Zertifikat \"Digital Humanities\"/DH-Fortgeschritten/Umgang mit dem PC/PC Fortgeschritten",
          "Schlüsselkompetenzen Zertifikat \"Digital Humanities\"/DH-Fortgeschritten/DH Methoden & Tools/KI",
          "Schlüsselkompetenzen Zertifikat \"Digital Humanities\"/DH-Fortgeschritten/DH Methoden & Tools/KI",
          "Schlüsselkompetenzen Zertifikat \"Digital Humanities\"/Methodenmodul/DH Methoden & Tools/Tools",
          "Schlüsselkompetenzen Zertifikat \"Digital Humanities\"/DH-Fortgeschritten/Programmieren für DH/Python Fortgeschritten",
          "Schlüsselkompetenzen Zertifikat \"Digital Humanities\"/Methodenmodul/DH Methoden & Tools/Methoden",
          "Schlüsselkompetenzen Zertifikat \"Digital Humanities\"/DH-Fortgeschritten/DH Methoden & Tools/Methoden",
          "Schlüsselkompetenzen Zertifikat \"Digital Humanities\"/Methodenmodul/DH Methoden & Tools/Tools",
          "Schlüsselkompetenzen Zertifikat \"Digital Humanities\"/Basismodul/DH Grundlagen/Rechtliches",
          "Schlüsselkompetenzen Zertifikat \"Digital Humanities\"/Methodenmodul/DH Methoden & Tools/Tools",
          "Schlüsselkompetenzen Zertifikat \"Digital Humanities\"/Methodenmodul/Programmieren für DH/Python Grundlagen",
          "Schlüsselkompetenzen Zertifikat \"Digital Humanities\"/Praxismodul/DH Projekt/Projekt",
          "Schlüsselkompetenzen Zertifikat \"Digital Humanities\"/DH-Fortgeschritten/Umgang mit dem PC/PC Fortgeschritten",
          "Schlüsselkompetenzen Zertifikat \"Digital Humanities\"/Methodenmodul/Statistik für DH/Statistik Grundlagen",
          "Schlüsselkompetenzen Zertifikat \"Digital Humanities\"/Praxismodul/DH Projekt/Projekt",
          "Schlüsselkompetenzen Zertifikat \"Digital Humanities\"/DH-Fortgeschritten/Umgang mit dem PC/PC Fortgeschritten",
          "Schlüsselkompetenzen Zertifikat \"Digital Humanities\"/Basismodul/Umgang mit dem PC/PC Grundlagen",
          "Schlüsselkompetenzen Zertifikat \"Digital Humanities\"/Methodenmodul/Statistik für DH/Statistik Grundlagen",
          "Schlüsselkompetenzen Zertifikat \"Digital Humanities\"/DH-Fortgeschritten/Programmieren für DH/Python Fortgeschritten",
          "Schlüsselkompetenzen Zertifikat \"Digital Humanities\"/Methodenmodul/DH Methoden & Tools/Tools",
          "Schlüsselkompetenzen Zertifikat \"Digital Humanities\"/DH-Fortgeschritten/Programmieren für DH/Python Fortgeschritten",
          "Schlüsselkompetenzen Zertifikat \"Digital Humanities\"/Basismodul/Umgang mit dem PC/PC Grundlagen",
          "Schlüsselkompetenzen Zertifikat \"Digital Humanities\"/Methodenmodul/DH Methoden & Tools/Tools",
          "Schlüsselkompetenzen Zertifikat \"Digital Humanities\"/Basismodul/Umgang mit dem PC/PC Grundlagen",
          "Schlüsselkompetenzen Zertifikat \"Digital Humanities\"/Methodenmodul/Programmieren für DH/Python Grundlagen",
          "Schlüsselkompetenzen Zertifikat \"Digital Humanities\"/Basismodul/DH Grundlagen/Einführung DH",
          "Schlüsselkompetenzen Zertifikat \"Digital Humanities\"/Basismodul/DH Grundlagen/Einführung DH",
          "Schlüsselkompetenzen Zertifikat \"Digital Humanities\"/Methodenmodul/Programmieren für DH/R",
          "Schlüsselkompetenzen Zertifikat \"Digital Humanities\"/Methodenmodul/DH Methoden & Tools/Methoden",
          "Schlüsselkompetenzen Zertifikat \"Digital Humanities\"/DH-Fortgeschritten/DH Methoden & Tools/KI",
          "Schlüsselkompetenzen Zertifikat \"Digital Humanities\"/Methodenmodul/DH Methoden & Tools/Tools",
          "Schlüsselkompetenzen Zertifikat \"Digital Humanities\"/DH-Fortgeschritten/Umgang mit dem PC/PC Fortgeschritten",
          "Schlüsselkompetenzen Zertifikat \"Digital Humanities\"/Methodenmodul/Programmieren für DH/Misc",
          "Schlüsselkompetenzen Zertifikat \"Digital Humanities\"/DH-Fortgeschritten/Umgang mit dem PC/PC Fortgeschritten",
          "Schlüsselkompetenzen Zertifikat \"Digital Humanities\"/Methodenmodul/DH Methoden & Tools/Methoden",
          "Schlüsselkompetenzen Zertifikat \"Digital Humanities\"/Methodenmodul/DH Methoden & Tools/Tools",
          "Schlüsselkompetenzen Zertifikat \"Digital Humanities\"/Basismodul/Umgang mit dem PC/PC Grundlagen",
          "Schlüsselkompetenzen Zertifikat \"Digital Humanities\"/DH-Fortgeschritten/Umgang mit dem PC/PC Fortgeschritten",
          "Schlüsselkompetenzen Zertifikat \"Digital Humanities\"/Methodenmodul/DH Methoden & Tools/Nicht-Text-Daten",
          "Schlüsselkompetenzen Zertifikat \"Digital Humanities\"/Methodenmodul/Programmieren für DH/Web",
          "Schlüsselkompetenzen Zertifikat \"Digital Humanities\"/Methodenmodul/Programmieren für DH/Web",
          "Schlüsselkompetenzen Zertifikat \"Digital Humanities\"/Methodenmodul/Programmieren für DH/Web",
          "Schlüsselkompetenzen Zertifikat \"Digital Humanities\"/Praxismodul/DH Projekt/Projekt",
          "Schlüsselkompetenzen Zertifikat \"Digital Humanities\"/Methodenmodul/DH Methoden & Tools/Tools",
          "Schlüsselkompetenzen Zertifikat \"Digital Humanities\"/DH-Fortgeschritten/DH Methoden & Tools/Methoden",
          "Schlüsselkompetenzen Zertifikat \"Digital Humanities\"/Methodenmodul/DH Methoden & Tools/KI",
          "Schlüsselkompetenzen Zertifikat \"Digital Humanities\"/Basismodul/DH Grundlagen/Einführung DH",
          "Schlüsselkompetenzen Zertifikat \"Digital Humanities\"/Methodenmodul/DH Methoden & Tools",
          "Schlüsselkompetenzen Zertifikat \"Digital Humanities\"/Methodenmodul/DH Methoden & Tools",
          "Schlüsselkompetenzen Zertifikat \"Digital Humanities\"/Basismodul/DH Grundlagen",
          "Schlüsselkompetenzen Zertifikat \"Digital Humanities\"/DH-Fortgeschritten/DH Methoden & Tools",
          "Schlüsselkompetenzen Zertifikat \"Digital Humanities\"/Methodenmodul/DH Methoden & Tools",
          "Schlüsselkompetenzen Zertifikat \"Digital Humanities\"/DH-Fortgeschritten/DH Methoden & Tools",
          "Schlüsselkompetenzen Zertifikat \"Digital Humanities\"/Methodenmodul/DH Methoden & Tools",
          "Schlüsselkompetenzen Zertifikat \"Digital Humanities\"/Basismodul/DH Grundlagen",
          "Schlüsselkompetenzen Zertifikat \"Digital Humanities\"/DH-Fortgeschritten/Programmieren für DH",
          "Schlüsselkompetenzen Zertifikat \"Digital Humanities\"/Methodenmodul/Programmieren für DH",
          "Schlüsselkompetenzen Zertifikat \"Digital Humanities\"/DH-Fortgeschritten/DH Methoden & Tools",
          "Schlüsselkompetenzen Zertifikat \"Digital Humanities\"/Methodenmodul/DH Methoden & Tools",
          "Schlüsselkompetenzen Zertifikat \"Digital Humanities\"/DH-Fortgeschritten/Umgang mit dem PC",
          "Schlüsselkompetenzen Zertifikat \"Digital Humanities\"/Basismodul/Umgang mit dem PC",
          "Schlüsselkompetenzen Zertifikat \"Digital Humanities\"/Praxismodul/DH Projekt",
          "Schlüsselkompetenzen Zertifikat \"Digital Humanities\"/DH-Fortgeschritten/Programmieren für DH",
          "Schlüsselkompetenzen Zertifikat \"Digital Humanities\"/Methodenmodul/Programmieren für DH",
          "Schlüsselkompetenzen Zertifikat \"Digital Humanities\"/Methodenmodul/Programmieren für DH",
          "Schlüsselkompetenzen Zertifikat \"Digital Humanities\"/Basismodul/DH Grundlagen",
          "Schlüsselkompetenzen Zertifikat \"Digital Humanities\"/DH-Fortgeschritten/Statistik für DH",
          "Schlüsselkompetenzen Zertifikat \"Digital Humanities\"/Methodenmodul/Statistik für DH",
          "Schlüsselkompetenzen Zertifikat \"Digital Humanities\"/Methodenmodul/DH Methoden & Tools",
          "Schlüsselkompetenzen Zertifikat \"Digital Humanities\"/Methodenmodul/Programmieren für DH",
          "Schlüsselkompetenzen Zertifikat \"Digital Humanities\"/Basismodul",
          "Schlüsselkompetenzen Zertifikat \"Digital Humanities\"/DH-Fortgeschritten",
          "Schlüsselkompetenzen Zertifikat \"Digital Humanities\"/Methodenmodul",
          "Schlüsselkompetenzen Zertifikat \"Digital Humanities\"/Praxismodul",
          "Schlüsselkompetenzen Zertifikat \"Digital Humanities\"/DH-Fortgeschritten",
          "Schlüsselkompetenzen Zertifikat \"Digital Humanities\"/Methodenmodul",
          "Schlüsselkompetenzen Zertifikat \"Digital Humanities\"/DH-Fortgeschritten",
          "Schlüsselkompetenzen Zertifikat \"Digital Humanities\"/Methodenmodul",
          "Schlüsselkompetenzen Zertifikat \"Digital Humanities\"/Basismodul",
          "Schlüsselkompetenzen Zertifikat \"Digital Humanities\"/DH-Fortgeschritten",
          "Schlüsselkompetenzen Zertifikat \"Digital Humanities\"",
          "Schlüsselkompetenzen Zertifikat \"Digital Humanities\"",
          "Schlüsselkompetenzen Zertifikat \"Digital Humanities\"",
          "Schlüsselkompetenzen Zertifikat \"Digital Humanities\"",
          ""
         ],
         "type": "treemap",
         "values": [
          3,
          2,
          3,
          2,
          1,
          1,
          3,
          3,
          3,
          2,
          1,
          3,
          2,
          3,
          3,
          3,
          3,
          1,
          3,
          2,
          3,
          3,
          3,
          3,
          1,
          3,
          3,
          2,
          2,
          2,
          3,
          2,
          2,
          1,
          1,
          3,
          1,
          3,
          3,
          3,
          2,
          2,
          2,
          3,
          2,
          1,
          2,
          2,
          2,
          2,
          2,
          3,
          3,
          2,
          1,
          1,
          1,
          3,
          3,
          1,
          3,
          2,
          2,
          3,
          3,
          2,
          3,
          3,
          2,
          3,
          3,
          3,
          1,
          3,
          3,
          1,
          3,
          3,
          3,
          3,
          3,
          2,
          1,
          1,
          1,
          1,
          1,
          3,
          2,
          3,
          2,
          2,
          2,
          1,
          1,
          3,
          2,
          2,
          3,
          3,
          6,
          6,
          37,
          3,
          5,
          4,
          16,
          2,
          1,
          1,
          2,
          6,
          13,
          18,
          15,
          9,
          21,
          15,
          6,
          8,
          12,
          15,
          4,
          45,
          9,
          54,
          15,
          10,
          41,
          8,
          12,
          18,
          13,
          63,
          40,
          107,
          15,
          225
         ]
        }
       ],
       "layout": {
        "font": {
         "size": 15
        },
        "legend": {
         "tracegroupgap": 0
        },
        "margin": {
         "b": 25,
         "l": 25,
         "r": 25,
         "t": 25
        },
        "template": {
         "data": {
          "bar": [
           {
            "error_x": {
             "color": "rgb(36,36,36)"
            },
            "error_y": {
             "color": "rgb(36,36,36)"
            },
            "marker": {
             "line": {
              "color": "rgb(234,234,242)",
              "width": 0.5
             },
             "pattern": {
              "fillmode": "overlay",
              "size": 10,
              "solidity": 0.2
             }
            },
            "type": "bar"
           }
          ],
          "barpolar": [
           {
            "marker": {
             "line": {
              "color": "rgb(234,234,242)",
              "width": 0.5
             },
             "pattern": {
              "fillmode": "overlay",
              "size": 10,
              "solidity": 0.2
             }
            },
            "type": "barpolar"
           }
          ],
          "carpet": [
           {
            "aaxis": {
             "endlinecolor": "rgb(36,36,36)",
             "gridcolor": "white",
             "linecolor": "white",
             "minorgridcolor": "white",
             "startlinecolor": "rgb(36,36,36)"
            },
            "baxis": {
             "endlinecolor": "rgb(36,36,36)",
             "gridcolor": "white",
             "linecolor": "white",
             "minorgridcolor": "white",
             "startlinecolor": "rgb(36,36,36)"
            },
            "type": "carpet"
           }
          ],
          "choropleth": [
           {
            "colorbar": {
             "outlinewidth": 0,
             "tickcolor": "rgb(36,36,36)",
             "ticklen": 8,
             "ticks": "outside",
             "tickwidth": 2
            },
            "type": "choropleth"
           }
          ],
          "contour": [
           {
            "colorbar": {
             "outlinewidth": 0,
             "tickcolor": "rgb(36,36,36)",
             "ticklen": 8,
             "ticks": "outside",
             "tickwidth": 2
            },
            "colorscale": [
             [
              0,
              "rgb(2,4,25)"
             ],
             [
              0.06274509803921569,
              "rgb(24,15,41)"
             ],
             [
              0.12549019607843137,
              "rgb(47,23,57)"
             ],
             [
              0.18823529411764706,
              "rgb(71,28,72)"
             ],
             [
              0.25098039215686274,
              "rgb(97,30,82)"
             ],
             [
              0.3137254901960784,
              "rgb(123,30,89)"
             ],
             [
              0.3764705882352941,
              "rgb(150,27,91)"
             ],
             [
              0.4392156862745098,
              "rgb(177,22,88)"
             ],
             [
              0.5019607843137255,
              "rgb(203,26,79)"
             ],
             [
              0.5647058823529412,
              "rgb(223,47,67)"
             ],
             [
              0.6274509803921569,
              "rgb(236,76,61)"
             ],
             [
              0.6901960784313725,
              "rgb(242,107,73)"
             ],
             [
              0.7529411764705882,
              "rgb(244,135,95)"
             ],
             [
              0.8156862745098039,
              "rgb(245,162,122)"
             ],
             [
              0.8784313725490196,
              "rgb(246,188,153)"
             ],
             [
              0.9411764705882353,
              "rgb(247,212,187)"
             ],
             [
              1,
              "rgb(250,234,220)"
             ]
            ],
            "type": "contour"
           }
          ],
          "contourcarpet": [
           {
            "colorbar": {
             "outlinewidth": 0,
             "tickcolor": "rgb(36,36,36)",
             "ticklen": 8,
             "ticks": "outside",
             "tickwidth": 2
            },
            "type": "contourcarpet"
           }
          ],
          "heatmap": [
           {
            "colorbar": {
             "outlinewidth": 0,
             "tickcolor": "rgb(36,36,36)",
             "ticklen": 8,
             "ticks": "outside",
             "tickwidth": 2
            },
            "colorscale": [
             [
              0,
              "rgb(2,4,25)"
             ],
             [
              0.06274509803921569,
              "rgb(24,15,41)"
             ],
             [
              0.12549019607843137,
              "rgb(47,23,57)"
             ],
             [
              0.18823529411764706,
              "rgb(71,28,72)"
             ],
             [
              0.25098039215686274,
              "rgb(97,30,82)"
             ],
             [
              0.3137254901960784,
              "rgb(123,30,89)"
             ],
             [
              0.3764705882352941,
              "rgb(150,27,91)"
             ],
             [
              0.4392156862745098,
              "rgb(177,22,88)"
             ],
             [
              0.5019607843137255,
              "rgb(203,26,79)"
             ],
             [
              0.5647058823529412,
              "rgb(223,47,67)"
             ],
             [
              0.6274509803921569,
              "rgb(236,76,61)"
             ],
             [
              0.6901960784313725,
              "rgb(242,107,73)"
             ],
             [
              0.7529411764705882,
              "rgb(244,135,95)"
             ],
             [
              0.8156862745098039,
              "rgb(245,162,122)"
             ],
             [
              0.8784313725490196,
              "rgb(246,188,153)"
             ],
             [
              0.9411764705882353,
              "rgb(247,212,187)"
             ],
             [
              1,
              "rgb(250,234,220)"
             ]
            ],
            "type": "heatmap"
           }
          ],
          "heatmapgl": [
           {
            "colorbar": {
             "outlinewidth": 0,
             "tickcolor": "rgb(36,36,36)",
             "ticklen": 8,
             "ticks": "outside",
             "tickwidth": 2
            },
            "colorscale": [
             [
              0,
              "rgb(2,4,25)"
             ],
             [
              0.06274509803921569,
              "rgb(24,15,41)"
             ],
             [
              0.12549019607843137,
              "rgb(47,23,57)"
             ],
             [
              0.18823529411764706,
              "rgb(71,28,72)"
             ],
             [
              0.25098039215686274,
              "rgb(97,30,82)"
             ],
             [
              0.3137254901960784,
              "rgb(123,30,89)"
             ],
             [
              0.3764705882352941,
              "rgb(150,27,91)"
             ],
             [
              0.4392156862745098,
              "rgb(177,22,88)"
             ],
             [
              0.5019607843137255,
              "rgb(203,26,79)"
             ],
             [
              0.5647058823529412,
              "rgb(223,47,67)"
             ],
             [
              0.6274509803921569,
              "rgb(236,76,61)"
             ],
             [
              0.6901960784313725,
              "rgb(242,107,73)"
             ],
             [
              0.7529411764705882,
              "rgb(244,135,95)"
             ],
             [
              0.8156862745098039,
              "rgb(245,162,122)"
             ],
             [
              0.8784313725490196,
              "rgb(246,188,153)"
             ],
             [
              0.9411764705882353,
              "rgb(247,212,187)"
             ],
             [
              1,
              "rgb(250,234,220)"
             ]
            ],
            "type": "heatmapgl"
           }
          ],
          "histogram": [
           {
            "marker": {
             "pattern": {
              "fillmode": "overlay",
              "size": 10,
              "solidity": 0.2
             }
            },
            "type": "histogram"
           }
          ],
          "histogram2d": [
           {
            "colorbar": {
             "outlinewidth": 0,
             "tickcolor": "rgb(36,36,36)",
             "ticklen": 8,
             "ticks": "outside",
             "tickwidth": 2
            },
            "colorscale": [
             [
              0,
              "rgb(2,4,25)"
             ],
             [
              0.06274509803921569,
              "rgb(24,15,41)"
             ],
             [
              0.12549019607843137,
              "rgb(47,23,57)"
             ],
             [
              0.18823529411764706,
              "rgb(71,28,72)"
             ],
             [
              0.25098039215686274,
              "rgb(97,30,82)"
             ],
             [
              0.3137254901960784,
              "rgb(123,30,89)"
             ],
             [
              0.3764705882352941,
              "rgb(150,27,91)"
             ],
             [
              0.4392156862745098,
              "rgb(177,22,88)"
             ],
             [
              0.5019607843137255,
              "rgb(203,26,79)"
             ],
             [
              0.5647058823529412,
              "rgb(223,47,67)"
             ],
             [
              0.6274509803921569,
              "rgb(236,76,61)"
             ],
             [
              0.6901960784313725,
              "rgb(242,107,73)"
             ],
             [
              0.7529411764705882,
              "rgb(244,135,95)"
             ],
             [
              0.8156862745098039,
              "rgb(245,162,122)"
             ],
             [
              0.8784313725490196,
              "rgb(246,188,153)"
             ],
             [
              0.9411764705882353,
              "rgb(247,212,187)"
             ],
             [
              1,
              "rgb(250,234,220)"
             ]
            ],
            "type": "histogram2d"
           }
          ],
          "histogram2dcontour": [
           {
            "colorbar": {
             "outlinewidth": 0,
             "tickcolor": "rgb(36,36,36)",
             "ticklen": 8,
             "ticks": "outside",
             "tickwidth": 2
            },
            "colorscale": [
             [
              0,
              "rgb(2,4,25)"
             ],
             [
              0.06274509803921569,
              "rgb(24,15,41)"
             ],
             [
              0.12549019607843137,
              "rgb(47,23,57)"
             ],
             [
              0.18823529411764706,
              "rgb(71,28,72)"
             ],
             [
              0.25098039215686274,
              "rgb(97,30,82)"
             ],
             [
              0.3137254901960784,
              "rgb(123,30,89)"
             ],
             [
              0.3764705882352941,
              "rgb(150,27,91)"
             ],
             [
              0.4392156862745098,
              "rgb(177,22,88)"
             ],
             [
              0.5019607843137255,
              "rgb(203,26,79)"
             ],
             [
              0.5647058823529412,
              "rgb(223,47,67)"
             ],
             [
              0.6274509803921569,
              "rgb(236,76,61)"
             ],
             [
              0.6901960784313725,
              "rgb(242,107,73)"
             ],
             [
              0.7529411764705882,
              "rgb(244,135,95)"
             ],
             [
              0.8156862745098039,
              "rgb(245,162,122)"
             ],
             [
              0.8784313725490196,
              "rgb(246,188,153)"
             ],
             [
              0.9411764705882353,
              "rgb(247,212,187)"
             ],
             [
              1,
              "rgb(250,234,220)"
             ]
            ],
            "type": "histogram2dcontour"
           }
          ],
          "mesh3d": [
           {
            "colorbar": {
             "outlinewidth": 0,
             "tickcolor": "rgb(36,36,36)",
             "ticklen": 8,
             "ticks": "outside",
             "tickwidth": 2
            },
            "type": "mesh3d"
           }
          ],
          "parcoords": [
           {
            "line": {
             "colorbar": {
              "outlinewidth": 0,
              "tickcolor": "rgb(36,36,36)",
              "ticklen": 8,
              "ticks": "outside",
              "tickwidth": 2
             }
            },
            "type": "parcoords"
           }
          ],
          "pie": [
           {
            "automargin": true,
            "type": "pie"
           }
          ],
          "scatter": [
           {
            "fillpattern": {
             "fillmode": "overlay",
             "size": 10,
             "solidity": 0.2
            },
            "type": "scatter"
           }
          ],
          "scatter3d": [
           {
            "line": {
             "colorbar": {
              "outlinewidth": 0,
              "tickcolor": "rgb(36,36,36)",
              "ticklen": 8,
              "ticks": "outside",
              "tickwidth": 2
             }
            },
            "marker": {
             "colorbar": {
              "outlinewidth": 0,
              "tickcolor": "rgb(36,36,36)",
              "ticklen": 8,
              "ticks": "outside",
              "tickwidth": 2
             }
            },
            "type": "scatter3d"
           }
          ],
          "scattercarpet": [
           {
            "marker": {
             "colorbar": {
              "outlinewidth": 0,
              "tickcolor": "rgb(36,36,36)",
              "ticklen": 8,
              "ticks": "outside",
              "tickwidth": 2
             }
            },
            "type": "scattercarpet"
           }
          ],
          "scattergeo": [
           {
            "marker": {
             "colorbar": {
              "outlinewidth": 0,
              "tickcolor": "rgb(36,36,36)",
              "ticklen": 8,
              "ticks": "outside",
              "tickwidth": 2
             }
            },
            "type": "scattergeo"
           }
          ],
          "scattergl": [
           {
            "marker": {
             "colorbar": {
              "outlinewidth": 0,
              "tickcolor": "rgb(36,36,36)",
              "ticklen": 8,
              "ticks": "outside",
              "tickwidth": 2
             }
            },
            "type": "scattergl"
           }
          ],
          "scattermapbox": [
           {
            "marker": {
             "colorbar": {
              "outlinewidth": 0,
              "tickcolor": "rgb(36,36,36)",
              "ticklen": 8,
              "ticks": "outside",
              "tickwidth": 2
             }
            },
            "type": "scattermapbox"
           }
          ],
          "scatterpolar": [
           {
            "marker": {
             "colorbar": {
              "outlinewidth": 0,
              "tickcolor": "rgb(36,36,36)",
              "ticklen": 8,
              "ticks": "outside",
              "tickwidth": 2
             }
            },
            "type": "scatterpolar"
           }
          ],
          "scatterpolargl": [
           {
            "marker": {
             "colorbar": {
              "outlinewidth": 0,
              "tickcolor": "rgb(36,36,36)",
              "ticklen": 8,
              "ticks": "outside",
              "tickwidth": 2
             }
            },
            "type": "scatterpolargl"
           }
          ],
          "scatterternary": [
           {
            "marker": {
             "colorbar": {
              "outlinewidth": 0,
              "tickcolor": "rgb(36,36,36)",
              "ticklen": 8,
              "ticks": "outside",
              "tickwidth": 2
             }
            },
            "type": "scatterternary"
           }
          ],
          "surface": [
           {
            "colorbar": {
             "outlinewidth": 0,
             "tickcolor": "rgb(36,36,36)",
             "ticklen": 8,
             "ticks": "outside",
             "tickwidth": 2
            },
            "colorscale": [
             [
              0,
              "rgb(2,4,25)"
             ],
             [
              0.06274509803921569,
              "rgb(24,15,41)"
             ],
             [
              0.12549019607843137,
              "rgb(47,23,57)"
             ],
             [
              0.18823529411764706,
              "rgb(71,28,72)"
             ],
             [
              0.25098039215686274,
              "rgb(97,30,82)"
             ],
             [
              0.3137254901960784,
              "rgb(123,30,89)"
             ],
             [
              0.3764705882352941,
              "rgb(150,27,91)"
             ],
             [
              0.4392156862745098,
              "rgb(177,22,88)"
             ],
             [
              0.5019607843137255,
              "rgb(203,26,79)"
             ],
             [
              0.5647058823529412,
              "rgb(223,47,67)"
             ],
             [
              0.6274509803921569,
              "rgb(236,76,61)"
             ],
             [
              0.6901960784313725,
              "rgb(242,107,73)"
             ],
             [
              0.7529411764705882,
              "rgb(244,135,95)"
             ],
             [
              0.8156862745098039,
              "rgb(245,162,122)"
             ],
             [
              0.8784313725490196,
              "rgb(246,188,153)"
             ],
             [
              0.9411764705882353,
              "rgb(247,212,187)"
             ],
             [
              1,
              "rgb(250,234,220)"
             ]
            ],
            "type": "surface"
           }
          ],
          "table": [
           {
            "cells": {
             "fill": {
              "color": "rgb(231,231,240)"
             },
             "line": {
              "color": "white"
             }
            },
            "header": {
             "fill": {
              "color": "rgb(183,183,191)"
             },
             "line": {
              "color": "white"
             }
            },
            "type": "table"
           }
          ]
         },
         "layout": {
          "annotationdefaults": {
           "arrowcolor": "rgb(67,103,167)"
          },
          "autotypenumbers": "strict",
          "coloraxis": {
           "colorbar": {
            "outlinewidth": 0,
            "tickcolor": "rgb(36,36,36)",
            "ticklen": 8,
            "ticks": "outside",
            "tickwidth": 2
           }
          },
          "colorscale": {
           "sequential": [
            [
             0,
             "rgb(2,4,25)"
            ],
            [
             0.06274509803921569,
             "rgb(24,15,41)"
            ],
            [
             0.12549019607843137,
             "rgb(47,23,57)"
            ],
            [
             0.18823529411764706,
             "rgb(71,28,72)"
            ],
            [
             0.25098039215686274,
             "rgb(97,30,82)"
            ],
            [
             0.3137254901960784,
             "rgb(123,30,89)"
            ],
            [
             0.3764705882352941,
             "rgb(150,27,91)"
            ],
            [
             0.4392156862745098,
             "rgb(177,22,88)"
            ],
            [
             0.5019607843137255,
             "rgb(203,26,79)"
            ],
            [
             0.5647058823529412,
             "rgb(223,47,67)"
            ],
            [
             0.6274509803921569,
             "rgb(236,76,61)"
            ],
            [
             0.6901960784313725,
             "rgb(242,107,73)"
            ],
            [
             0.7529411764705882,
             "rgb(244,135,95)"
            ],
            [
             0.8156862745098039,
             "rgb(245,162,122)"
            ],
            [
             0.8784313725490196,
             "rgb(246,188,153)"
            ],
            [
             0.9411764705882353,
             "rgb(247,212,187)"
            ],
            [
             1,
             "rgb(250,234,220)"
            ]
           ],
           "sequentialminus": [
            [
             0,
             "rgb(2,4,25)"
            ],
            [
             0.06274509803921569,
             "rgb(24,15,41)"
            ],
            [
             0.12549019607843137,
             "rgb(47,23,57)"
            ],
            [
             0.18823529411764706,
             "rgb(71,28,72)"
            ],
            [
             0.25098039215686274,
             "rgb(97,30,82)"
            ],
            [
             0.3137254901960784,
             "rgb(123,30,89)"
            ],
            [
             0.3764705882352941,
             "rgb(150,27,91)"
            ],
            [
             0.4392156862745098,
             "rgb(177,22,88)"
            ],
            [
             0.5019607843137255,
             "rgb(203,26,79)"
            ],
            [
             0.5647058823529412,
             "rgb(223,47,67)"
            ],
            [
             0.6274509803921569,
             "rgb(236,76,61)"
            ],
            [
             0.6901960784313725,
             "rgb(242,107,73)"
            ],
            [
             0.7529411764705882,
             "rgb(244,135,95)"
            ],
            [
             0.8156862745098039,
             "rgb(245,162,122)"
            ],
            [
             0.8784313725490196,
             "rgb(246,188,153)"
            ],
            [
             0.9411764705882353,
             "rgb(247,212,187)"
            ],
            [
             1,
             "rgb(250,234,220)"
            ]
           ]
          },
          "colorway": [
           "rgb(76,114,176)",
           "rgb(221,132,82)",
           "rgb(85,168,104)",
           "rgb(196,78,82)",
           "rgb(129,114,179)",
           "rgb(147,120,96)",
           "rgb(218,139,195)",
           "rgb(140,140,140)",
           "rgb(204,185,116)",
           "rgb(100,181,205)"
          ],
          "font": {
           "color": "rgb(36,36,36)"
          },
          "geo": {
           "bgcolor": "white",
           "lakecolor": "white",
           "landcolor": "rgb(234,234,242)",
           "showlakes": true,
           "showland": true,
           "subunitcolor": "white"
          },
          "hoverlabel": {
           "align": "left"
          },
          "hovermode": "closest",
          "paper_bgcolor": "white",
          "plot_bgcolor": "rgb(234,234,242)",
          "polar": {
           "angularaxis": {
            "gridcolor": "white",
            "linecolor": "white",
            "showgrid": true,
            "ticks": ""
           },
           "bgcolor": "rgb(234,234,242)",
           "radialaxis": {
            "gridcolor": "white",
            "linecolor": "white",
            "showgrid": true,
            "ticks": ""
           }
          },
          "scene": {
           "xaxis": {
            "backgroundcolor": "rgb(234,234,242)",
            "gridcolor": "white",
            "gridwidth": 2,
            "linecolor": "white",
            "showbackground": true,
            "showgrid": true,
            "ticks": "",
            "zerolinecolor": "white"
           },
           "yaxis": {
            "backgroundcolor": "rgb(234,234,242)",
            "gridcolor": "white",
            "gridwidth": 2,
            "linecolor": "white",
            "showbackground": true,
            "showgrid": true,
            "ticks": "",
            "zerolinecolor": "white"
           },
           "zaxis": {
            "backgroundcolor": "rgb(234,234,242)",
            "gridcolor": "white",
            "gridwidth": 2,
            "linecolor": "white",
            "showbackground": true,
            "showgrid": true,
            "ticks": "",
            "zerolinecolor": "white"
           }
          },
          "shapedefaults": {
           "fillcolor": "rgb(67,103,167)",
           "line": {
            "width": 0
           },
           "opacity": 0.5
          },
          "ternary": {
           "aaxis": {
            "gridcolor": "white",
            "linecolor": "white",
            "showgrid": true,
            "ticks": ""
           },
           "baxis": {
            "gridcolor": "white",
            "linecolor": "white",
            "showgrid": true,
            "ticks": ""
           },
           "bgcolor": "rgb(234,234,242)",
           "caxis": {
            "gridcolor": "white",
            "linecolor": "white",
            "showgrid": true,
            "ticks": ""
           }
          },
          "xaxis": {
           "automargin": true,
           "gridcolor": "white",
           "linecolor": "white",
           "showgrid": true,
           "ticks": "",
           "title": {
            "standoff": 15
           },
           "zerolinecolor": "white"
          },
          "yaxis": {
           "automargin": true,
           "gridcolor": "white",
           "linecolor": "white",
           "showgrid": true,
           "ticks": "",
           "title": {
            "standoff": 15
           },
           "zerolinecolor": "white"
          }
         }
        }
       }
      }
     },
     "metadata": {},
     "output_type": "display_data"
    }
   ],
   "source": [
    "import plotly.express as px\n",
    "\n",
    "fig = px.treemap(df, path=[\n",
    "    px.Constant('Schlüsselkompetenzen Zertifikat \"Digital Humanities\"'),\n",
    "    'Modul_Option2',\n",
    "    'Bereich',\n",
    "    'Unterbereich',\n",
    "    'AS'\n",
    "    ],\n",
    "    values='Prio_',\n",
    "    # hover_data=['Zeitaufwand'],\n",
    "    # marker_colors = RUB_colors\n",
    "    # color='Zertifikatsbereich'\n",
    ")\n",
    "fig.update_traces(marker=dict(cornerradius=5))\n",
    "fig.update_layout(margin=dict(t=25, l=25, r=25, b=25))\n",
    "fig.update_traces(hovertemplate='%{label}')\n",
    "fig.update_layout(\n",
    "    template='seaborn',\n",
    "    font=dict(\n",
    "        # family=\"Courier New, monospace\",\n",
    "        size=15,  # Set the font size here\n",
    "        # color=\"RebeccaPurple\"\n",
    "    )\n",
    ")\n",
    "fig.show()\n",
    "fig.write_html(\"AS_4Module.html\",  include_plotlyjs='cdn')"
   ]
  },
  {
   "cell_type": "markdown",
   "metadata": {},
   "source": [
    "## Ohne AS"
   ]
  },
  {
   "cell_type": "code",
   "execution_count": 14,
   "metadata": {},
   "outputs": [
    {
     "data": {
      "application/vnd.plotly.v1+json": {
       "config": {
        "plotlyServerURL": "https://plot.ly"
       },
       "data": [
        {
         "branchvalues": "total",
         "domain": {
          "x": [
           0,
           1
          ],
          "y": [
           0,
           1
          ]
         },
         "hovertemplate": "%{label}",
         "ids": [
          "Schlüsselkompetenzen Zertifikat \"Digital Humanities\"/Methodenmodul/DH Methoden & Tools/Datenbanken",
          "Schlüsselkompetenzen Zertifikat \"Digital Humanities\"/Methodenmodul/DH Methoden & Tools/Digitale Editionen",
          "Schlüsselkompetenzen Zertifikat \"Digital Humanities\"/Basismodul/DH Grundlagen/Einführung DH",
          "Schlüsselkompetenzen Zertifikat \"Digital Humanities\"/DH-Fortgeschritten/DH Methoden & Tools/KI",
          "Schlüsselkompetenzen Zertifikat \"Digital Humanities\"/Methodenmodul/DH Methoden & Tools/KI",
          "Schlüsselkompetenzen Zertifikat \"Digital Humanities\"/DH-Fortgeschritten/DH Methoden & Tools/Methoden",
          "Schlüsselkompetenzen Zertifikat \"Digital Humanities\"/Methodenmodul/DH Methoden & Tools/Methoden",
          "Schlüsselkompetenzen Zertifikat \"Digital Humanities\"/Basismodul/DH Grundlagen/Misc",
          "Schlüsselkompetenzen Zertifikat \"Digital Humanities\"/DH-Fortgeschritten/Programmieren für DH/Misc",
          "Schlüsselkompetenzen Zertifikat \"Digital Humanities\"/Methodenmodul/Programmieren für DH/Misc",
          "Schlüsselkompetenzen Zertifikat \"Digital Humanities\"/DH-Fortgeschritten/DH Methoden & Tools/Nicht-Text-Daten",
          "Schlüsselkompetenzen Zertifikat \"Digital Humanities\"/Methodenmodul/DH Methoden & Tools/Nicht-Text-Daten",
          "Schlüsselkompetenzen Zertifikat \"Digital Humanities\"/DH-Fortgeschritten/Umgang mit dem PC/PC Fortgeschritten",
          "Schlüsselkompetenzen Zertifikat \"Digital Humanities\"/Basismodul/Umgang mit dem PC/PC Grundlagen",
          "Schlüsselkompetenzen Zertifikat \"Digital Humanities\"/Praxismodul/DH Projekt/Projekt",
          "Schlüsselkompetenzen Zertifikat \"Digital Humanities\"/DH-Fortgeschritten/Programmieren für DH/Python Fortgeschritten",
          "Schlüsselkompetenzen Zertifikat \"Digital Humanities\"/Methodenmodul/Programmieren für DH/Python Grundlagen",
          "Schlüsselkompetenzen Zertifikat \"Digital Humanities\"/Methodenmodul/Programmieren für DH/R",
          "Schlüsselkompetenzen Zertifikat \"Digital Humanities\"/Basismodul/DH Grundlagen/Rechtliches",
          "Schlüsselkompetenzen Zertifikat \"Digital Humanities\"/DH-Fortgeschritten/Statistik für DH/Statistik Fortgeschritten",
          "Schlüsselkompetenzen Zertifikat \"Digital Humanities\"/Methodenmodul/Statistik für DH/Statistik Grundlagen",
          "Schlüsselkompetenzen Zertifikat \"Digital Humanities\"/Methodenmodul/DH Methoden & Tools/Tools",
          "Schlüsselkompetenzen Zertifikat \"Digital Humanities\"/Methodenmodul/Programmieren für DH/Web",
          "Schlüsselkompetenzen Zertifikat \"Digital Humanities\"/Basismodul/DH Grundlagen",
          "Schlüsselkompetenzen Zertifikat \"Digital Humanities\"/DH-Fortgeschritten/DH Methoden & Tools",
          "Schlüsselkompetenzen Zertifikat \"Digital Humanities\"/Methodenmodul/DH Methoden & Tools",
          "Schlüsselkompetenzen Zertifikat \"Digital Humanities\"/Praxismodul/DH Projekt",
          "Schlüsselkompetenzen Zertifikat \"Digital Humanities\"/DH-Fortgeschritten/Programmieren für DH",
          "Schlüsselkompetenzen Zertifikat \"Digital Humanities\"/Methodenmodul/Programmieren für DH",
          "Schlüsselkompetenzen Zertifikat \"Digital Humanities\"/DH-Fortgeschritten/Statistik für DH",
          "Schlüsselkompetenzen Zertifikat \"Digital Humanities\"/Methodenmodul/Statistik für DH",
          "Schlüsselkompetenzen Zertifikat \"Digital Humanities\"/Basismodul/Umgang mit dem PC",
          "Schlüsselkompetenzen Zertifikat \"Digital Humanities\"/DH-Fortgeschritten/Umgang mit dem PC",
          "Schlüsselkompetenzen Zertifikat \"Digital Humanities\"/Basismodul",
          "Schlüsselkompetenzen Zertifikat \"Digital Humanities\"/DH-Fortgeschritten",
          "Schlüsselkompetenzen Zertifikat \"Digital Humanities\"/Methodenmodul",
          "Schlüsselkompetenzen Zertifikat \"Digital Humanities\"/Praxismodul",
          "Schlüsselkompetenzen Zertifikat \"Digital Humanities\""
         ],
         "labels": [
          "Datenbanken",
          "Digitale Editionen",
          "Einführung DH",
          "KI",
          "KI",
          "Methoden",
          "Methoden",
          "Misc",
          "Misc",
          "Misc",
          "Nicht-Text-Daten",
          "Nicht-Text-Daten",
          "PC Fortgeschritten",
          "PC Grundlagen",
          "Projekt",
          "Python Fortgeschritten",
          "Python Grundlagen",
          "R",
          "Rechtliches",
          "Statistik Fortgeschritten",
          "Statistik Grundlagen",
          "Tools",
          "Web",
          "DH Grundlagen",
          "DH Methoden & Tools",
          "DH Methoden & Tools",
          "DH Projekt",
          "Programmieren für DH",
          "Programmieren für DH",
          "Statistik für DH",
          "Statistik für DH",
          "Umgang mit dem PC",
          "Umgang mit dem PC",
          "Basismodul",
          "DH-Fortgeschritten",
          "Methodenmodul",
          "Praxismodul",
          "Schlüsselkompetenzen Zertifikat \"Digital Humanities\""
         ],
         "marker": {
          "cornerradius": 5
         },
         "name": "",
         "parents": [
          "Schlüsselkompetenzen Zertifikat \"Digital Humanities\"/Methodenmodul/DH Methoden & Tools",
          "Schlüsselkompetenzen Zertifikat \"Digital Humanities\"/Methodenmodul/DH Methoden & Tools",
          "Schlüsselkompetenzen Zertifikat \"Digital Humanities\"/Basismodul/DH Grundlagen",
          "Schlüsselkompetenzen Zertifikat \"Digital Humanities\"/DH-Fortgeschritten/DH Methoden & Tools",
          "Schlüsselkompetenzen Zertifikat \"Digital Humanities\"/Methodenmodul/DH Methoden & Tools",
          "Schlüsselkompetenzen Zertifikat \"Digital Humanities\"/DH-Fortgeschritten/DH Methoden & Tools",
          "Schlüsselkompetenzen Zertifikat \"Digital Humanities\"/Methodenmodul/DH Methoden & Tools",
          "Schlüsselkompetenzen Zertifikat \"Digital Humanities\"/Basismodul/DH Grundlagen",
          "Schlüsselkompetenzen Zertifikat \"Digital Humanities\"/DH-Fortgeschritten/Programmieren für DH",
          "Schlüsselkompetenzen Zertifikat \"Digital Humanities\"/Methodenmodul/Programmieren für DH",
          "Schlüsselkompetenzen Zertifikat \"Digital Humanities\"/DH-Fortgeschritten/DH Methoden & Tools",
          "Schlüsselkompetenzen Zertifikat \"Digital Humanities\"/Methodenmodul/DH Methoden & Tools",
          "Schlüsselkompetenzen Zertifikat \"Digital Humanities\"/DH-Fortgeschritten/Umgang mit dem PC",
          "Schlüsselkompetenzen Zertifikat \"Digital Humanities\"/Basismodul/Umgang mit dem PC",
          "Schlüsselkompetenzen Zertifikat \"Digital Humanities\"/Praxismodul/DH Projekt",
          "Schlüsselkompetenzen Zertifikat \"Digital Humanities\"/DH-Fortgeschritten/Programmieren für DH",
          "Schlüsselkompetenzen Zertifikat \"Digital Humanities\"/Methodenmodul/Programmieren für DH",
          "Schlüsselkompetenzen Zertifikat \"Digital Humanities\"/Methodenmodul/Programmieren für DH",
          "Schlüsselkompetenzen Zertifikat \"Digital Humanities\"/Basismodul/DH Grundlagen",
          "Schlüsselkompetenzen Zertifikat \"Digital Humanities\"/DH-Fortgeschritten/Statistik für DH",
          "Schlüsselkompetenzen Zertifikat \"Digital Humanities\"/Methodenmodul/Statistik für DH",
          "Schlüsselkompetenzen Zertifikat \"Digital Humanities\"/Methodenmodul/DH Methoden & Tools",
          "Schlüsselkompetenzen Zertifikat \"Digital Humanities\"/Methodenmodul/Programmieren für DH",
          "Schlüsselkompetenzen Zertifikat \"Digital Humanities\"/Basismodul",
          "Schlüsselkompetenzen Zertifikat \"Digital Humanities\"/DH-Fortgeschritten",
          "Schlüsselkompetenzen Zertifikat \"Digital Humanities\"/Methodenmodul",
          "Schlüsselkompetenzen Zertifikat \"Digital Humanities\"/Praxismodul",
          "Schlüsselkompetenzen Zertifikat \"Digital Humanities\"/DH-Fortgeschritten",
          "Schlüsselkompetenzen Zertifikat \"Digital Humanities\"/Methodenmodul",
          "Schlüsselkompetenzen Zertifikat \"Digital Humanities\"/DH-Fortgeschritten",
          "Schlüsselkompetenzen Zertifikat \"Digital Humanities\"/Methodenmodul",
          "Schlüsselkompetenzen Zertifikat \"Digital Humanities\"/Basismodul",
          "Schlüsselkompetenzen Zertifikat \"Digital Humanities\"/DH-Fortgeschritten",
          "Schlüsselkompetenzen Zertifikat \"Digital Humanities\"",
          "Schlüsselkompetenzen Zertifikat \"Digital Humanities\"",
          "Schlüsselkompetenzen Zertifikat \"Digital Humanities\"",
          "Schlüsselkompetenzen Zertifikat \"Digital Humanities\"",
          ""
         ],
         "type": "treemap",
         "values": [
          6,
          6,
          37,
          3,
          5,
          4,
          16,
          2,
          1,
          1,
          2,
          6,
          13,
          18,
          15,
          9,
          21,
          15,
          6,
          8,
          12,
          15,
          4,
          45,
          9,
          54,
          15,
          10,
          41,
          8,
          12,
          18,
          13,
          63,
          40,
          107,
          15,
          225
         ]
        }
       ],
       "layout": {
        "legend": {
         "tracegroupgap": 0
        },
        "margin": {
         "b": 25,
         "l": 25,
         "r": 25,
         "t": 25
        },
        "template": {
         "data": {
          "bar": [
           {
            "error_x": {
             "color": "#2a3f5f"
            },
            "error_y": {
             "color": "#2a3f5f"
            },
            "marker": {
             "line": {
              "color": "#E5ECF6",
              "width": 0.5
             },
             "pattern": {
              "fillmode": "overlay",
              "size": 10,
              "solidity": 0.2
             }
            },
            "type": "bar"
           }
          ],
          "barpolar": [
           {
            "marker": {
             "line": {
              "color": "#E5ECF6",
              "width": 0.5
             },
             "pattern": {
              "fillmode": "overlay",
              "size": 10,
              "solidity": 0.2
             }
            },
            "type": "barpolar"
           }
          ],
          "carpet": [
           {
            "aaxis": {
             "endlinecolor": "#2a3f5f",
             "gridcolor": "white",
             "linecolor": "white",
             "minorgridcolor": "white",
             "startlinecolor": "#2a3f5f"
            },
            "baxis": {
             "endlinecolor": "#2a3f5f",
             "gridcolor": "white",
             "linecolor": "white",
             "minorgridcolor": "white",
             "startlinecolor": "#2a3f5f"
            },
            "type": "carpet"
           }
          ],
          "choropleth": [
           {
            "colorbar": {
             "outlinewidth": 0,
             "ticks": ""
            },
            "type": "choropleth"
           }
          ],
          "contour": [
           {
            "colorbar": {
             "outlinewidth": 0,
             "ticks": ""
            },
            "colorscale": [
             [
              0,
              "#0d0887"
             ],
             [
              0.1111111111111111,
              "#46039f"
             ],
             [
              0.2222222222222222,
              "#7201a8"
             ],
             [
              0.3333333333333333,
              "#9c179e"
             ],
             [
              0.4444444444444444,
              "#bd3786"
             ],
             [
              0.5555555555555556,
              "#d8576b"
             ],
             [
              0.6666666666666666,
              "#ed7953"
             ],
             [
              0.7777777777777778,
              "#fb9f3a"
             ],
             [
              0.8888888888888888,
              "#fdca26"
             ],
             [
              1,
              "#f0f921"
             ]
            ],
            "type": "contour"
           }
          ],
          "contourcarpet": [
           {
            "colorbar": {
             "outlinewidth": 0,
             "ticks": ""
            },
            "type": "contourcarpet"
           }
          ],
          "heatmap": [
           {
            "colorbar": {
             "outlinewidth": 0,
             "ticks": ""
            },
            "colorscale": [
             [
              0,
              "#0d0887"
             ],
             [
              0.1111111111111111,
              "#46039f"
             ],
             [
              0.2222222222222222,
              "#7201a8"
             ],
             [
              0.3333333333333333,
              "#9c179e"
             ],
             [
              0.4444444444444444,
              "#bd3786"
             ],
             [
              0.5555555555555556,
              "#d8576b"
             ],
             [
              0.6666666666666666,
              "#ed7953"
             ],
             [
              0.7777777777777778,
              "#fb9f3a"
             ],
             [
              0.8888888888888888,
              "#fdca26"
             ],
             [
              1,
              "#f0f921"
             ]
            ],
            "type": "heatmap"
           }
          ],
          "heatmapgl": [
           {
            "colorbar": {
             "outlinewidth": 0,
             "ticks": ""
            },
            "colorscale": [
             [
              0,
              "#0d0887"
             ],
             [
              0.1111111111111111,
              "#46039f"
             ],
             [
              0.2222222222222222,
              "#7201a8"
             ],
             [
              0.3333333333333333,
              "#9c179e"
             ],
             [
              0.4444444444444444,
              "#bd3786"
             ],
             [
              0.5555555555555556,
              "#d8576b"
             ],
             [
              0.6666666666666666,
              "#ed7953"
             ],
             [
              0.7777777777777778,
              "#fb9f3a"
             ],
             [
              0.8888888888888888,
              "#fdca26"
             ],
             [
              1,
              "#f0f921"
             ]
            ],
            "type": "heatmapgl"
           }
          ],
          "histogram": [
           {
            "marker": {
             "pattern": {
              "fillmode": "overlay",
              "size": 10,
              "solidity": 0.2
             }
            },
            "type": "histogram"
           }
          ],
          "histogram2d": [
           {
            "colorbar": {
             "outlinewidth": 0,
             "ticks": ""
            },
            "colorscale": [
             [
              0,
              "#0d0887"
             ],
             [
              0.1111111111111111,
              "#46039f"
             ],
             [
              0.2222222222222222,
              "#7201a8"
             ],
             [
              0.3333333333333333,
              "#9c179e"
             ],
             [
              0.4444444444444444,
              "#bd3786"
             ],
             [
              0.5555555555555556,
              "#d8576b"
             ],
             [
              0.6666666666666666,
              "#ed7953"
             ],
             [
              0.7777777777777778,
              "#fb9f3a"
             ],
             [
              0.8888888888888888,
              "#fdca26"
             ],
             [
              1,
              "#f0f921"
             ]
            ],
            "type": "histogram2d"
           }
          ],
          "histogram2dcontour": [
           {
            "colorbar": {
             "outlinewidth": 0,
             "ticks": ""
            },
            "colorscale": [
             [
              0,
              "#0d0887"
             ],
             [
              0.1111111111111111,
              "#46039f"
             ],
             [
              0.2222222222222222,
              "#7201a8"
             ],
             [
              0.3333333333333333,
              "#9c179e"
             ],
             [
              0.4444444444444444,
              "#bd3786"
             ],
             [
              0.5555555555555556,
              "#d8576b"
             ],
             [
              0.6666666666666666,
              "#ed7953"
             ],
             [
              0.7777777777777778,
              "#fb9f3a"
             ],
             [
              0.8888888888888888,
              "#fdca26"
             ],
             [
              1,
              "#f0f921"
             ]
            ],
            "type": "histogram2dcontour"
           }
          ],
          "mesh3d": [
           {
            "colorbar": {
             "outlinewidth": 0,
             "ticks": ""
            },
            "type": "mesh3d"
           }
          ],
          "parcoords": [
           {
            "line": {
             "colorbar": {
              "outlinewidth": 0,
              "ticks": ""
             }
            },
            "type": "parcoords"
           }
          ],
          "pie": [
           {
            "automargin": true,
            "type": "pie"
           }
          ],
          "scatter": [
           {
            "fillpattern": {
             "fillmode": "overlay",
             "size": 10,
             "solidity": 0.2
            },
            "type": "scatter"
           }
          ],
          "scatter3d": [
           {
            "line": {
             "colorbar": {
              "outlinewidth": 0,
              "ticks": ""
             }
            },
            "marker": {
             "colorbar": {
              "outlinewidth": 0,
              "ticks": ""
             }
            },
            "type": "scatter3d"
           }
          ],
          "scattercarpet": [
           {
            "marker": {
             "colorbar": {
              "outlinewidth": 0,
              "ticks": ""
             }
            },
            "type": "scattercarpet"
           }
          ],
          "scattergeo": [
           {
            "marker": {
             "colorbar": {
              "outlinewidth": 0,
              "ticks": ""
             }
            },
            "type": "scattergeo"
           }
          ],
          "scattergl": [
           {
            "marker": {
             "colorbar": {
              "outlinewidth": 0,
              "ticks": ""
             }
            },
            "type": "scattergl"
           }
          ],
          "scattermapbox": [
           {
            "marker": {
             "colorbar": {
              "outlinewidth": 0,
              "ticks": ""
             }
            },
            "type": "scattermapbox"
           }
          ],
          "scatterpolar": [
           {
            "marker": {
             "colorbar": {
              "outlinewidth": 0,
              "ticks": ""
             }
            },
            "type": "scatterpolar"
           }
          ],
          "scatterpolargl": [
           {
            "marker": {
             "colorbar": {
              "outlinewidth": 0,
              "ticks": ""
             }
            },
            "type": "scatterpolargl"
           }
          ],
          "scatterternary": [
           {
            "marker": {
             "colorbar": {
              "outlinewidth": 0,
              "ticks": ""
             }
            },
            "type": "scatterternary"
           }
          ],
          "surface": [
           {
            "colorbar": {
             "outlinewidth": 0,
             "ticks": ""
            },
            "colorscale": [
             [
              0,
              "#0d0887"
             ],
             [
              0.1111111111111111,
              "#46039f"
             ],
             [
              0.2222222222222222,
              "#7201a8"
             ],
             [
              0.3333333333333333,
              "#9c179e"
             ],
             [
              0.4444444444444444,
              "#bd3786"
             ],
             [
              0.5555555555555556,
              "#d8576b"
             ],
             [
              0.6666666666666666,
              "#ed7953"
             ],
             [
              0.7777777777777778,
              "#fb9f3a"
             ],
             [
              0.8888888888888888,
              "#fdca26"
             ],
             [
              1,
              "#f0f921"
             ]
            ],
            "type": "surface"
           }
          ],
          "table": [
           {
            "cells": {
             "fill": {
              "color": "#EBF0F8"
             },
             "line": {
              "color": "white"
             }
            },
            "header": {
             "fill": {
              "color": "#C8D4E3"
             },
             "line": {
              "color": "white"
             }
            },
            "type": "table"
           }
          ]
         },
         "layout": {
          "annotationdefaults": {
           "arrowcolor": "#2a3f5f",
           "arrowhead": 0,
           "arrowwidth": 1
          },
          "autotypenumbers": "strict",
          "coloraxis": {
           "colorbar": {
            "outlinewidth": 0,
            "ticks": ""
           }
          },
          "colorscale": {
           "diverging": [
            [
             0,
             "#8e0152"
            ],
            [
             0.1,
             "#c51b7d"
            ],
            [
             0.2,
             "#de77ae"
            ],
            [
             0.3,
             "#f1b6da"
            ],
            [
             0.4,
             "#fde0ef"
            ],
            [
             0.5,
             "#f7f7f7"
            ],
            [
             0.6,
             "#e6f5d0"
            ],
            [
             0.7,
             "#b8e186"
            ],
            [
             0.8,
             "#7fbc41"
            ],
            [
             0.9,
             "#4d9221"
            ],
            [
             1,
             "#276419"
            ]
           ],
           "sequential": [
            [
             0,
             "#0d0887"
            ],
            [
             0.1111111111111111,
             "#46039f"
            ],
            [
             0.2222222222222222,
             "#7201a8"
            ],
            [
             0.3333333333333333,
             "#9c179e"
            ],
            [
             0.4444444444444444,
             "#bd3786"
            ],
            [
             0.5555555555555556,
             "#d8576b"
            ],
            [
             0.6666666666666666,
             "#ed7953"
            ],
            [
             0.7777777777777778,
             "#fb9f3a"
            ],
            [
             0.8888888888888888,
             "#fdca26"
            ],
            [
             1,
             "#f0f921"
            ]
           ],
           "sequentialminus": [
            [
             0,
             "#0d0887"
            ],
            [
             0.1111111111111111,
             "#46039f"
            ],
            [
             0.2222222222222222,
             "#7201a8"
            ],
            [
             0.3333333333333333,
             "#9c179e"
            ],
            [
             0.4444444444444444,
             "#bd3786"
            ],
            [
             0.5555555555555556,
             "#d8576b"
            ],
            [
             0.6666666666666666,
             "#ed7953"
            ],
            [
             0.7777777777777778,
             "#fb9f3a"
            ],
            [
             0.8888888888888888,
             "#fdca26"
            ],
            [
             1,
             "#f0f921"
            ]
           ]
          },
          "colorway": [
           "#636efa",
           "#EF553B",
           "#00cc96",
           "#ab63fa",
           "#FFA15A",
           "#19d3f3",
           "#FF6692",
           "#B6E880",
           "#FF97FF",
           "#FECB52"
          ],
          "font": {
           "color": "#2a3f5f"
          },
          "geo": {
           "bgcolor": "white",
           "lakecolor": "white",
           "landcolor": "#E5ECF6",
           "showlakes": true,
           "showland": true,
           "subunitcolor": "white"
          },
          "hoverlabel": {
           "align": "left"
          },
          "hovermode": "closest",
          "mapbox": {
           "style": "light"
          },
          "paper_bgcolor": "white",
          "plot_bgcolor": "#E5ECF6",
          "polar": {
           "angularaxis": {
            "gridcolor": "white",
            "linecolor": "white",
            "ticks": ""
           },
           "bgcolor": "#E5ECF6",
           "radialaxis": {
            "gridcolor": "white",
            "linecolor": "white",
            "ticks": ""
           }
          },
          "scene": {
           "xaxis": {
            "backgroundcolor": "#E5ECF6",
            "gridcolor": "white",
            "gridwidth": 2,
            "linecolor": "white",
            "showbackground": true,
            "ticks": "",
            "zerolinecolor": "white"
           },
           "yaxis": {
            "backgroundcolor": "#E5ECF6",
            "gridcolor": "white",
            "gridwidth": 2,
            "linecolor": "white",
            "showbackground": true,
            "ticks": "",
            "zerolinecolor": "white"
           },
           "zaxis": {
            "backgroundcolor": "#E5ECF6",
            "gridcolor": "white",
            "gridwidth": 2,
            "linecolor": "white",
            "showbackground": true,
            "ticks": "",
            "zerolinecolor": "white"
           }
          },
          "shapedefaults": {
           "line": {
            "color": "#2a3f5f"
           }
          },
          "ternary": {
           "aaxis": {
            "gridcolor": "white",
            "linecolor": "white",
            "ticks": ""
           },
           "baxis": {
            "gridcolor": "white",
            "linecolor": "white",
            "ticks": ""
           },
           "bgcolor": "#E5ECF6",
           "caxis": {
            "gridcolor": "white",
            "linecolor": "white",
            "ticks": ""
           }
          },
          "title": {
           "x": 0.05
          },
          "xaxis": {
           "automargin": true,
           "gridcolor": "white",
           "linecolor": "white",
           "ticks": "",
           "title": {
            "standoff": 15
           },
           "zerolinecolor": "white",
           "zerolinewidth": 2
          },
          "yaxis": {
           "automargin": true,
           "gridcolor": "white",
           "linecolor": "white",
           "ticks": "",
           "title": {
            "standoff": 15
           },
           "zerolinecolor": "white",
           "zerolinewidth": 2
          }
         }
        }
       }
      }
     },
     "metadata": {},
     "output_type": "display_data"
    }
   ],
   "source": [
    "import plotly.express as px\n",
    "\n",
    "fig = px.treemap(df, path=[\n",
    "    px.Constant('Schlüsselkompetenzen Zertifikat \"Digital Humanities\"'),\n",
    "    'Modul_Option2',\n",
    "    'Bereich',\n",
    "    'Unterbereich',\n",
    "    # 'AS'\n",
    "    ],\n",
    "    values='Prio_',\n",
    "    # hover_data=['Zeitaufwand'],\n",
    "    # marker_colors = RUB_colors\n",
    "    # color='Zertifikatsbereich'\n",
    ")\n",
    "fig.update_traces(marker=dict(cornerradius=5))\n",
    "fig.update_layout(margin=dict(t=25, l=25, r=25, b=25))\n",
    "fig.update_traces(hovertemplate='%{label}')\n",
    "fig.show()\n",
    "fig.write_html(\"UB_4Module.html\",  include_plotlyjs='cdn')"
   ]
  },
  {
   "cell_type": "code",
   "execution_count": 15,
   "metadata": {},
   "outputs": [],
   "source": [
    "import plotly.graph_objects as go\n",
    "import plotly.io as pio\n",
    "\n",
    "pio.templates[\"draft\"] = go.layout.Template(\n",
    "    layout_annotations=[\n",
    "        dict(\n",
    "            name=\"draft watermark\",\n",
    "            text=\"DRAFT\",\n",
    "            textangle=-30,\n",
    "            opacity=0.1,\n",
    "            font=dict(color=\"black\", size=100),\n",
    "            xref=\"paper\",\n",
    "            yref=\"paper\",\n",
    "            x=0.5,\n",
    "            y=0.5,\n",
    "            showarrow=False,\n",
    "        )\n",
    "    ]\n",
    ")"
   ]
  },
  {
   "cell_type": "code",
   "execution_count": 16,
   "metadata": {},
   "outputs": [],
   "source": [
    "import plotly.graph_objects as go\n",
    "import plotly.io as pio\n",
    "\n",
    "pio.templates[\"rub\"] = go.layout.Template(\n",
    "    layout_annotations=[\n",
    "        dict(\n",
    "            name=\"draft watermark\",\n",
    "            text=\"DRAFT\",\n",
    "            textangle=-30,\n",
    "            opacity=0.1,\n",
    "            font=dict(color=\"black\", size=100),\n",
    "            xref=\"paper\",\n",
    "            yref=\"paper\",\n",
    "            x=0.5,\n",
    "            y=0.5,\n",
    "            showarrow=False,\n",
    "        )\n",
    "    ]\n",
    ")"
   ]
  }
 ],
 "metadata": {
  "kernelspec": {
   "display_name": "py312",
   "language": "python",
   "name": "python3"
  },
  "language_info": {
   "codemirror_mode": {
    "name": "ipython",
    "version": 3
   },
   "file_extension": ".py",
   "mimetype": "text/x-python",
   "name": "python",
   "nbconvert_exporter": "python",
   "pygments_lexer": "ipython3",
   "version": "3.12.4"
  }
 },
 "nbformat": 4,
 "nbformat_minor": 2
}
